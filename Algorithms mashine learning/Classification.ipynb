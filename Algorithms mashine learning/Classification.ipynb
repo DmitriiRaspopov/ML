{
 "cells": [
  {
   "cell_type": "markdown",
   "metadata": {},
   "source": [
    "# Введение в машинное обучение с помощью Python и Scikit-Learn\n"
   ]
  },
  {
   "cell_type": "code",
   "execution_count": 3,
   "metadata": {},
   "outputs": [],
   "source": [
    "import numpy as np\n",
    "import urllib"
   ]
  },
  {
   "cell_type": "code",
   "execution_count": 132,
   "metadata": {},
   "outputs": [],
   "source": [
    "import seaborn as sns\n",
    "import matplotlib.pyplot as plt\n",
    "from sklearn.model_selection import cross_val_score"
   ]
  },
  {
   "cell_type": "code",
   "execution_count": 14,
   "metadata": {},
   "outputs": [],
   "source": [
    "from sklearn.datasets import load_diabetes"
   ]
  },
  {
   "cell_type": "code",
   "execution_count": 15,
   "metadata": {},
   "outputs": [],
   "source": [
    "import pandas as pd"
   ]
  },
  {
   "cell_type": "code",
   "execution_count": 24,
   "metadata": {},
   "outputs": [],
   "source": [
    "df=pd.read_csv('diabetes.csv')"
   ]
  },
  {
   "cell_type": "code",
   "execution_count": 25,
   "metadata": {
    "scrolled": false
   },
   "outputs": [
    {
     "data": {
      "text/html": [
       "<div>\n",
       "<style scoped>\n",
       "    .dataframe tbody tr th:only-of-type {\n",
       "        vertical-align: middle;\n",
       "    }\n",
       "\n",
       "    .dataframe tbody tr th {\n",
       "        vertical-align: top;\n",
       "    }\n",
       "\n",
       "    .dataframe thead th {\n",
       "        text-align: right;\n",
       "    }\n",
       "</style>\n",
       "<table border=\"1\" class=\"dataframe\">\n",
       "  <thead>\n",
       "    <tr style=\"text-align: right;\">\n",
       "      <th></th>\n",
       "      <th>Pregnancies</th>\n",
       "      <th>Glucose</th>\n",
       "      <th>BloodPressure</th>\n",
       "      <th>SkinThickness</th>\n",
       "      <th>Insulin</th>\n",
       "      <th>BMI</th>\n",
       "      <th>DiabetesPedigreeFunction</th>\n",
       "      <th>Age</th>\n",
       "      <th>Outcome</th>\n",
       "    </tr>\n",
       "  </thead>\n",
       "  <tbody>\n",
       "    <tr>\n",
       "      <th>0</th>\n",
       "      <td>6</td>\n",
       "      <td>148</td>\n",
       "      <td>72</td>\n",
       "      <td>35</td>\n",
       "      <td>0</td>\n",
       "      <td>33.6</td>\n",
       "      <td>0.627</td>\n",
       "      <td>50</td>\n",
       "      <td>1</td>\n",
       "    </tr>\n",
       "    <tr>\n",
       "      <th>1</th>\n",
       "      <td>1</td>\n",
       "      <td>85</td>\n",
       "      <td>66</td>\n",
       "      <td>29</td>\n",
       "      <td>0</td>\n",
       "      <td>26.6</td>\n",
       "      <td>0.351</td>\n",
       "      <td>31</td>\n",
       "      <td>0</td>\n",
       "    </tr>\n",
       "    <tr>\n",
       "      <th>2</th>\n",
       "      <td>8</td>\n",
       "      <td>183</td>\n",
       "      <td>64</td>\n",
       "      <td>0</td>\n",
       "      <td>0</td>\n",
       "      <td>23.3</td>\n",
       "      <td>0.672</td>\n",
       "      <td>32</td>\n",
       "      <td>1</td>\n",
       "    </tr>\n",
       "    <tr>\n",
       "      <th>3</th>\n",
       "      <td>1</td>\n",
       "      <td>89</td>\n",
       "      <td>66</td>\n",
       "      <td>23</td>\n",
       "      <td>94</td>\n",
       "      <td>28.1</td>\n",
       "      <td>0.167</td>\n",
       "      <td>21</td>\n",
       "      <td>0</td>\n",
       "    </tr>\n",
       "    <tr>\n",
       "      <th>4</th>\n",
       "      <td>0</td>\n",
       "      <td>137</td>\n",
       "      <td>40</td>\n",
       "      <td>35</td>\n",
       "      <td>168</td>\n",
       "      <td>43.1</td>\n",
       "      <td>2.288</td>\n",
       "      <td>33</td>\n",
       "      <td>1</td>\n",
       "    </tr>\n",
       "  </tbody>\n",
       "</table>\n",
       "</div>"
      ],
      "text/plain": [
       "   Pregnancies  Glucose  BloodPressure  SkinThickness  Insulin   BMI  \\\n",
       "0            6      148             72             35        0  33.6   \n",
       "1            1       85             66             29        0  26.6   \n",
       "2            8      183             64              0        0  23.3   \n",
       "3            1       89             66             23       94  28.1   \n",
       "4            0      137             40             35      168  43.1   \n",
       "\n",
       "   DiabetesPedigreeFunction  Age  Outcome  \n",
       "0                     0.627   50        1  \n",
       "1                     0.351   31        0  \n",
       "2                     0.672   32        1  \n",
       "3                     0.167   21        0  \n",
       "4                     2.288   33        1  "
      ]
     },
     "execution_count": 25,
     "metadata": {},
     "output_type": "execute_result"
    }
   ],
   "source": [
    "df.head()"
   ]
  },
  {
   "cell_type": "code",
   "execution_count": 28,
   "metadata": {
    "scrolled": true
   },
   "outputs": [
    {
     "data": {
      "text/html": [
       "<div>\n",
       "<style scoped>\n",
       "    .dataframe tbody tr th:only-of-type {\n",
       "        vertical-align: middle;\n",
       "    }\n",
       "\n",
       "    .dataframe tbody tr th {\n",
       "        vertical-align: top;\n",
       "    }\n",
       "\n",
       "    .dataframe thead th {\n",
       "        text-align: right;\n",
       "    }\n",
       "</style>\n",
       "<table border=\"1\" class=\"dataframe\">\n",
       "  <thead>\n",
       "    <tr style=\"text-align: right;\">\n",
       "      <th></th>\n",
       "      <th>Pregnancies</th>\n",
       "      <th>Glucose</th>\n",
       "      <th>BloodPressure</th>\n",
       "      <th>SkinThickness</th>\n",
       "      <th>Insulin</th>\n",
       "      <th>BMI</th>\n",
       "      <th>DiabetesPedigreeFunction</th>\n",
       "      <th>Age</th>\n",
       "      <th>Outcome</th>\n",
       "    </tr>\n",
       "  </thead>\n",
       "  <tbody>\n",
       "    <tr>\n",
       "      <th>count</th>\n",
       "      <td>768.000000</td>\n",
       "      <td>768.000000</td>\n",
       "      <td>768.000000</td>\n",
       "      <td>768.000000</td>\n",
       "      <td>768.000000</td>\n",
       "      <td>768.000000</td>\n",
       "      <td>768.000000</td>\n",
       "      <td>768.000000</td>\n",
       "      <td>768.000000</td>\n",
       "    </tr>\n",
       "    <tr>\n",
       "      <th>mean</th>\n",
       "      <td>3.845052</td>\n",
       "      <td>120.894531</td>\n",
       "      <td>69.105469</td>\n",
       "      <td>20.536458</td>\n",
       "      <td>79.799479</td>\n",
       "      <td>31.992578</td>\n",
       "      <td>0.471876</td>\n",
       "      <td>33.240885</td>\n",
       "      <td>0.348958</td>\n",
       "    </tr>\n",
       "    <tr>\n",
       "      <th>std</th>\n",
       "      <td>3.369578</td>\n",
       "      <td>31.972618</td>\n",
       "      <td>19.355807</td>\n",
       "      <td>15.952218</td>\n",
       "      <td>115.244002</td>\n",
       "      <td>7.884160</td>\n",
       "      <td>0.331329</td>\n",
       "      <td>11.760232</td>\n",
       "      <td>0.476951</td>\n",
       "    </tr>\n",
       "    <tr>\n",
       "      <th>min</th>\n",
       "      <td>0.000000</td>\n",
       "      <td>0.000000</td>\n",
       "      <td>0.000000</td>\n",
       "      <td>0.000000</td>\n",
       "      <td>0.000000</td>\n",
       "      <td>0.000000</td>\n",
       "      <td>0.078000</td>\n",
       "      <td>21.000000</td>\n",
       "      <td>0.000000</td>\n",
       "    </tr>\n",
       "    <tr>\n",
       "      <th>25%</th>\n",
       "      <td>1.000000</td>\n",
       "      <td>99.000000</td>\n",
       "      <td>62.000000</td>\n",
       "      <td>0.000000</td>\n",
       "      <td>0.000000</td>\n",
       "      <td>27.300000</td>\n",
       "      <td>0.243750</td>\n",
       "      <td>24.000000</td>\n",
       "      <td>0.000000</td>\n",
       "    </tr>\n",
       "    <tr>\n",
       "      <th>50%</th>\n",
       "      <td>3.000000</td>\n",
       "      <td>117.000000</td>\n",
       "      <td>72.000000</td>\n",
       "      <td>23.000000</td>\n",
       "      <td>30.500000</td>\n",
       "      <td>32.000000</td>\n",
       "      <td>0.372500</td>\n",
       "      <td>29.000000</td>\n",
       "      <td>0.000000</td>\n",
       "    </tr>\n",
       "    <tr>\n",
       "      <th>75%</th>\n",
       "      <td>6.000000</td>\n",
       "      <td>140.250000</td>\n",
       "      <td>80.000000</td>\n",
       "      <td>32.000000</td>\n",
       "      <td>127.250000</td>\n",
       "      <td>36.600000</td>\n",
       "      <td>0.626250</td>\n",
       "      <td>41.000000</td>\n",
       "      <td>1.000000</td>\n",
       "    </tr>\n",
       "    <tr>\n",
       "      <th>max</th>\n",
       "      <td>17.000000</td>\n",
       "      <td>199.000000</td>\n",
       "      <td>122.000000</td>\n",
       "      <td>99.000000</td>\n",
       "      <td>846.000000</td>\n",
       "      <td>67.100000</td>\n",
       "      <td>2.420000</td>\n",
       "      <td>81.000000</td>\n",
       "      <td>1.000000</td>\n",
       "    </tr>\n",
       "  </tbody>\n",
       "</table>\n",
       "</div>"
      ],
      "text/plain": [
       "       Pregnancies     Glucose  BloodPressure  SkinThickness     Insulin  \\\n",
       "count   768.000000  768.000000     768.000000     768.000000  768.000000   \n",
       "mean      3.845052  120.894531      69.105469      20.536458   79.799479   \n",
       "std       3.369578   31.972618      19.355807      15.952218  115.244002   \n",
       "min       0.000000    0.000000       0.000000       0.000000    0.000000   \n",
       "25%       1.000000   99.000000      62.000000       0.000000    0.000000   \n",
       "50%       3.000000  117.000000      72.000000      23.000000   30.500000   \n",
       "75%       6.000000  140.250000      80.000000      32.000000  127.250000   \n",
       "max      17.000000  199.000000     122.000000      99.000000  846.000000   \n",
       "\n",
       "              BMI  DiabetesPedigreeFunction         Age     Outcome  \n",
       "count  768.000000                768.000000  768.000000  768.000000  \n",
       "mean    31.992578                  0.471876   33.240885    0.348958  \n",
       "std      7.884160                  0.331329   11.760232    0.476951  \n",
       "min      0.000000                  0.078000   21.000000    0.000000  \n",
       "25%     27.300000                  0.243750   24.000000    0.000000  \n",
       "50%     32.000000                  0.372500   29.000000    0.000000  \n",
       "75%     36.600000                  0.626250   41.000000    1.000000  \n",
       "max     67.100000                  2.420000   81.000000    1.000000  "
      ]
     },
     "execution_count": 28,
     "metadata": {},
     "output_type": "execute_result"
    }
   ],
   "source": [
    "df.describe()"
   ]
  },
  {
   "cell_type": "code",
   "execution_count": 174,
   "metadata": {
    "scrolled": true
   },
   "outputs": [
    {
     "data": {
      "text/plain": [
       "Pregnancies                 0\n",
       "Glucose                     0\n",
       "BloodPressure               0\n",
       "SkinThickness               0\n",
       "Insulin                     0\n",
       "BMI                         0\n",
       "DiabetesPedigreeFunction    0\n",
       "Age                         0\n",
       "Outcome                     0\n",
       "dtype: int64"
      ]
     },
     "execution_count": 174,
     "metadata": {},
     "output_type": "execute_result"
    }
   ],
   "source": [
    "df.isna().sum()"
   ]
  },
  {
   "cell_type": "code",
   "execution_count": 30,
   "metadata": {},
   "outputs": [
    {
     "data": {
      "text/plain": [
       "(768, 9)"
      ]
     },
     "execution_count": 30,
     "metadata": {},
     "output_type": "execute_result"
    }
   ],
   "source": [
    "df.shape"
   ]
  },
  {
   "cell_type": "code",
   "execution_count": 32,
   "metadata": {
    "scrolled": true
   },
   "outputs": [
    {
     "name": "stdout",
     "output_type": "stream",
     "text": [
      "<class 'pandas.core.frame.DataFrame'>\n",
      "RangeIndex: 768 entries, 0 to 767\n",
      "Data columns (total 9 columns):\n",
      "Pregnancies                 768 non-null int64\n",
      "Glucose                     768 non-null int64\n",
      "BloodPressure               768 non-null int64\n",
      "SkinThickness               768 non-null int64\n",
      "Insulin                     768 non-null int64\n",
      "BMI                         768 non-null float64\n",
      "DiabetesPedigreeFunction    768 non-null float64\n",
      "Age                         768 non-null int64\n",
      "Outcome                     768 non-null int64\n",
      "dtypes: float64(2), int64(7)\n",
      "memory usage: 54.1 KB\n"
     ]
    }
   ],
   "source": [
    "df.info()"
   ]
  },
  {
   "cell_type": "code",
   "execution_count": 38,
   "metadata": {},
   "outputs": [],
   "source": [
    "df_train=df.iloc[:,0:7]\n",
    "y_train=df.iloc[:,8]"
   ]
  },
  {
   "cell_type": "code",
   "execution_count": 40,
   "metadata": {},
   "outputs": [
    {
     "data": {
      "text/html": [
       "<div>\n",
       "<style scoped>\n",
       "    .dataframe tbody tr th:only-of-type {\n",
       "        vertical-align: middle;\n",
       "    }\n",
       "\n",
       "    .dataframe tbody tr th {\n",
       "        vertical-align: top;\n",
       "    }\n",
       "\n",
       "    .dataframe thead th {\n",
       "        text-align: right;\n",
       "    }\n",
       "</style>\n",
       "<table border=\"1\" class=\"dataframe\">\n",
       "  <thead>\n",
       "    <tr style=\"text-align: right;\">\n",
       "      <th></th>\n",
       "      <th>Pregnancies</th>\n",
       "      <th>Glucose</th>\n",
       "      <th>BloodPressure</th>\n",
       "      <th>SkinThickness</th>\n",
       "      <th>Insulin</th>\n",
       "      <th>BMI</th>\n",
       "      <th>DiabetesPedigreeFunction</th>\n",
       "    </tr>\n",
       "  </thead>\n",
       "  <tbody>\n",
       "    <tr>\n",
       "      <th>0</th>\n",
       "      <td>6</td>\n",
       "      <td>148</td>\n",
       "      <td>72</td>\n",
       "      <td>35</td>\n",
       "      <td>0</td>\n",
       "      <td>33.6</td>\n",
       "      <td>0.627</td>\n",
       "    </tr>\n",
       "    <tr>\n",
       "      <th>1</th>\n",
       "      <td>1</td>\n",
       "      <td>85</td>\n",
       "      <td>66</td>\n",
       "      <td>29</td>\n",
       "      <td>0</td>\n",
       "      <td>26.6</td>\n",
       "      <td>0.351</td>\n",
       "    </tr>\n",
       "    <tr>\n",
       "      <th>2</th>\n",
       "      <td>8</td>\n",
       "      <td>183</td>\n",
       "      <td>64</td>\n",
       "      <td>0</td>\n",
       "      <td>0</td>\n",
       "      <td>23.3</td>\n",
       "      <td>0.672</td>\n",
       "    </tr>\n",
       "    <tr>\n",
       "      <th>3</th>\n",
       "      <td>1</td>\n",
       "      <td>89</td>\n",
       "      <td>66</td>\n",
       "      <td>23</td>\n",
       "      <td>94</td>\n",
       "      <td>28.1</td>\n",
       "      <td>0.167</td>\n",
       "    </tr>\n",
       "    <tr>\n",
       "      <th>4</th>\n",
       "      <td>0</td>\n",
       "      <td>137</td>\n",
       "      <td>40</td>\n",
       "      <td>35</td>\n",
       "      <td>168</td>\n",
       "      <td>43.1</td>\n",
       "      <td>2.288</td>\n",
       "    </tr>\n",
       "  </tbody>\n",
       "</table>\n",
       "</div>"
      ],
      "text/plain": [
       "   Pregnancies  Glucose  BloodPressure  SkinThickness  Insulin   BMI  \\\n",
       "0            6      148             72             35        0  33.6   \n",
       "1            1       85             66             29        0  26.6   \n",
       "2            8      183             64              0        0  23.3   \n",
       "3            1       89             66             23       94  28.1   \n",
       "4            0      137             40             35      168  43.1   \n",
       "\n",
       "   DiabetesPedigreeFunction  \n",
       "0                     0.627  \n",
       "1                     0.351  \n",
       "2                     0.672  \n",
       "3                     0.167  \n",
       "4                     2.288  "
      ]
     },
     "execution_count": 40,
     "metadata": {},
     "output_type": "execute_result"
    }
   ],
   "source": [
    "df_train.head()"
   ]
  },
  {
   "cell_type": "markdown",
   "metadata": {},
   "source": [
    "# Нормализация данных"
   ]
  },
  {
   "cell_type": "code",
   "execution_count": 35,
   "metadata": {},
   "outputs": [],
   "source": [
    "from sklearn import preprocessing"
   ]
  },
  {
   "cell_type": "code",
   "execution_count": 41,
   "metadata": {},
   "outputs": [],
   "source": [
    "df_train_norm=preprocessing.normalize(df_train)"
   ]
  },
  {
   "cell_type": "code",
   "execution_count": 44,
   "metadata": {},
   "outputs": [],
   "source": [
    "from sklearn.preprocessing import StandardScaler"
   ]
  },
  {
   "cell_type": "code",
   "execution_count": 47,
   "metadata": {},
   "outputs": [],
   "source": [
    "scaler=StandardScaler()"
   ]
  },
  {
   "cell_type": "code",
   "execution_count": 48,
   "metadata": {},
   "outputs": [
    {
     "name": "stderr",
     "output_type": "stream",
     "text": [
      "/usr/local/lib/python3.6/dist-packages/sklearn/preprocessing/data.py:617: DataConversionWarning: Data with input dtype int64, float64 were all converted to float64 by StandardScaler.\n",
      "  return self.partial_fit(X, y)\n",
      "/usr/local/lib/python3.6/dist-packages/sklearn/base.py:462: DataConversionWarning: Data with input dtype int64, float64 were all converted to float64 by StandardScaler.\n",
      "  return self.fit(X, **fit_params).transform(X)\n"
     ]
    }
   ],
   "source": [
    "X_scaled=scaler.fit_transform(df_train)"
   ]
  },
  {
   "cell_type": "code",
   "execution_count": 49,
   "metadata": {},
   "outputs": [
    {
     "data": {
      "text/plain": [
       "array([[ 0.63994726,  0.84832379,  0.14964075, ..., -0.69289057,\n",
       "         0.20401277,  0.46849198],\n",
       "       [-0.84488505, -1.12339636, -0.16054575, ..., -0.69289057,\n",
       "        -0.68442195, -0.36506078],\n",
       "       [ 1.23388019,  1.94372388, -0.26394125, ..., -0.69289057,\n",
       "        -1.10325546,  0.60439732],\n",
       "       ...,\n",
       "       [ 0.3429808 ,  0.00330087,  0.14964075, ...,  0.27959377,\n",
       "        -0.73518964, -0.68519336],\n",
       "       [-0.84488505,  0.1597866 , -0.47073225, ..., -0.69289057,\n",
       "        -0.24020459, -0.37110101],\n",
       "       [-0.84488505, -0.8730192 ,  0.04624525, ..., -0.69289057,\n",
       "        -0.20212881, -0.47378505]])"
      ]
     },
     "execution_count": 49,
     "metadata": {},
     "output_type": "execute_result"
    }
   ],
   "source": [
    "X_scaled"
   ]
  },
  {
   "cell_type": "markdown",
   "metadata": {},
   "source": [
    "# Отбор признаков\n",
    "\n",
    "Не секрет, что зачастую самым важным при решении задачи является умение правильно отобрать и даже создать признаки. В англоязычной литературе это называется Feature Selection и Feature Engineering. В то время как Future Engineering довольно творческий процесс и полагается больше на интуицию и экспертные знания, для Feature Selection есть уже большое количество готовых алгоритмов. «Древесные» алгоритмы допускают расчета информативности признаков:"
   ]
  },
  {
   "cell_type": "code",
   "execution_count": 55,
   "metadata": {},
   "outputs": [],
   "source": [
    "from sklearn import metrics\n",
    "from sklearn.ensemble import ExtraTreesClassifier\n",
    "from sklearn.model_selection import train_test_split"
   ]
  },
  {
   "cell_type": "code",
   "execution_count": 56,
   "metadata": {},
   "outputs": [],
   "source": [
    " X_train, X_test, y_train, y_test = train_test_split(X_scaled, y_train, test_size=0.33, random_state=42)"
   ]
  },
  {
   "cell_type": "code",
   "execution_count": 57,
   "metadata": {},
   "outputs": [],
   "source": [
    "model=ExtraTreesClassifier()"
   ]
  },
  {
   "cell_type": "code",
   "execution_count": 58,
   "metadata": {},
   "outputs": [],
   "source": [
    "extra_model=ExtraTreesClassifier()"
   ]
  },
  {
   "cell_type": "code",
   "execution_count": 59,
   "metadata": {
    "scrolled": true
   },
   "outputs": [
    {
     "name": "stdout",
     "output_type": "stream",
     "text": [
      "CPU times: user 9.1 ms, sys: 7.07 ms, total: 16.2 ms\n",
      "Wall time: 15.7 ms\n"
     ]
    },
    {
     "name": "stderr",
     "output_type": "stream",
     "text": [
      "/usr/local/lib/python3.6/dist-packages/sklearn/ensemble/forest.py:248: FutureWarning: The default value of n_estimators will change from 10 in version 0.20 to 100 in 0.22.\n",
      "  \"10 in version 0.20 to 100 in 0.22.\", FutureWarning)\n"
     ]
    },
    {
     "data": {
      "text/plain": [
       "ExtraTreesClassifier(bootstrap=False, class_weight=None, criterion='gini',\n",
       "           max_depth=None, max_features='auto', max_leaf_nodes=None,\n",
       "           min_impurity_decrease=0.0, min_impurity_split=None,\n",
       "           min_samples_leaf=1, min_samples_split=2,\n",
       "           min_weight_fraction_leaf=0.0, n_estimators=10, n_jobs=None,\n",
       "           oob_score=False, random_state=None, verbose=0, warm_start=False)"
      ]
     },
     "execution_count": 59,
     "metadata": {},
     "output_type": "execute_result"
    }
   ],
   "source": [
    "%%time\n",
    "extra_model.fit(X_train,y_train)"
   ]
  },
  {
   "cell_type": "code",
   "execution_count": 60,
   "metadata": {},
   "outputs": [
    {
     "data": {
      "text/plain": [
       "array([0.12367209, 0.27894499, 0.12048604, 0.08438866, 0.08382951,\n",
       "       0.18543404, 0.12324468])"
      ]
     },
     "execution_count": 60,
     "metadata": {},
     "output_type": "execute_result"
    }
   ],
   "source": [
    "extra_model.feature_importances_"
   ]
  },
  {
   "cell_type": "code",
   "execution_count": 61,
   "metadata": {},
   "outputs": [],
   "source": [
    "extra_pred=extra_model.predict(X_test)"
   ]
  },
  {
   "cell_type": "code",
   "execution_count": 62,
   "metadata": {},
   "outputs": [],
   "source": [
    "from sklearn.metrics import accuracy_score, mean_squared_error, mean_absolute_error"
   ]
  },
  {
   "cell_type": "code",
   "execution_count": 63,
   "metadata": {},
   "outputs": [
    {
     "data": {
      "text/plain": [
       "0.7125984251968503"
      ]
     },
     "execution_count": 63,
     "metadata": {},
     "output_type": "execute_result"
    }
   ],
   "source": [
    "accuracy_score(extra_pred, y_test)"
   ]
  },
  {
   "cell_type": "code",
   "execution_count": 72,
   "metadata": {},
   "outputs": [],
   "source": [
    "from sklearn.model_selection import GridSearchCV"
   ]
  },
  {
   "cell_type": "code",
   "execution_count": 73,
   "metadata": {},
   "outputs": [
    {
     "data": {
      "text/plain": [
       "array([ 1,  2,  3,  4,  5,  6,  7,  8,  9, 10, 11, 12, 13, 14, 15, 16, 17,\n",
       "       18, 19])"
      ]
     },
     "execution_count": 73,
     "metadata": {},
     "output_type": "execute_result"
    }
   ],
   "source": [
    "np.arange(1,20)"
   ]
  },
  {
   "cell_type": "code",
   "execution_count": 92,
   "metadata": {},
   "outputs": [],
   "source": [
    "extra_params={'max_depth' : np.arange(1,20,3), 'max_features' : np.arange(1,7), 'n_estimators' : np.arange(1,30,5) }"
   ]
  },
  {
   "cell_type": "code",
   "execution_count": 93,
   "metadata": {},
   "outputs": [
    {
     "name": "stdout",
     "output_type": "stream",
     "text": [
      "CPU times: user 20 µs, sys: 2 µs, total: 22 µs\n",
      "Wall time: 24.6 µs\n"
     ]
    }
   ],
   "source": [
    "%%time\n",
    "extra_grid=GridSearchCV(extra_model, extra_params, cv=5, n_jobs=-1)"
   ]
  },
  {
   "cell_type": "code",
   "execution_count": 94,
   "metadata": {},
   "outputs": [
    {
     "name": "stdout",
     "output_type": "stream",
     "text": [
      "CPU times: user 1.67 s, sys: 72.3 ms, total: 1.74 s\n",
      "Wall time: 38.7 s\n"
     ]
    },
    {
     "data": {
      "text/plain": [
       "GridSearchCV(cv=5, error_score='raise-deprecating',\n",
       "       estimator=ExtraTreesClassifier(bootstrap=False, class_weight=None, criterion='gini',\n",
       "           max_depth=None, max_features='auto', max_leaf_nodes=None,\n",
       "           min_impurity_decrease=0.0, min_impurity_split=None,\n",
       "           min_samples_leaf=1, min_samples_split=2,\n",
       "           min_weight_fraction_leaf=0.0, n_estimators=10, n_jobs=None,\n",
       "           oob_score=False, random_state=None, verbose=0, warm_start=False),\n",
       "       fit_params=None, iid='warn', n_jobs=-1,\n",
       "       param_grid={'max_depth': array([ 1,  4,  7, 10, 13, 16, 19]), 'max_features': array([1, 2, 3, 4, 5, 6]), 'n_estimators': array([ 1,  6, 11, 16, 21, 26])},\n",
       "       pre_dispatch='2*n_jobs', refit=True, return_train_score='warn',\n",
       "       scoring=None, verbose=0)"
      ]
     },
     "execution_count": 94,
     "metadata": {},
     "output_type": "execute_result"
    }
   ],
   "source": [
    "%%time\n",
    "extra_grid.fit(X_train,y_train)"
   ]
  },
  {
   "cell_type": "markdown",
   "metadata": {},
   "source": [
    "Все остальные методы так или иначе основаны на эффективном переборе подмножеств признаков с целью найти наилучшее подмножество, на которых построенная модель дает наилучшее качество. Одним из таких алгоритмов перебора является Recursive Feature Elimination алгоритм, который также доступен в библиотеке Scikit-Learn:"
   ]
  },
  {
   "cell_type": "code",
   "execution_count": 95,
   "metadata": {},
   "outputs": [
    {
     "data": {
      "text/plain": [
       "({'max_depth': 10, 'max_features': 6, 'n_estimators': 16}, 0.77431906614786)"
      ]
     },
     "execution_count": 95,
     "metadata": {},
     "output_type": "execute_result"
    }
   ],
   "source": [
    "extra_grid.best_params_, extra_grid.best_score_"
   ]
  },
  {
   "cell_type": "code",
   "execution_count": 104,
   "metadata": {},
   "outputs": [],
   "source": [
    "grid_pred=extra_grid.best_estimator_.predict(X_test)"
   ]
  },
  {
   "cell_type": "code",
   "execution_count": 105,
   "metadata": {},
   "outputs": [
    {
     "data": {
      "text/plain": [
       "0.7322834645669292"
      ]
     },
     "execution_count": 105,
     "metadata": {},
     "output_type": "execute_result"
    }
   ],
   "source": [
    "accuracy_score(grid_pred, y_test)"
   ]
  },
  {
   "cell_type": "markdown",
   "metadata": {},
   "source": [
    "Все остальные методы так или иначе основаны на эффективном переборе подмножеств признаков с целью найти наилучшее подмножество, на которых построенная модель дает наилучшее качество. Одним из таких алгоритмов перебора является Recursive Feature Elimination алгоритм, который также доступен в библиотеке Scikit-Learn:\n"
   ]
  },
  {
   "cell_type": "markdown",
   "metadata": {},
   "source": [
    "# Логистическая регрессия"
   ]
  },
  {
   "cell_type": "code",
   "execution_count": 106,
   "metadata": {},
   "outputs": [],
   "source": [
    "from sklearn.feature_selection import RFE\n",
    "from sklearn.linear_model import LogisticRegression"
   ]
  },
  {
   "cell_type": "code",
   "execution_count": 107,
   "metadata": {},
   "outputs": [],
   "source": [
    "log_reg=LogisticRegression()"
   ]
  },
  {
   "cell_type": "code",
   "execution_count": 108,
   "metadata": {},
   "outputs": [],
   "source": [
    "rfe=RFE(log_reg,3)"
   ]
  },
  {
   "cell_type": "code",
   "execution_count": 109,
   "metadata": {},
   "outputs": [
    {
     "name": "stderr",
     "output_type": "stream",
     "text": [
      "/usr/local/lib/python3.6/dist-packages/sklearn/linear_model/logistic.py:432: FutureWarning: Default solver will be changed to 'lbfgs' in 0.22. Specify a solver to silence this warning.\n",
      "  FutureWarning)\n",
      "/usr/local/lib/python3.6/dist-packages/sklearn/linear_model/logistic.py:432: FutureWarning: Default solver will be changed to 'lbfgs' in 0.22. Specify a solver to silence this warning.\n",
      "  FutureWarning)\n",
      "/usr/local/lib/python3.6/dist-packages/sklearn/linear_model/logistic.py:432: FutureWarning: Default solver will be changed to 'lbfgs' in 0.22. Specify a solver to silence this warning.\n",
      "  FutureWarning)\n",
      "/usr/local/lib/python3.6/dist-packages/sklearn/linear_model/logistic.py:432: FutureWarning: Default solver will be changed to 'lbfgs' in 0.22. Specify a solver to silence this warning.\n",
      "  FutureWarning)\n",
      "/usr/local/lib/python3.6/dist-packages/sklearn/linear_model/logistic.py:432: FutureWarning: Default solver will be changed to 'lbfgs' in 0.22. Specify a solver to silence this warning.\n",
      "  FutureWarning)\n"
     ]
    }
   ],
   "source": [
    "rfe_et=rfe.fit(X_train,y_train)"
   ]
  },
  {
   "cell_type": "code",
   "execution_count": 110,
   "metadata": {},
   "outputs": [
    {
     "data": {
      "text/plain": [
       "array([ True,  True, False, False, False,  True, False])"
      ]
     },
     "execution_count": 110,
     "metadata": {},
     "output_type": "execute_result"
    }
   ],
   "source": [
    "rfe.support_"
   ]
  },
  {
   "cell_type": "code",
   "execution_count": 111,
   "metadata": {},
   "outputs": [
    {
     "data": {
      "text/plain": [
       "array([1, 1, 4, 5, 2, 1, 3])"
      ]
     },
     "execution_count": 111,
     "metadata": {},
     "output_type": "execute_result"
    }
   ],
   "source": [
    "rfe.ranking_"
   ]
  },
  {
   "cell_type": "code",
   "execution_count": 112,
   "metadata": {},
   "outputs": [
    {
     "name": "stderr",
     "output_type": "stream",
     "text": [
      "/usr/local/lib/python3.6/dist-packages/sklearn/linear_model/logistic.py:432: FutureWarning: Default solver will be changed to 'lbfgs' in 0.22. Specify a solver to silence this warning.\n",
      "  FutureWarning)\n"
     ]
    },
    {
     "data": {
      "text/plain": [
       "LogisticRegression(C=1.0, class_weight=None, dual=False, fit_intercept=True,\n",
       "          intercept_scaling=1, max_iter=100, multi_class='warn',\n",
       "          n_jobs=None, penalty='l2', random_state=None, solver='warn',\n",
       "          tol=0.0001, verbose=0, warm_start=False)"
      ]
     },
     "execution_count": 112,
     "metadata": {},
     "output_type": "execute_result"
    }
   ],
   "source": [
    "log_reg.fit(X_train,y_train)"
   ]
  },
  {
   "cell_type": "code",
   "execution_count": 115,
   "metadata": {},
   "outputs": [],
   "source": [
    "log_reg_pred=log_reg.predict(X_test)"
   ]
  },
  {
   "cell_type": "code",
   "execution_count": 116,
   "metadata": {},
   "outputs": [],
   "source": [
    "from sklearn.metrics import classification_report, confusion_matrix"
   ]
  },
  {
   "cell_type": "code",
   "execution_count": 118,
   "metadata": {},
   "outputs": [
    {
     "name": "stdout",
     "output_type": "stream",
     "text": [
      "              precision    recall  f1-score   support\n",
      "\n",
      "           0       0.81      0.85      0.83       168\n",
      "           1       0.68      0.60      0.64        86\n",
      "\n",
      "   micro avg       0.77      0.77      0.77       254\n",
      "   macro avg       0.74      0.73      0.73       254\n",
      "weighted avg       0.76      0.77      0.76       254\n",
      "\n"
     ]
    }
   ],
   "source": [
    "print(classification_report(y_test, log_reg_pred))"
   ]
  },
  {
   "cell_type": "code",
   "execution_count": 120,
   "metadata": {},
   "outputs": [
    {
     "name": "stdout",
     "output_type": "stream",
     "text": [
      "[[143  25]\n",
      " [ 34  52]]\n"
     ]
    }
   ],
   "source": [
    "print(confusion_matrix(y_test,log_reg_pred))"
   ]
  },
  {
   "cell_type": "code",
   "execution_count": 121,
   "metadata": {},
   "outputs": [
    {
     "data": {
      "text/plain": [
       "0.7677165354330708"
      ]
     },
     "execution_count": 121,
     "metadata": {},
     "output_type": "execute_result"
    }
   ],
   "source": [
    "accuracy_score(y_test,log_reg_pred)"
   ]
  },
  {
   "cell_type": "code",
   "execution_count": null,
   "metadata": {},
   "outputs": [],
   "source": []
  },
  {
   "cell_type": "code",
   "execution_count": null,
   "metadata": {},
   "outputs": [],
   "source": []
  },
  {
   "cell_type": "code",
   "execution_count": null,
   "metadata": {},
   "outputs": [],
   "source": []
  },
  {
   "cell_type": "markdown",
   "metadata": {},
   "source": [
    "# Наивный байес"
   ]
  },
  {
   "cell_type": "markdown",
   "metadata": {},
   "source": [
    "Также является одним из самых известных алгоритмов машинного обучения, основной задачей которого является восстановление плотностей распределения данных обучающей выборки. Зачастую этот метод дает хорошее качество в задачах именно **многоклассовой классификации**. "
   ]
  },
  {
   "cell_type": "code",
   "execution_count": 122,
   "metadata": {},
   "outputs": [],
   "source": [
    "from sklearn import metrics\n",
    "from sklearn.naive_bayes import GaussianNB"
   ]
  },
  {
   "cell_type": "code",
   "execution_count": 123,
   "metadata": {},
   "outputs": [],
   "source": [
    "nb=GaussianNB()"
   ]
  },
  {
   "cell_type": "code",
   "execution_count": 124,
   "metadata": {},
   "outputs": [
    {
     "data": {
      "text/plain": [
       "GaussianNB(priors=None, var_smoothing=1e-09)"
      ]
     },
     "execution_count": 124,
     "metadata": {},
     "output_type": "execute_result"
    }
   ],
   "source": [
    "nb.fit(X_train,y_train)"
   ]
  },
  {
   "cell_type": "code",
   "execution_count": 125,
   "metadata": {},
   "outputs": [],
   "source": [
    "nb_pred=nb.predict(X_test)"
   ]
  },
  {
   "cell_type": "code",
   "execution_count": 178,
   "metadata": {},
   "outputs": [
    {
     "data": {
      "text/plain": [
       "0.7519685039370079"
      ]
     },
     "execution_count": 178,
     "metadata": {},
     "output_type": "execute_result"
    }
   ],
   "source": [
    "accuracy_score(y_test,nb_pred)"
   ]
  },
  {
   "cell_type": "code",
   "execution_count": 175,
   "metadata": {},
   "outputs": [],
   "source": [
    "from sklearn.metrics import roc_auc_score"
   ]
  },
  {
   "cell_type": "code",
   "execution_count": 180,
   "metadata": {},
   "outputs": [
    {
     "data": {
      "text/plain": [
       "0.7188538205980066"
      ]
     },
     "execution_count": 180,
     "metadata": {},
     "output_type": "execute_result"
    }
   ],
   "source": [
    "roc_auc_score(y_test, nb_pred)"
   ]
  },
  {
   "cell_type": "markdown",
   "metadata": {},
   "source": []
  },
  {
   "cell_type": "markdown",
   "metadata": {},
   "source": [
    "# K -neighbors"
   ]
  },
  {
   "cell_type": "code",
   "execution_count": 127,
   "metadata": {},
   "outputs": [],
   "source": [
    "from sklearn.neighbors import KNeighborsClassifier"
   ]
  },
  {
   "cell_type": "code",
   "execution_count": 128,
   "metadata": {},
   "outputs": [],
   "source": [
    "knn=KNeighborsClassifier()"
   ]
  },
  {
   "cell_type": "code",
   "execution_count": 135,
   "metadata": {},
   "outputs": [
    {
     "name": "stderr",
     "output_type": "stream",
     "text": [
      "/usr/local/lib/python3.6/dist-packages/sklearn/model_selection/_split.py:1943: FutureWarning: You should specify a value for 'cv' instead of relying on the default value. The default value will change from 3 to 5 in version 0.22.\n",
      "  warnings.warn(CV_WARNING, FutureWarning)\n"
     ]
    },
    {
     "data": {
      "text/plain": [
       "0.7275193798449612"
      ]
     },
     "execution_count": 135,
     "metadata": {},
     "output_type": "execute_result"
    }
   ],
   "source": [
    "np.mean(cross_val_score(knn,X_train,y_train))"
   ]
  },
  {
   "cell_type": "code",
   "execution_count": 129,
   "metadata": {},
   "outputs": [
    {
     "data": {
      "text/plain": [
       "KNeighborsClassifier(algorithm='auto', leaf_size=30, metric='minkowski',\n",
       "           metric_params=None, n_jobs=None, n_neighbors=5, p=2,\n",
       "           weights='uniform')"
      ]
     },
     "execution_count": 129,
     "metadata": {},
     "output_type": "execute_result"
    }
   ],
   "source": [
    "knn.fit(X_train,y_train)"
   ]
  },
  {
   "cell_type": "code",
   "execution_count": 130,
   "metadata": {},
   "outputs": [],
   "source": [
    "knn_pred=knn.predict(X_test)"
   ]
  },
  {
   "cell_type": "code",
   "execution_count": 131,
   "metadata": {},
   "outputs": [
    {
     "data": {
      "text/plain": [
       "0.7125984251968503"
      ]
     },
     "execution_count": 131,
     "metadata": {},
     "output_type": "execute_result"
    }
   ],
   "source": [
    "accuracy_score(knn_pred,y_test)"
   ]
  },
  {
   "cell_type": "code",
   "execution_count": 139,
   "metadata": {},
   "outputs": [],
   "source": [
    "knn_params={'n_neighbors' : np.arange(1,15,3)}"
   ]
  },
  {
   "cell_type": "code",
   "execution_count": 140,
   "metadata": {},
   "outputs": [],
   "source": [
    "knn_grid=GridSearchCV(knn, knn_params, cv=5, n_jobs=-1)"
   ]
  },
  {
   "cell_type": "code",
   "execution_count": 141,
   "metadata": {},
   "outputs": [
    {
     "name": "stdout",
     "output_type": "stream",
     "text": [
      "CPU times: user 108 ms, sys: 32 ms, total: 140 ms\n",
      "Wall time: 1.31 s\n"
     ]
    },
    {
     "data": {
      "text/plain": [
       "GridSearchCV(cv=5, error_score='raise-deprecating',\n",
       "       estimator=KNeighborsClassifier(algorithm='auto', leaf_size=30, metric='minkowski',\n",
       "           metric_params=None, n_jobs=None, n_neighbors=5, p=2,\n",
       "           weights='uniform'),\n",
       "       fit_params=None, iid='warn', n_jobs=-1,\n",
       "       param_grid={'n_neighbors': array([ 1,  4,  7, 10, 13])},\n",
       "       pre_dispatch='2*n_jobs', refit=True, return_train_score='warn',\n",
       "       scoring=None, verbose=0)"
      ]
     },
     "execution_count": 141,
     "metadata": {},
     "output_type": "execute_result"
    }
   ],
   "source": [
    "%%time\n",
    "knn_grid.fit(X_train, y_train)"
   ]
  },
  {
   "cell_type": "code",
   "execution_count": 142,
   "metadata": {},
   "outputs": [
    {
     "data": {
      "text/plain": [
       "({'n_neighbors': 7}, 0.7509727626459144)"
      ]
     },
     "execution_count": 142,
     "metadata": {},
     "output_type": "execute_result"
    }
   ],
   "source": [
    "knn_grid.best_params_, knn_grid.best_score_"
   ]
  },
  {
   "cell_type": "code",
   "execution_count": 143,
   "metadata": {},
   "outputs": [],
   "source": [
    "knn_pred=knn_grid.best_estimator_.predict(X_test)"
   ]
  },
  {
   "cell_type": "code",
   "execution_count": 144,
   "metadata": {},
   "outputs": [
    {
     "data": {
      "text/plain": [
       "0.7165354330708661"
      ]
     },
     "execution_count": 144,
     "metadata": {},
     "output_type": "execute_result"
    }
   ],
   "source": [
    "accuracy_score(y_test, knn_pred)"
   ]
  },
  {
   "cell_type": "code",
   "execution_count": 181,
   "metadata": {},
   "outputs": [
    {
     "data": {
      "text/plain": [
       "0.6608527131782945"
      ]
     },
     "execution_count": 181,
     "metadata": {},
     "output_type": "execute_result"
    }
   ],
   "source": [
    "roc_auc_score(y_test, knn_pred)"
   ]
  },
  {
   "cell_type": "markdown",
   "metadata": {},
   "source": [
    "# Деревья решений\n",
    "\n",
    "Classification and Regression Trees (CART) часто используются в задачах, в которых обьекты имеют категориальные признаки и используется для задач регресии и классификации. Очень хорошо деревья подходят для многоклассовой классификации\n"
   ]
  },
  {
   "cell_type": "code",
   "execution_count": 145,
   "metadata": {},
   "outputs": [],
   "source": [
    "from sklearn.tree import DecisionTreeClassifier"
   ]
  },
  {
   "cell_type": "code",
   "execution_count": 151,
   "metadata": {},
   "outputs": [],
   "source": [
    "tree=DecisionTreeClassifier()"
   ]
  },
  {
   "cell_type": "code",
   "execution_count": 152,
   "metadata": {},
   "outputs": [
    {
     "name": "stdout",
     "output_type": "stream",
     "text": [
      "CPU times: user 3.12 ms, sys: 401 µs, total: 3.52 ms\n",
      "Wall time: 3.57 ms\n"
     ]
    },
    {
     "data": {
      "text/plain": [
       "DecisionTreeClassifier(class_weight=None, criterion='gini', max_depth=None,\n",
       "            max_features=None, max_leaf_nodes=None,\n",
       "            min_impurity_decrease=0.0, min_impurity_split=None,\n",
       "            min_samples_leaf=1, min_samples_split=2,\n",
       "            min_weight_fraction_leaf=0.0, presort=False, random_state=None,\n",
       "            splitter='best')"
      ]
     },
     "execution_count": 152,
     "metadata": {},
     "output_type": "execute_result"
    }
   ],
   "source": [
    "%%time\n",
    "rf.fit(X_train, y_train)"
   ]
  },
  {
   "cell_type": "code",
   "execution_count": 153,
   "metadata": {},
   "outputs": [],
   "source": [
    "rf_pred=rf.predict(X_test)"
   ]
  },
  {
   "cell_type": "code",
   "execution_count": 154,
   "metadata": {},
   "outputs": [
    {
     "data": {
      "text/plain": [
       "0.6811023622047244"
      ]
     },
     "execution_count": 154,
     "metadata": {},
     "output_type": "execute_result"
    }
   ],
   "source": [
    "accuracy_score(rf_pred, y_test)"
   ]
  },
  {
   "cell_type": "markdown",
   "metadata": {},
   "source": [
    "# RANDOM FOREST"
   ]
  },
  {
   "cell_type": "code",
   "execution_count": 155,
   "metadata": {},
   "outputs": [],
   "source": [
    "from sklearn.ensemble import RandomForestClassifier"
   ]
  },
  {
   "cell_type": "code",
   "execution_count": 158,
   "metadata": {},
   "outputs": [],
   "source": [
    "rf=RandomForestClassifier(n_estimators=200, n_jobs=-1)"
   ]
  },
  {
   "cell_type": "code",
   "execution_count": 159,
   "metadata": {},
   "outputs": [
    {
     "name": "stdout",
     "output_type": "stream",
     "text": [
      "CPU times: user 344 ms, sys: 47.3 ms, total: 391 ms\n",
      "Wall time: 305 ms\n"
     ]
    },
    {
     "data": {
      "text/plain": [
       "RandomForestClassifier(bootstrap=True, class_weight=None, criterion='gini',\n",
       "            max_depth=None, max_features='auto', max_leaf_nodes=None,\n",
       "            min_impurity_decrease=0.0, min_impurity_split=None,\n",
       "            min_samples_leaf=1, min_samples_split=2,\n",
       "            min_weight_fraction_leaf=0.0, n_estimators=200, n_jobs=-1,\n",
       "            oob_score=False, random_state=None, verbose=0,\n",
       "            warm_start=False)"
      ]
     },
     "execution_count": 159,
     "metadata": {},
     "output_type": "execute_result"
    }
   ],
   "source": [
    "%%time\n",
    "rf.fit(X_train,y_train)"
   ]
  },
  {
   "cell_type": "code",
   "execution_count": 160,
   "metadata": {},
   "outputs": [],
   "source": [
    "rf_pred=rf.predict(X_test)"
   ]
  },
  {
   "cell_type": "code",
   "execution_count": 161,
   "metadata": {},
   "outputs": [
    {
     "data": {
      "text/plain": [
       "0.7598425196850394"
      ]
     },
     "execution_count": 161,
     "metadata": {},
     "output_type": "execute_result"
    }
   ],
   "source": [
    "accuracy_score(rf_pred, y_test)"
   ]
  },
  {
   "cell_type": "markdown",
   "metadata": {},
   "source": [
    "# Метод опорных векторов\n",
    "\n",
    "SVM (Support Vector Machines) является одним из самых известных алгоритмов машинного обучения, применяемых в основном для задачи классификации. Также как и логистическая регрессия, SVM допускает многоклассовую классификацию методом one-vs-all."
   ]
  },
  {
   "cell_type": "code",
   "execution_count": 162,
   "metadata": {},
   "outputs": [],
   "source": [
    "from sklearn.svm import SVC"
   ]
  },
  {
   "cell_type": "code",
   "execution_count": 163,
   "metadata": {},
   "outputs": [],
   "source": [
    "svc=SVC()"
   ]
  },
  {
   "cell_type": "code",
   "execution_count": 164,
   "metadata": {},
   "outputs": [
    {
     "name": "stderr",
     "output_type": "stream",
     "text": [
      "/usr/local/lib/python3.6/dist-packages/sklearn/svm/base.py:196: FutureWarning: The default value of gamma will change from 'auto' to 'scale' in version 0.22 to account better for unscaled features. Set gamma explicitly to 'auto' or 'scale' to avoid this warning.\n",
      "  \"avoid this warning.\", FutureWarning)\n"
     ]
    },
    {
     "data": {
      "text/plain": [
       "SVC(C=1.0, cache_size=200, class_weight=None, coef0=0.0,\n",
       "  decision_function_shape='ovr', degree=3, gamma='auto_deprecated',\n",
       "  kernel='rbf', max_iter=-1, probability=False, random_state=None,\n",
       "  shrinking=True, tol=0.001, verbose=False)"
      ]
     },
     "execution_count": 164,
     "metadata": {},
     "output_type": "execute_result"
    }
   ],
   "source": [
    "svc.fit(X_train,y_train)"
   ]
  },
  {
   "cell_type": "code",
   "execution_count": 166,
   "metadata": {},
   "outputs": [],
   "source": [
    "svc_pred=svc.predict(X_test)"
   ]
  },
  {
   "cell_type": "code",
   "execution_count": 167,
   "metadata": {},
   "outputs": [
    {
     "data": {
      "text/plain": [
       "0.7598425196850394"
      ]
     },
     "execution_count": 167,
     "metadata": {},
     "output_type": "execute_result"
    }
   ],
   "source": [
    "accuracy_score(svc_pred,y_test)"
   ]
  },
  {
   "cell_type": "markdown",
   "metadata": {},
   "source": [
    "# Оптимизация параметров алгоритма\n",
    "\n",
    "Одним из самых сложных этапов в построении действительно эффективных алгоритмов является выбор правильных параметров. Обычно, это делается легче с опытом, но так или иначе приходится делать перебор. К счастью, в Scikit-Learn уже есть немало реализованных для этого функций\n",
    "\n",
    "Для примера посмотрим на подбор параметра регуляризации, в котором мы по очереди перебирают несколько значений:"
   ]
  },
  {
   "cell_type": "code",
   "execution_count": 170,
   "metadata": {},
   "outputs": [
    {
     "name": "stderr",
     "output_type": "stream",
     "text": [
      "/usr/local/lib/python3.6/dist-packages/sklearn/model_selection/_split.py:1943: FutureWarning: You should specify a value for 'cv' instead of relying on the default value. The default value will change from 3 to 5 in version 0.22.\n",
      "  warnings.warn(CV_WARNING, FutureWarning)\n"
     ]
    },
    {
     "name": "stdout",
     "output_type": "stream",
     "text": [
      "GridSearchCV(cv='warn', error_score='raise-deprecating',\n",
      "       estimator=Ridge(alpha=1.0, copy_X=True, fit_intercept=True, max_iter=None,\n",
      "   normalize=False, random_state=None, solver='auto', tol=0.001),\n",
      "       fit_params=None, iid='warn', n_jobs=None,\n",
      "       param_grid={'alpha': array([1.e+00, 1.e-01, 1.e-02, 1.e-03, 1.e-04, 0.e+00])},\n",
      "       pre_dispatch='2*n_jobs', refit=True, return_train_score='warn',\n",
      "       scoring=None, verbose=0)\n",
      "0.2800307722352019\n",
      "1.0\n"
     ]
    }
   ],
   "source": [
    "from sklearn.linear_model import Ridge\n",
    "# prepare a range of alpha values to test\n",
    "alphas = np.array([1,0.1,0.01,0.001,0.0001,0])\n",
    "# create and fit a ridge regression model, testing each alpha\n",
    "model = Ridge()\n",
    "grid = GridSearchCV(estimator=model, param_grid=dict(alpha=alphas))\n",
    "grid.fit(X_train, y_train)\n",
    "print(grid)\n",
    "# summarize the results of the grid search\n",
    "print(grid.best_score_)\n",
    "print(grid.best_estimator_.alpha)"
   ]
  },
  {
   "cell_type": "code",
   "execution_count": 173,
   "metadata": {
    "scrolled": true
   },
   "outputs": [
    {
     "data": {
      "text/plain": [
       "array([ 0.2665142 ,  0.29299682,  0.22680081,  0.27761665,  0.46578768,\n",
       "        0.33531534, -0.18512429,  0.40949462,  0.52804855,  0.5670568 ,\n",
       "        0.3242869 ,  0.77119986,  0.45580546,  0.28323419,  0.0920785 ,\n",
       "        0.37102279,  0.17220193,  0.1183461 ,  0.76508583,  0.55361885,\n",
       "        0.21955883,  0.06905574,  0.47501645,  0.14594498,  0.5549508 ,\n",
       "        0.8460825 ,  0.20802241, -0.04629805,  0.35134208,  0.11585473,\n",
       "        0.85274176,  0.6384382 ,  0.76503494,  0.69287996,  0.44294995,\n",
       "        0.68434245,  0.79590906,  0.22540804,  0.41938165,  0.5960371 ,\n",
       "        0.06785115,  0.36072466,  0.37189363,  0.43996567,  0.00970472,\n",
       "        0.54945466,  0.40104845,  0.29534762,  0.29987501,  0.83869035,\n",
       "        0.06442554,  0.56154183,  0.68695693,  0.38255865,  0.20785328,\n",
       "       -0.0057412 ,  0.58188152, -0.34878661,  0.44809855,  0.69371995,\n",
       "        0.64203325,  0.39571252,  0.21576783,  0.28956388,  0.09924341,\n",
       "        0.57466154,  0.00564482,  0.71261604, -0.01257541,  0.70588497,\n",
       "        0.60818988,  0.06188816,  0.15412856,  0.17122753,  0.17728852,\n",
       "        0.32643989,  0.10932838,  0.09870304,  0.21581804,  0.36076298,\n",
       "        0.65383701,  0.19460316, -0.0080891 ,  0.43471545,  0.33529271,\n",
       "        0.79702673,  0.85898763,  0.358088  ,  0.17446788,  0.11155133,\n",
       "        0.05936668,  0.33488891, -0.41146423,  0.47171692,  0.49197279,\n",
       "        0.58265321,  0.3866287 ,  0.16680214,  0.65992204,  0.06868262,\n",
       "        0.54347471,  0.06394183,  0.76046243,  0.52762067,  0.64675214,\n",
       "        0.30123726,  0.35048326,  0.69121138,  0.15637396,  0.44384449,\n",
       "        0.16383429,  0.51252173, -0.10333049,  0.71371553,  0.2598657 ,\n",
       "        0.391488  ,  0.70464969,  0.31712721,  0.09416773,  0.55929346,\n",
       "        0.09429768,  0.31319559,  0.37145731,  0.0660547 ,  0.40860986,\n",
       "        0.30069433,  0.01541459,  0.77184541,  1.00354573,  0.70877704,\n",
       "        0.73605454,  0.83408983,  0.15822557,  0.483838  ,  0.80240177,\n",
       "        0.17614238,  0.3690978 ,  0.89686908,  0.64349691, -0.19470078,\n",
       "        0.15328812,  0.0057484 ,  0.32984496,  0.486131  ,  0.17529495,\n",
       "        0.30093923,  0.16540062, -0.12224703,  0.38795016,  0.70375879,\n",
       "        0.10885445,  0.37400536,  0.34797879,  0.19936172, -0.33388663,\n",
       "        0.39625491,  0.39608214,  0.40096307,  0.61926787,  0.26056327,\n",
       "        0.52222032,  0.60622058,  0.24285703, -0.13594174,  0.16630836,\n",
       "        0.8780126 ,  0.04657765,  0.42199809,  0.74525917,  0.56996259,\n",
       "        0.60222015,  0.23148497,  0.38613751,  0.71301924,  0.60734629,\n",
       "        0.11628774,  0.34384782,  0.32620583,  0.262182  ,  0.36392208,\n",
       "        0.50007326,  0.55309333,  0.40962471,  0.69620507,  0.55860126,\n",
       "        0.13659174,  0.01926609,  0.14101057,  0.71531424,  0.41094348,\n",
       "        0.04459212,  0.15150379,  0.78759398,  0.39546028, -0.02437779,\n",
       "        0.04490919, -0.33073201,  0.09113034,  0.28439339,  0.64756462,\n",
       "        0.24997548,  0.15662942,  0.27626848,  0.35128619,  0.64986841,\n",
       "        0.15276705,  0.13724768,  0.30192384,  0.85910433,  0.64505763,\n",
       "        0.36902787,  0.29077216,  0.24086801,  0.1448691 ,  0.64694318,\n",
       "        0.15098293,  0.7535316 ,  0.39328858,  0.44208696,  0.89490926,\n",
       "        0.63176965,  0.14635389,  0.08367335,  0.23481174,  0.1164785 ,\n",
       "        0.55181658,  0.34201872,  0.3424023 ,  0.36633269,  0.24439475,\n",
       "        0.11512364,  0.00667881,  0.28631161,  0.48036001,  0.40306334,\n",
       "        0.36544216,  0.11909829,  0.21456512,  0.35471459,  0.58051001,\n",
       "        0.19804054,  0.0297782 ,  0.53552713,  0.19098632,  0.24560314,\n",
       "        0.38029867,  0.73935721,  0.10511681,  0.30500078,  0.2871301 ,\n",
       "        0.13450003, -0.53699049,  0.62506008,  0.06765757])"
      ]
     },
     "execution_count": 173,
     "metadata": {},
     "output_type": "execute_result"
    }
   ],
   "source": [
    "grid.best_estimator_.predict(X_test)"
   ]
  },
  {
   "cell_type": "markdown",
   "metadata": {},
   "source": [
    "# Нейронная сеть"
   ]
  },
  {
   "cell_type": "code",
   "execution_count": 182,
   "metadata": {},
   "outputs": [],
   "source": [
    "from keras.models import Sequential\n",
    "from keras.layers import Dense"
   ]
  },
  {
   "cell_type": "code",
   "execution_count": 183,
   "metadata": {},
   "outputs": [],
   "source": [
    "np.random.seed(2)"
   ]
  },
  {
   "cell_type": "markdown",
   "metadata": {},
   "source": [
    "Создаем модель нейронной сети:"
   ]
  },
  {
   "cell_type": "code",
   "execution_count": 247,
   "metadata": {},
   "outputs": [],
   "source": [
    "model=Sequential()"
   ]
  },
  {
   "attachments": {
    "%D0%B8%D0%B7%D0%BE%D0%B1%D1%80%D0%B0%D0%B6%D0%B5%D0%BD%D0%B8%D0%B5.png": {
     "image/png": "[encoded data removed]"
    }
   },
   "cell_type": "markdown",
   "metadata": {},
   "source": [
    "Опишем структуру модели нейронной сети. Определим входной, выходной и скрытые слои. Наша нейронная сеть будет иметь плотную (Dense) структуру – каждый нейрон связан со всеми нейронами следующего слоя. Выходной слой будет состоять из единственного нейрона, определяющего вероятность заболевания диабетом.\n",
    "\n",
    "![%D0%B8%D0%B7%D0%BE%D0%B1%D1%80%D0%B0%D0%B6%D0%B5%D0%BD%D0%B8%D0%B5.png](attachment:%D0%B8%D0%B7%D0%BE%D0%B1%D1%80%D0%B0%D0%B6%D0%B5%D0%BD%D0%B8%D0%B5.png)\n",
    "\n",
    "\n",
    "Слой добавляется к модели методом add(). **Для входного слоя необходимо указать число признаков input_dim, равное в нашем случае 8**:"
   ]
  },
  {
   "cell_type": "code",
   "execution_count": 248,
   "metadata": {},
   "outputs": [],
   "source": [
    "model.add(Dense(12, input_dim=7, activation='relu'))"
   ]
  },
  {
   "attachments": {
    "%D0%B8%D0%B7%D0%BE%D0%B1%D1%80%D0%B0%D0%B6%D0%B5%D0%BD%D0%B8%D0%B5.png": {
     "image/png": "[encoded data removed]"
    }
   },
   "cell_type": "markdown",
   "metadata": {},
   "source": [
    "Если наборы признаков образуют многомерную таблицу, то вместо параметра input_dim можно использовать параметр input_shape, принимающий кортеж с количеством элементов в каждом из измерений.\n",
    "\n",
    "В качестве функции активации для всех слоев, кроме выходного, будем использовать функцию ReLU. Для выходного слоя воспользуемся сигмоидной функцией для определения конечной вероятности риска заболевания.\n",
    "\n",
    "![%D0%B8%D0%B7%D0%BE%D0%B1%D1%80%D0%B0%D0%B6%D0%B5%D0%BD%D0%B8%D0%B5.png](attachment:%D0%B8%D0%B7%D0%BE%D0%B1%D1%80%D0%B0%D0%B6%D0%B5%D0%BD%D0%B8%D0%B5.png)"
   ]
  },
  {
   "cell_type": "markdown",
   "metadata": {},
   "source": [
    "Создадим три скрытых слоя и один выходной слой нашей нейронной сети:"
   ]
  },
  {
   "cell_type": "code",
   "execution_count": 249,
   "metadata": {},
   "outputs": [],
   "source": [
    "model.add(Dense(15, activation='relu'))\n",
    "model.add(Dense(8,activation='relu'))\n",
    "model.add(Dense(10, activation='relu'))\n",
    "model.add(Dense(1, activation='sigmoid'))"
   ]
  },
  {
   "cell_type": "markdown",
   "metadata": {},
   "source": [
    "Первые числа, передаваемые Dense, это количества нейронов, экспериментально оптимизированные в результате вариации структуры нейронной сети. Вы можете изменять количество скрытых слоев и содержащихся в них нейронов, чтобы добиться лучшего качества предсказательности модели.\n",
    "\n",
    "Перед тем, как начать тренировать модель, ее нужно скомпилировать при помощи метода compile():"
   ]
  },
  {
   "cell_type": "code",
   "execution_count": 250,
   "metadata": {},
   "outputs": [],
   "source": [
    "model.compile(loss=\"binary_crossentropy\", optimizer=\"adam\", metrics=['accuracy'])\n",
    "            \n",
    "# loss - функция потерь, accuracy - точность"
   ]
  },
  {
   "cell_type": "markdown",
   "metadata": {},
   "source": [
    "Методу передается три параметра:\n",
    "\n",
    "    loss – функция потерь – объект, который модель стремиться минимизировать;\n",
    "    optimizer – оптимизатор, мы используем встроенный метод стохастической оптимизации adam, описанный в публикации Дедерика Кингма и Джимми Ба;\n",
    "    metrics – список метрик оптимизации, для задач классификации используется метрику ‘accuracy’.\n"
   ]
  },
  {
   "cell_type": "markdown",
   "metadata": {},
   "source": [
    "### Нейронная сеть: обучение и оценка результата\n",
    "\n",
    "Для обучения нейронной сети применяем метод fit():"
   ]
  },
  {
   "cell_type": "markdown",
   "metadata": {},
   "source": [
    "Параметр **epochs – «эпохи»** – количество проходов нейронной сети по всем записям датасета (выбирается исходя из того, насколько быстро модель с каждым новым проходом приближается к желаемой предсказательной точности), \n",
    "\n",
    "**batch_size** – количество объектов выборки, берущихся за один шаг. \n",
    "\n",
    "В процессе обучения API будет выводить соответствующие строчки с величинам функции потерь и метрики для каждой из эпох."
   ]
  },
  {
   "cell_type": "code",
   "execution_count": 251,
   "metadata": {
    "scrolled": true
   },
   "outputs": [
    {
     "name": "stdout",
     "output_type": "stream",
     "text": [
      "Epoch 1/1000\n",
      "514/514 [==============================] - 0s 881us/step - loss: 0.6733 - acc: 0.6265\n",
      "Epoch 2/1000\n",
      "514/514 [==============================] - 0s 125us/step - loss: 0.6317 - acc: 0.7101\n",
      "Epoch 3/1000\n",
      "514/514 [==============================] - 0s 129us/step - loss: 0.5843 - acc: 0.7315\n",
      "Epoch 4/1000\n",
      "514/514 [==============================] - 0s 125us/step - loss: 0.5277 - acc: 0.7510\n",
      "Epoch 5/1000\n",
      "514/514 [==============================] - 0s 134us/step - loss: 0.4893 - acc: 0.7665\n",
      "Epoch 6/1000\n",
      "514/514 [==============================] - 0s 119us/step - loss: 0.4700 - acc: 0.7685\n",
      "Epoch 7/1000\n",
      "514/514 [==============================] - 0s 158us/step - loss: 0.4568 - acc: 0.7665\n",
      "Epoch 8/1000\n",
      "514/514 [==============================] - 0s 133us/step - loss: 0.4517 - acc: 0.7724\n",
      "Epoch 9/1000\n",
      "514/514 [==============================] - 0s 130us/step - loss: 0.4455 - acc: 0.7763\n",
      "Epoch 10/1000\n",
      "514/514 [==============================] - 0s 122us/step - loss: 0.4433 - acc: 0.7763\n",
      "Epoch 11/1000\n",
      "514/514 [==============================] - 0s 125us/step - loss: 0.4388 - acc: 0.7860\n",
      "Epoch 12/1000\n",
      "514/514 [==============================] - 0s 117us/step - loss: 0.4352 - acc: 0.7782\n",
      "Epoch 13/1000\n",
      "514/514 [==============================] - 0s 116us/step - loss: 0.4329 - acc: 0.7840\n",
      "Epoch 14/1000\n",
      "514/514 [==============================] - 0s 124us/step - loss: 0.4296 - acc: 0.7821\n",
      "Epoch 15/1000\n",
      "514/514 [==============================] - 0s 115us/step - loss: 0.4290 - acc: 0.7879\n",
      "Epoch 16/1000\n",
      "514/514 [==============================] - 0s 109us/step - loss: 0.4259 - acc: 0.7879\n",
      "Epoch 17/1000\n",
      "514/514 [==============================] - 0s 113us/step - loss: 0.4242 - acc: 0.7802\n",
      "Epoch 18/1000\n",
      "514/514 [==============================] - 0s 105us/step - loss: 0.4225 - acc: 0.7879\n",
      "Epoch 19/1000\n",
      "514/514 [==============================] - 0s 108us/step - loss: 0.4201 - acc: 0.7899\n",
      "Epoch 20/1000\n",
      "514/514 [==============================] - 0s 114us/step - loss: 0.4178 - acc: 0.7899\n",
      "Epoch 21/1000\n",
      "514/514 [==============================] - 0s 132us/step - loss: 0.4165 - acc: 0.7899\n",
      "Epoch 22/1000\n",
      "514/514 [==============================] - 0s 164us/step - loss: 0.4145 - acc: 0.7879\n",
      "Epoch 23/1000\n",
      "514/514 [==============================] - 0s 119us/step - loss: 0.4121 - acc: 0.7879\n",
      "Epoch 24/1000\n",
      "514/514 [==============================] - 0s 121us/step - loss: 0.4115 - acc: 0.7899\n",
      "Epoch 25/1000\n",
      "514/514 [==============================] - 0s 119us/step - loss: 0.4082 - acc: 0.7977\n",
      "Epoch 26/1000\n",
      "514/514 [==============================] - 0s 121us/step - loss: 0.4058 - acc: 0.7957\n",
      "Epoch 27/1000\n",
      "514/514 [==============================] - 0s 123us/step - loss: 0.4040 - acc: 0.7899\n",
      "Epoch 28/1000\n",
      "514/514 [==============================] - 0s 125us/step - loss: 0.4020 - acc: 0.8035\n",
      "Epoch 29/1000\n",
      "514/514 [==============================] - 0s 113us/step - loss: 0.4035 - acc: 0.7977\n",
      "Epoch 30/1000\n",
      "514/514 [==============================] - 0s 126us/step - loss: 0.3990 - acc: 0.7938\n",
      "Epoch 31/1000\n",
      "514/514 [==============================] - 0s 134us/step - loss: 0.3936 - acc: 0.8016\n",
      "Epoch 32/1000\n",
      "514/514 [==============================] - 0s 142us/step - loss: 0.3958 - acc: 0.8035\n",
      "Epoch 33/1000\n",
      "514/514 [==============================] - 0s 130us/step - loss: 0.3916 - acc: 0.7957\n",
      "Epoch 34/1000\n",
      "514/514 [==============================] - 0s 147us/step - loss: 0.3887 - acc: 0.8093\n",
      "Epoch 35/1000\n",
      "514/514 [==============================] - 0s 122us/step - loss: 0.3904 - acc: 0.8054\n",
      "Epoch 36/1000\n",
      "514/514 [==============================] - 0s 135us/step - loss: 0.3845 - acc: 0.8093\n",
      "Epoch 37/1000\n",
      "514/514 [==============================] - 0s 140us/step - loss: 0.3851 - acc: 0.7996\n",
      "Epoch 38/1000\n",
      "514/514 [==============================] - 0s 121us/step - loss: 0.3817 - acc: 0.8035\n",
      "Epoch 39/1000\n",
      "514/514 [==============================] - 0s 131us/step - loss: 0.3793 - acc: 0.8074\n",
      "Epoch 40/1000\n",
      "514/514 [==============================] - 0s 149us/step - loss: 0.3767 - acc: 0.8054\n",
      "Epoch 41/1000\n",
      "514/514 [==============================] - 0s 146us/step - loss: 0.3765 - acc: 0.8093\n",
      "Epoch 42/1000\n",
      "514/514 [==============================] - 0s 132us/step - loss: 0.3721 - acc: 0.8093\n",
      "Epoch 43/1000\n",
      "514/514 [==============================] - 0s 139us/step - loss: 0.3699 - acc: 0.8307\n",
      "Epoch 44/1000\n",
      "514/514 [==============================] - 0s 154us/step - loss: 0.3709 - acc: 0.8249\n",
      "Epoch 45/1000\n",
      "514/514 [==============================] - 0s 147us/step - loss: 0.3703 - acc: 0.8191\n",
      "Epoch 46/1000\n",
      "514/514 [==============================] - 0s 145us/step - loss: 0.3693 - acc: 0.8249\n",
      "Epoch 47/1000\n",
      "514/514 [==============================] - 0s 135us/step - loss: 0.3652 - acc: 0.8249\n",
      "Epoch 48/1000\n",
      "514/514 [==============================] - 0s 156us/step - loss: 0.3618 - acc: 0.8268\n",
      "Epoch 49/1000\n",
      "514/514 [==============================] - 0s 117us/step - loss: 0.3633 - acc: 0.8230\n",
      "Epoch 50/1000\n",
      "514/514 [==============================] - 0s 162us/step - loss: 0.3584 - acc: 0.8327\n",
      "Epoch 51/1000\n",
      "514/514 [==============================] - 0s 129us/step - loss: 0.3583 - acc: 0.8346\n",
      "Epoch 52/1000\n",
      "514/514 [==============================] - 0s 142us/step - loss: 0.3649 - acc: 0.8191\n",
      "Epoch 53/1000\n",
      "514/514 [==============================] - 0s 140us/step - loss: 0.3553 - acc: 0.8346\n",
      "Epoch 54/1000\n",
      "514/514 [==============================] - 0s 155us/step - loss: 0.3540 - acc: 0.8307\n",
      "Epoch 55/1000\n",
      "514/514 [==============================] - 0s 135us/step - loss: 0.3532 - acc: 0.8482\n",
      "Epoch 56/1000\n",
      "514/514 [==============================] - 0s 142us/step - loss: 0.3497 - acc: 0.8405\n",
      "Epoch 57/1000\n",
      "514/514 [==============================] - 0s 137us/step - loss: 0.3532 - acc: 0.8327\n",
      "Epoch 58/1000\n",
      "514/514 [==============================] - 0s 116us/step - loss: 0.3515 - acc: 0.8307\n",
      "Epoch 59/1000\n",
      "514/514 [==============================] - 0s 109us/step - loss: 0.3494 - acc: 0.8327\n",
      "Epoch 60/1000\n",
      "514/514 [==============================] - 0s 130us/step - loss: 0.3464 - acc: 0.8405\n",
      "Epoch 61/1000\n",
      "514/514 [==============================] - 0s 125us/step - loss: 0.3490 - acc: 0.8405\n",
      "Epoch 62/1000\n",
      "514/514 [==============================] - 0s 107us/step - loss: 0.3491 - acc: 0.8268\n",
      "Epoch 63/1000\n",
      "514/514 [==============================] - 0s 115us/step - loss: 0.3419 - acc: 0.8424\n",
      "Epoch 64/1000\n",
      "514/514 [==============================] - 0s 116us/step - loss: 0.3389 - acc: 0.8482\n",
      "Epoch 65/1000\n",
      "514/514 [==============================] - 0s 141us/step - loss: 0.3358 - acc: 0.8444\n",
      "Epoch 66/1000\n",
      "514/514 [==============================] - 0s 172us/step - loss: 0.3365 - acc: 0.8405\n",
      "Epoch 67/1000\n",
      "514/514 [==============================] - 0s 210us/step - loss: 0.3354 - acc: 0.8463\n",
      "Epoch 68/1000\n",
      "514/514 [==============================] - 0s 141us/step - loss: 0.3321 - acc: 0.8385\n",
      "Epoch 69/1000\n",
      "514/514 [==============================] - 0s 138us/step - loss: 0.3325 - acc: 0.8366\n",
      "Epoch 70/1000\n",
      "514/514 [==============================] - 0s 121us/step - loss: 0.3318 - acc: 0.8463\n",
      "Epoch 71/1000\n",
      "514/514 [==============================] - 0s 122us/step - loss: 0.3300 - acc: 0.8482\n",
      "Epoch 72/1000\n",
      "514/514 [==============================] - 0s 134us/step - loss: 0.3314 - acc: 0.8366\n",
      "Epoch 73/1000\n",
      "514/514 [==============================] - 0s 163us/step - loss: 0.3286 - acc: 0.8463\n",
      "Epoch 74/1000\n",
      "514/514 [==============================] - 0s 126us/step - loss: 0.3230 - acc: 0.8541\n",
      "Epoch 75/1000\n",
      "514/514 [==============================] - 0s 194us/step - loss: 0.3233 - acc: 0.8502\n",
      "Epoch 76/1000\n",
      "514/514 [==============================] - 0s 140us/step - loss: 0.3199 - acc: 0.8560\n",
      "Epoch 77/1000\n",
      "514/514 [==============================] - 0s 148us/step - loss: 0.3196 - acc: 0.8521\n",
      "Epoch 78/1000\n",
      "514/514 [==============================] - 0s 149us/step - loss: 0.3222 - acc: 0.8482\n",
      "Epoch 79/1000\n",
      "514/514 [==============================] - 0s 134us/step - loss: 0.3151 - acc: 0.8599\n",
      "Epoch 80/1000\n",
      "514/514 [==============================] - 0s 177us/step - loss: 0.3144 - acc: 0.8599\n",
      "Epoch 81/1000\n",
      "514/514 [==============================] - 0s 189us/step - loss: 0.3162 - acc: 0.8521\n",
      "Epoch 82/1000\n",
      "514/514 [==============================] - 0s 182us/step - loss: 0.3130 - acc: 0.8599\n",
      "Epoch 83/1000\n"
     ]
    },
    {
     "name": "stdout",
     "output_type": "stream",
     "text": [
      "514/514 [==============================] - 0s 163us/step - loss: 0.3113 - acc: 0.8638\n",
      "Epoch 84/1000\n",
      "514/514 [==============================] - 0s 172us/step - loss: 0.3105 - acc: 0.8541\n",
      "Epoch 85/1000\n",
      "514/514 [==============================] - 0s 149us/step - loss: 0.3095 - acc: 0.8521\n",
      "Epoch 86/1000\n",
      "514/514 [==============================] - 0s 138us/step - loss: 0.3079 - acc: 0.8696\n",
      "Epoch 87/1000\n",
      "514/514 [==============================] - 0s 111us/step - loss: 0.3040 - acc: 0.8580\n",
      "Epoch 88/1000\n",
      "514/514 [==============================] - 0s 119us/step - loss: 0.3004 - acc: 0.8677\n",
      "Epoch 89/1000\n",
      "514/514 [==============================] - 0s 111us/step - loss: 0.3009 - acc: 0.8677\n",
      "Epoch 90/1000\n",
      "514/514 [==============================] - 0s 109us/step - loss: 0.2996 - acc: 0.8599\n",
      "Epoch 91/1000\n",
      "514/514 [==============================] - 0s 126us/step - loss: 0.2958 - acc: 0.8658\n",
      "Epoch 92/1000\n",
      "514/514 [==============================] - 0s 118us/step - loss: 0.2974 - acc: 0.8696\n",
      "Epoch 93/1000\n",
      "514/514 [==============================] - 0s 149us/step - loss: 0.2980 - acc: 0.8619\n",
      "Epoch 94/1000\n",
      "514/514 [==============================] - 0s 147us/step - loss: 0.2947 - acc: 0.8677\n",
      "Epoch 95/1000\n",
      "514/514 [==============================] - 0s 113us/step - loss: 0.2897 - acc: 0.8755\n",
      "Epoch 96/1000\n",
      "514/514 [==============================] - 0s 139us/step - loss: 0.2875 - acc: 0.8716\n",
      "Epoch 97/1000\n",
      "514/514 [==============================] - 0s 136us/step - loss: 0.2901 - acc: 0.8813\n",
      "Epoch 98/1000\n",
      "514/514 [==============================] - 0s 99us/step - loss: 0.2854 - acc: 0.8735\n",
      "Epoch 99/1000\n",
      "514/514 [==============================] - 0s 107us/step - loss: 0.2886 - acc: 0.8774\n",
      "Epoch 100/1000\n",
      "514/514 [==============================] - 0s 108us/step - loss: 0.2824 - acc: 0.8716\n",
      "Epoch 101/1000\n",
      "514/514 [==============================] - 0s 101us/step - loss: 0.2840 - acc: 0.8774\n",
      "Epoch 102/1000\n",
      "514/514 [==============================] - 0s 100us/step - loss: 0.2808 - acc: 0.8813\n",
      "Epoch 103/1000\n",
      "514/514 [==============================] - 0s 98us/step - loss: 0.2773 - acc: 0.8696\n",
      "Epoch 104/1000\n",
      "514/514 [==============================] - 0s 113us/step - loss: 0.2867 - acc: 0.8774\n",
      "Epoch 105/1000\n",
      "514/514 [==============================] - 0s 104us/step - loss: 0.2828 - acc: 0.8813\n",
      "Epoch 106/1000\n",
      "514/514 [==============================] - 0s 111us/step - loss: 0.2743 - acc: 0.8833\n",
      "Epoch 107/1000\n",
      "514/514 [==============================] - 0s 114us/step - loss: 0.2719 - acc: 0.8716\n",
      "Epoch 108/1000\n",
      "514/514 [==============================] - 0s 99us/step - loss: 0.2744 - acc: 0.8774\n",
      "Epoch 109/1000\n",
      "514/514 [==============================] - 0s 105us/step - loss: 0.2711 - acc: 0.8872\n",
      "Epoch 110/1000\n",
      "514/514 [==============================] - 0s 100us/step - loss: 0.2694 - acc: 0.8716\n",
      "Epoch 111/1000\n",
      "514/514 [==============================] - 0s 102us/step - loss: 0.2697 - acc: 0.8833\n",
      "Epoch 112/1000\n",
      "514/514 [==============================] - 0s 113us/step - loss: 0.2687 - acc: 0.8852\n",
      "Epoch 113/1000\n",
      "514/514 [==============================] - 0s 126us/step - loss: 0.2668 - acc: 0.8911\n",
      "Epoch 114/1000\n",
      "514/514 [==============================] - 0s 199us/step - loss: 0.2649 - acc: 0.8872\n",
      "Epoch 115/1000\n",
      "514/514 [==============================] - 0s 149us/step - loss: 0.2684 - acc: 0.8833\n",
      "Epoch 116/1000\n",
      "514/514 [==============================] - 0s 127us/step - loss: 0.2634 - acc: 0.8891\n",
      "Epoch 117/1000\n",
      "514/514 [==============================] - 0s 120us/step - loss: 0.2640 - acc: 0.8891\n",
      "Epoch 118/1000\n",
      "514/514 [==============================] - 0s 112us/step - loss: 0.2596 - acc: 0.9008\n",
      "Epoch 119/1000\n",
      "514/514 [==============================] - 0s 117us/step - loss: 0.2637 - acc: 0.8872\n",
      "Epoch 120/1000\n",
      "514/514 [==============================] - 0s 107us/step - loss: 0.2589 - acc: 0.8930\n",
      "Epoch 121/1000\n",
      "514/514 [==============================] - 0s 125us/step - loss: 0.2563 - acc: 0.8872\n",
      "Epoch 122/1000\n",
      "514/514 [==============================] - 0s 103us/step - loss: 0.2624 - acc: 0.8930\n",
      "Epoch 123/1000\n",
      "514/514 [==============================] - 0s 120us/step - loss: 0.2582 - acc: 0.8852\n",
      "Epoch 124/1000\n",
      "514/514 [==============================] - 0s 143us/step - loss: 0.2532 - acc: 0.8949\n",
      "Epoch 125/1000\n",
      "514/514 [==============================] - 0s 153us/step - loss: 0.2523 - acc: 0.8872\n",
      "Epoch 126/1000\n",
      "514/514 [==============================] - 0s 131us/step - loss: 0.2522 - acc: 0.8969\n",
      "Epoch 127/1000\n",
      "514/514 [==============================] - 0s 141us/step - loss: 0.2490 - acc: 0.8969\n",
      "Epoch 128/1000\n",
      "514/514 [==============================] - 0s 146us/step - loss: 0.2482 - acc: 0.9008\n",
      "Epoch 129/1000\n",
      "514/514 [==============================] - 0s 123us/step - loss: 0.2466 - acc: 0.8969\n",
      "Epoch 130/1000\n",
      "514/514 [==============================] - 0s 132us/step - loss: 0.2488 - acc: 0.8891\n",
      "Epoch 131/1000\n",
      "514/514 [==============================] - 0s 108us/step - loss: 0.2458 - acc: 0.8930\n",
      "Epoch 132/1000\n",
      "514/514 [==============================] - 0s 110us/step - loss: 0.2458 - acc: 0.9027\n",
      "Epoch 133/1000\n",
      "514/514 [==============================] - 0s 112us/step - loss: 0.2419 - acc: 0.8969\n",
      "Epoch 134/1000\n",
      "514/514 [==============================] - 0s 97us/step - loss: 0.2415 - acc: 0.8891\n",
      "Epoch 135/1000\n",
      "514/514 [==============================] - 0s 98us/step - loss: 0.2433 - acc: 0.8949\n",
      "Epoch 136/1000\n",
      "514/514 [==============================] - 0s 105us/step - loss: 0.2411 - acc: 0.8949\n",
      "Epoch 137/1000\n",
      "514/514 [==============================] - 0s 116us/step - loss: 0.2364 - acc: 0.8988\n",
      "Epoch 138/1000\n",
      "514/514 [==============================] - 0s 101us/step - loss: 0.2366 - acc: 0.9027\n",
      "Epoch 139/1000\n",
      "514/514 [==============================] - 0s 103us/step - loss: 0.2366 - acc: 0.9008\n",
      "Epoch 140/1000\n",
      "514/514 [==============================] - 0s 112us/step - loss: 0.2354 - acc: 0.8872\n",
      "Epoch 141/1000\n",
      "514/514 [==============================] - 0s 101us/step - loss: 0.2446 - acc: 0.8949\n",
      "Epoch 142/1000\n",
      "514/514 [==============================] - 0s 105us/step - loss: 0.2459 - acc: 0.8872\n",
      "Epoch 143/1000\n",
      "514/514 [==============================] - 0s 109us/step - loss: 0.2366 - acc: 0.8930\n",
      "Epoch 144/1000\n",
      "514/514 [==============================] - 0s 114us/step - loss: 0.2373 - acc: 0.8969\n",
      "Epoch 145/1000\n",
      "514/514 [==============================] - 0s 118us/step - loss: 0.2307 - acc: 0.8930\n",
      "Epoch 146/1000\n",
      "514/514 [==============================] - 0s 111us/step - loss: 0.2318 - acc: 0.9008\n",
      "Epoch 147/1000\n",
      "514/514 [==============================] - 0s 117us/step - loss: 0.2289 - acc: 0.8988\n",
      "Epoch 148/1000\n",
      "514/514 [==============================] - 0s 102us/step - loss: 0.2318 - acc: 0.9066\n",
      "Epoch 149/1000\n",
      "514/514 [==============================] - 0s 102us/step - loss: 0.2371 - acc: 0.8969\n",
      "Epoch 150/1000\n",
      "514/514 [==============================] - 0s 99us/step - loss: 0.2258 - acc: 0.9027\n",
      "Epoch 151/1000\n",
      "514/514 [==============================] - 0s 113us/step - loss: 0.2271 - acc: 0.9066\n",
      "Epoch 152/1000\n",
      "514/514 [==============================] - 0s 108us/step - loss: 0.2223 - acc: 0.9066\n",
      "Epoch 153/1000\n",
      "514/514 [==============================] - 0s 118us/step - loss: 0.2224 - acc: 0.9027\n",
      "Epoch 154/1000\n",
      "514/514 [==============================] - 0s 111us/step - loss: 0.2241 - acc: 0.8949\n",
      "Epoch 155/1000\n",
      "514/514 [==============================] - 0s 114us/step - loss: 0.2219 - acc: 0.9066\n",
      "Epoch 156/1000\n",
      "514/514 [==============================] - 0s 98us/step - loss: 0.2217 - acc: 0.9047\n",
      "Epoch 157/1000\n",
      "514/514 [==============================] - 0s 115us/step - loss: 0.2302 - acc: 0.8988\n",
      "Epoch 158/1000\n",
      "514/514 [==============================] - 0s 98us/step - loss: 0.2177 - acc: 0.9066\n",
      "Epoch 159/1000\n",
      "514/514 [==============================] - 0s 101us/step - loss: 0.2218 - acc: 0.9008\n",
      "Epoch 160/1000\n",
      "514/514 [==============================] - 0s 109us/step - loss: 0.2177 - acc: 0.9066\n",
      "Epoch 161/1000\n",
      "514/514 [==============================] - 0s 112us/step - loss: 0.2138 - acc: 0.9027\n",
      "Epoch 162/1000\n",
      "514/514 [==============================] - 0s 101us/step - loss: 0.2173 - acc: 0.9027\n",
      "Epoch 163/1000\n",
      "514/514 [==============================] - 0s 113us/step - loss: 0.2161 - acc: 0.8988\n",
      "Epoch 164/1000\n"
     ]
    },
    {
     "name": "stdout",
     "output_type": "stream",
     "text": [
      "514/514 [==============================] - 0s 109us/step - loss: 0.2112 - acc: 0.9086\n",
      "Epoch 165/1000\n",
      "514/514 [==============================] - 0s 101us/step - loss: 0.2111 - acc: 0.9027\n",
      "Epoch 166/1000\n",
      "514/514 [==============================] - 0s 101us/step - loss: 0.2089 - acc: 0.9125\n",
      "Epoch 167/1000\n",
      "514/514 [==============================] - 0s 109us/step - loss: 0.2109 - acc: 0.9008\n",
      "Epoch 168/1000\n",
      "514/514 [==============================] - 0s 106us/step - loss: 0.2076 - acc: 0.9163\n",
      "Epoch 169/1000\n",
      "514/514 [==============================] - 0s 102us/step - loss: 0.2056 - acc: 0.9144\n",
      "Epoch 170/1000\n",
      "514/514 [==============================] - 0s 98us/step - loss: 0.2134 - acc: 0.9066\n",
      "Epoch 171/1000\n",
      "514/514 [==============================] - 0s 97us/step - loss: 0.2114 - acc: 0.8988\n",
      "Epoch 172/1000\n",
      "514/514 [==============================] - 0s 107us/step - loss: 0.2014 - acc: 0.9222\n",
      "Epoch 173/1000\n",
      "514/514 [==============================] - 0s 102us/step - loss: 0.2055 - acc: 0.9105\n",
      "Epoch 174/1000\n",
      "514/514 [==============================] - 0s 109us/step - loss: 0.2013 - acc: 0.9144\n",
      "Epoch 175/1000\n",
      "514/514 [==============================] - 0s 119us/step - loss: 0.2030 - acc: 0.9144\n",
      "Epoch 176/1000\n",
      "514/514 [==============================] - 0s 102us/step - loss: 0.2017 - acc: 0.9105\n",
      "Epoch 177/1000\n",
      "514/514 [==============================] - 0s 101us/step - loss: 0.1960 - acc: 0.9144\n",
      "Epoch 178/1000\n",
      "514/514 [==============================] - 0s 98us/step - loss: 0.1985 - acc: 0.9144\n",
      "Epoch 179/1000\n",
      "514/514 [==============================] - 0s 113us/step - loss: 0.1984 - acc: 0.9144\n",
      "Epoch 180/1000\n",
      "514/514 [==============================] - 0s 96us/step - loss: 0.1941 - acc: 0.9222\n",
      "Epoch 181/1000\n",
      "514/514 [==============================] - 0s 103us/step - loss: 0.1979 - acc: 0.9202\n",
      "Epoch 182/1000\n",
      "514/514 [==============================] - 0s 138us/step - loss: 0.1929 - acc: 0.9202\n",
      "Epoch 183/1000\n",
      "514/514 [==============================] - 0s 140us/step - loss: 0.1930 - acc: 0.9280\n",
      "Epoch 184/1000\n",
      "514/514 [==============================] - 0s 128us/step - loss: 0.1909 - acc: 0.9280\n",
      "Epoch 185/1000\n",
      "514/514 [==============================] - 0s 130us/step - loss: 0.1897 - acc: 0.9183\n",
      "Epoch 186/1000\n",
      "514/514 [==============================] - 0s 124us/step - loss: 0.1899 - acc: 0.9241\n",
      "Epoch 187/1000\n",
      "514/514 [==============================] - 0s 102us/step - loss: 0.1960 - acc: 0.9319\n",
      "Epoch 188/1000\n",
      "514/514 [==============================] - 0s 115us/step - loss: 0.1853 - acc: 0.9358\n",
      "Epoch 189/1000\n",
      "514/514 [==============================] - 0s 106us/step - loss: 0.1911 - acc: 0.9183\n",
      "Epoch 190/1000\n",
      "514/514 [==============================] - 0s 102us/step - loss: 0.1889 - acc: 0.9202\n",
      "Epoch 191/1000\n",
      "514/514 [==============================] - 0s 106us/step - loss: 0.1840 - acc: 0.9280\n",
      "Epoch 192/1000\n",
      "514/514 [==============================] - 0s 103us/step - loss: 0.1876 - acc: 0.9241\n",
      "Epoch 193/1000\n",
      "514/514 [==============================] - 0s 107us/step - loss: 0.1831 - acc: 0.9222\n",
      "Epoch 194/1000\n",
      "514/514 [==============================] - 0s 104us/step - loss: 0.1821 - acc: 0.9183\n",
      "Epoch 195/1000\n",
      "514/514 [==============================] - 0s 106us/step - loss: 0.1821 - acc: 0.9241\n",
      "Epoch 196/1000\n",
      "514/514 [==============================] - 0s 99us/step - loss: 0.1821 - acc: 0.9202\n",
      "Epoch 197/1000\n",
      "514/514 [==============================] - 0s 100us/step - loss: 0.1817 - acc: 0.9280\n",
      "Epoch 198/1000\n",
      "514/514 [==============================] - 0s 102us/step - loss: 0.1750 - acc: 0.9300\n",
      "Epoch 199/1000\n",
      "514/514 [==============================] - 0s 100us/step - loss: 0.1774 - acc: 0.9261\n",
      "Epoch 200/1000\n",
      "514/514 [==============================] - 0s 97us/step - loss: 0.1729 - acc: 0.9280\n",
      "Epoch 201/1000\n",
      "514/514 [==============================] - 0s 98us/step - loss: 0.1747 - acc: 0.9280\n",
      "Epoch 202/1000\n",
      "514/514 [==============================] - 0s 110us/step - loss: 0.1752 - acc: 0.9339\n",
      "Epoch 203/1000\n",
      "514/514 [==============================] - 0s 102us/step - loss: 0.1712 - acc: 0.9319\n",
      "Epoch 204/1000\n",
      "514/514 [==============================] - 0s 100us/step - loss: 0.1742 - acc: 0.9339\n",
      "Epoch 205/1000\n",
      "514/514 [==============================] - 0s 114us/step - loss: 0.1692 - acc: 0.9300\n",
      "Epoch 206/1000\n",
      "514/514 [==============================] - 0s 107us/step - loss: 0.1867 - acc: 0.9241\n",
      "Epoch 207/1000\n",
      "514/514 [==============================] - 0s 120us/step - loss: 0.1712 - acc: 0.9319\n",
      "Epoch 208/1000\n",
      "514/514 [==============================] - 0s 110us/step - loss: 0.1819 - acc: 0.9222\n",
      "Epoch 209/1000\n",
      "514/514 [==============================] - 0s 118us/step - loss: 0.1674 - acc: 0.9377\n",
      "Epoch 210/1000\n",
      "514/514 [==============================] - 0s 98us/step - loss: 0.1663 - acc: 0.9319\n",
      "Epoch 211/1000\n",
      "514/514 [==============================] - 0s 97us/step - loss: 0.1681 - acc: 0.9319\n",
      "Epoch 212/1000\n",
      "514/514 [==============================] - 0s 100us/step - loss: 0.1753 - acc: 0.9241\n",
      "Epoch 213/1000\n",
      "514/514 [==============================] - 0s 99us/step - loss: 0.1641 - acc: 0.9319\n",
      "Epoch 214/1000\n",
      "514/514 [==============================] - 0s 103us/step - loss: 0.1632 - acc: 0.9358\n",
      "Epoch 215/1000\n",
      "514/514 [==============================] - 0s 100us/step - loss: 0.1587 - acc: 0.9377\n",
      "Epoch 216/1000\n",
      "514/514 [==============================] - 0s 98us/step - loss: 0.1630 - acc: 0.9339\n",
      "Epoch 217/1000\n",
      "514/514 [==============================] - 0s 102us/step - loss: 0.1606 - acc: 0.9397\n",
      "Epoch 218/1000\n",
      "514/514 [==============================] - 0s 98us/step - loss: 0.1605 - acc: 0.9319\n",
      "Epoch 219/1000\n",
      "514/514 [==============================] - 0s 102us/step - loss: 0.1591 - acc: 0.9319\n",
      "Epoch 220/1000\n",
      "514/514 [==============================] - 0s 98us/step - loss: 0.1565 - acc: 0.9377\n",
      "Epoch 221/1000\n",
      "514/514 [==============================] - 0s 109us/step - loss: 0.1532 - acc: 0.9416\n",
      "Epoch 222/1000\n",
      "514/514 [==============================] - 0s 100us/step - loss: 0.1517 - acc: 0.9377\n",
      "Epoch 223/1000\n",
      "514/514 [==============================] - 0s 99us/step - loss: 0.1532 - acc: 0.9377\n",
      "Epoch 224/1000\n",
      "514/514 [==============================] - 0s 101us/step - loss: 0.1524 - acc: 0.9416\n",
      "Epoch 225/1000\n",
      "514/514 [==============================] - 0s 102us/step - loss: 0.1493 - acc: 0.9397\n",
      "Epoch 226/1000\n",
      "514/514 [==============================] - 0s 116us/step - loss: 0.1550 - acc: 0.9397\n",
      "Epoch 227/1000\n",
      "514/514 [==============================] - 0s 108us/step - loss: 0.1514 - acc: 0.9377\n",
      "Epoch 228/1000\n",
      "514/514 [==============================] - 0s 109us/step - loss: 0.1551 - acc: 0.9416\n",
      "Epoch 229/1000\n",
      "514/514 [==============================] - 0s 103us/step - loss: 0.1474 - acc: 0.9339\n",
      "Epoch 230/1000\n",
      "514/514 [==============================] - 0s 102us/step - loss: 0.1475 - acc: 0.9358\n",
      "Epoch 231/1000\n",
      "514/514 [==============================] - 0s 115us/step - loss: 0.1531 - acc: 0.9339\n",
      "Epoch 232/1000\n",
      "514/514 [==============================] - 0s 113us/step - loss: 0.1456 - acc: 0.9436\n",
      "Epoch 233/1000\n",
      "514/514 [==============================] - 0s 116us/step - loss: 0.1515 - acc: 0.9455\n",
      "Epoch 234/1000\n",
      "514/514 [==============================] - 0s 99us/step - loss: 0.1529 - acc: 0.9319\n",
      "Epoch 235/1000\n",
      "514/514 [==============================] - 0s 105us/step - loss: 0.1508 - acc: 0.9397\n",
      "Epoch 236/1000\n",
      "514/514 [==============================] - 0s 117us/step - loss: 0.1400 - acc: 0.9475\n",
      "Epoch 237/1000\n",
      "514/514 [==============================] - 0s 110us/step - loss: 0.1398 - acc: 0.9475\n",
      "Epoch 238/1000\n",
      "514/514 [==============================] - 0s 114us/step - loss: 0.1380 - acc: 0.9475\n",
      "Epoch 239/1000\n",
      "514/514 [==============================] - 0s 97us/step - loss: 0.1440 - acc: 0.9494\n",
      "Epoch 240/1000\n",
      "514/514 [==============================] - 0s 100us/step - loss: 0.1369 - acc: 0.9494\n",
      "Epoch 241/1000\n",
      "514/514 [==============================] - 0s 100us/step - loss: 0.1353 - acc: 0.9533\n",
      "Epoch 242/1000\n",
      "514/514 [==============================] - 0s 115us/step - loss: 0.1391 - acc: 0.9436\n",
      "Epoch 243/1000\n",
      "514/514 [==============================] - 0s 103us/step - loss: 0.1364 - acc: 0.9416\n",
      "Epoch 244/1000\n",
      "514/514 [==============================] - 0s 101us/step - loss: 0.1348 - acc: 0.9533\n",
      "Epoch 245/1000\n"
     ]
    },
    {
     "name": "stdout",
     "output_type": "stream",
     "text": [
      "514/514 [==============================] - 0s 120us/step - loss: 0.1345 - acc: 0.9397\n",
      "Epoch 246/1000\n",
      "514/514 [==============================] - 0s 109us/step - loss: 0.1397 - acc: 0.9533\n",
      "Epoch 247/1000\n",
      "514/514 [==============================] - 0s 111us/step - loss: 0.1343 - acc: 0.9494\n",
      "Epoch 248/1000\n",
      "514/514 [==============================] - 0s 97us/step - loss: 0.1335 - acc: 0.9572\n",
      "Epoch 249/1000\n",
      "514/514 [==============================] - 0s 102us/step - loss: 0.1283 - acc: 0.9533\n",
      "Epoch 250/1000\n",
      "514/514 [==============================] - 0s 107us/step - loss: 0.1345 - acc: 0.9475\n",
      "Epoch 251/1000\n",
      "514/514 [==============================] - 0s 112us/step - loss: 0.1328 - acc: 0.9436\n",
      "Epoch 252/1000\n",
      "514/514 [==============================] - 0s 98us/step - loss: 0.1291 - acc: 0.9514\n",
      "Epoch 253/1000\n",
      "514/514 [==============================] - 0s 100us/step - loss: 0.1280 - acc: 0.9475\n",
      "Epoch 254/1000\n",
      "514/514 [==============================] - 0s 129us/step - loss: 0.1285 - acc: 0.9436\n",
      "Epoch 255/1000\n",
      "514/514 [==============================] - 0s 135us/step - loss: 0.1537 - acc: 0.9397\n",
      "Epoch 256/1000\n",
      "514/514 [==============================] - 0s 148us/step - loss: 0.1511 - acc: 0.9416\n",
      "Epoch 257/1000\n",
      "514/514 [==============================] - 0s 104us/step - loss: 0.1327 - acc: 0.9416\n",
      "Epoch 258/1000\n",
      "514/514 [==============================] - 0s 112us/step - loss: 0.1285 - acc: 0.9436\n",
      "Epoch 259/1000\n",
      "514/514 [==============================] - 0s 108us/step - loss: 0.1308 - acc: 0.9494\n",
      "Epoch 260/1000\n",
      "514/514 [==============================] - 0s 99us/step - loss: 0.1222 - acc: 0.9533\n",
      "Epoch 261/1000\n",
      "514/514 [==============================] - 0s 112us/step - loss: 0.1193 - acc: 0.9494\n",
      "Epoch 262/1000\n",
      "514/514 [==============================] - 0s 109us/step - loss: 0.1190 - acc: 0.9572\n",
      "Epoch 263/1000\n",
      "514/514 [==============================] - 0s 141us/step - loss: 0.1206 - acc: 0.9533\n",
      "Epoch 264/1000\n",
      "514/514 [==============================] - 0s 144us/step - loss: 0.1195 - acc: 0.9514\n",
      "Epoch 265/1000\n",
      "514/514 [==============================] - 0s 117us/step - loss: 0.1174 - acc: 0.9630\n",
      "Epoch 266/1000\n",
      "514/514 [==============================] - 0s 100us/step - loss: 0.1221 - acc: 0.9514\n",
      "Epoch 267/1000\n",
      "514/514 [==============================] - 0s 105us/step - loss: 0.1187 - acc: 0.9553\n",
      "Epoch 268/1000\n",
      "514/514 [==============================] - 0s 99us/step - loss: 0.1174 - acc: 0.9611\n",
      "Epoch 269/1000\n",
      "514/514 [==============================] - 0s 101us/step - loss: 0.1151 - acc: 0.9611\n",
      "Epoch 270/1000\n",
      "514/514 [==============================] - 0s 126us/step - loss: 0.1145 - acc: 0.9572\n",
      "Epoch 271/1000\n",
      "514/514 [==============================] - 0s 112us/step - loss: 0.1133 - acc: 0.9514\n",
      "Epoch 272/1000\n",
      "514/514 [==============================] - 0s 100us/step - loss: 0.1276 - acc: 0.9533\n",
      "Epoch 273/1000\n",
      "514/514 [==============================] - 0s 103us/step - loss: 0.1228 - acc: 0.9436\n",
      "Epoch 274/1000\n",
      "514/514 [==============================] - 0s 99us/step - loss: 0.1151 - acc: 0.9514\n",
      "Epoch 275/1000\n",
      "514/514 [==============================] - 0s 113us/step - loss: 0.1155 - acc: 0.9591\n",
      "Epoch 276/1000\n",
      "514/514 [==============================] - 0s 103us/step - loss: 0.1162 - acc: 0.9533\n",
      "Epoch 277/1000\n",
      "514/514 [==============================] - 0s 108us/step - loss: 0.1120 - acc: 0.9572\n",
      "Epoch 278/1000\n",
      "514/514 [==============================] - 0s 114us/step - loss: 0.1096 - acc: 0.9572\n",
      "Epoch 279/1000\n",
      "514/514 [==============================] - 0s 102us/step - loss: 0.1082 - acc: 0.9591\n",
      "Epoch 280/1000\n",
      "514/514 [==============================] - 0s 112us/step - loss: 0.1082 - acc: 0.9572\n",
      "Epoch 281/1000\n",
      "514/514 [==============================] - 0s 111us/step - loss: 0.1070 - acc: 0.9611\n",
      "Epoch 282/1000\n",
      "514/514 [==============================] - 0s 102us/step - loss: 0.1089 - acc: 0.9533\n",
      "Epoch 283/1000\n",
      "514/514 [==============================] - 0s 112us/step - loss: 0.1048 - acc: 0.9572\n",
      "Epoch 284/1000\n",
      "514/514 [==============================] - 0s 101us/step - loss: 0.1099 - acc: 0.9572\n",
      "Epoch 285/1000\n",
      "514/514 [==============================] - 0s 102us/step - loss: 0.1041 - acc: 0.9630\n",
      "Epoch 286/1000\n",
      "514/514 [==============================] - 0s 111us/step - loss: 0.1101 - acc: 0.9553\n",
      "Epoch 287/1000\n",
      "514/514 [==============================] - 0s 107us/step - loss: 0.1018 - acc: 0.9591\n",
      "Epoch 288/1000\n",
      "514/514 [==============================] - 0s 117us/step - loss: 0.1046 - acc: 0.9591\n",
      "Epoch 289/1000\n",
      "514/514 [==============================] - 0s 102us/step - loss: 0.1060 - acc: 0.9650\n",
      "Epoch 290/1000\n",
      "514/514 [==============================] - 0s 102us/step - loss: 0.1066 - acc: 0.9591\n",
      "Epoch 291/1000\n",
      "514/514 [==============================] - 0s 114us/step - loss: 0.1135 - acc: 0.9494\n",
      "Epoch 292/1000\n",
      "514/514 [==============================] - 0s 116us/step - loss: 0.1041 - acc: 0.9630\n",
      "Epoch 293/1000\n",
      "514/514 [==============================] - 0s 114us/step - loss: 0.1259 - acc: 0.9494\n",
      "Epoch 294/1000\n",
      "514/514 [==============================] - 0s 101us/step - loss: 0.1036 - acc: 0.9572\n",
      "Epoch 295/1000\n",
      "514/514 [==============================] - 0s 111us/step - loss: 0.0997 - acc: 0.9591\n",
      "Epoch 296/1000\n",
      "514/514 [==============================] - 0s 120us/step - loss: 0.1012 - acc: 0.9553\n",
      "Epoch 297/1000\n",
      "514/514 [==============================] - 0s 100us/step - loss: 0.0973 - acc: 0.9650\n",
      "Epoch 298/1000\n",
      "514/514 [==============================] - 0s 101us/step - loss: 0.1026 - acc: 0.9630\n",
      "Epoch 299/1000\n",
      "514/514 [==============================] - 0s 101us/step - loss: 0.1114 - acc: 0.9514\n",
      "Epoch 300/1000\n",
      "514/514 [==============================] - 0s 101us/step - loss: 0.1040 - acc: 0.9572\n",
      "Epoch 301/1000\n",
      "514/514 [==============================] - 0s 105us/step - loss: 0.1045 - acc: 0.9591\n",
      "Epoch 302/1000\n",
      "514/514 [==============================] - 0s 108us/step - loss: 0.1019 - acc: 0.9630\n",
      "Epoch 303/1000\n",
      "514/514 [==============================] - 0s 109us/step - loss: 0.0936 - acc: 0.9591\n",
      "Epoch 304/1000\n",
      "514/514 [==============================] - 0s 100us/step - loss: 0.0934 - acc: 0.9669\n",
      "Epoch 305/1000\n",
      "514/514 [==============================] - 0s 116us/step - loss: 0.0940 - acc: 0.9630\n",
      "Epoch 306/1000\n",
      "514/514 [==============================] - 0s 100us/step - loss: 0.0929 - acc: 0.9630\n",
      "Epoch 307/1000\n",
      "514/514 [==============================] - 0s 107us/step - loss: 0.0907 - acc: 0.9669\n",
      "Epoch 308/1000\n",
      "514/514 [==============================] - 0s 108us/step - loss: 0.0979 - acc: 0.9689\n",
      "Epoch 309/1000\n",
      "514/514 [==============================] - 0s 110us/step - loss: 0.0914 - acc: 0.9669\n",
      "Epoch 310/1000\n",
      "514/514 [==============================] - 0s 108us/step - loss: 0.0949 - acc: 0.9611\n",
      "Epoch 311/1000\n",
      "514/514 [==============================] - 0s 98us/step - loss: 0.0936 - acc: 0.9630\n",
      "Epoch 312/1000\n",
      "514/514 [==============================] - 0s 99us/step - loss: 0.0954 - acc: 0.9669\n",
      "Epoch 313/1000\n",
      "514/514 [==============================] - 0s 113us/step - loss: 0.0891 - acc: 0.9689\n",
      "Epoch 314/1000\n",
      "514/514 [==============================] - 0s 116us/step - loss: 0.0885 - acc: 0.9630\n",
      "Epoch 315/1000\n",
      "514/514 [==============================] - 0s 100us/step - loss: 0.0858 - acc: 0.9669\n",
      "Epoch 316/1000\n",
      "514/514 [==============================] - 0s 100us/step - loss: 0.0924 - acc: 0.9630\n",
      "Epoch 317/1000\n",
      "514/514 [==============================] - 0s 117us/step - loss: 0.0853 - acc: 0.9650\n",
      "Epoch 318/1000\n",
      "514/514 [==============================] - 0s 100us/step - loss: 0.0919 - acc: 0.9650\n",
      "Epoch 319/1000\n",
      "514/514 [==============================] - 0s 104us/step - loss: 0.0884 - acc: 0.9689\n",
      "Epoch 320/1000\n",
      "514/514 [==============================] - 0s 117us/step - loss: 0.0892 - acc: 0.9572\n",
      "Epoch 321/1000\n",
      "514/514 [==============================] - 0s 111us/step - loss: 0.0845 - acc: 0.9708\n",
      "Epoch 322/1000\n",
      "514/514 [==============================] - 0s 124us/step - loss: 0.0846 - acc: 0.9669\n",
      "Epoch 323/1000\n",
      "514/514 [==============================] - 0s 116us/step - loss: 0.0836 - acc: 0.9708\n",
      "Epoch 324/1000\n",
      "514/514 [==============================] - 0s 110us/step - loss: 0.0830 - acc: 0.9669\n",
      "Epoch 325/1000\n",
      "514/514 [==============================] - 0s 109us/step - loss: 0.0821 - acc: 0.9650\n",
      "Epoch 326/1000\n"
     ]
    },
    {
     "name": "stdout",
     "output_type": "stream",
     "text": [
      "514/514 [==============================] - 0s 106us/step - loss: 0.0838 - acc: 0.9708\n",
      "Epoch 327/1000\n",
      "514/514 [==============================] - 0s 112us/step - loss: 0.0876 - acc: 0.9669\n",
      "Epoch 328/1000\n",
      "514/514 [==============================] - 0s 108us/step - loss: 0.0848 - acc: 0.9650\n",
      "Epoch 329/1000\n",
      "514/514 [==============================] - 0s 100us/step - loss: 0.1008 - acc: 0.9669\n",
      "Epoch 330/1000\n",
      "514/514 [==============================] - 0s 97us/step - loss: 0.0939 - acc: 0.9611\n",
      "Epoch 331/1000\n",
      "514/514 [==============================] - 0s 108us/step - loss: 0.0877 - acc: 0.9591\n",
      "Epoch 332/1000\n",
      "514/514 [==============================] - 0s 113us/step - loss: 0.0858 - acc: 0.9689\n",
      "Epoch 333/1000\n",
      "514/514 [==============================] - 0s 100us/step - loss: 0.0802 - acc: 0.9669\n",
      "Epoch 334/1000\n",
      "514/514 [==============================] - 0s 103us/step - loss: 0.0807 - acc: 0.9708\n",
      "Epoch 335/1000\n",
      "514/514 [==============================] - 0s 108us/step - loss: 0.0818 - acc: 0.9728\n",
      "Epoch 336/1000\n",
      "514/514 [==============================] - 0s 101us/step - loss: 0.0842 - acc: 0.9630\n",
      "Epoch 337/1000\n",
      "514/514 [==============================] - 0s 111us/step - loss: 0.0846 - acc: 0.9708\n",
      "Epoch 338/1000\n",
      "514/514 [==============================] - 0s 108us/step - loss: 0.0818 - acc: 0.9689\n",
      "Epoch 339/1000\n",
      "514/514 [==============================] - 0s 103us/step - loss: 0.0815 - acc: 0.9630\n",
      "Epoch 340/1000\n",
      "514/514 [==============================] - 0s 100us/step - loss: 0.0765 - acc: 0.9708\n",
      "Epoch 341/1000\n",
      "514/514 [==============================] - 0s 99us/step - loss: 0.0780 - acc: 0.9708\n",
      "Epoch 342/1000\n",
      "514/514 [==============================] - 0s 105us/step - loss: 0.0749 - acc: 0.9728\n",
      "Epoch 343/1000\n",
      "514/514 [==============================] - 0s 111us/step - loss: 0.0754 - acc: 0.9689\n",
      "Epoch 344/1000\n",
      "514/514 [==============================] - 0s 124us/step - loss: 0.0774 - acc: 0.9708\n",
      "Epoch 345/1000\n",
      "514/514 [==============================] - 0s 102us/step - loss: 0.0758 - acc: 0.9767\n",
      "Epoch 346/1000\n",
      "514/514 [==============================] - 0s 101us/step - loss: 0.0739 - acc: 0.9708\n",
      "Epoch 347/1000\n",
      "514/514 [==============================] - 0s 108us/step - loss: 0.0737 - acc: 0.9728\n",
      "Epoch 348/1000\n",
      "514/514 [==============================] - 0s 98us/step - loss: 0.0743 - acc: 0.9669\n",
      "Epoch 349/1000\n",
      "514/514 [==============================] - 0s 99us/step - loss: 0.0821 - acc: 0.9650\n",
      "Epoch 350/1000\n",
      "514/514 [==============================] - 0s 100us/step - loss: 0.0828 - acc: 0.9669\n",
      "Epoch 351/1000\n",
      "514/514 [==============================] - 0s 101us/step - loss: 0.0786 - acc: 0.9689\n",
      "Epoch 352/1000\n",
      "514/514 [==============================] - 0s 101us/step - loss: 0.0736 - acc: 0.9728\n",
      "Epoch 353/1000\n",
      "514/514 [==============================] - 0s 101us/step - loss: 0.0774 - acc: 0.9708\n",
      "Epoch 354/1000\n",
      "514/514 [==============================] - 0s 111us/step - loss: 0.0760 - acc: 0.9728\n",
      "Epoch 355/1000\n",
      "514/514 [==============================] - 0s 101us/step - loss: 0.0767 - acc: 0.9708\n",
      "Epoch 356/1000\n",
      "514/514 [==============================] - 0s 98us/step - loss: 0.0713 - acc: 0.9786\n",
      "Epoch 357/1000\n",
      "514/514 [==============================] - 0s 98us/step - loss: 0.0756 - acc: 0.9708\n",
      "Epoch 358/1000\n",
      "514/514 [==============================] - 0s 102us/step - loss: 0.0740 - acc: 0.9708\n",
      "Epoch 359/1000\n",
      "514/514 [==============================] - 0s 118us/step - loss: 0.0733 - acc: 0.9728\n",
      "Epoch 360/1000\n",
      "514/514 [==============================] - 0s 104us/step - loss: 0.0704 - acc: 0.9708\n",
      "Epoch 361/1000\n",
      "514/514 [==============================] - 0s 96us/step - loss: 0.0742 - acc: 0.9767\n",
      "Epoch 362/1000\n",
      "514/514 [==============================] - 0s 111us/step - loss: 0.0835 - acc: 0.9728\n",
      "Epoch 363/1000\n",
      "514/514 [==============================] - 0s 103us/step - loss: 0.0691 - acc: 0.9767\n",
      "Epoch 364/1000\n",
      "514/514 [==============================] - 0s 100us/step - loss: 0.0665 - acc: 0.9747\n",
      "Epoch 365/1000\n",
      "514/514 [==============================] - 0s 101us/step - loss: 0.0711 - acc: 0.9747\n",
      "Epoch 366/1000\n",
      "514/514 [==============================] - 0s 96us/step - loss: 0.0963 - acc: 0.9630\n",
      "Epoch 367/1000\n",
      "514/514 [==============================] - 0s 114us/step - loss: 0.1140 - acc: 0.9533\n",
      "Epoch 368/1000\n",
      "514/514 [==============================] - 0s 103us/step - loss: 0.0800 - acc: 0.9650\n",
      "Epoch 369/1000\n",
      "514/514 [==============================] - 0s 105us/step - loss: 0.0658 - acc: 0.9805\n",
      "Epoch 370/1000\n",
      "514/514 [==============================] - 0s 108us/step - loss: 0.0684 - acc: 0.9767\n",
      "Epoch 371/1000\n",
      "514/514 [==============================] - 0s 127us/step - loss: 0.0650 - acc: 0.9767\n",
      "Epoch 372/1000\n",
      "514/514 [==============================] - 0s 115us/step - loss: 0.0650 - acc: 0.9767\n",
      "Epoch 373/1000\n",
      "514/514 [==============================] - 0s 112us/step - loss: 0.0677 - acc: 0.9708\n",
      "Epoch 374/1000\n",
      "514/514 [==============================] - 0s 103us/step - loss: 0.0682 - acc: 0.9708\n",
      "Epoch 375/1000\n",
      "514/514 [==============================] - 0s 103us/step - loss: 0.0701 - acc: 0.9767\n",
      "Epoch 376/1000\n",
      "514/514 [==============================] - 0s 114us/step - loss: 0.0674 - acc: 0.9708\n",
      "Epoch 377/1000\n",
      "514/514 [==============================] - 0s 99us/step - loss: 0.0624 - acc: 0.9786\n",
      "Epoch 378/1000\n",
      "514/514 [==============================] - 0s 100us/step - loss: 0.0656 - acc: 0.9767\n",
      "Epoch 379/1000\n",
      "514/514 [==============================] - 0s 96us/step - loss: 0.0664 - acc: 0.9689\n",
      "Epoch 380/1000\n",
      "514/514 [==============================] - 0s 100us/step - loss: 0.0615 - acc: 0.9767\n",
      "Epoch 381/1000\n",
      "514/514 [==============================] - 0s 117us/step - loss: 0.0603 - acc: 0.9767\n",
      "Epoch 382/1000\n",
      "514/514 [==============================] - 0s 111us/step - loss: 0.0647 - acc: 0.9805\n",
      "Epoch 383/1000\n",
      "514/514 [==============================] - 0s 113us/step - loss: 0.0599 - acc: 0.9786\n",
      "Epoch 384/1000\n",
      "514/514 [==============================] - 0s 103us/step - loss: 0.0601 - acc: 0.9805\n",
      "Epoch 385/1000\n",
      "514/514 [==============================] - 0s 109us/step - loss: 0.0619 - acc: 0.9786\n",
      "Epoch 386/1000\n",
      "514/514 [==============================] - 0s 119us/step - loss: 0.0581 - acc: 0.9805\n",
      "Epoch 387/1000\n",
      "514/514 [==============================] - 0s 107us/step - loss: 0.0648 - acc: 0.9825\n",
      "Epoch 388/1000\n",
      "514/514 [==============================] - 0s 105us/step - loss: 0.0637 - acc: 0.9767\n",
      "Epoch 389/1000\n",
      "514/514 [==============================] - 0s 99us/step - loss: 0.0627 - acc: 0.9786\n",
      "Epoch 390/1000\n",
      "514/514 [==============================] - 0s 107us/step - loss: 0.0609 - acc: 0.9708\n",
      "Epoch 391/1000\n",
      "514/514 [==============================] - 0s 113us/step - loss: 0.0613 - acc: 0.9805\n",
      "Epoch 392/1000\n",
      "514/514 [==============================] - 0s 99us/step - loss: 0.0597 - acc: 0.9825\n",
      "Epoch 393/1000\n",
      "514/514 [==============================] - 0s 101us/step - loss: 0.0569 - acc: 0.9728\n",
      "Epoch 394/1000\n",
      "514/514 [==============================] - 0s 99us/step - loss: 0.0595 - acc: 0.9767\n",
      "Epoch 395/1000\n",
      "514/514 [==============================] - 0s 122us/step - loss: 0.0561 - acc: 0.9844\n",
      "Epoch 396/1000\n",
      "514/514 [==============================] - 0s 107us/step - loss: 0.0583 - acc: 0.9805\n",
      "Epoch 397/1000\n",
      "514/514 [==============================] - 0s 98us/step - loss: 0.0548 - acc: 0.9844\n",
      "Epoch 398/1000\n",
      "514/514 [==============================] - 0s 108us/step - loss: 0.0594 - acc: 0.9786\n",
      "Epoch 399/1000\n",
      "514/514 [==============================] - 0s 109us/step - loss: 0.0592 - acc: 0.9805\n",
      "Epoch 400/1000\n",
      "514/514 [==============================] - 0s 107us/step - loss: 0.0544 - acc: 0.9825\n",
      "Epoch 401/1000\n",
      "514/514 [==============================] - 0s 108us/step - loss: 0.0578 - acc: 0.9767\n",
      "Epoch 402/1000\n",
      "514/514 [==============================] - 0s 101us/step - loss: 0.0836 - acc: 0.9708\n",
      "Epoch 403/1000\n",
      "514/514 [==============================] - 0s 97us/step - loss: 0.0858 - acc: 0.9630\n",
      "Epoch 404/1000\n",
      "514/514 [==============================] - 0s 110us/step - loss: 0.0697 - acc: 0.9728\n",
      "Epoch 405/1000\n",
      "514/514 [==============================] - 0s 114us/step - loss: 0.0677 - acc: 0.9747\n",
      "Epoch 406/1000\n",
      "514/514 [==============================] - 0s 115us/step - loss: 0.0616 - acc: 0.9805\n",
      "Epoch 407/1000\n"
     ]
    },
    {
     "name": "stdout",
     "output_type": "stream",
     "text": [
      "514/514 [==============================] - 0s 99us/step - loss: 0.0556 - acc: 0.9844\n",
      "Epoch 408/1000\n",
      "514/514 [==============================] - 0s 161us/step - loss: 0.0525 - acc: 0.9825\n",
      "Epoch 409/1000\n",
      "514/514 [==============================] - 0s 95us/step - loss: 0.0521 - acc: 0.9825\n",
      "Epoch 410/1000\n",
      "514/514 [==============================] - 0s 110us/step - loss: 0.0518 - acc: 0.9864\n",
      "Epoch 411/1000\n",
      "514/514 [==============================] - 0s 119us/step - loss: 0.0539 - acc: 0.9844\n",
      "Epoch 412/1000\n",
      "514/514 [==============================] - 0s 94us/step - loss: 0.0570 - acc: 0.9825\n",
      "Epoch 413/1000\n",
      "514/514 [==============================] - 0s 127us/step - loss: 0.0597 - acc: 0.9767\n",
      "Epoch 414/1000\n",
      "514/514 [==============================] - 0s 141us/step - loss: 0.0564 - acc: 0.9825\n",
      "Epoch 415/1000\n",
      "514/514 [==============================] - 0s 126us/step - loss: 0.0542 - acc: 0.9864\n",
      "Epoch 416/1000\n",
      "514/514 [==============================] - 0s 113us/step - loss: 0.0566 - acc: 0.9805\n",
      "Epoch 417/1000\n",
      "514/514 [==============================] - 0s 110us/step - loss: 0.0624 - acc: 0.9767\n",
      "Epoch 418/1000\n",
      "514/514 [==============================] - 0s 112us/step - loss: 0.0586 - acc: 0.9825\n",
      "Epoch 419/1000\n",
      "514/514 [==============================] - 0s 102us/step - loss: 0.0538 - acc: 0.9864\n",
      "Epoch 420/1000\n",
      "514/514 [==============================] - 0s 102us/step - loss: 0.0496 - acc: 0.9883\n",
      "Epoch 421/1000\n",
      "514/514 [==============================] - 0s 108us/step - loss: 0.0459 - acc: 0.9883\n",
      "Epoch 422/1000\n",
      "514/514 [==============================] - 0s 116us/step - loss: 0.0477 - acc: 0.9844\n",
      "Epoch 423/1000\n",
      "514/514 [==============================] - 0s 100us/step - loss: 0.0454 - acc: 0.9864\n",
      "Epoch 424/1000\n",
      "514/514 [==============================] - 0s 102us/step - loss: 0.0525 - acc: 0.9786\n",
      "Epoch 425/1000\n",
      "514/514 [==============================] - 0s 102us/step - loss: 0.0491 - acc: 0.9844\n",
      "Epoch 426/1000\n",
      "514/514 [==============================] - 0s 99us/step - loss: 0.0467 - acc: 0.9883\n",
      "Epoch 427/1000\n",
      "514/514 [==============================] - 0s 100us/step - loss: 0.0495 - acc: 0.9844\n",
      "Epoch 428/1000\n",
      "514/514 [==============================] - 0s 97us/step - loss: 0.0499 - acc: 0.9825\n",
      "Epoch 429/1000\n",
      "514/514 [==============================] - 0s 97us/step - loss: 0.0624 - acc: 0.9767\n",
      "Epoch 430/1000\n",
      "514/514 [==============================] - 0s 97us/step - loss: 0.0573 - acc: 0.9805\n",
      "Epoch 431/1000\n",
      "514/514 [==============================] - 0s 100us/step - loss: 0.0551 - acc: 0.9825\n",
      "Epoch 432/1000\n",
      "514/514 [==============================] - 0s 112us/step - loss: 0.0453 - acc: 0.9883\n",
      "Epoch 433/1000\n",
      "514/514 [==============================] - 0s 115us/step - loss: 0.0473 - acc: 0.9786\n",
      "Epoch 434/1000\n",
      "514/514 [==============================] - 0s 105us/step - loss: 0.0523 - acc: 0.9864\n",
      "Epoch 435/1000\n",
      "514/514 [==============================] - 0s 115us/step - loss: 0.0491 - acc: 0.9844\n",
      "Epoch 436/1000\n",
      "514/514 [==============================] - 0s 109us/step - loss: 0.0463 - acc: 0.9864\n",
      "Epoch 437/1000\n",
      "514/514 [==============================] - 0s 110us/step - loss: 0.0470 - acc: 0.9844\n",
      "Epoch 438/1000\n",
      "514/514 [==============================] - 0s 99us/step - loss: 0.0449 - acc: 0.9883\n",
      "Epoch 439/1000\n",
      "514/514 [==============================] - 0s 112us/step - loss: 0.0503 - acc: 0.9825\n",
      "Epoch 440/1000\n",
      "514/514 [==============================] - 0s 112us/step - loss: 0.0431 - acc: 0.9864\n",
      "Epoch 441/1000\n",
      "514/514 [==============================] - 0s 110us/step - loss: 0.0536 - acc: 0.9805\n",
      "Epoch 442/1000\n",
      "514/514 [==============================] - 0s 117us/step - loss: 0.0453 - acc: 0.9825\n",
      "Epoch 443/1000\n",
      "514/514 [==============================] - 0s 105us/step - loss: 0.0488 - acc: 0.9844\n",
      "Epoch 444/1000\n",
      "514/514 [==============================] - 0s 98us/step - loss: 0.0458 - acc: 0.9922\n",
      "Epoch 445/1000\n",
      "514/514 [==============================] - 0s 113us/step - loss: 0.0438 - acc: 0.9844\n",
      "Epoch 446/1000\n",
      "514/514 [==============================] - 0s 100us/step - loss: 0.0438 - acc: 0.9864\n",
      "Epoch 447/1000\n",
      "514/514 [==============================] - 0s 102us/step - loss: 0.0460 - acc: 0.9825\n",
      "Epoch 448/1000\n",
      "514/514 [==============================] - 0s 104us/step - loss: 0.0463 - acc: 0.9844\n",
      "Epoch 449/1000\n",
      "514/514 [==============================] - 0s 104us/step - loss: 0.0412 - acc: 0.9883\n",
      "Epoch 450/1000\n",
      "514/514 [==============================] - 0s 117us/step - loss: 0.0420 - acc: 0.9922\n",
      "Epoch 451/1000\n",
      "514/514 [==============================] - 0s 122us/step - loss: 0.0440 - acc: 0.9864\n",
      "Epoch 452/1000\n",
      "514/514 [==============================] - 0s 109us/step - loss: 0.0441 - acc: 0.9844\n",
      "Epoch 453/1000\n",
      "514/514 [==============================] - 0s 98us/step - loss: 0.0393 - acc: 0.9903\n",
      "Epoch 454/1000\n",
      "514/514 [==============================] - 0s 102us/step - loss: 0.0427 - acc: 0.9864\n",
      "Epoch 455/1000\n",
      "514/514 [==============================] - 0s 98us/step - loss: 0.0445 - acc: 0.9805\n",
      "Epoch 456/1000\n",
      "514/514 [==============================] - 0s 101us/step - loss: 0.0475 - acc: 0.9805\n",
      "Epoch 457/1000\n",
      "514/514 [==============================] - 0s 105us/step - loss: 0.0458 - acc: 0.9922\n",
      "Epoch 458/1000\n",
      "514/514 [==============================] - 0s 113us/step - loss: 0.0392 - acc: 0.9883\n",
      "Epoch 459/1000\n",
      "514/514 [==============================] - 0s 97us/step - loss: 0.0398 - acc: 0.9942\n",
      "Epoch 460/1000\n",
      "514/514 [==============================] - 0s 100us/step - loss: 0.0463 - acc: 0.9844\n",
      "Epoch 461/1000\n",
      "514/514 [==============================] - 0s 102us/step - loss: 0.0400 - acc: 0.9883\n",
      "Epoch 462/1000\n",
      "514/514 [==============================] - 0s 97us/step - loss: 0.0386 - acc: 0.9903\n",
      "Epoch 463/1000\n",
      "514/514 [==============================] - 0s 114us/step - loss: 0.0370 - acc: 0.9864\n",
      "Epoch 464/1000\n",
      "514/514 [==============================] - 0s 102us/step - loss: 0.0434 - acc: 0.9903\n",
      "Epoch 465/1000\n",
      "514/514 [==============================] - 0s 103us/step - loss: 0.0385 - acc: 0.9864\n",
      "Epoch 466/1000\n",
      "514/514 [==============================] - 0s 104us/step - loss: 0.0390 - acc: 0.9864\n",
      "Epoch 467/1000\n",
      "514/514 [==============================] - 0s 101us/step - loss: 0.0416 - acc: 0.9864\n",
      "Epoch 468/1000\n",
      "514/514 [==============================] - 0s 99us/step - loss: 0.0411 - acc: 0.9883\n",
      "Epoch 469/1000\n",
      "514/514 [==============================] - 0s 102us/step - loss: 0.0421 - acc: 0.9844\n",
      "Epoch 470/1000\n",
      "514/514 [==============================] - 0s 110us/step - loss: 0.0431 - acc: 0.9805\n",
      "Epoch 471/1000\n",
      "514/514 [==============================] - 0s 108us/step - loss: 0.0367 - acc: 0.9883\n",
      "Epoch 472/1000\n",
      "514/514 [==============================] - 0s 102us/step - loss: 0.0455 - acc: 0.9864\n",
      "Epoch 473/1000\n",
      "514/514 [==============================] - 0s 100us/step - loss: 0.0539 - acc: 0.9805\n",
      "Epoch 474/1000\n",
      "514/514 [==============================] - 0s 98us/step - loss: 0.0519 - acc: 0.9786\n",
      "Epoch 475/1000\n",
      "514/514 [==============================] - 0s 103us/step - loss: 0.0438 - acc: 0.9864\n",
      "Epoch 476/1000\n",
      "514/514 [==============================] - 0s 101us/step - loss: 0.0686 - acc: 0.9825\n",
      "Epoch 477/1000\n",
      "514/514 [==============================] - 0s 108us/step - loss: 0.0779 - acc: 0.9786\n",
      "Epoch 478/1000\n",
      "514/514 [==============================] - 0s 99us/step - loss: 0.0462 - acc: 0.9805\n",
      "Epoch 479/1000\n",
      "514/514 [==============================] - 0s 98us/step - loss: 0.0427 - acc: 0.9864\n",
      "Epoch 480/1000\n",
      "514/514 [==============================] - 0s 102us/step - loss: 0.0389 - acc: 0.9864\n",
      "Epoch 481/1000\n",
      "514/514 [==============================] - 0s 111us/step - loss: 0.0398 - acc: 0.9883\n",
      "Epoch 482/1000\n",
      "514/514 [==============================] - 0s 104us/step - loss: 0.0399 - acc: 0.9903\n",
      "Epoch 483/1000\n",
      "514/514 [==============================] - 0s 102us/step - loss: 0.0351 - acc: 0.9903\n",
      "Epoch 484/1000\n",
      "514/514 [==============================] - 0s 104us/step - loss: 0.0348 - acc: 0.9922\n",
      "Epoch 485/1000\n",
      "514/514 [==============================] - 0s 115us/step - loss: 0.0407 - acc: 0.9883\n",
      "Epoch 486/1000\n",
      "514/514 [==============================] - 0s 101us/step - loss: 0.0368 - acc: 0.9883\n",
      "Epoch 487/1000\n",
      "514/514 [==============================] - 0s 111us/step - loss: 0.0370 - acc: 0.9864\n",
      "Epoch 488/1000\n"
     ]
    },
    {
     "name": "stdout",
     "output_type": "stream",
     "text": [
      "514/514 [==============================] - 0s 99us/step - loss: 0.0378 - acc: 0.9883\n",
      "Epoch 489/1000\n",
      "514/514 [==============================] - 0s 102us/step - loss: 0.0480 - acc: 0.9767\n",
      "Epoch 490/1000\n",
      "514/514 [==============================] - 0s 103us/step - loss: 0.0459 - acc: 0.9883\n",
      "Epoch 491/1000\n",
      "514/514 [==============================] - 0s 97us/step - loss: 0.1315 - acc: 0.9669\n",
      "Epoch 492/1000\n",
      "514/514 [==============================] - 0s 116us/step - loss: 0.0921 - acc: 0.9611\n",
      "Epoch 493/1000\n",
      "514/514 [==============================] - 0s 104us/step - loss: 0.0676 - acc: 0.9669\n",
      "Epoch 494/1000\n",
      "514/514 [==============================] - 0s 100us/step - loss: 0.0426 - acc: 0.9825\n",
      "Epoch 495/1000\n",
      "514/514 [==============================] - 0s 109us/step - loss: 0.0407 - acc: 0.9844\n",
      "Epoch 496/1000\n",
      "514/514 [==============================] - 0s 102us/step - loss: 0.0446 - acc: 0.9767\n",
      "Epoch 497/1000\n",
      "514/514 [==============================] - 0s 98us/step - loss: 0.0343 - acc: 0.9864\n",
      "Epoch 498/1000\n",
      "514/514 [==============================] - 0s 100us/step - loss: 0.0340 - acc: 0.9883\n",
      "Epoch 499/1000\n",
      "514/514 [==============================] - 0s 97us/step - loss: 0.0347 - acc: 0.9864\n",
      "Epoch 500/1000\n",
      "514/514 [==============================] - 0s 99us/step - loss: 0.0359 - acc: 0.9864\n",
      "Epoch 501/1000\n",
      "514/514 [==============================] - 0s 109us/step - loss: 0.0336 - acc: 0.9903\n",
      "Epoch 502/1000\n",
      "514/514 [==============================] - 0s 102us/step - loss: 0.0326 - acc: 0.9903\n",
      "Epoch 503/1000\n",
      "514/514 [==============================] - 0s 100us/step - loss: 0.0324 - acc: 0.9922\n",
      "Epoch 504/1000\n",
      "514/514 [==============================] - 0s 107us/step - loss: 0.0338 - acc: 0.9903\n",
      "Epoch 505/1000\n",
      "514/514 [==============================] - 0s 104us/step - loss: 0.0326 - acc: 0.9883\n",
      "Epoch 506/1000\n",
      "514/514 [==============================] - 0s 99us/step - loss: 0.0294 - acc: 0.9961\n",
      "Epoch 507/1000\n",
      "514/514 [==============================] - 0s 111us/step - loss: 0.0342 - acc: 0.9903\n",
      "Epoch 508/1000\n",
      "514/514 [==============================] - 0s 97us/step - loss: 0.0324 - acc: 0.9903\n",
      "Epoch 509/1000\n",
      "514/514 [==============================] - 0s 106us/step - loss: 0.0317 - acc: 0.9903\n",
      "Epoch 510/1000\n",
      "514/514 [==============================] - 0s 113us/step - loss: 0.0350 - acc: 0.9864\n",
      "Epoch 511/1000\n",
      "514/514 [==============================] - 0s 98us/step - loss: 0.0363 - acc: 0.9864\n",
      "Epoch 512/1000\n",
      "514/514 [==============================] - 0s 96us/step - loss: 0.0329 - acc: 0.9942\n",
      "Epoch 513/1000\n",
      "514/514 [==============================] - 0s 113us/step - loss: 0.0319 - acc: 0.9922\n",
      "Epoch 514/1000\n",
      "514/514 [==============================] - 0s 99us/step - loss: 0.0319 - acc: 0.9942\n",
      "Epoch 515/1000\n",
      "514/514 [==============================] - 0s 111us/step - loss: 0.0304 - acc: 0.9922\n",
      "Epoch 516/1000\n",
      "514/514 [==============================] - 0s 108us/step - loss: 0.0364 - acc: 0.9883\n",
      "Epoch 517/1000\n",
      "514/514 [==============================] - 0s 112us/step - loss: 0.0299 - acc: 0.9903\n",
      "Epoch 518/1000\n",
      "514/514 [==============================] - 0s 108us/step - loss: 0.0350 - acc: 0.9864\n",
      "Epoch 519/1000\n",
      "514/514 [==============================] - 0s 116us/step - loss: 0.0303 - acc: 0.9883\n",
      "Epoch 520/1000\n",
      "514/514 [==============================] - 0s 100us/step - loss: 0.0319 - acc: 0.9903\n",
      "Epoch 521/1000\n",
      "514/514 [==============================] - 0s 99us/step - loss: 0.0305 - acc: 0.9942\n",
      "Epoch 522/1000\n",
      "514/514 [==============================] - 0s 98us/step - loss: 0.0306 - acc: 0.9864\n",
      "Epoch 523/1000\n",
      "514/514 [==============================] - 0s 99us/step - loss: 0.0300 - acc: 0.9903\n",
      "Epoch 524/1000\n",
      "514/514 [==============================] - 0s 99us/step - loss: 0.0320 - acc: 0.9883\n",
      "Epoch 525/1000\n",
      "514/514 [==============================] - 0s 99us/step - loss: 0.0314 - acc: 0.9903\n",
      "Epoch 526/1000\n",
      "514/514 [==============================] - 0s 112us/step - loss: 0.0361 - acc: 0.9903\n",
      "Epoch 527/1000\n",
      "514/514 [==============================] - 0s 109us/step - loss: 0.0736 - acc: 0.9689\n",
      "Epoch 528/1000\n",
      "514/514 [==============================] - 0s 102us/step - loss: 0.0658 - acc: 0.9767\n",
      "Epoch 529/1000\n",
      "514/514 [==============================] - 0s 100us/step - loss: 0.0878 - acc: 0.9689\n",
      "Epoch 530/1000\n",
      "514/514 [==============================] - 0s 102us/step - loss: 0.1207 - acc: 0.9591\n",
      "Epoch 531/1000\n",
      "514/514 [==============================] - 0s 100us/step - loss: 0.0743 - acc: 0.9689\n",
      "Epoch 532/1000\n",
      "514/514 [==============================] - 0s 100us/step - loss: 0.0586 - acc: 0.9825\n",
      "Epoch 533/1000\n",
      "514/514 [==============================] - 0s 98us/step - loss: 0.0361 - acc: 0.9864\n",
      "Epoch 534/1000\n",
      "514/514 [==============================] - 0s 102us/step - loss: 0.0345 - acc: 0.9903\n",
      "Epoch 535/1000\n",
      "514/514 [==============================] - 0s 101us/step - loss: 0.0329 - acc: 0.9903\n",
      "Epoch 536/1000\n",
      "514/514 [==============================] - 0s 105us/step - loss: 0.0361 - acc: 0.9903\n",
      "Epoch 537/1000\n",
      "514/514 [==============================] - 0s 98us/step - loss: 0.0379 - acc: 0.9864\n",
      "Epoch 538/1000\n",
      "514/514 [==============================] - 0s 107us/step - loss: 0.0297 - acc: 0.9903\n",
      "Epoch 539/1000\n",
      "514/514 [==============================] - 0s 103us/step - loss: 0.0306 - acc: 0.9922\n",
      "Epoch 540/1000\n",
      "514/514 [==============================] - 0s 100us/step - loss: 0.0286 - acc: 0.9903\n",
      "Epoch 541/1000\n",
      "514/514 [==============================] - 0s 111us/step - loss: 0.0292 - acc: 0.9883\n",
      "Epoch 542/1000\n",
      "514/514 [==============================] - 0s 117us/step - loss: 0.0297 - acc: 0.9922\n",
      "Epoch 543/1000\n",
      "514/514 [==============================] - 0s 99us/step - loss: 0.0272 - acc: 0.9922\n",
      "Epoch 544/1000\n",
      "514/514 [==============================] - 0s 107us/step - loss: 0.0263 - acc: 0.9961\n",
      "Epoch 545/1000\n",
      "514/514 [==============================] - 0s 116us/step - loss: 0.0279 - acc: 0.9922\n",
      "Epoch 546/1000\n",
      "514/514 [==============================] - 0s 107us/step - loss: 0.0310 - acc: 0.9903\n",
      "Epoch 547/1000\n",
      "514/514 [==============================] - 0s 101us/step - loss: 0.0333 - acc: 0.9903\n",
      "Epoch 548/1000\n",
      "514/514 [==============================] - 0s 99us/step - loss: 0.0335 - acc: 0.9864\n",
      "Epoch 549/1000\n",
      "514/514 [==============================] - 0s 106us/step - loss: 0.0317 - acc: 0.9903\n",
      "Epoch 550/1000\n",
      "514/514 [==============================] - 0s 98us/step - loss: 0.0365 - acc: 0.9844\n",
      "Epoch 551/1000\n",
      "514/514 [==============================] - 0s 104us/step - loss: 0.0256 - acc: 0.9903\n",
      "Epoch 552/1000\n",
      "514/514 [==============================] - 0s 99us/step - loss: 0.0276 - acc: 0.9922\n",
      "Epoch 553/1000\n",
      "514/514 [==============================] - 0s 103us/step - loss: 0.0272 - acc: 0.9942\n",
      "Epoch 554/1000\n",
      "514/514 [==============================] - 0s 104us/step - loss: 0.0267 - acc: 0.9942\n",
      "Epoch 555/1000\n",
      "514/514 [==============================] - 0s 113us/step - loss: 0.0260 - acc: 0.9903\n",
      "Epoch 556/1000\n",
      "514/514 [==============================] - 0s 105us/step - loss: 0.0262 - acc: 0.9942\n",
      "Epoch 557/1000\n",
      "514/514 [==============================] - 0s 106us/step - loss: 0.0275 - acc: 0.9942\n",
      "Epoch 558/1000\n",
      "514/514 [==============================] - 0s 101us/step - loss: 0.0300 - acc: 0.9903\n",
      "Epoch 559/1000\n",
      "514/514 [==============================] - 0s 112us/step - loss: 0.0301 - acc: 0.9883\n",
      "Epoch 560/1000\n",
      "514/514 [==============================] - 0s 108us/step - loss: 0.0273 - acc: 0.9922\n",
      "Epoch 561/1000\n",
      "514/514 [==============================] - 0s 100us/step - loss: 0.0270 - acc: 0.9883\n",
      "Epoch 562/1000\n",
      "514/514 [==============================] - 0s 117us/step - loss: 0.0261 - acc: 0.9903\n",
      "Epoch 563/1000\n",
      "514/514 [==============================] - 0s 99us/step - loss: 0.0324 - acc: 0.9864\n",
      "Epoch 564/1000\n",
      "514/514 [==============================] - 0s 110us/step - loss: 0.0289 - acc: 0.9942\n",
      "Epoch 565/1000\n",
      "514/514 [==============================] - 0s 113us/step - loss: 0.0328 - acc: 0.9864\n",
      "Epoch 566/1000\n",
      "514/514 [==============================] - 0s 101us/step - loss: 0.0372 - acc: 0.9844\n",
      "Epoch 567/1000\n",
      "514/514 [==============================] - 0s 97us/step - loss: 0.0341 - acc: 0.9883\n",
      "Epoch 568/1000\n",
      "514/514 [==============================] - 0s 119us/step - loss: 0.0276 - acc: 0.9922\n",
      "Epoch 569/1000\n"
     ]
    },
    {
     "name": "stdout",
     "output_type": "stream",
     "text": [
      "514/514 [==============================] - 0s 98us/step - loss: 0.0254 - acc: 0.9922\n",
      "Epoch 570/1000\n",
      "514/514 [==============================] - 0s 105us/step - loss: 0.0337 - acc: 0.9883\n",
      "Epoch 571/1000\n",
      "514/514 [==============================] - 0s 117us/step - loss: 0.0297 - acc: 0.9903\n",
      "Epoch 572/1000\n",
      "514/514 [==============================] - 0s 105us/step - loss: 0.0293 - acc: 0.9922\n",
      "Epoch 573/1000\n",
      "514/514 [==============================] - 0s 97us/step - loss: 0.0432 - acc: 0.9805\n",
      "Epoch 574/1000\n",
      "514/514 [==============================] - 0s 101us/step - loss: 0.0339 - acc: 0.9903\n",
      "Epoch 575/1000\n",
      "514/514 [==============================] - 0s 104us/step - loss: 0.0264 - acc: 0.9922\n",
      "Epoch 576/1000\n",
      "514/514 [==============================] - 0s 100us/step - loss: 0.0255 - acc: 0.9942\n",
      "Epoch 577/1000\n",
      "514/514 [==============================] - 0s 98us/step - loss: 0.0281 - acc: 0.9903\n",
      "Epoch 578/1000\n",
      "514/514 [==============================] - 0s 102us/step - loss: 0.0304 - acc: 0.9883\n",
      "Epoch 579/1000\n",
      "514/514 [==============================] - 0s 100us/step - loss: 0.0282 - acc: 0.9903\n",
      "Epoch 580/1000\n",
      "514/514 [==============================] - 0s 99us/step - loss: 0.0269 - acc: 0.9942\n",
      "Epoch 581/1000\n",
      "514/514 [==============================] - 0s 111us/step - loss: 0.0260 - acc: 0.9903\n",
      "Epoch 582/1000\n",
      "514/514 [==============================] - 0s 100us/step - loss: 0.0273 - acc: 0.9922\n",
      "Epoch 583/1000\n",
      "514/514 [==============================] - 0s 105us/step - loss: 0.0297 - acc: 0.9883\n",
      "Epoch 584/1000\n",
      "514/514 [==============================] - 0s 108us/step - loss: 0.0255 - acc: 0.9961\n",
      "Epoch 585/1000\n",
      "514/514 [==============================] - 0s 100us/step - loss: 0.0273 - acc: 0.9883\n",
      "Epoch 586/1000\n",
      "514/514 [==============================] - 0s 101us/step - loss: 0.0248 - acc: 0.9942\n",
      "Epoch 587/1000\n",
      "514/514 [==============================] - 0s 103us/step - loss: 0.0265 - acc: 0.9903\n",
      "Epoch 588/1000\n",
      "514/514 [==============================] - 0s 100us/step - loss: 0.0228 - acc: 0.9883\n",
      "Epoch 589/1000\n",
      "514/514 [==============================] - 0s 96us/step - loss: 0.0256 - acc: 0.9922\n",
      "Epoch 590/1000\n",
      "514/514 [==============================] - 0s 108us/step - loss: 0.0243 - acc: 0.9961\n",
      "Epoch 591/1000\n",
      "514/514 [==============================] - 0s 100us/step - loss: 0.0220 - acc: 0.9981\n",
      "Epoch 592/1000\n",
      "514/514 [==============================] - 0s 105us/step - loss: 0.0275 - acc: 0.9922\n",
      "Epoch 593/1000\n",
      "514/514 [==============================] - 0s 97us/step - loss: 0.0271 - acc: 0.9864\n",
      "Epoch 594/1000\n",
      "514/514 [==============================] - 0s 102us/step - loss: 0.0287 - acc: 0.9864\n",
      "Epoch 595/1000\n",
      "514/514 [==============================] - 0s 124us/step - loss: 0.0321 - acc: 0.9922\n",
      "Epoch 596/1000\n",
      "514/514 [==============================] - 0s 99us/step - loss: 0.1329 - acc: 0.9611\n",
      "Epoch 597/1000\n",
      "514/514 [==============================] - 0s 100us/step - loss: 0.1747 - acc: 0.9572\n",
      "Epoch 598/1000\n",
      "514/514 [==============================] - 0s 109us/step - loss: 0.1140 - acc: 0.9611\n",
      "Epoch 599/1000\n",
      "514/514 [==============================] - 0s 112us/step - loss: 0.0729 - acc: 0.9864\n",
      "Epoch 600/1000\n",
      "514/514 [==============================] - 0s 99us/step - loss: 0.0534 - acc: 0.9805\n",
      "Epoch 601/1000\n",
      "514/514 [==============================] - 0s 99us/step - loss: 0.0360 - acc: 0.9883\n",
      "Epoch 602/1000\n",
      "514/514 [==============================] - 0s 101us/step - loss: 0.0331 - acc: 0.9922\n",
      "Epoch 603/1000\n",
      "514/514 [==============================] - 0s 97us/step - loss: 0.0266 - acc: 0.9922\n",
      "Epoch 604/1000\n",
      "514/514 [==============================] - 0s 98us/step - loss: 0.0251 - acc: 0.9942\n",
      "Epoch 605/1000\n",
      "514/514 [==============================] - 0s 100us/step - loss: 0.0266 - acc: 0.9942\n",
      "Epoch 606/1000\n",
      "514/514 [==============================] - 0s 99us/step - loss: 0.0226 - acc: 0.9942\n",
      "Epoch 607/1000\n",
      "514/514 [==============================] - 0s 101us/step - loss: 0.0244 - acc: 0.9942\n",
      "Epoch 608/1000\n",
      "514/514 [==============================] - 0s 104us/step - loss: 0.0203 - acc: 0.9961\n",
      "Epoch 609/1000\n",
      "514/514 [==============================] - 0s 113us/step - loss: 0.0288 - acc: 0.9903\n",
      "Epoch 610/1000\n",
      "514/514 [==============================] - 0s 102us/step - loss: 0.0312 - acc: 0.9864\n",
      "Epoch 611/1000\n",
      "514/514 [==============================] - 0s 100us/step - loss: 0.0328 - acc: 0.9844\n",
      "Epoch 612/1000\n",
      "514/514 [==============================] - 0s 109us/step - loss: 0.0286 - acc: 0.9922\n",
      "Epoch 613/1000\n",
      "514/514 [==============================] - 0s 111us/step - loss: 0.0264 - acc: 0.9922\n",
      "Epoch 614/1000\n",
      "514/514 [==============================] - 0s 98us/step - loss: 0.0234 - acc: 0.9903\n",
      "Epoch 615/1000\n",
      "514/514 [==============================] - 0s 100us/step - loss: 0.0255 - acc: 0.9922\n",
      "Epoch 616/1000\n",
      "514/514 [==============================] - 0s 120us/step - loss: 0.0268 - acc: 0.9883\n",
      "Epoch 617/1000\n",
      "514/514 [==============================] - 0s 109us/step - loss: 0.0220 - acc: 0.9942\n",
      "Epoch 618/1000\n",
      "514/514 [==============================] - 0s 116us/step - loss: 0.0240 - acc: 0.9903\n",
      "Epoch 619/1000\n",
      "514/514 [==============================] - 0s 101us/step - loss: 0.0235 - acc: 0.9961\n",
      "Epoch 620/1000\n",
      "514/514 [==============================] - 0s 112us/step - loss: 0.0278 - acc: 0.9903\n",
      "Epoch 621/1000\n",
      "514/514 [==============================] - 0s 110us/step - loss: 0.0243 - acc: 0.9922\n",
      "Epoch 622/1000\n",
      "514/514 [==============================] - 0s 106us/step - loss: 0.0215 - acc: 0.9942\n",
      "Epoch 623/1000\n",
      "514/514 [==============================] - 0s 114us/step - loss: 0.0209 - acc: 0.9942\n",
      "Epoch 624/1000\n",
      "514/514 [==============================] - 0s 106us/step - loss: 0.0267 - acc: 0.9922\n",
      "Epoch 625/1000\n",
      "514/514 [==============================] - 0s 110us/step - loss: 0.0222 - acc: 0.9942\n",
      "Epoch 626/1000\n",
      "514/514 [==============================] - 0s 102us/step - loss: 0.0218 - acc: 0.9961\n",
      "Epoch 627/1000\n",
      "514/514 [==============================] - 0s 99us/step - loss: 0.0301 - acc: 0.9864\n",
      "Epoch 628/1000\n",
      "514/514 [==============================] - 0s 102us/step - loss: 0.0227 - acc: 0.9942\n",
      "Epoch 629/1000\n",
      "514/514 [==============================] - 0s 104us/step - loss: 0.0197 - acc: 0.9961\n",
      "Epoch 630/1000\n",
      "514/514 [==============================] - 0s 109us/step - loss: 0.0226 - acc: 0.9922\n",
      "Epoch 631/1000\n",
      "514/514 [==============================] - 0s 104us/step - loss: 0.0206 - acc: 0.9942\n",
      "Epoch 632/1000\n",
      "514/514 [==============================] - 0s 104us/step - loss: 0.0339 - acc: 0.9864\n",
      "Epoch 633/1000\n",
      "514/514 [==============================] - 0s 101us/step - loss: 0.0237 - acc: 0.9922\n",
      "Epoch 634/1000\n",
      "514/514 [==============================] - 0s 106us/step - loss: 0.0231 - acc: 0.9883\n",
      "Epoch 635/1000\n",
      "514/514 [==============================] - 0s 102us/step - loss: 0.0362 - acc: 0.9844\n",
      "Epoch 636/1000\n",
      "514/514 [==============================] - 0s 97us/step - loss: 0.0259 - acc: 0.9883\n",
      "Epoch 637/1000\n",
      "514/514 [==============================] - 0s 105us/step - loss: 0.0242 - acc: 0.9942\n",
      "Epoch 638/1000\n",
      "514/514 [==============================] - 0s 113us/step - loss: 0.0205 - acc: 0.9961\n",
      "Epoch 639/1000\n",
      "514/514 [==============================] - 0s 106us/step - loss: 0.0278 - acc: 0.9864\n",
      "Epoch 640/1000\n",
      "514/514 [==============================] - 0s 98us/step - loss: 0.0208 - acc: 0.9942\n",
      "Epoch 641/1000\n",
      "514/514 [==============================] - 0s 116us/step - loss: 0.0205 - acc: 0.9942\n",
      "Epoch 642/1000\n",
      "514/514 [==============================] - 0s 103us/step - loss: 0.0211 - acc: 0.9922\n",
      "Epoch 643/1000\n",
      "514/514 [==============================] - 0s 107us/step - loss: 0.0263 - acc: 0.9903\n",
      "Epoch 644/1000\n",
      "514/514 [==============================] - 0s 114us/step - loss: 0.0210 - acc: 0.9942\n",
      "Epoch 645/1000\n",
      "514/514 [==============================] - 0s 105us/step - loss: 0.0216 - acc: 0.9883\n",
      "Epoch 646/1000\n",
      "514/514 [==============================] - 0s 117us/step - loss: 0.0260 - acc: 0.9922\n",
      "Epoch 647/1000\n",
      "514/514 [==============================] - 0s 104us/step - loss: 0.0220 - acc: 0.9942\n",
      "Epoch 648/1000\n",
      "514/514 [==============================] - 0s 115us/step - loss: 0.0330 - acc: 0.9883\n",
      "Epoch 649/1000\n",
      "514/514 [==============================] - 0s 112us/step - loss: 0.0239 - acc: 0.9903\n",
      "Epoch 650/1000\n"
     ]
    },
    {
     "name": "stdout",
     "output_type": "stream",
     "text": [
      "514/514 [==============================] - 0s 101us/step - loss: 0.0234 - acc: 0.9942\n",
      "Epoch 651/1000\n",
      "514/514 [==============================] - 0s 106us/step - loss: 0.0263 - acc: 0.9942\n",
      "Epoch 652/1000\n",
      "514/514 [==============================] - 0s 100us/step - loss: 0.0238 - acc: 0.9961\n",
      "Epoch 653/1000\n",
      "514/514 [==============================] - 0s 100us/step - loss: 0.0289 - acc: 0.9903\n",
      "Epoch 654/1000\n",
      "514/514 [==============================] - 0s 99us/step - loss: 0.0231 - acc: 0.9942\n",
      "Epoch 655/1000\n",
      "514/514 [==============================] - 0s 98us/step - loss: 0.0223 - acc: 0.9942\n",
      "Epoch 656/1000\n",
      "514/514 [==============================] - 0s 109us/step - loss: 0.0215 - acc: 0.9922\n",
      "Epoch 657/1000\n",
      "514/514 [==============================] - 0s 99us/step - loss: 0.0198 - acc: 0.9942\n",
      "Epoch 658/1000\n",
      "514/514 [==============================] - 0s 112us/step - loss: 0.0207 - acc: 0.9961\n",
      "Epoch 659/1000\n",
      "514/514 [==============================] - 0s 113us/step - loss: 0.0236 - acc: 0.9922\n",
      "Epoch 660/1000\n",
      "514/514 [==============================] - 0s 98us/step - loss: 0.0228 - acc: 0.9903\n",
      "Epoch 661/1000\n",
      "514/514 [==============================] - 0s 100us/step - loss: 0.0274 - acc: 0.9903\n",
      "Epoch 662/1000\n",
      "514/514 [==============================] - 0s 99us/step - loss: 0.0352 - acc: 0.9864\n",
      "Epoch 663/1000\n",
      "514/514 [==============================] - 0s 105us/step - loss: 0.0510 - acc: 0.9805\n",
      "Epoch 664/1000\n",
      "514/514 [==============================] - 0s 108us/step - loss: 0.0310 - acc: 0.9883\n",
      "Epoch 665/1000\n",
      "514/514 [==============================] - 0s 101us/step - loss: 0.0230 - acc: 0.9903\n",
      "Epoch 666/1000\n",
      "514/514 [==============================] - 0s 107us/step - loss: 0.0192 - acc: 0.9961\n",
      "Epoch 667/1000\n",
      "514/514 [==============================] - 0s 106us/step - loss: 0.0234 - acc: 0.9922\n",
      "Epoch 668/1000\n",
      "514/514 [==============================] - 0s 99us/step - loss: 0.0241 - acc: 0.9903\n",
      "Epoch 669/1000\n",
      "514/514 [==============================] - 0s 99us/step - loss: 0.0236 - acc: 0.9942\n",
      "Epoch 670/1000\n",
      "514/514 [==============================] - 0s 100us/step - loss: 0.0544 - acc: 0.9844\n",
      "Epoch 671/1000\n",
      "514/514 [==============================] - 0s 98us/step - loss: 0.0541 - acc: 0.9786\n",
      "Epoch 672/1000\n",
      "514/514 [==============================] - 0s 105us/step - loss: 0.0400 - acc: 0.9844\n",
      "Epoch 673/1000\n",
      "514/514 [==============================] - 0s 116us/step - loss: 0.0258 - acc: 0.9942\n",
      "Epoch 674/1000\n",
      "514/514 [==============================] - 0s 98us/step - loss: 0.0288 - acc: 0.9903\n",
      "Epoch 675/1000\n",
      "514/514 [==============================] - 0s 101us/step - loss: 0.0228 - acc: 0.9942\n",
      "Epoch 676/1000\n",
      "514/514 [==============================] - 0s 98us/step - loss: 0.0210 - acc: 0.9961\n",
      "Epoch 677/1000\n",
      "514/514 [==============================] - 0s 96us/step - loss: 0.0207 - acc: 0.9942\n",
      "Epoch 678/1000\n",
      "514/514 [==============================] - 0s 105us/step - loss: 0.0206 - acc: 0.9942\n",
      "Epoch 679/1000\n",
      "514/514 [==============================] - 0s 109us/step - loss: 0.0227 - acc: 0.9942\n",
      "Epoch 680/1000\n",
      "514/514 [==============================] - 0s 102us/step - loss: 0.0188 - acc: 0.9942\n",
      "Epoch 681/1000\n",
      "514/514 [==============================] - 0s 100us/step - loss: 0.0232 - acc: 0.9961\n",
      "Epoch 682/1000\n",
      "514/514 [==============================] - 0s 113us/step - loss: 0.0219 - acc: 0.9942\n",
      "Epoch 683/1000\n",
      "514/514 [==============================] - 0s 108us/step - loss: 0.0184 - acc: 0.9981\n",
      "Epoch 684/1000\n",
      "514/514 [==============================] - 0s 101us/step - loss: 0.0187 - acc: 0.9922\n",
      "Epoch 685/1000\n",
      "514/514 [==============================] - 0s 101us/step - loss: 0.0221 - acc: 0.9942\n",
      "Epoch 686/1000\n",
      "514/514 [==============================] - 0s 101us/step - loss: 0.0165 - acc: 0.9961\n",
      "Epoch 687/1000\n",
      "514/514 [==============================] - 0s 109us/step - loss: 0.0251 - acc: 0.9883\n",
      "Epoch 688/1000\n",
      "514/514 [==============================] - 0s 102us/step - loss: 0.0197 - acc: 0.9942\n",
      "Epoch 689/1000\n",
      "514/514 [==============================] - 0s 101us/step - loss: 0.0181 - acc: 0.9961\n",
      "Epoch 690/1000\n",
      "514/514 [==============================] - 0s 103us/step - loss: 0.0176 - acc: 0.9981\n",
      "Epoch 691/1000\n",
      "514/514 [==============================] - 0s 100us/step - loss: 0.0191 - acc: 0.9961\n",
      "Epoch 692/1000\n",
      "514/514 [==============================] - 0s 112us/step - loss: 0.0203 - acc: 0.9922\n",
      "Epoch 693/1000\n",
      "514/514 [==============================] - 0s 101us/step - loss: 0.0212 - acc: 0.9961\n",
      "Epoch 694/1000\n",
      "514/514 [==============================] - 0s 106us/step - loss: 0.0187 - acc: 0.9961\n",
      "Epoch 695/1000\n",
      "514/514 [==============================] - 0s 101us/step - loss: 0.0185 - acc: 0.9942\n",
      "Epoch 696/1000\n",
      "514/514 [==============================] - 0s 100us/step - loss: 0.0200 - acc: 0.9961\n",
      "Epoch 697/1000\n",
      "514/514 [==============================] - 0s 108us/step - loss: 0.0182 - acc: 0.9981\n",
      "Epoch 698/1000\n",
      "514/514 [==============================] - 0s 117us/step - loss: 0.0226 - acc: 0.9942\n",
      "Epoch 699/1000\n",
      "514/514 [==============================] - 0s 101us/step - loss: 0.0219 - acc: 0.9903\n",
      "Epoch 700/1000\n",
      "514/514 [==============================] - 0s 113us/step - loss: 0.0246 - acc: 0.9942\n",
      "Epoch 701/1000\n",
      "514/514 [==============================] - 0s 100us/step - loss: 0.0203 - acc: 0.9922\n",
      "Epoch 702/1000\n",
      "514/514 [==============================] - 0s 100us/step - loss: 0.0192 - acc: 0.9922\n",
      "Epoch 703/1000\n",
      "514/514 [==============================] - 0s 101us/step - loss: 0.0212 - acc: 0.9922\n",
      "Epoch 704/1000\n",
      "514/514 [==============================] - 0s 101us/step - loss: 0.0195 - acc: 0.9942\n",
      "Epoch 705/1000\n",
      "514/514 [==============================] - 0s 114us/step - loss: 0.0181 - acc: 0.9961\n",
      "Epoch 706/1000\n",
      "514/514 [==============================] - 0s 100us/step - loss: 0.0263 - acc: 0.9883\n",
      "Epoch 707/1000\n",
      "514/514 [==============================] - 0s 111us/step - loss: 0.1199 - acc: 0.9669\n",
      "Epoch 708/1000\n",
      "514/514 [==============================] - 0s 107us/step - loss: 0.1175 - acc: 0.9630\n",
      "Epoch 709/1000\n",
      "514/514 [==============================] - 0s 102us/step - loss: 0.0495 - acc: 0.9825\n",
      "Epoch 710/1000\n",
      "514/514 [==============================] - 0s 103us/step - loss: 0.0314 - acc: 0.9922\n",
      "Epoch 711/1000\n",
      "514/514 [==============================] - 0s 108us/step - loss: 0.0219 - acc: 0.9981\n",
      "Epoch 712/1000\n",
      "514/514 [==============================] - 0s 101us/step - loss: 0.0209 - acc: 0.9883\n",
      "Epoch 713/1000\n",
      "514/514 [==============================] - 0s 102us/step - loss: 0.0260 - acc: 0.9942\n",
      "Epoch 714/1000\n",
      "514/514 [==============================] - 0s 105us/step - loss: 0.0212 - acc: 0.9961\n",
      "Epoch 715/1000\n",
      "514/514 [==============================] - 0s 100us/step - loss: 0.0190 - acc: 0.9922\n",
      "Epoch 716/1000\n",
      "514/514 [==============================] - 0s 115us/step - loss: 0.0258 - acc: 0.9903\n",
      "Epoch 717/1000\n",
      "514/514 [==============================] - 0s 100us/step - loss: 0.0301 - acc: 0.9922\n",
      "Epoch 718/1000\n",
      "514/514 [==============================] - 0s 101us/step - loss: 0.0231 - acc: 0.9883\n",
      "Epoch 719/1000\n",
      "514/514 [==============================] - 0s 112us/step - loss: 0.0267 - acc: 0.9883\n",
      "Epoch 720/1000\n",
      "514/514 [==============================] - 0s 111us/step - loss: 0.0396 - acc: 0.9883\n",
      "Epoch 721/1000\n",
      "514/514 [==============================] - 0s 110us/step - loss: 0.0286 - acc: 0.9883\n",
      "Epoch 722/1000\n",
      "514/514 [==============================] - 0s 111us/step - loss: 0.0360 - acc: 0.9864\n",
      "Epoch 723/1000\n",
      "514/514 [==============================] - 0s 113us/step - loss: 0.0427 - acc: 0.9903\n",
      "Epoch 724/1000\n",
      "514/514 [==============================] - 0s 107us/step - loss: 0.1099 - acc: 0.9630\n",
      "Epoch 725/1000\n",
      "514/514 [==============================] - 0s 102us/step - loss: 0.0595 - acc: 0.9747\n",
      "Epoch 726/1000\n",
      "514/514 [==============================] - 0s 100us/step - loss: 0.0347 - acc: 0.9864\n",
      "Epoch 727/1000\n",
      "514/514 [==============================] - 0s 117us/step - loss: 0.0326 - acc: 0.9883\n",
      "Epoch 728/1000\n",
      "514/514 [==============================] - 0s 101us/step - loss: 0.0241 - acc: 0.9922\n",
      "Epoch 729/1000\n",
      "514/514 [==============================] - 0s 101us/step - loss: 0.0190 - acc: 0.9961\n",
      "Epoch 730/1000\n",
      "514/514 [==============================] - 0s 105us/step - loss: 0.0238 - acc: 0.9903\n",
      "Epoch 731/1000\n"
     ]
    },
    {
     "name": "stdout",
     "output_type": "stream",
     "text": [
      "514/514 [==============================] - 0s 112us/step - loss: 0.0187 - acc: 0.9942\n",
      "Epoch 732/1000\n",
      "514/514 [==============================] - 0s 107us/step - loss: 0.0209 - acc: 0.9942\n",
      "Epoch 733/1000\n",
      "514/514 [==============================] - 0s 105us/step - loss: 0.0215 - acc: 0.9942\n",
      "Epoch 734/1000\n",
      "514/514 [==============================] - 0s 98us/step - loss: 0.0247 - acc: 0.9883\n",
      "Epoch 735/1000\n",
      "514/514 [==============================] - 0s 107us/step - loss: 0.0233 - acc: 0.9903\n",
      "Epoch 736/1000\n",
      "514/514 [==============================] - 0s 109us/step - loss: 0.0175 - acc: 0.9961\n",
      "Epoch 737/1000\n",
      "514/514 [==============================] - 0s 109us/step - loss: 0.0177 - acc: 0.9942\n",
      "Epoch 738/1000\n",
      "514/514 [==============================] - 0s 100us/step - loss: 0.0178 - acc: 0.9961\n",
      "Epoch 739/1000\n",
      "514/514 [==============================] - 0s 108us/step - loss: 0.0157 - acc: 0.9981\n",
      "Epoch 740/1000\n",
      "514/514 [==============================] - 0s 100us/step - loss: 0.0172 - acc: 0.9961\n",
      "Epoch 741/1000\n",
      "514/514 [==============================] - 0s 96us/step - loss: 0.0196 - acc: 0.9942\n",
      "Epoch 742/1000\n",
      "514/514 [==============================] - 0s 100us/step - loss: 0.0167 - acc: 0.9942\n",
      "Epoch 743/1000\n",
      "514/514 [==============================] - 0s 104us/step - loss: 0.0170 - acc: 0.9961\n",
      "Epoch 744/1000\n",
      "514/514 [==============================] - 0s 98us/step - loss: 0.0188 - acc: 0.9942\n",
      "Epoch 745/1000\n",
      "514/514 [==============================] - 0s 103us/step - loss: 0.0186 - acc: 0.9942\n",
      "Epoch 746/1000\n",
      "514/514 [==============================] - 0s 104us/step - loss: 0.0202 - acc: 0.9903\n",
      "Epoch 747/1000\n",
      "514/514 [==============================] - 0s 106us/step - loss: 0.0200 - acc: 0.9961\n",
      "Epoch 748/1000\n",
      "514/514 [==============================] - 0s 103us/step - loss: 0.0230 - acc: 0.9942\n",
      "Epoch 749/1000\n",
      "514/514 [==============================] - 0s 97us/step - loss: 0.0171 - acc: 0.9961\n",
      "Epoch 750/1000\n",
      "514/514 [==============================] - 0s 111us/step - loss: 0.0157 - acc: 0.9961\n",
      "Epoch 751/1000\n",
      "514/514 [==============================] - 0s 109us/step - loss: 0.0166 - acc: 0.9981\n",
      "Epoch 752/1000\n",
      "514/514 [==============================] - 0s 102us/step - loss: 0.0177 - acc: 0.9961\n",
      "Epoch 753/1000\n",
      "514/514 [==============================] - 0s 101us/step - loss: 0.0214 - acc: 0.9922\n",
      "Epoch 754/1000\n",
      "514/514 [==============================] - 0s 101us/step - loss: 0.0215 - acc: 0.9922\n",
      "Epoch 755/1000\n",
      "514/514 [==============================] - 0s 102us/step - loss: 0.0259 - acc: 0.9903\n",
      "Epoch 756/1000\n",
      "514/514 [==============================] - 0s 97us/step - loss: 0.0346 - acc: 0.9922\n",
      "Epoch 757/1000\n",
      "514/514 [==============================] - 0s 99us/step - loss: 0.1167 - acc: 0.9747\n",
      "Epoch 758/1000\n",
      "514/514 [==============================] - 0s 102us/step - loss: 0.0751 - acc: 0.9825\n",
      "Epoch 759/1000\n",
      "514/514 [==============================] - 0s 99us/step - loss: 0.0236 - acc: 0.9922\n",
      "Epoch 760/1000\n",
      "514/514 [==============================] - 0s 116us/step - loss: 0.0223 - acc: 0.9922\n",
      "Epoch 761/1000\n",
      "514/514 [==============================] - 0s 99us/step - loss: 0.0228 - acc: 0.9942\n",
      "Epoch 762/1000\n",
      "514/514 [==============================] - 0s 99us/step - loss: 0.0187 - acc: 0.9922\n",
      "Epoch 763/1000\n",
      "514/514 [==============================] - 0s 97us/step - loss: 0.0173 - acc: 0.9961\n",
      "Epoch 764/1000\n",
      "514/514 [==============================] - 0s 104us/step - loss: 0.0177 - acc: 0.9922\n",
      "Epoch 765/1000\n",
      "514/514 [==============================] - 0s 101us/step - loss: 0.0186 - acc: 0.9942\n",
      "Epoch 766/1000\n",
      "514/514 [==============================] - 0s 100us/step - loss: 0.0176 - acc: 0.9961\n",
      "Epoch 767/1000\n",
      "514/514 [==============================] - 0s 102us/step - loss: 0.0187 - acc: 0.9942\n",
      "Epoch 768/1000\n",
      "514/514 [==============================] - 0s 106us/step - loss: 0.0191 - acc: 0.9942\n",
      "Epoch 769/1000\n",
      "514/514 [==============================] - 0s 111us/step - loss: 0.0154 - acc: 0.9981\n",
      "Epoch 770/1000\n",
      "514/514 [==============================] - 0s 99us/step - loss: 0.0171 - acc: 0.9961\n",
      "Epoch 771/1000\n",
      "514/514 [==============================] - 0s 105us/step - loss: 0.0159 - acc: 0.9981\n",
      "Epoch 772/1000\n",
      "514/514 [==============================] - 0s 108us/step - loss: 0.0164 - acc: 0.9942\n",
      "Epoch 773/1000\n",
      "514/514 [==============================] - 0s 100us/step - loss: 0.0166 - acc: 0.9942\n",
      "Epoch 774/1000\n",
      "514/514 [==============================] - 0s 103us/step - loss: 0.0171 - acc: 0.9961\n",
      "Epoch 775/1000\n",
      "514/514 [==============================] - 0s 100us/step - loss: 0.0169 - acc: 0.9942\n",
      "Epoch 776/1000\n",
      "514/514 [==============================] - 0s 109us/step - loss: 0.0172 - acc: 0.9942\n",
      "Epoch 777/1000\n",
      "514/514 [==============================] - 0s 115us/step - loss: 0.0175 - acc: 0.9942\n",
      "Epoch 778/1000\n",
      "514/514 [==============================] - 0s 101us/step - loss: 0.0202 - acc: 0.9942\n",
      "Epoch 779/1000\n",
      "514/514 [==============================] - 0s 98us/step - loss: 0.0170 - acc: 0.9942\n",
      "Epoch 780/1000\n",
      "514/514 [==============================] - 0s 100us/step - loss: 0.0166 - acc: 0.9942\n",
      "Epoch 781/1000\n",
      "514/514 [==============================] - 0s 118us/step - loss: 0.0206 - acc: 0.9922\n",
      "Epoch 782/1000\n",
      "514/514 [==============================] - 0s 100us/step - loss: 0.0194 - acc: 0.9942\n",
      "Epoch 783/1000\n",
      "514/514 [==============================] - 0s 113us/step - loss: 0.0154 - acc: 0.9981\n",
      "Epoch 784/1000\n",
      "514/514 [==============================] - 0s 102us/step - loss: 0.0183 - acc: 0.9942\n",
      "Epoch 785/1000\n",
      "514/514 [==============================] - 0s 103us/step - loss: 0.0235 - acc: 0.9883\n",
      "Epoch 786/1000\n",
      "514/514 [==============================] - 0s 110us/step - loss: 0.0165 - acc: 0.9942\n",
      "Epoch 787/1000\n",
      "514/514 [==============================] - 0s 109us/step - loss: 0.0209 - acc: 0.9942\n",
      "Epoch 788/1000\n",
      "514/514 [==============================] - 0s 100us/step - loss: 0.0221 - acc: 0.9922\n",
      "Epoch 789/1000\n",
      "514/514 [==============================] - 0s 105us/step - loss: 0.0219 - acc: 0.9942\n",
      "Epoch 790/1000\n",
      "514/514 [==============================] - 0s 112us/step - loss: 0.0242 - acc: 0.9903\n",
      "Epoch 791/1000\n",
      "514/514 [==============================] - 0s 103us/step - loss: 0.0213 - acc: 0.9942\n",
      "Epoch 792/1000\n",
      "514/514 [==============================] - 0s 111us/step - loss: 0.0210 - acc: 0.9922\n",
      "Epoch 793/1000\n",
      "514/514 [==============================] - 0s 102us/step - loss: 0.0172 - acc: 0.9981\n",
      "Epoch 794/1000\n",
      "514/514 [==============================] - 0s 101us/step - loss: 0.0187 - acc: 0.9942\n",
      "Epoch 795/1000\n",
      "514/514 [==============================] - 0s 101us/step - loss: 0.0176 - acc: 0.9961\n",
      "Epoch 796/1000\n",
      "514/514 [==============================] - 0s 103us/step - loss: 0.0184 - acc: 0.9942\n",
      "Epoch 797/1000\n",
      "514/514 [==============================] - 0s 113us/step - loss: 0.0158 - acc: 0.9961\n",
      "Epoch 798/1000\n",
      "514/514 [==============================] - 0s 101us/step - loss: 0.0194 - acc: 0.9922\n",
      "Epoch 799/1000\n",
      "514/514 [==============================] - 0s 108us/step - loss: 0.0204 - acc: 0.9922\n",
      "Epoch 800/1000\n",
      "514/514 [==============================] - 0s 114us/step - loss: 0.0262 - acc: 0.9903\n",
      "Epoch 801/1000\n",
      "514/514 [==============================] - 0s 111us/step - loss: 0.0345 - acc: 0.9903\n",
      "Epoch 802/1000\n",
      "514/514 [==============================] - 0s 108us/step - loss: 0.0424 - acc: 0.9903\n",
      "Epoch 803/1000\n",
      "514/514 [==============================] - 0s 107us/step - loss: 0.0470 - acc: 0.9864\n",
      "Epoch 804/1000\n",
      "514/514 [==============================] - 0s 99us/step - loss: 0.0457 - acc: 0.9864\n",
      "Epoch 805/1000\n",
      "514/514 [==============================] - 0s 100us/step - loss: 0.0516 - acc: 0.9844\n",
      "Epoch 806/1000\n",
      "514/514 [==============================] - 0s 108us/step - loss: 0.0216 - acc: 0.9903\n",
      "Epoch 807/1000\n",
      "514/514 [==============================] - 0s 101us/step - loss: 0.0179 - acc: 0.9961\n",
      "Epoch 808/1000\n",
      "514/514 [==============================] - 0s 108us/step - loss: 0.0160 - acc: 0.9961\n",
      "Epoch 809/1000\n",
      "514/514 [==============================] - 0s 111us/step - loss: 0.0169 - acc: 0.9961\n",
      "Epoch 810/1000\n",
      "514/514 [==============================] - 0s 100us/step - loss: 0.0170 - acc: 0.9961\n",
      "Epoch 811/1000\n",
      "514/514 [==============================] - 0s 102us/step - loss: 0.0180 - acc: 0.9981\n",
      "Epoch 812/1000\n"
     ]
    },
    {
     "name": "stdout",
     "output_type": "stream",
     "text": [
      "514/514 [==============================] - 0s 110us/step - loss: 0.0173 - acc: 0.9961\n",
      "Epoch 813/1000\n",
      "514/514 [==============================] - 0s 105us/step - loss: 0.0145 - acc: 0.9961\n",
      "Epoch 814/1000\n",
      "514/514 [==============================] - 0s 101us/step - loss: 0.0158 - acc: 0.9942\n",
      "Epoch 815/1000\n",
      "514/514 [==============================] - 0s 103us/step - loss: 0.0142 - acc: 0.9981\n",
      "Epoch 816/1000\n",
      "514/514 [==============================] - 0s 98us/step - loss: 0.0184 - acc: 0.9942\n",
      "Epoch 817/1000\n",
      "514/514 [==============================] - 0s 100us/step - loss: 0.0155 - acc: 0.9961\n",
      "Epoch 818/1000\n",
      "514/514 [==============================] - 0s 106us/step - loss: 0.0190 - acc: 0.9922\n",
      "Epoch 819/1000\n",
      "514/514 [==============================] - 0s 111us/step - loss: 0.0222 - acc: 0.9922\n",
      "Epoch 820/1000\n",
      "514/514 [==============================] - 0s 106us/step - loss: 0.0198 - acc: 0.9942\n",
      "Epoch 821/1000\n",
      "514/514 [==============================] - 0s 100us/step - loss: 0.0164 - acc: 0.9922\n",
      "Epoch 822/1000\n",
      "514/514 [==============================] - 0s 99us/step - loss: 0.0162 - acc: 0.9961\n",
      "Epoch 823/1000\n",
      "514/514 [==============================] - 0s 99us/step - loss: 0.0193 - acc: 0.9942\n",
      "Epoch 824/1000\n",
      "514/514 [==============================] - 0s 115us/step - loss: 0.0144 - acc: 0.9981\n",
      "Epoch 825/1000\n",
      "514/514 [==============================] - 0s 102us/step - loss: 0.0165 - acc: 0.9961\n",
      "Epoch 826/1000\n",
      "514/514 [==============================] - 0s 102us/step - loss: 0.0144 - acc: 0.9942\n",
      "Epoch 827/1000\n",
      "514/514 [==============================] - 0s 97us/step - loss: 0.0195 - acc: 0.9961\n",
      "Epoch 828/1000\n",
      "514/514 [==============================] - 0s 100us/step - loss: 0.0169 - acc: 0.9961\n",
      "Epoch 829/1000\n",
      "514/514 [==============================] - 0s 108us/step - loss: 0.0147 - acc: 0.9922\n",
      "Epoch 830/1000\n",
      "514/514 [==============================] - 0s 99us/step - loss: 0.0187 - acc: 0.9903\n",
      "Epoch 831/1000\n",
      "514/514 [==============================] - 0s 100us/step - loss: 0.0175 - acc: 0.9942\n",
      "Epoch 832/1000\n",
      "514/514 [==============================] - 0s 100us/step - loss: 0.0338 - acc: 0.9883\n",
      "Epoch 833/1000\n",
      "514/514 [==============================] - 0s 99us/step - loss: 0.0317 - acc: 0.9864\n",
      "Epoch 834/1000\n",
      "514/514 [==============================] - 0s 105us/step - loss: 0.0377 - acc: 0.9883\n",
      "Epoch 835/1000\n",
      "514/514 [==============================] - 0s 114us/step - loss: 0.0729 - acc: 0.9747\n",
      "Epoch 836/1000\n",
      "514/514 [==============================] - 0s 102us/step - loss: 0.1096 - acc: 0.9533\n",
      "Epoch 837/1000\n",
      "514/514 [==============================] - 0s 101us/step - loss: 0.1396 - acc: 0.9650\n",
      "Epoch 838/1000\n",
      "514/514 [==============================] - 0s 108us/step - loss: 0.0992 - acc: 0.9747\n",
      "Epoch 839/1000\n",
      "514/514 [==============================] - 0s 100us/step - loss: 0.0853 - acc: 0.9767\n",
      "Epoch 840/1000\n",
      "514/514 [==============================] - 0s 109us/step - loss: 0.0739 - acc: 0.9883\n",
      "Epoch 841/1000\n",
      "514/514 [==============================] - 0s 100us/step - loss: 0.0881 - acc: 0.9728\n",
      "Epoch 842/1000\n",
      "514/514 [==============================] - 0s 98us/step - loss: 0.0429 - acc: 0.9864\n",
      "Epoch 843/1000\n",
      "514/514 [==============================] - 0s 101us/step - loss: 0.0179 - acc: 0.9981\n",
      "Epoch 844/1000\n",
      "514/514 [==============================] - 0s 100us/step - loss: 0.0177 - acc: 0.9942\n",
      "Epoch 845/1000\n",
      "514/514 [==============================] - 0s 100us/step - loss: 0.0170 - acc: 0.9961\n",
      "Epoch 846/1000\n",
      "514/514 [==============================] - 0s 105us/step - loss: 0.0189 - acc: 0.9942\n",
      "Epoch 847/1000\n",
      "514/514 [==============================] - 0s 101us/step - loss: 0.0173 - acc: 0.9961\n",
      "Epoch 848/1000\n",
      "514/514 [==============================] - 0s 112us/step - loss: 0.0156 - acc: 0.9961\n",
      "Epoch 849/1000\n",
      "514/514 [==============================] - 0s 107us/step - loss: 0.0162 - acc: 0.9961\n",
      "Epoch 850/1000\n",
      "514/514 [==============================] - 0s 101us/step - loss: 0.0144 - acc: 0.9961\n",
      "Epoch 851/1000\n",
      "514/514 [==============================] - 0s 100us/step - loss: 0.0227 - acc: 0.9942\n",
      "Epoch 852/1000\n",
      "514/514 [==============================] - 0s 101us/step - loss: 0.0171 - acc: 0.9961\n",
      "Epoch 853/1000\n",
      "514/514 [==============================] - 0s 108us/step - loss: 0.0155 - acc: 0.9942\n",
      "Epoch 854/1000\n",
      "514/514 [==============================] - 0s 101us/step - loss: 0.0146 - acc: 0.9961\n",
      "Epoch 855/1000\n",
      "514/514 [==============================] - 0s 98us/step - loss: 0.0157 - acc: 0.9942\n",
      "Epoch 856/1000\n",
      "514/514 [==============================] - 0s 98us/step - loss: 0.0154 - acc: 0.9961\n",
      "Epoch 857/1000\n",
      "514/514 [==============================] - 0s 110us/step - loss: 0.0176 - acc: 0.9961\n",
      "Epoch 858/1000\n",
      "514/514 [==============================] - 0s 100us/step - loss: 0.0142 - acc: 0.9981\n",
      "Epoch 859/1000\n",
      "514/514 [==============================] - 0s 100us/step - loss: 0.0140 - acc: 0.9922\n",
      "Epoch 860/1000\n",
      "514/514 [==============================] - 0s 99us/step - loss: 0.0144 - acc: 0.9961\n",
      "Epoch 861/1000\n",
      "514/514 [==============================] - 0s 101us/step - loss: 0.0172 - acc: 0.9942\n",
      "Epoch 862/1000\n",
      "514/514 [==============================] - 0s 99us/step - loss: 0.0134 - acc: 0.9981\n",
      "Epoch 863/1000\n",
      "514/514 [==============================] - 0s 111us/step - loss: 0.0144 - acc: 0.9961\n",
      "Epoch 864/1000\n",
      "514/514 [==============================] - 0s 102us/step - loss: 0.0136 - acc: 0.9942\n",
      "Epoch 865/1000\n",
      "514/514 [==============================] - 0s 103us/step - loss: 0.0150 - acc: 0.9942\n",
      "Epoch 866/1000\n",
      "514/514 [==============================] - 0s 104us/step - loss: 0.0165 - acc: 0.9942\n",
      "Epoch 867/1000\n",
      "514/514 [==============================] - 0s 101us/step - loss: 0.0206 - acc: 0.9883\n",
      "Epoch 868/1000\n",
      "514/514 [==============================] - 0s 100us/step - loss: 0.0152 - acc: 0.9981\n",
      "Epoch 869/1000\n",
      "514/514 [==============================] - 0s 114us/step - loss: 0.0145 - acc: 0.9961\n",
      "Epoch 870/1000\n",
      "514/514 [==============================] - 0s 111us/step - loss: 0.0207 - acc: 0.9922\n",
      "Epoch 871/1000\n",
      "514/514 [==============================] - 0s 104us/step - loss: 0.0156 - acc: 0.9961\n",
      "Epoch 872/1000\n",
      "514/514 [==============================] - 0s 102us/step - loss: 0.0143 - acc: 0.9942\n",
      "Epoch 873/1000\n",
      "514/514 [==============================] - 0s 97us/step - loss: 0.0136 - acc: 0.9961\n",
      "Epoch 874/1000\n",
      "514/514 [==============================] - 0s 102us/step - loss: 0.0195 - acc: 0.9922\n",
      "Epoch 875/1000\n",
      "514/514 [==============================] - 0s 111us/step - loss: 0.0142 - acc: 0.9961\n",
      "Epoch 876/1000\n",
      "514/514 [==============================] - 0s 107us/step - loss: 0.0163 - acc: 0.9961\n",
      "Epoch 877/1000\n",
      "514/514 [==============================] - 0s 112us/step - loss: 0.0143 - acc: 0.9961\n",
      "Epoch 878/1000\n",
      "514/514 [==============================] - 0s 100us/step - loss: 0.0162 - acc: 0.9903\n",
      "Epoch 879/1000\n",
      "514/514 [==============================] - 0s 104us/step - loss: 0.0146 - acc: 0.9961\n",
      "Epoch 880/1000\n",
      "514/514 [==============================] - 0s 118us/step - loss: 0.0155 - acc: 0.9942\n",
      "Epoch 881/1000\n",
      "514/514 [==============================] - 0s 99us/step - loss: 0.0140 - acc: 0.9961\n",
      "Epoch 882/1000\n",
      "514/514 [==============================] - 0s 104us/step - loss: 0.0143 - acc: 0.9922\n",
      "Epoch 883/1000\n",
      "514/514 [==============================] - 0s 113us/step - loss: 0.0209 - acc: 0.9922\n",
      "Epoch 884/1000\n",
      "514/514 [==============================] - 0s 107us/step - loss: 0.0193 - acc: 0.9883\n",
      "Epoch 885/1000\n",
      "514/514 [==============================] - 0s 99us/step - loss: 0.0808 - acc: 0.9728\n",
      "Epoch 886/1000\n",
      "514/514 [==============================] - 0s 99us/step - loss: 0.1091 - acc: 0.9689\n",
      "Epoch 887/1000\n",
      "514/514 [==============================] - 0s 108us/step - loss: 0.0914 - acc: 0.9728\n",
      "Epoch 888/1000\n",
      "514/514 [==============================] - 0s 100us/step - loss: 0.0697 - acc: 0.9728\n",
      "Epoch 889/1000\n",
      "514/514 [==============================] - 0s 109us/step - loss: 0.0265 - acc: 0.9903\n",
      "Epoch 890/1000\n",
      "514/514 [==============================] - 0s 116us/step - loss: 0.0195 - acc: 0.9942\n",
      "Epoch 891/1000\n",
      "514/514 [==============================] - 0s 99us/step - loss: 0.0162 - acc: 0.9981\n",
      "Epoch 892/1000\n",
      "514/514 [==============================] - 0s 100us/step - loss: 0.0222 - acc: 0.9922\n",
      "Epoch 893/1000\n"
     ]
    },
    {
     "name": "stdout",
     "output_type": "stream",
     "text": [
      "514/514 [==============================] - 0s 107us/step - loss: 0.0146 - acc: 0.9981\n",
      "Epoch 894/1000\n",
      "514/514 [==============================] - 0s 113us/step - loss: 0.0161 - acc: 0.9922\n",
      "Epoch 895/1000\n",
      "514/514 [==============================] - 0s 101us/step - loss: 0.0137 - acc: 0.9961\n",
      "Epoch 896/1000\n",
      "514/514 [==============================] - 0s 100us/step - loss: 0.0157 - acc: 0.9942\n",
      "Epoch 897/1000\n",
      "514/514 [==============================] - 0s 108us/step - loss: 0.0141 - acc: 0.9981\n",
      "Epoch 898/1000\n",
      "514/514 [==============================] - 0s 104us/step - loss: 0.0166 - acc: 0.9903\n",
      "Epoch 899/1000\n",
      "514/514 [==============================] - 0s 101us/step - loss: 0.0141 - acc: 0.9961\n",
      "Epoch 900/1000\n",
      "514/514 [==============================] - 0s 103us/step - loss: 0.0160 - acc: 0.9961\n",
      "Epoch 901/1000\n",
      "514/514 [==============================] - 0s 98us/step - loss: 0.0137 - acc: 0.9942\n",
      "Epoch 902/1000\n",
      "514/514 [==============================] - 0s 100us/step - loss: 0.0192 - acc: 0.9942\n",
      "Epoch 903/1000\n",
      "514/514 [==============================] - 0s 101us/step - loss: 0.0159 - acc: 0.9922\n",
      "Epoch 904/1000\n",
      "514/514 [==============================] - 0s 100us/step - loss: 0.0185 - acc: 0.9922\n",
      "Epoch 905/1000\n",
      "514/514 [==============================] - 0s 102us/step - loss: 0.0173 - acc: 0.9961\n",
      "Epoch 906/1000\n",
      "514/514 [==============================] - 0s 102us/step - loss: 0.0153 - acc: 0.9922\n",
      "Epoch 907/1000\n",
      "514/514 [==============================] - 0s 102us/step - loss: 0.0140 - acc: 0.9942\n",
      "Epoch 908/1000\n",
      "514/514 [==============================] - 0s 100us/step - loss: 0.0262 - acc: 0.9922\n",
      "Epoch 909/1000\n",
      "514/514 [==============================] - 0s 97us/step - loss: 0.0259 - acc: 0.9942\n",
      "Epoch 910/1000\n",
      "514/514 [==============================] - 0s 104us/step - loss: 0.0214 - acc: 0.9942\n",
      "Epoch 911/1000\n",
      "514/514 [==============================] - 0s 102us/step - loss: 0.0139 - acc: 0.9961\n",
      "Epoch 912/1000\n",
      "514/514 [==============================] - 0s 107us/step - loss: 0.0154 - acc: 0.9961\n",
      "Epoch 913/1000\n",
      "514/514 [==============================] - 0s 109us/step - loss: 0.0139 - acc: 0.9961\n",
      "Epoch 914/1000\n",
      "514/514 [==============================] - 0s 97us/step - loss: 0.0162 - acc: 0.9942\n",
      "Epoch 915/1000\n",
      "514/514 [==============================] - 0s 113us/step - loss: 0.0130 - acc: 0.9961\n",
      "Epoch 916/1000\n",
      "514/514 [==============================] - 0s 98us/step - loss: 0.0146 - acc: 0.9961\n",
      "Epoch 917/1000\n",
      "514/514 [==============================] - 0s 104us/step - loss: 0.0224 - acc: 0.9903\n",
      "Epoch 918/1000\n",
      "514/514 [==============================] - 0s 102us/step - loss: 0.0160 - acc: 0.9922\n",
      "Epoch 919/1000\n",
      "514/514 [==============================] - 0s 112us/step - loss: 0.0138 - acc: 0.9981\n",
      "Epoch 920/1000\n",
      "514/514 [==============================] - 0s 100us/step - loss: 0.0128 - acc: 0.9961\n",
      "Epoch 921/1000\n",
      "514/514 [==============================] - 0s 101us/step - loss: 0.0149 - acc: 0.9961\n",
      "Epoch 922/1000\n",
      "514/514 [==============================] - 0s 109us/step - loss: 0.0133 - acc: 0.9961\n",
      "Epoch 923/1000\n",
      "514/514 [==============================] - 0s 102us/step - loss: 0.0128 - acc: 0.9981\n",
      "Epoch 924/1000\n",
      "514/514 [==============================] - 0s 98us/step - loss: 0.0130 - acc: 0.9942\n",
      "Epoch 925/1000\n",
      "514/514 [==============================] - 0s 100us/step - loss: 0.0116 - acc: 0.9961\n",
      "Epoch 926/1000\n",
      "514/514 [==============================] - 0s 100us/step - loss: 0.0148 - acc: 0.9942\n",
      "Epoch 927/1000\n",
      "514/514 [==============================] - 0s 102us/step - loss: 0.0134 - acc: 0.9942\n",
      "Epoch 928/1000\n",
      "514/514 [==============================] - 0s 109us/step - loss: 0.0145 - acc: 0.9961\n",
      "Epoch 929/1000\n",
      "514/514 [==============================] - 0s 101us/step - loss: 0.0135 - acc: 0.9961\n",
      "Epoch 930/1000\n",
      "514/514 [==============================] - 0s 118us/step - loss: 0.0117 - acc: 0.9961\n",
      "Epoch 931/1000\n",
      "514/514 [==============================] - 0s 107us/step - loss: 0.0151 - acc: 0.9922\n",
      "Epoch 932/1000\n",
      "514/514 [==============================] - 0s 107us/step - loss: 0.0177 - acc: 0.9922\n",
      "Epoch 933/1000\n",
      "514/514 [==============================] - 0s 102us/step - loss: 0.0149 - acc: 0.9942\n",
      "Epoch 934/1000\n",
      "514/514 [==============================] - 0s 101us/step - loss: 0.0178 - acc: 0.9922\n",
      "Epoch 935/1000\n",
      "514/514 [==============================] - 0s 98us/step - loss: 0.0340 - acc: 0.9883\n",
      "Epoch 936/1000\n",
      "514/514 [==============================] - 0s 99us/step - loss: 0.0829 - acc: 0.9708\n",
      "Epoch 937/1000\n",
      "514/514 [==============================] - 0s 100us/step - loss: 0.0249 - acc: 0.9864\n",
      "Epoch 938/1000\n",
      "514/514 [==============================] - 0s 101us/step - loss: 0.0190 - acc: 0.9942\n",
      "Epoch 939/1000\n",
      "514/514 [==============================] - 0s 101us/step - loss: 0.0128 - acc: 0.9961\n",
      "Epoch 940/1000\n",
      "514/514 [==============================] - 0s 96us/step - loss: 0.0158 - acc: 0.9942\n",
      "Epoch 941/1000\n",
      "514/514 [==============================] - 0s 98us/step - loss: 0.0110 - acc: 0.9981\n",
      "Epoch 942/1000\n",
      "514/514 [==============================] - 0s 99us/step - loss: 0.0175 - acc: 0.9942\n",
      "Epoch 943/1000\n",
      "514/514 [==============================] - 0s 114us/step - loss: 0.0129 - acc: 0.9961\n",
      "Epoch 944/1000\n",
      "514/514 [==============================] - 0s 110us/step - loss: 0.0125 - acc: 0.9961\n",
      "Epoch 945/1000\n",
      "514/514 [==============================] - 0s 99us/step - loss: 0.0129 - acc: 0.9961\n",
      "Epoch 946/1000\n",
      "514/514 [==============================] - 0s 104us/step - loss: 0.0158 - acc: 0.9922\n",
      "Epoch 947/1000\n",
      "514/514 [==============================] - 0s 104us/step - loss: 0.0136 - acc: 0.9961\n",
      "Epoch 948/1000\n",
      "514/514 [==============================] - 0s 101us/step - loss: 0.0121 - acc: 0.9961\n",
      "Epoch 949/1000\n",
      "514/514 [==============================] - 0s 101us/step - loss: 0.0111 - acc: 0.9981\n",
      "Epoch 950/1000\n",
      "514/514 [==============================] - 0s 101us/step - loss: 0.0175 - acc: 0.9942\n",
      "Epoch 951/1000\n",
      "514/514 [==============================] - 0s 104us/step - loss: 0.0134 - acc: 0.9961\n",
      "Epoch 952/1000\n",
      "514/514 [==============================] - 0s 99us/step - loss: 0.0154 - acc: 0.9942\n",
      "Epoch 953/1000\n",
      "514/514 [==============================] - 0s 100us/step - loss: 0.0143 - acc: 0.9961\n",
      "Epoch 954/1000\n",
      "514/514 [==============================] - 0s 101us/step - loss: 0.0140 - acc: 0.9961\n",
      "Epoch 955/1000\n",
      "514/514 [==============================] - 0s 106us/step - loss: 0.0121 - acc: 0.9942\n",
      "Epoch 956/1000\n",
      "514/514 [==============================] - 0s 108us/step - loss: 0.0182 - acc: 0.9942\n",
      "Epoch 957/1000\n",
      "514/514 [==============================] - 0s 105us/step - loss: 0.0141 - acc: 0.9942\n",
      "Epoch 958/1000\n",
      "514/514 [==============================] - 0s 110us/step - loss: 0.0145 - acc: 0.9922\n",
      "Epoch 959/1000\n",
      "514/514 [==============================] - 0s 109us/step - loss: 0.0196 - acc: 0.9961\n",
      "Epoch 960/1000\n",
      "514/514 [==============================] - 0s 101us/step - loss: 0.0932 - acc: 0.9669\n",
      "Epoch 961/1000\n",
      "514/514 [==============================] - 0s 117us/step - loss: 0.1587 - acc: 0.9377\n",
      "Epoch 962/1000\n",
      "514/514 [==============================] - 0s 101us/step - loss: 0.0779 - acc: 0.9728\n",
      "Epoch 963/1000\n",
      "514/514 [==============================] - 0s 111us/step - loss: 0.0572 - acc: 0.9844\n",
      "Epoch 964/1000\n",
      "514/514 [==============================] - 0s 125us/step - loss: 0.0478 - acc: 0.9942\n",
      "Epoch 965/1000\n",
      "514/514 [==============================] - 0s 111us/step - loss: 0.0473 - acc: 0.9942\n",
      "Epoch 966/1000\n",
      "514/514 [==============================] - 0s 117us/step - loss: 0.0454 - acc: 0.9922\n",
      "Epoch 967/1000\n",
      "514/514 [==============================] - 0s 101us/step - loss: 0.0478 - acc: 0.9922\n",
      "Epoch 968/1000\n",
      "514/514 [==============================] - 0s 107us/step - loss: 0.0444 - acc: 0.9942\n",
      "Epoch 969/1000\n",
      "514/514 [==============================] - 0s 117us/step - loss: 0.0451 - acc: 0.9942\n",
      "Epoch 970/1000\n",
      "514/514 [==============================] - 0s 99us/step - loss: 0.0447 - acc: 0.9961\n",
      "Epoch 971/1000\n",
      "514/514 [==============================] - 0s 105us/step - loss: 0.0463 - acc: 0.9922\n",
      "Epoch 972/1000\n",
      "514/514 [==============================] - 0s 99us/step - loss: 0.0447 - acc: 0.9942\n",
      "Epoch 973/1000\n",
      "514/514 [==============================] - 0s 103us/step - loss: 0.0454 - acc: 0.9922\n",
      "Epoch 974/1000\n"
     ]
    },
    {
     "name": "stdout",
     "output_type": "stream",
     "text": [
      "514/514 [==============================] - 0s 101us/step - loss: 0.0447 - acc: 0.9942\n",
      "Epoch 975/1000\n",
      "514/514 [==============================] - 0s 103us/step - loss: 0.0443 - acc: 0.9922\n",
      "Epoch 976/1000\n",
      "514/514 [==============================] - 0s 104us/step - loss: 0.0503 - acc: 0.9903\n",
      "Epoch 977/1000\n",
      "514/514 [==============================] - 0s 100us/step - loss: 0.0466 - acc: 0.9903\n",
      "Epoch 978/1000\n",
      "514/514 [==============================] - 0s 98us/step - loss: 0.0444 - acc: 0.9922\n",
      "Epoch 979/1000\n",
      "514/514 [==============================] - 0s 101us/step - loss: 0.0465 - acc: 0.9961\n",
      "Epoch 980/1000\n",
      "514/514 [==============================] - 0s 99us/step - loss: 0.0460 - acc: 0.9922\n",
      "Epoch 981/1000\n",
      "514/514 [==============================] - 0s 105us/step - loss: 0.0454 - acc: 0.9942\n",
      "Epoch 982/1000\n",
      "514/514 [==============================] - 0s 97us/step - loss: 0.0542 - acc: 0.9883\n",
      "Epoch 983/1000\n",
      "514/514 [==============================] - 0s 111us/step - loss: 0.0442 - acc: 0.9922\n",
      "Epoch 984/1000\n",
      "514/514 [==============================] - 0s 101us/step - loss: 0.0428 - acc: 0.9961\n",
      "Epoch 985/1000\n",
      "514/514 [==============================] - 0s 99us/step - loss: 0.0475 - acc: 0.9903\n",
      "Epoch 986/1000\n",
      "514/514 [==============================] - 0s 99us/step - loss: 0.0425 - acc: 0.9942\n",
      "Epoch 987/1000\n",
      "514/514 [==============================] - 0s 117us/step - loss: 0.0433 - acc: 0.9961\n",
      "Epoch 988/1000\n",
      "514/514 [==============================] - 0s 99us/step - loss: 0.0447 - acc: 0.9922\n",
      "Epoch 989/1000\n",
      "514/514 [==============================] - 0s 99us/step - loss: 0.0446 - acc: 0.9961\n",
      "Epoch 990/1000\n",
      "514/514 [==============================] - 0s 100us/step - loss: 0.0618 - acc: 0.9844\n",
      "Epoch 991/1000\n",
      "514/514 [==============================] - 0s 101us/step - loss: 0.0611 - acc: 0.9883\n",
      "Epoch 992/1000\n",
      "514/514 [==============================] - 0s 107us/step - loss: 0.1435 - acc: 0.9630\n",
      "Epoch 993/1000\n",
      "514/514 [==============================] - 0s 103us/step - loss: 0.0384 - acc: 0.9864\n",
      "Epoch 994/1000\n",
      "514/514 [==============================] - 0s 97us/step - loss: 0.0251 - acc: 0.9942\n",
      "Epoch 995/1000\n",
      "514/514 [==============================] - 0s 101us/step - loss: 0.0184 - acc: 0.9922\n",
      "Epoch 996/1000\n",
      "514/514 [==============================] - 0s 102us/step - loss: 0.0138 - acc: 0.9961\n",
      "Epoch 997/1000\n",
      "514/514 [==============================] - 0s 107us/step - loss: 0.0137 - acc: 0.9961\n",
      "Epoch 998/1000\n",
      "514/514 [==============================] - 0s 103us/step - loss: 0.0115 - acc: 0.9981\n",
      "Epoch 999/1000\n",
      "514/514 [==============================] - 0s 102us/step - loss: 0.0123 - acc: 0.9961\n",
      "Epoch 1000/1000\n",
      "514/514 [==============================] - 0s 104us/step - loss: 0.0140 - acc: 0.9942\n"
     ]
    },
    {
     "data": {
      "text/plain": [
       "<keras.callbacks.History at 0x7f95d3819cf8>"
      ]
     },
     "execution_count": 251,
     "metadata": {},
     "output_type": "execute_result"
    }
   ],
   "source": [
    "model.fit(X_train, y_train, epochs=1000, batch_size=10)"
   ]
  },
  {
   "cell_type": "markdown",
   "metadata": {},
   "source": [
    "Оценим результат обучения нейронной сети. Метод evaluate() возвращает значения функции потерь и метрики для обученной модели:"
   ]
  },
  {
   "cell_type": "code",
   "execution_count": 252,
   "metadata": {},
   "outputs": [
    {
     "name": "stdout",
     "output_type": "stream",
     "text": [
      "514/514 [==============================] - 0s 252us/step\n",
      "\n",
      "acc: 99.81%\n"
     ]
    }
   ],
   "source": [
    "scores=model.evaluate(X_train,y_train)\n",
    "print(\"\\n%s: %.2f%%\" % (model.metrics_names[1], scores[1]*100))"
   ]
  },
  {
   "cell_type": "code",
   "execution_count": 253,
   "metadata": {},
   "outputs": [],
   "source": [
    "model_pred=model.predict_classes(X_test,batch_size=10,)"
   ]
  },
  {
   "cell_type": "code",
   "execution_count": 254,
   "metadata": {},
   "outputs": [
    {
     "data": {
      "text/plain": [
       "0.6247231450719823"
      ]
     },
     "execution_count": 254,
     "metadata": {},
     "output_type": "execute_result"
    }
   ],
   "source": [
    "roc_auc_score(y_test, model_pred)"
   ]
  },
  {
   "cell_type": "markdown",
   "metadata": {},
   "source": [
    "#  Tensorflow"
   ]
  },
  {
   "cell_type": "code",
   "execution_count": 233,
   "metadata": {},
   "outputs": [
    {
     "ename": "NameError",
     "evalue": "name 'X_test_shape' is not defined",
     "output_type": "error",
     "traceback": [
      "\u001b[0;31m---------------------------------------------------------------------------\u001b[0m",
      "\u001b[0;31mNameError\u001b[0m                                 Traceback (most recent call last)",
      "\u001b[0;32m<ipython-input-233-6513bf7f95fe>\u001b[0m in \u001b[0;36m<module>\u001b[0;34m\u001b[0m\n\u001b[0;32m----> 1\u001b[0;31m \u001b[0mX_train\u001b[0m\u001b[0;34m.\u001b[0m\u001b[0mshape\u001b[0m\u001b[0;34m,\u001b[0m \u001b[0my_train\u001b[0m\u001b[0;34m.\u001b[0m\u001b[0mshape\u001b[0m\u001b[0;34m,\u001b[0m \u001b[0mX_test_shape\u001b[0m\u001b[0;34m,\u001b[0m \u001b[0my_test\u001b[0m\u001b[0;34m.\u001b[0m\u001b[0mshape\u001b[0m\u001b[0;34m\u001b[0m\u001b[0m\n\u001b[0m",
      "\u001b[0;31mNameError\u001b[0m: name 'X_test_shape' is not defined"
     ]
    }
   ],
   "source": [
    "X_train.shape, y_train.shape, X_test_shape, y_test.shape"
   ]
  },
  {
   "cell_type": "code",
   "execution_count": null,
   "metadata": {},
   "outputs": [],
   "source": []
  }
 ],
 "metadata": {
  "kernelspec": {
   "display_name": "Python 3",
   "language": "python",
   "name": "python3"
  },
  "language_info": {
   "codemirror_mode": {
    "name": "ipython",
    "version": 3
   },
   "file_extension": ".py",
   "mimetype": "text/x-python",
   "name": "python",
   "nbconvert_exporter": "python",
   "pygments_lexer": "ipython3",
   "version": "3.6.6"
  }
 },
 "nbformat": 4,
 "nbformat_minor": 2
}
