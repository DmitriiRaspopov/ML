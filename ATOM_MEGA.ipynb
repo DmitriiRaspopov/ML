{
 "cells": [
  {
   "cell_type": "code",
   "execution_count": 1,
   "metadata": {},
   "outputs": [],
   "source": [
    "import pandas as pd\n",
    "import numpy as np\n",
    "import matplotlib.pyplot as plt\n",
    "import seaborn as sns\n",
    "from sklearn.model_selection import StratifiedKFold, GridSearchCV, cross_val_score, train_test_split"
   ]
  },
  {
   "cell_type": "code",
   "execution_count": 2,
   "metadata": {},
   "outputs": [
    {
     "name": "stderr",
     "output_type": "stream",
     "text": [
      "/usr/local/lib/python3.6/dist-packages/IPython/core/interactiveshell.py:3018: DtypeWarning: Columns (1,11,13,14,17) have mixed types. Specify dtype option on import or set low_memory=False.\n",
      "  interactivity=interactivity, compiler=compiler, result=result)\n"
     ]
    }
   ],
   "source": [
    "df=pd.read_csv('data.csv')"
   ]
  },
  {
   "cell_type": "code",
   "execution_count": 3,
   "metadata": {},
   "outputs": [
    {
     "data": {
      "text/html": [
       "<div>\n",
       "<style scoped>\n",
       "    .dataframe tbody tr th:only-of-type {\n",
       "        vertical-align: middle;\n",
       "    }\n",
       "\n",
       "    .dataframe tbody tr th {\n",
       "        vertical-align: top;\n",
       "    }\n",
       "\n",
       "    .dataframe thead th {\n",
       "        text-align: right;\n",
       "    }\n",
       "</style>\n",
       "<table border=\"1\" class=\"dataframe\">\n",
       "  <thead>\n",
       "    <tr style=\"text-align: right;\">\n",
       "      <th></th>\n",
       "      <th>Unnamed: 0</th>\n",
       "      <th>X</th>\n",
       "      <th>contact.name</th>\n",
       "      <th>creation.date</th>\n",
       "      <th>currency</th>\n",
       "      <th>description</th>\n",
       "      <th>duty</th>\n",
       "      <th>education</th>\n",
       "      <th>email</th>\n",
       "      <th>employment</th>\n",
       "      <th>...</th>\n",
       "      <th>logo</th>\n",
       "      <th>metro</th>\n",
       "      <th>name</th>\n",
       "      <th>phone</th>\n",
       "      <th>qualification</th>\n",
       "      <th>salary</th>\n",
       "      <th>schedule</th>\n",
       "      <th>text</th>\n",
       "      <th>update.date</th>\n",
       "      <th>vacancy</th>\n",
       "    </tr>\n",
       "  </thead>\n",
       "  <tbody>\n",
       "    <tr>\n",
       "      <th>0</th>\n",
       "      <td>1</td>\n",
       "      <td>0</td>\n",
       "      <td>Лариса</td>\n",
       "      <td>2017-06-15 00:00:00 MSK</td>\n",
       "      <td>«руб.»</td>\n",
       "      <td>&lt;p&gt;Ответственность;&lt;/p&gt;\\n&lt;p&gt;Аккуратность;&lt;/p&gt;\\...</td>\n",
       "      <td>&lt;p&gt;регистрация и консультация клиентов;&lt;/p&gt;\\n&lt;...</td>\n",
       "      <td>Среднее</td>\n",
       "      <td>NaN</td>\n",
       "      <td>Частичная занятость</td>\n",
       "      <td>...</td>\n",
       "      <td>NaN</td>\n",
       "      <td>NaN</td>\n",
       "      <td>ИП Богатых Надежда Николаевна</td>\n",
       "      <td>NaN</td>\n",
       "      <td>NaN</td>\n",
       "      <td>от 20000 до 25000</td>\n",
       "      <td>Вахтовый метод</td>\n",
       "      <td>NaN</td>\n",
       "      <td>2017-06-15 21:58:31 MSK</td>\n",
       "      <td>NaN</td>\n",
       "    </tr>\n",
       "    <tr>\n",
       "      <th>1</th>\n",
       "      <td>2</td>\n",
       "      <td>1</td>\n",
       "      <td>Гусев Павел Петрович</td>\n",
       "      <td>2017-06-15 00:00:00 MSK</td>\n",
       "      <td>«руб.»</td>\n",
       "      <td>&lt;p&gt;коммуникабельность;&lt;/p&gt;\\n&lt;p&gt;умение работать...</td>\n",
       "      <td>&lt;p&gt;&amp;nbsp;&lt;/p&gt;\\n&lt;p&gt;работа с постоянными клиента...</td>\n",
       "      <td>Среднее профессиональное</td>\n",
       "      <td>NaN</td>\n",
       "      <td>Частичная занятость</td>\n",
       "      <td>...</td>\n",
       "      <td>NaN</td>\n",
       "      <td>NaN</td>\n",
       "      <td>ИП Гусев Павел Петрович</td>\n",
       "      <td>NaN</td>\n",
       "      <td>NaN</td>\n",
       "      <td>от 40000 до 45000</td>\n",
       "      <td>Сменный график</td>\n",
       "      <td>NaN</td>\n",
       "      <td>2017-06-15 21:20:53 MSK</td>\n",
       "      <td>NaN</td>\n",
       "    </tr>\n",
       "    <tr>\n",
       "      <th>2</th>\n",
       "      <td>4</td>\n",
       "      <td>3</td>\n",
       "      <td>Богатых Надежда Николаевна</td>\n",
       "      <td>2017-06-15 00:00:00 MSK</td>\n",
       "      <td>«руб.»</td>\n",
       "      <td>&lt;p&gt;Пунктуальность;&lt;/p&gt;\\n&lt;p&gt;Аккуратность;&lt;/p&gt;\\n...</td>\n",
       "      <td>&lt;p&gt;Работа с документами;&lt;/p&gt;\\n&lt;p&gt;Проведение пе...</td>\n",
       "      <td>NaN</td>\n",
       "      <td>NaN</td>\n",
       "      <td>Частичная занятость</td>\n",
       "      <td>...</td>\n",
       "      <td>NaN</td>\n",
       "      <td>NaN</td>\n",
       "      <td>ИП Богатых Надежда Николаевна</td>\n",
       "      <td>NaN</td>\n",
       "      <td>NaN</td>\n",
       "      <td>от 25000 до 30000</td>\n",
       "      <td>Гибкий график</td>\n",
       "      <td>NaN</td>\n",
       "      <td>2017-06-15 22:00:52 MSK</td>\n",
       "      <td>NaN</td>\n",
       "    </tr>\n",
       "    <tr>\n",
       "      <th>3</th>\n",
       "      <td>5</td>\n",
       "      <td>4</td>\n",
       "      <td>Прошин Владимир Сергеевич</td>\n",
       "      <td>2017-06-15 00:00:00 MSK</td>\n",
       "      <td>«руб.»</td>\n",
       "      <td>&lt;p&gt;ответственность;внимательность;пунктуальнос...</td>\n",
       "      <td>&lt;p&gt;подбор персонала на сайтах,обработка электр...</td>\n",
       "      <td>Незаконченное высшее</td>\n",
       "      <td>NaN</td>\n",
       "      <td>Частичная занятость</td>\n",
       "      <td>...</td>\n",
       "      <td>NaN</td>\n",
       "      <td>NaN</td>\n",
       "      <td>ИП Прошин Владимир Сергеевич</td>\n",
       "      <td>NaN</td>\n",
       "      <td>NaN</td>\n",
       "      <td>от 20000 до 25000</td>\n",
       "      <td>Сменный график</td>\n",
       "      <td>Инвалиды</td>\n",
       "      <td>2017-06-15 22:23:00 MSK</td>\n",
       "      <td>NaN</td>\n",
       "    </tr>\n",
       "    <tr>\n",
       "      <th>4</th>\n",
       "      <td>6</td>\n",
       "      <td>5</td>\n",
       "      <td>Прошин Владимир Сергеевич</td>\n",
       "      <td>2017-06-15 00:00:00 MSK</td>\n",
       "      <td>«руб.»</td>\n",
       "      <td>&lt;p&gt;Ответственность;&lt;/p&gt;\\n&lt;p&gt;Аккуратность;&lt;/p&gt;\\...</td>\n",
       "      <td>&lt;p&gt;регистрация и консультация клиентов;&lt;/p&gt;\\n&lt;...</td>\n",
       "      <td>Среднее</td>\n",
       "      <td>NaN</td>\n",
       "      <td>Удаленная</td>\n",
       "      <td>...</td>\n",
       "      <td>NaN</td>\n",
       "      <td>NaN</td>\n",
       "      <td>ИП Прошин Владимир Сергеевич</td>\n",
       "      <td>NaN</td>\n",
       "      <td>NaN</td>\n",
       "      <td>от 15000 до 20000</td>\n",
       "      <td>Гибкий график</td>\n",
       "      <td>Инвалиды</td>\n",
       "      <td>2017-06-15 22:23:05 MSK</td>\n",
       "      <td>NaN</td>\n",
       "    </tr>\n",
       "  </tbody>\n",
       "</table>\n",
       "<p>5 rows × 26 columns</p>\n",
       "</div>"
      ],
      "text/plain": [
       "   Unnamed: 0  X                contact.name            creation.date  \\\n",
       "0           1  0                      Лариса  2017-06-15 00:00:00 MSK   \n",
       "1           2  1        Гусев Павел Петрович  2017-06-15 00:00:00 MSK   \n",
       "2           4  3  Богатых Надежда Николаевна  2017-06-15 00:00:00 MSK   \n",
       "3           5  4   Прошин Владимир Сергеевич  2017-06-15 00:00:00 MSK   \n",
       "4           6  5   Прошин Владимир Сергеевич  2017-06-15 00:00:00 MSK   \n",
       "\n",
       "  currency                                        description  \\\n",
       "0   «руб.»  <p>Ответственность;</p>\\n<p>Аккуратность;</p>\\...   \n",
       "1   «руб.»  <p>коммуникабельность;</p>\\n<p>умение работать...   \n",
       "2   «руб.»  <p>Пунктуальность;</p>\\n<p>Аккуратность;</p>\\n...   \n",
       "3   «руб.»  <p>ответственность;внимательность;пунктуальнос...   \n",
       "4   «руб.»  <p>Ответственность;</p>\\n<p>Аккуратность;</p>\\...   \n",
       "\n",
       "                                                duty  \\\n",
       "0  <p>регистрация и консультация клиентов;</p>\\n<...   \n",
       "1  <p>&nbsp;</p>\\n<p>работа с постоянными клиента...   \n",
       "2  <p>Работа с документами;</p>\\n<p>Проведение пе...   \n",
       "3  <p>подбор персонала на сайтах,обработка электр...   \n",
       "4  <p>регистрация и консультация клиентов;</p>\\n<...   \n",
       "\n",
       "                  education email           employment   ...   logo metro  \\\n",
       "0                   Среднее   NaN  Частичная занятость   ...    NaN   NaN   \n",
       "1  Среднее профессиональное   NaN  Частичная занятость   ...    NaN   NaN   \n",
       "2                       NaN   NaN  Частичная занятость   ...    NaN   NaN   \n",
       "3      Незаконченное высшее   NaN  Частичная занятость   ...    NaN   NaN   \n",
       "4                   Среднее   NaN            Удаленная   ...    NaN   NaN   \n",
       "\n",
       "                            name phone qualification             salary  \\\n",
       "0  ИП Богатых Надежда Николаевна   NaN           NaN  от 20000 до 25000   \n",
       "1        ИП Гусев Павел Петрович   NaN           NaN  от 40000 до 45000   \n",
       "2  ИП Богатых Надежда Николаевна   NaN           NaN  от 25000 до 30000   \n",
       "3   ИП Прошин Владимир Сергеевич   NaN           NaN  от 20000 до 25000   \n",
       "4   ИП Прошин Владимир Сергеевич   NaN           NaN  от 15000 до 20000   \n",
       "\n",
       "         schedule      text              update.date vacancy  \n",
       "0  Вахтовый метод       NaN  2017-06-15 21:58:31 MSK     NaN  \n",
       "1  Сменный график       NaN  2017-06-15 21:20:53 MSK     NaN  \n",
       "2   Гибкий график       NaN  2017-06-15 22:00:52 MSK     NaN  \n",
       "3  Сменный график  Инвалиды  2017-06-15 22:23:00 MSK     NaN  \n",
       "4   Гибкий график  Инвалиды  2017-06-15 22:23:05 MSK     NaN  \n",
       "\n",
       "[5 rows x 26 columns]"
      ]
     },
     "execution_count": 3,
     "metadata": {},
     "output_type": "execute_result"
    }
   ],
   "source": [
    "df.head()"
   ]
  },
  {
   "cell_type": "code",
   "execution_count": 4,
   "metadata": {},
   "outputs": [
    {
     "name": "stdout",
     "output_type": "stream",
     "text": [
      "<class 'pandas.core.frame.DataFrame'>\n",
      "RangeIndex: 362440 entries, 0 to 362439\n",
      "Data columns (total 26 columns):\n",
      "Unnamed: 0       362440 non-null int64\n",
      "X                362440 non-null object\n",
      "contact.name     347660 non-null object\n",
      "creation.date    362439 non-null object\n",
      "currency         362440 non-null object\n",
      "description      359844 non-null object\n",
      "duty             358335 non-null object\n",
      "education        341760 non-null object\n",
      "email            307337 non-null object\n",
      "employment       359661 non-null object\n",
      "experience       297515 non-null object\n",
      "hr.agency        362438 non-null object\n",
      "industry         361560 non-null object\n",
      "lat              360842 non-null object\n",
      "lng              360842 non-null object\n",
      "location         362438 non-null object\n",
      "logo             12920 non-null object\n",
      "metro            1187 non-null object\n",
      "name             362437 non-null object\n",
      "phone            324036 non-null object\n",
      "qualification    341188 non-null object\n",
      "salary           360783 non-null object\n",
      "schedule         359388 non-null object\n",
      "text             345998 non-null object\n",
      "update.date      362436 non-null object\n",
      "vacancy          0 non-null float64\n",
      "dtypes: float64(1), int64(1), object(24)\n",
      "memory usage: 71.9+ MB\n"
     ]
    }
   ],
   "source": [
    "df.info()"
   ]
  },
  {
   "cell_type": "code",
   "execution_count": 5,
   "metadata": {},
   "outputs": [],
   "source": [
    "df.drop(columns=['vacancy', 'X', 'Unnamed: 0'], inplace=True)"
   ]
  },
  {
   "cell_type": "code",
   "execution_count": 6,
   "metadata": {},
   "outputs": [
    {
     "data": {
      "text/plain": [
       "Index(['contact.name', 'creation.date', 'currency', 'description', 'duty',\n",
       "       'education', 'email', 'employment', 'experience', 'hr.agency',\n",
       "       'industry', 'lat', 'lng', 'location', 'logo', 'metro', 'name', 'phone',\n",
       "       'qualification', 'salary', 'schedule', 'text', 'update.date'],\n",
       "      dtype='object')"
      ]
     },
     "execution_count": 6,
     "metadata": {},
     "output_type": "execute_result"
    }
   ],
   "source": [
    "df.columns"
   ]
  },
  {
   "cell_type": "code",
   "execution_count": 7,
   "metadata": {},
   "outputs": [
    {
     "data": {
      "text/html": [
       "<div>\n",
       "<style scoped>\n",
       "    .dataframe tbody tr th:only-of-type {\n",
       "        vertical-align: middle;\n",
       "    }\n",
       "\n",
       "    .dataframe tbody tr th {\n",
       "        vertical-align: top;\n",
       "    }\n",
       "\n",
       "    .dataframe thead th {\n",
       "        text-align: right;\n",
       "    }\n",
       "</style>\n",
       "<table border=\"1\" class=\"dataframe\">\n",
       "  <thead>\n",
       "    <tr style=\"text-align: right;\">\n",
       "      <th></th>\n",
       "      <th>count</th>\n",
       "      <th>unique</th>\n",
       "      <th>top</th>\n",
       "      <th>freq</th>\n",
       "    </tr>\n",
       "  </thead>\n",
       "  <tbody>\n",
       "    <tr>\n",
       "      <th>contact.name</th>\n",
       "      <td>347660</td>\n",
       "      <td>92628</td>\n",
       "      <td>Кассай Ольга Юрьевна</td>\n",
       "      <td>2474</td>\n",
       "    </tr>\n",
       "    <tr>\n",
       "      <th>creation.date</th>\n",
       "      <td>362439</td>\n",
       "      <td>33</td>\n",
       "      <td>2017-06-26 00:00:00 MSK</td>\n",
       "      <td>35597</td>\n",
       "    </tr>\n",
       "    <tr>\n",
       "      <th>currency</th>\n",
       "      <td>362440</td>\n",
       "      <td>2</td>\n",
       "      <td>«руб.»</td>\n",
       "      <td>362438</td>\n",
       "    </tr>\n",
       "    <tr>\n",
       "      <th>description</th>\n",
       "      <td>359844</td>\n",
       "      <td>228299</td>\n",
       "      <td>Профессионально-квалифиционные требования уста...</td>\n",
       "      <td>1278</td>\n",
       "    </tr>\n",
       "    <tr>\n",
       "      <th>duty</th>\n",
       "      <td>358335</td>\n",
       "      <td>224110</td>\n",
       "      <td>В СООТВ. С ДОЛЖ. ИНСТРУКЦИЕЙ, УТВЕРЖДЕННОЙ НА ...</td>\n",
       "      <td>3152</td>\n",
       "    </tr>\n",
       "    <tr>\n",
       "      <th>education</th>\n",
       "      <td>341760</td>\n",
       "      <td>6</td>\n",
       "      <td>Среднее профессиональное</td>\n",
       "      <td>135086</td>\n",
       "    </tr>\n",
       "    <tr>\n",
       "      <th>email</th>\n",
       "      <td>307337</td>\n",
       "      <td>88182</td>\n",
       "      <td>-</td>\n",
       "      <td>2181</td>\n",
       "    </tr>\n",
       "    <tr>\n",
       "      <th>employment</th>\n",
       "      <td>359661</td>\n",
       "      <td>9</td>\n",
       "      <td>Полная занятость</td>\n",
       "      <td>293925</td>\n",
       "    </tr>\n",
       "    <tr>\n",
       "      <th>experience</th>\n",
       "      <td>297515</td>\n",
       "      <td>26</td>\n",
       "      <td>от 0</td>\n",
       "      <td>148316</td>\n",
       "    </tr>\n",
       "    <tr>\n",
       "      <th>hr.agency</th>\n",
       "      <td>362438</td>\n",
       "      <td>6</td>\n",
       "      <td>False</td>\n",
       "      <td>296414</td>\n",
       "    </tr>\n",
       "    <tr>\n",
       "      <th>industry</th>\n",
       "      <td>361560</td>\n",
       "      <td>35</td>\n",
       "      <td>Производство</td>\n",
       "      <td>115460</td>\n",
       "    </tr>\n",
       "    <tr>\n",
       "      <th>lat</th>\n",
       "      <td>360842</td>\n",
       "      <td>111421</td>\n",
       "      <td>47.2225</td>\n",
       "      <td>1779</td>\n",
       "    </tr>\n",
       "    <tr>\n",
       "      <th>lng</th>\n",
       "      <td>360842</td>\n",
       "      <td>112106</td>\n",
       "      <td>39.7187</td>\n",
       "      <td>1779</td>\n",
       "    </tr>\n",
       "    <tr>\n",
       "      <th>location</th>\n",
       "      <td>362438</td>\n",
       "      <td>150343</td>\n",
       "      <td>Ростовская область, г. Ростов-на-Дону</td>\n",
       "      <td>939</td>\n",
       "    </tr>\n",
       "    <tr>\n",
       "      <th>logo</th>\n",
       "      <td>12920</td>\n",
       "      <td>1022</td>\n",
       "      <td>https://trudvsem.ru/image/41b6bb10-e836-11e4-a...</td>\n",
       "      <td>2463</td>\n",
       "    </tr>\n",
       "    <tr>\n",
       "      <th>metro</th>\n",
       "      <td>1187</td>\n",
       "      <td>189</td>\n",
       "      <td>Семеновская</td>\n",
       "      <td>58</td>\n",
       "    </tr>\n",
       "    <tr>\n",
       "      <th>name</th>\n",
       "      <td>362437</td>\n",
       "      <td>112455</td>\n",
       "      <td>ФГУП \"Почта России\"</td>\n",
       "      <td>2449</td>\n",
       "    </tr>\n",
       "    <tr>\n",
       "      <th>phone</th>\n",
       "      <td>324036</td>\n",
       "      <td>100552</td>\n",
       "      <td>+7(391)2527330</td>\n",
       "      <td>889</td>\n",
       "    </tr>\n",
       "    <tr>\n",
       "      <th>qualification</th>\n",
       "      <td>341188</td>\n",
       "      <td>184118</td>\n",
       "      <td>Ответственность</td>\n",
       "      <td>26194</td>\n",
       "    </tr>\n",
       "    <tr>\n",
       "      <th>salary</th>\n",
       "      <td>360783</td>\n",
       "      <td>29798</td>\n",
       "      <td>от 20000</td>\n",
       "      <td>12713</td>\n",
       "    </tr>\n",
       "    <tr>\n",
       "      <th>schedule</th>\n",
       "      <td>359388</td>\n",
       "      <td>8</td>\n",
       "      <td>Полный рабочий день</td>\n",
       "      <td>215807</td>\n",
       "    </tr>\n",
       "    <tr>\n",
       "      <th>text</th>\n",
       "      <td>345998</td>\n",
       "      <td>102978</td>\n",
       "      <td>Социальный пакет</td>\n",
       "      <td>100061</td>\n",
       "    </tr>\n",
       "    <tr>\n",
       "      <th>update.date</th>\n",
       "      <td>362436</td>\n",
       "      <td>25287</td>\n",
       "      <td>2017-06-28 03:23:50 MSK</td>\n",
       "      <td>118</td>\n",
       "    </tr>\n",
       "  </tbody>\n",
       "</table>\n",
       "</div>"
      ],
      "text/plain": [
       "                count  unique  \\\n",
       "contact.name   347660   92628   \n",
       "creation.date  362439      33   \n",
       "currency       362440       2   \n",
       "description    359844  228299   \n",
       "duty           358335  224110   \n",
       "education      341760       6   \n",
       "email          307337   88182   \n",
       "employment     359661       9   \n",
       "experience     297515      26   \n",
       "hr.agency      362438       6   \n",
       "industry       361560      35   \n",
       "lat            360842  111421   \n",
       "lng            360842  112106   \n",
       "location       362438  150343   \n",
       "logo            12920    1022   \n",
       "metro            1187     189   \n",
       "name           362437  112455   \n",
       "phone          324036  100552   \n",
       "qualification  341188  184118   \n",
       "salary         360783   29798   \n",
       "schedule       359388       8   \n",
       "text           345998  102978   \n",
       "update.date    362436   25287   \n",
       "\n",
       "                                                             top    freq  \n",
       "contact.name                                Кассай Ольга Юрьевна    2474  \n",
       "creation.date                            2017-06-26 00:00:00 MSK   35597  \n",
       "currency                                                  «руб.»  362438  \n",
       "description    Профессионально-квалифиционные требования уста...    1278  \n",
       "duty           В СООТВ. С ДОЛЖ. ИНСТРУКЦИЕЙ, УТВЕРЖДЕННОЙ НА ...    3152  \n",
       "education                               Среднее профессиональное  135086  \n",
       "email                                                          -    2181  \n",
       "employment                                      Полная занятость  293925  \n",
       "experience                                                  от 0  148316  \n",
       "hr.agency                                                  False  296414  \n",
       "industry                                            Производство  115460  \n",
       "lat                                                      47.2225    1779  \n",
       "lng                                                      39.7187    1779  \n",
       "location                   Ростовская область, г. Ростов-на-Дону     939  \n",
       "logo           https://trudvsem.ru/image/41b6bb10-e836-11e4-a...    2463  \n",
       "metro                                                Семеновская      58  \n",
       "name                                         ФГУП \"Почта России\"    2449  \n",
       "phone                                             +7(391)2527330     889  \n",
       "qualification                                    Ответственность   26194  \n",
       "salary                                                  от 20000   12713  \n",
       "schedule                                     Полный рабочий день  215807  \n",
       "text                                            Социальный пакет  100061  \n",
       "update.date                              2017-06-28 03:23:50 MSK     118  "
      ]
     },
     "execution_count": 7,
     "metadata": {},
     "output_type": "execute_result"
    }
   ],
   "source": [
    "df.describe().T"
   ]
  },
  {
   "cell_type": "code",
   "execution_count": 8,
   "metadata": {},
   "outputs": [
    {
     "name": "stdout",
     "output_type": "stream",
     "text": [
      "-----\n",
      "Columns: contact.name\n",
      "['Лариса' 'Гусев Павел Петрович' 'Богатых Надежда Николаевна'\n",
      " 'Прошин Владимир Сергеевич' 'Владимир Сергеевич']\n",
      "Кассай Ольга Юрьевна                                             2474\n",
      "Администратор зала (согласно утвержденного графика дежурства)    2282\n",
      "Сабирова Рима Шамиловна                                          1900\n",
      "Абрамова Наталья Петровна                                        1740\n",
      "Склярова Савия Мударисовна, Виниченко Евгения Андреевна          1410\n",
      "Name: contact.name, dtype: int64\n",
      "-----\n",
      "Columns: creation.date\n",
      "['2017-06-15 00:00:00 MSK' '2017-06-16 00:00:00 MSK'\n",
      " '2017-06-14 00:00:00 MSK' '2017-06-07 00:00:00 MSK'\n",
      " '2017-06-02 00:00:00 MSK']\n",
      "2017-06-26 00:00:00 MSK    35597\n",
      "2017-06-23 00:00:00 MSK    30048\n",
      "2017-06-15 00:00:00 MSK    23241\n",
      "2017-06-21 00:00:00 MSK    23183\n",
      "2017-06-27 00:00:00 MSK    22930\n",
      "Name: creation.date, dtype: int64\n",
      "-----\n",
      "Columns: currency\n",
      "['«руб.»' 'Полная занятость']\n",
      "«руб.»              362438\n",
      "Полная занятость         2\n",
      "Name: currency, dtype: int64\n",
      "-----\n",
      "Columns: description\n",
      "['<p>Ответственность;</p>\\n<p>Аккуратность;</p>\\n<p>Пунктуальность.</p>'\n",
      " '<p>коммуникабельность;</p>\\n<p>умение работать в команде;</p>\\n<p>целеустремленность.</p>\\n<p>&nbsp;</p>'\n",
      " '<p>Пунктуальность;</p>\\n<p>Аккуратность;</p>\\n<p>Позитивность;</p>\\n<p>Стрессоустойчивость.</p>'\n",
      " '<p>ответственность;внимательность;пунктуальность.</p>'\n",
      " '<p>наличие ПК и ежедневного выхода в интернет;</p>\\n<p>наличие скайп;</p>\\n<p>коммуникабельность.</p>']\n",
      "Профессионально-квалифиционные требования устанавливаются в соответствии с профессиональным стандартом                                                                                                                                                                                                                                                                                                                                                                                                                                                                                                                                                                                                                                                                                                                                                                                                                                                                                                                                                                                                                                                                                                                                                                                                                                                                                                                                                                                                                                                                                                                                                                                                                                                                                                                                                                                                                                                                                                                                                                                                                                                                                                                                                                                                                                                                                                                                                                                                                                                                                                                                                                                                                                                                                                                         1278\n",
      "Соискатель, претендующий на данную вакансию, должен иметь опыт работы по специальности.                                                                                                                                                                                                                                                                                                                                                                                                                                                                                                                                                                                                                                                                                                                                                                                                                                                                                                                                                                                                                                                                                                                                                                                                                                                                                                                                                                                                                                                                                                                                                                                                                                                                                                                                                                                                                                                                                                                                                                                                                                                                                                                                                                                                                                                                                                                                                                                                                                                                                                                                                                                                                                                                                                                                        1221\n",
      "Опыт работы не требуется, , Образование -СРЕДНЕЕ ПРОФЕССИОНАЛЬНОЕ                                                                                                                                                                                                                                                                                                                                                                                                                                                                                                                                                                                                                                                                                                                                                                                                                                                                                                                                                                                                                                                                                                                                                                                                                                                                                                                                                                                                                                                                                                                                                                                                                                                                                                                                                                                                                                                                                                                                                                                                                                                                                                                                                                                                                                                                                                                                                                                                                                                                                                                                                                                                                                                                                                                                                              1059\n",
      "Опыт работы не требуется, , Образование -ВЫСШЕЕ ПРОФЕССИОНАЛЬНОЕ                                                                                                                                                                                                                                                                                                                                                                                                                                                                                                                                                                                                                                                                                                                                                                                                                                                                                                                                                                                                                                                                                                                                                                                                                                                                                                                                                                                                                                                                                                                                                                                                                                                                                                                                                                                                                                                                                                                                                                                                                                                                                                                                                                                                                                                                                                                                                                                                                                                                                                                                                                                                                                                                                                                                                                895\n",
      "<p>Железнодорожный комплекс имеет особое стратегическое значение для России. Он является связующим звеном единой экономической системы, обеспечивает стабильную деятельность промышленных предприятий, своевременный подвоз жизненно важных грузов в самые отдаленные уголки страны, а также является самым доступным транспортом для миллионов граждан</p>\\n<p><strong>Открытое акционерное общество &laquo;Российские железные дороги&raquo;</strong> входит в мировую тройку лидеров железнодорожных компаний. Это определяют следующие факторы:</p>\\n<ul>\\n<li>огромные объемы грузовых и пассажирских перевозок;</li>\\n<li>высокие финансовые рейтинги;</li>\\n<li>квалифицированные специалисты во всех областях железнодорожного транспорта;</li>\\n<li>большая научно-техническая база;</li>\\n<li>проектные и строительные мощности;</li>\\n<li>значительный опыт международного сотрудничества.</li>\\n</ul>\\n<p>ОАО &laquo;РЖД&raquo; было учреждено постановлением Правительства РФ от 18 сентября 2003 года № 585. Создание компании стало итогом первого этапа реформирования железнодорожной отрасли в соответствии с постановлением Правительства РФ от 18 мая 2001 года № 384.</p>\\n<p><strong>Миссия компании</strong> состоит в удовлетворении рыночного спроса на перевозки, повышении эффективности деятельности, качества услуг и глубокой интеграции в евро-азиатскую транспортную систему.</p>\\n<p><strong>Главные цели</strong> <strong>деятельности общества</strong> - обеспечение потребностей государства, юридических и физических лиц в железнодорожных перевозках, работах и услугах, оказываемых железнодорожным транспортом, а также извлечение прибыли.</p>\\n<p><strong>Стратегические цели</strong> <strong>компании:</strong></p>\\n<ul>\\n<li>увеличение масштаба транспортного бизнеса;</li>\\n<li>повышение производственно-экономической эффективности;</li>\\n<li>повышение качества работы и безопасности перевозок;</li>\\n<li>глубокая интеграция в евро-азиатскую транспортную систему;</li>\\n<li>повышение финансовой устойчивости и эффективности.</li>\\n</ul>\\n<p><strong>Виды деятельности:</strong></p>\\n<ul>\\n<li>грузовые перевозки;</li>\\n<li>пассажирские перевозки в дальнем сообщении;</li>\\n<li>пассажирские перевозки в пригородном сообщении;</li>\\n<li>предоставление услуг инфраструктуры;</li>\\n<li>предоставление услуг локомотивной тяги;</li>\\n<li>ремонт подвижного состава;</li>\\n<li>строительство объектов инфраструктуры;</li>\\n<li>научно-исследовательские и опытно-конструкторские работы;</li>\\n<li>содержание социальной сферы.</li>\\n</ul>\\n<p><strong>Доля в грузообороте транспортной системы России</strong> - 45,3% (с учетом трубопроводного транспорта).</p>\\n<p><strong>Доля в пассажирообороте транспортной системы России</strong> - 26,4%.</p>     845\n",
      "Name: description, dtype: int64\n",
      "-----\n",
      "Columns: duty\n"
     ]
    },
    {
     "name": "stdout",
     "output_type": "stream",
     "text": [
      "['<p>регистрация и консультация клиентов;</p>\\n<p>работа с письмами(отправка,прием,составление</p>\\n<p>базы данных);</p>\\n<p>прием и отправка корреспонденции.</p>'\n",
      " '<p>&nbsp;</p>\\n<p>работа с постоянными клиентами;</p>\\n<p>ведение переговоров и оформление договоров;</p>\\n<p>создание и поддержание партнерских отношений;</p>\\n<p>активный поиск клиентов,имеется готовая клиентская база.</p>'\n",
      " '<p>Работа с документами;</p>\\n<p>Проведение первичных переговоров;</p>\\n<p>Работа с входящими письмами и звонками;</p>\\n<p>Делопроизводство.</p>'\n",
      " '<p>подбор персонала на сайтах,обработка электронных писем от кандидатов,проведение собеседований;составление и размещение вакансий в СМИ;проведение телефонных и личных интервью с соискателями;выполнение поручений руководителя.</p>'\n",
      " '<p>регистрация и консультация клиентов;</p>\\n<p>работа с письмами(отправка,прием,составление</p>\\n<p>базы данных);</p>\\n<p>сопровождение клиентов на официальном сайте компании.</p>\\n<p>&nbsp;</p>']\n",
      "В СООТВ. С ДОЛЖ. ИНСТРУКЦИЕЙ, УТВЕРЖДЕННОЙ НА ДАННОМ ПРЕДПР.                                                                                                                                                                          3152\n",
      "Должностные обязанности работника определяются должностными инструкциями и правилами внутреннего трудового распорядка, принятыми в организации. Работник обязан выполнять требования охраны труда и правила пожарной безопасности.    2606\n",
      "Общие обязанности: Знание  и выполнение должностных обязанностей,  Соблюдение техники безопасности                                                                                                                                    2381\n",
      "Должностные обязанности уточняются при обращении к работодателю.                                                                                                                                                                      1524\n",
      "В соответствии с должностной инструкцией, утвержденной в организации для данной специальности (профессии) и соблюдением правил внутреннего распорядка                                                                                 1466\n",
      "Name: duty, dtype: int64\n",
      "-----\n",
      "Columns: education\n",
      "['Среднее' 'Среднее профессиональное' nan 'Незаконченное высшее' 'Высшее']\n",
      "Среднее профессиональное    135086\n",
      "Высшее                       99405\n",
      "Среднее                      95295\n",
      "Незаконченное высшее          4257\n",
      "Юриспруденция                 3882\n",
      "Name: education, dtype: int64\n",
      "-----\n",
      "Columns: email\n",
      "[nan 'vet@vet.spb.ru' 'gcpbvlad@yandex.ru' '8(42736)2-29-43'\n",
      " '(39535)53751']\n",
      "-                       2181\n",
      "нет                     1647\n",
      "отсутствует             1250\n",
      "НЕТ                      836\n",
      "personal@gastroy.com     602\n",
      "Name: email, dtype: int64\n",
      "-----\n",
      "Columns: employment\n",
      "['Частичная занятость' 'Удаленная' 'Временная' 'Полная занятость'\n",
      " 'Сезонная']\n",
      "Полная занятость       293925\n",
      "Временная               36726\n",
      "Сезонная                 8707\n",
      "Частичная занятость      4856\n",
      "Удаленная                4517\n",
      "Name: employment, dtype: int64\n",
      "-----\n",
      "Columns: experience\n",
      "[nan 'от 40' 'от 1' 'от 5' 'от 3']\n",
      "от 0    148316\n",
      "от 1     65198\n",
      "от 3     34643\n",
      "от 5     14776\n",
      "от 2     11443\n",
      "Name: experience, dtype: int64\n",
      "-----\n",
      "Columns: hr.agency\n",
      "[False True 'false' 'true' nan]\n",
      "False                                                       296414\n",
      "false                                                        65523\n",
      "True                                                           490\n",
      "true                                                             9\n",
      "Алтайский край, 659325, г Бийск, ул Ильи Мухачева, д. 92         1\n",
      "Name: hr.agency, dtype: int64\n",
      "-----\n",
      "Columns: industry\n",
      "['Административная работа, секретариат, АХО'\n",
      " 'Продажи, закупки, снабжение, торговля'\n",
      " 'Кадровая служба, управление персоналом' 'Маркетинг, реклама, PR'\n",
      " 'Добывающая промышленность']\n",
      "Производство                                               115460\n",
      "Здравоохранение, спорт, красота, социальное обеспечение     49448\n",
      "Образование, наука                                          28026\n",
      "Продажи, закупки, снабжение, торговля                       25491\n",
      "Консалтинг, стратегическое развитие, управление             18798\n",
      "Name: industry, dtype: int64\n",
      "-----\n",
      "Columns: lat\n",
      "[52.406193 56.894468999999994 53.110308999999994 55.70391600000001\n",
      " 59.75549399999999]\n",
      "47.222513    1779\n",
      "56.014006     656\n",
      "44.039290     549\n",
      "54.271500     435\n",
      "45.057033     361\n",
      "Name: lat, dtype: int64\n",
      "-----\n",
      "Columns: lng\n",
      "[37.575513 37.370778 35.002325 37.702706 137.69521]\n",
      "39.718669    1779\n",
      "92.891316     656\n",
      "43.070840     549\n",
      "56.525537     435\n",
      "38.970642     361\n",
      "Name: lng, dtype: int64\n",
      "-----\n",
      "Columns: location\n",
      "['Орловская область, г. Орёл, Орелстроевская улица, 1'\n",
      " 'Тверская область, г. Кимры, Лоткова проезд, 1'\n",
      " 'Брянская область, Карачевский район, г. Карачев, Некрасова улица, 1'\n",
      " 'г. Москва, Южнопортовая улица'\n",
      " 'Республика Саха (Якутия), Усть-Майский улус, Югоренок поселок, Ленина 28']\n",
      "Ростовская область, г. Ростов-на-Дону                                   939\n",
      "Ростовская область, г.Ростов-на-Дону                                    554\n",
      "Красноярский край, 660049, г Красноярск, пр-кт Мира, д. 10, офис 434    422\n",
      "Ставропольский край, г Пятигорск, 357500, г.Пятигорск                   356\n",
      "Краснодарский край, 350020, г Краснодар, ул Гаражная, д. 75             339\n",
      "Name: location, dtype: int64\n",
      "-----\n",
      "Columns: logo\n",
      "[nan 'https://trudvsem.ru/image/e01d4ea0-2e2a-11e6-b56d-037acc02728d'\n",
      " 'https://trudvsem.ru/image/d3c7bec0-418f-11e5-b939-9370902ea73e'\n",
      " 'https://trudvsem.ru/image/3b6ef570-f022-11e5-8918-4376a32b3f45'\n",
      " 'https://trudvsem.ru/image/58f6e7f0-0ec2-11e7-a035-736ab11edb0c']\n",
      "https://trudvsem.ru/image/41b6bb10-e836-11e4-ad73-239645b044d5    2463\n",
      "https://trudvsem.ru/image/3a077f60-e838-11e4-ad73-239645b044d5    1081\n",
      "https://trudvsem.ru/image/242c5b60-46d3-11e7-8a40-4376a32b3f45     836\n",
      "https://trudvsem.ru/image/2139e2f0-e835-11e4-ad73-239645b044d5     477\n",
      "https://trudvsem.ru/image/a55285fb-8116-11e4-86c6-570279f9091e     334\n",
      "Name: logo, dtype: int64\n",
      "-----\n",
      "Columns: metro\n",
      "[nan 'Кожуховская' 'Чёрная речка' 'Звёздная' 'Балтийская']\n",
      "Семеновская         58\n",
      "Площадь Ленина      39\n",
      "Электрозаводская    34\n",
      "Таганская           27\n",
      "Римская             26\n",
      "Name: metro, dtype: int64\n",
      "-----\n",
      "Columns: name\n",
      "['ИП Богатых Надежда Николаевна' 'ИП Гусев Павел Петрович'\n",
      " 'ИП Прошин Владимир Сергеевич'\n",
      " 'Общество с ограниченной ответственностью \" ВАСИЛИНА\"'\n",
      " 'ООО рудник \"Дуэт\"']\n",
      "ФГУП \"Почта России\"                 2449\n",
      "ЗАО \"Тандер\"                        1081\n",
      "ОАО \"Российские Железные Дороги\"     836\n",
      "АО КРАСНОДАРГАЗСТРОЙ                 602\n",
      "ООО ТК \"Лента\"                       477\n",
      "Name: name, dtype: int64\n",
      "-----\n",
      "Columns: phone\n",
      "[nan '+784114027366' '+7(423)2639306' '8(42736)2-29-30' '(39535)65500']\n",
      "+7(391)2527330         889\n",
      "8(861)2973101          602\n",
      "+7(924)2740808         540\n",
      "+7(909)0606818         460\n",
      "+7(81537)9210430305    359\n",
      "Name: phone, dtype: int64\n",
      "-----\n",
      "Columns: qualification\n",
      "[nan\n",
      " '<p>Руководителю - женщине требуется &nbsp;помощник по ведению личного бизнеса</p>'\n",
      " '<p>Приглашаю в налаженный бизнес заместителя коммерческого отдела для продвижения товаров повседневного спроса и увеличени я товарооборота.</p>\\n<p>Предпочтение &nbsp;молодым пенсионерам, военнослужащим в отставке</p>'\n",
      " '<p>В&nbsp;основу философии нашего бизнеса заложен принцип безусловного признания права клиентов на&nbsp;получение сервиса высшего качества в&nbsp;обмен на&nbsp;адекватное вознаграждение, а&nbsp;также принцип ответственности не&nbsp;только за&nbsp;ближайшие, но&nbsp;и&nbsp;за&nbsp;отдалённые результаты своих решений и&nbsp;действий. В&nbsp;ряду наших ценностей: Профессионализм. Качество. Забота.</p>'\n",
      " '<p>В&nbsp;основу философии нашего бизнеса заложен принцип безусловного признания права клиентов на&nbsp;получение сервиса высшего качества в&nbsp;обмен на&nbsp;адекватное вознаграждение, а&nbsp;также принцип ответственности не&nbsp;только за&nbsp;ближайшие, но&nbsp;и&nbsp;за&nbsp;отдалённые результаты своих решений и&nbsp;действий. В&nbsp;ряду наших ценностей: Профессионализм. Качество. Забота.</p>\\n<p><strong>Вакансия открыта для двух отделений:</strong></p>\\n<ul>\\n<li>Санкт-Петербург, Сестрорецк, Дубковское шоссе, дом 38, м. Чёрная речка</li>\\n<li>Санкт-Петербург, Московский район, ул. Пулковская, дом 2к1 , м. Звёздная</li>\\n</ul>']\n",
      "Ответственность                             26194\n",
      "Сохраненное рабочее место                    7114\n",
      "Дисциплинированность<br/>Ответственность     6047\n",
      "Дисциплинированность                         5957\n",
      "Ответственность<br/>Дисциплинированность     4543\n",
      "Name: qualification, dtype: int64\n",
      "-----\n",
      "Columns: salary\n",
      "['от 20000 до 25000' 'от 40000 до 45000' 'от 25000 до 30000'\n",
      " 'от 15000 до 20000' 'от 45000 до 58000']\n",
      "от 20000             12713\n",
      "от 15000             12560\n",
      "от 15000 до 15000    10131\n",
      "от 20000 до 20000     9463\n",
      "от 7500               9256\n",
      "Name: salary, dtype: int64\n",
      "-----\n",
      "Columns: schedule\n",
      "['Вахтовый метод' 'Сменный график' 'Гибкий график' '\\n    '\n",
      " 'Полный рабочий день']\n",
      "Полный рабочий день             215807\n",
      "Сменный график                   72756\n",
      "Неполный рабочий день            25175\n",
      "Гибкий график                    14235\n",
      "Ненормированный рабочий день     13648\n",
      "Name: schedule, dtype: int64\n",
      "-----\n",
      "Columns: text\n"
     ]
    },
    {
     "name": "stdout",
     "output_type": "stream",
     "text": [
      "[nan 'Инвалиды'\n",
      " 'Инвалиды\\n<p>Высокий процент премии от личного вклада в увеличении товарооборота</p>'\n",
      " '<p>Высокий процент премии от товарооборота</p>'\n",
      " 'Предоставляется жилье. Комната\\nОплата проезда']\n",
      "Социальный пакет                           100061\n",
      "Инвалиды\\nСоциальный пакет                   9394\n",
      "Столовая                                     3459\n",
      "Инфраструктурная доступность                 1685\n",
      "Социальный пакет<br/>Доставка на работу      1286\n",
      "Name: text, dtype: int64\n",
      "-----\n",
      "Columns: update.date\n",
      "['2017-06-15 21:58:31 MSK' '2017-06-15 21:20:53 MSK'\n",
      " '2017-06-15 22:00:52 MSK' '2017-06-15 22:23:00 MSK'\n",
      " '2017-06-15 22:23:05 MSK']\n",
      "2017-06-28 03:23:50 MSK    118\n",
      "2017-06-28 03:44:15 MSK    115\n",
      "2017-06-28 03:23:54 MSK    114\n",
      "2017-06-28 03:19:18 MSK    114\n",
      "2017-06-28 03:44:39 MSK    114\n",
      "Name: update.date, dtype: int64\n"
     ]
    }
   ],
   "source": [
    "for i in df.columns:\n",
    "    print('-----')\n",
    "    print('Columns:', i)\n",
    "    print(df[i].unique()[:5])\n",
    "    print(df[i].value_counts()[:5])"
   ]
  },
  {
   "cell_type": "code",
   "execution_count": 9,
   "metadata": {
    "scrolled": true
   },
   "outputs": [
    {
     "data": {
      "text/plain": [
       "Производство                                                        115460\n",
       "Здравоохранение, спорт, красота, социальное обеспечение              49448\n",
       "Образование, наука                                                   28026\n",
       "Продажи, закупки, снабжение, торговля                                25491\n",
       "Консалтинг, стратегическое развитие, управление                      18798\n",
       "Строительство, ремонт, стройматериалы, недвижимость                  16288\n",
       "Транспорт, автобизнес, логистика, склад, ВЭД                         14728\n",
       "Пищевая промышленность                                               13741\n",
       "Работы, не требующие квалификации                                    11782\n",
       "Сельское хозяйство, экология, ветеринария                             8748\n",
       "Юриспруденция                                                         6476\n",
       "Финансы, кредит, страхование, пенсионное обеспечение                  6007\n",
       "Лесная, деревообрабатывающая, целлюлозно-бумажная промышленность      5360\n",
       "ЖКХ, эксплуатация                                                     5283\n",
       "Добывающая промышленность                                             5005\n",
       "Искусство, культура и развлечения                                     4428\n",
       "Металлургия, металлообработка                                         4136\n",
       "Информационные технологии, телекоммуникации, связь                    3125\n",
       "Туризм, гостиницы, рестораны                                          2955\n",
       "Административная работа, секретариат, АХО                             2541\n",
       "Маркетинг, реклама, PR                                                2467\n",
       "Государственная служба, некоммерческие организации                    2336\n",
       "Высший менеджмент                                                     2323\n",
       "Безопасность, службы охраны                                           1653\n",
       "Химическая, нефтехимическая, топливная промышленность                 1042\n",
       "Легкая промышленность                                                  931\n",
       "Рабочие специальности                                                  688\n",
       "Машиностроение                                                         675\n",
       "Кадровая служба, управление персоналом                                 653\n",
       "Электроэнергетика                                                      529\n",
       "Деревообрабатывающее производство                                      128\n",
       "Услуги населению, сервисное обслуживание                               121\n",
       "Домашний персонал                                                       80\n",
       "Лес и лесозаготовительные работы                                        71\n",
       "Плотники                                                                37\n",
       "Name: industry, dtype: int64"
      ]
     },
     "execution_count": 9,
     "metadata": {},
     "output_type": "execute_result"
    }
   ],
   "source": [
    "df['industry'].value_counts()"
   ]
  },
  {
   "cell_type": "code",
   "execution_count": 10,
   "metadata": {
    "scrolled": true
   },
   "outputs": [
    {
     "data": {
      "text/plain": [
       "contact.name      14780\n",
       "creation.date         1\n",
       "currency              0\n",
       "description        2596\n",
       "duty               4105\n",
       "education         20680\n",
       "email             55103\n",
       "employment         2779\n",
       "experience        64925\n",
       "hr.agency             2\n",
       "industry            880\n",
       "lat                1598\n",
       "lng                1598\n",
       "location              2\n",
       "logo             349520\n",
       "metro            361253\n",
       "name                  3\n",
       "phone             38404\n",
       "qualification     21252\n",
       "salary             1657\n",
       "schedule           3052\n",
       "text              16442\n",
       "update.date           4\n",
       "dtype: int64"
      ]
     },
     "execution_count": 10,
     "metadata": {},
     "output_type": "execute_result"
    }
   ],
   "source": [
    "df.isna().sum()"
   ]
  },
  {
   "cell_type": "code",
   "execution_count": 11,
   "metadata": {},
   "outputs": [],
   "source": [
    "df['industry'].fillna('Пусто', inplace=True)"
   ]
  },
  {
   "cell_type": "code",
   "execution_count": 12,
   "metadata": {},
   "outputs": [
    {
     "data": {
      "image/png": "[encoded data removed]",
      "text/plain": [
       "<matplotlib.figure.Figure at 0x7fec4ffb4320>"
      ]
     },
     "metadata": {},
     "output_type": "display_data"
    }
   ],
   "source": [
    "plt.pie(list(df['industry'].value_counts()[:10]), labels=list(df['industry'].value_counts()[:10].index), \n",
    "        radius=1.5, autopct='%.0f%%');"
   ]
  },
  {
   "cell_type": "code",
   "execution_count": 13,
   "metadata": {},
   "outputs": [
    {
     "data": {
      "text/plain": [
       "array(['<p>Ответственность;</p>\\n<p>Аккуратность;</p>\\n<p>Пунктуальность.</p>',\n",
       "       '<p>коммуникабельность;</p>\\n<p>умение работать в команде;</p>\\n<p>целеустремленность.</p>\\n<p>&nbsp;</p>',\n",
       "       '<p>Пунктуальность;</p>\\n<p>Аккуратность;</p>\\n<p>Позитивность;</p>\\n<p>Стрессоустойчивость.</p>',\n",
       "       ...,\n",
       "       '<ul>\\n<li>Среднее специальное либо высшее образование;</li>\\n<li>Желателен опыт работы от 1 года в смежной сфере;</li>\\n<li>Желание развиваться;</li>\\n<li>Пользователь ПК;</li>\\n<li>Ответственность, внимательность, обучаемость.</li>\\n</ul>',\n",
       "       '<p>Желательно опыт в продажах инструмента, запасных частей к автомобилям</p>',\n",
       "       '<p>- Умение общаться с людьми, умение работать в команде;</p>\\n<p>- Знание кассовой дисциплины;</p>\\n<p>- Внимательность, аккуратность;</p>\\n<p>- Опыт работы на должности продавца или менеджера по продажам приветствуется!</p>'],\n",
       "      dtype=object)"
      ]
     },
     "execution_count": 13,
     "metadata": {},
     "output_type": "execute_result"
    }
   ],
   "source": [
    "df['description'].unique()"
   ]
  },
  {
   "cell_type": "markdown",
   "metadata": {},
   "source": [
    "### Текстовые столбцы - это qualification, text, description, duty"
   ]
  },
  {
   "cell_type": "code",
   "execution_count": 14,
   "metadata": {},
   "outputs": [],
   "source": [
    "import re"
   ]
  },
  {
   "cell_type": "code",
   "execution_count": 15,
   "metadata": {},
   "outputs": [
    {
     "data": {
      "text/plain": [
       "'0          Ответственность    Аккуратность  \\\\...\\n1          коммуникабельность    умение работать...\\n2          Пунктуальность    Аккуратность   ...\\n3          ответственность внимательность пунктуальнос...\\n4          Ответственность    Аккуратность  \\\\...\\n5          наличие ПК и ежедневного выхода в интернет ...\\n6          Пунктуальность    Аккуратность   ...\\n7               пунктуальность    акку...\\n8          - Аккуратный внешний вид   - Коммуник...\\n9          - грамотная речь   - работа с ПК \\\\...\\n10           образование высшее. Опыт работы главн...\\n11              внимательность    пунк...\\n12                           &...\\n13            Городская Ветеринарная Клини...\\n14            Городская Ветеринарная Клини...\\n15            Городская Ветеринарная Клини...\\n16         - высшее образование провизор    - на...\\n17         Умение пользоваться ручным и электроинструм...\\n18                           \\n19         Наличие допуска для работы в условиях Крайн...\\n20         Компания   Техсервис      эт...\\n21         Медицинское образование. Усовершенствование...\\n22        Медицинское образование. Усовершенствование по...\\n23          внимательность      пункту...\\n24         Ответственность    Аккуратность  \\\\...\\n25         обучаемость целеустремленность ответственно...\\n26         Пунктуальность    Аккуратность   ...\\n27         обучаемость    пунктуальность    опыт не обязательно   образование не ...\\n                                ...                        \\n362410     Высшее образование   Опыт работы в ан...\\n362411     Опыт работы не требуется    Грамотная...\\n362412     высшее образование  не менее 5 лет работы в...\\n362413    Должен знать  ветеринарный Устав  систему орга...\\n362414    ОПЫТ РАБОТЫ В ПЛАНИРОВАНИИ  УПРАВЛЕНИИ  КООРДИ...\\n362415     Условия Разъездной характер работы График с...\\n362416        Ответственность  опыт работы   творческ...\\n362418     Опыт работы  ответственность  исполнительно...\\n362419                 Порядочность  ответственность. \\n362420                          Опыт работы желателен \\n362421                        Опыт работы от 6 месяев \\n362422                          Опыт работы желателен \\n362423                                     Активность \\n362424          Наличие удостоверения приветствуется. \\n362425                                 Трудолюбивость \\n362426                              Желание работать. \\n362427     - Умение четко  лаконично  грамотно излагат...\\n362428     В соответствии со Стратегией развития ОАО &...\\n362429     Знание ПК на продвинутом уровне опытный пол...\\n362430     Требования     Гра...\\n362431     -опыт работы в типографии или рекламном аге...\\n362432     Образование СреднееОпыт работы От 5летТребо...\\n362433     Знание технологии  материалов и оборудовани...\\n362434       Законченное /неполное высшее образов...\\n362435       Среднее специальное либо высшее обра...\\n362436           Опыт работы на аналогичной должности \\n362437     Желательно опыт в продажах инструмента  зап...\\n362438     Если ты ответственный и нацелен на результа...\\n362439     - Умение общаться с людьми  умение работать...\\nName  description  Length  362440  dtype  object'"
      ]
     },
     "execution_count": 15,
     "metadata": {},
     "output_type": "execute_result"
    }
   ],
   "source": [
    "re.sub(r'<[^>]*>|\\\\n|\\&\\w+|[:;,%#@!]', ' ', str(df['description']))"
   ]
  },
  {
   "cell_type": "code",
   "execution_count": 16,
   "metadata": {},
   "outputs": [],
   "source": [
    "def prepr_text(txt):\n",
    "    if type(txt) != str:\n",
    "        return None\n",
    "    else:\n",
    "        return re.sub(r'<[^>]*>|\\\\n|\\&\\w+|[:;,%#@!]', ' ', txt)\n",
    "    \n",
    "text_cols=['qualification', 'text', 'description', 'duty']\n",
    "\n",
    "for c in text_cols:\n",
    "    df[c]=df[c].map(prepr_text)"
   ]
  },
  {
   "cell_type": "code",
   "execution_count": 17,
   "metadata": {},
   "outputs": [
    {
     "data": {
      "text/plain": [
       "array([' Ответственность  \\n Аккуратность  \\n Пунктуальность. ',\n",
       "       ' коммуникабельность  \\n умение работать в команде  \\n целеустремленность. \\n    ',\n",
       "       ' Пунктуальность  \\n Аккуратность  \\n Позитивность  \\n Стрессоустойчивость. ',\n",
       "       ...,\n",
       "       ' \\n Среднее специальное либо высшее образование  \\n Желателен опыт работы от 1 года в смежной сфере  \\n Желание развиваться  \\n Пользователь ПК  \\n Ответственность  внимательность  обучаемость. \\n ',\n",
       "       ' Желательно опыт в продажах инструмента  запасных частей к автомобилям ',\n",
       "       ' - Умение общаться с людьми  умение работать в команде  \\n - Знание кассовой дисциплины  \\n - Внимательность  аккуратность  \\n - Опыт работы на должности продавца или менеджера по продажам приветствуется  '],\n",
       "      dtype=object)"
      ]
     },
     "execution_count": 17,
     "metadata": {},
     "output_type": "execute_result"
    }
   ],
   "source": [
    "df['description'].unique()"
   ]
  },
  {
   "cell_type": "code",
   "execution_count": 18,
   "metadata": {},
   "outputs": [
    {
     "data": {
      "text/plain": [
       "array(['Административная работа, секретариат, АХО',\n",
       "       'Продажи, закупки, снабжение, торговля',\n",
       "       'Кадровая служба, управление персоналом', 'Маркетинг, реклама, PR',\n",
       "       'Добывающая промышленность',\n",
       "       'Сельское хозяйство, экология, ветеринария',\n",
       "       'Здравоохранение, спорт, красота, социальное обеспечение',\n",
       "       'Рабочие специальности',\n",
       "       'Транспорт, автобизнес, логистика, склад, ВЭД',\n",
       "       'Финансы, кредит, страхование, пенсионное обеспечение',\n",
       "       'Производство', 'Образование, наука', 'Юриспруденция',\n",
       "       'Строительство, ремонт, стройматериалы, недвижимость',\n",
       "       'Лесная, деревообрабатывающая, целлюлозно-бумажная промышленность',\n",
       "       'Работы, не требующие квалификации', 'ЖКХ, эксплуатация',\n",
       "       'Государственная служба, некоммерческие организации',\n",
       "       'Высший менеджмент',\n",
       "       'Консалтинг, стратегическое развитие, управление',\n",
       "       'Машиностроение',\n",
       "       'Информационные технологии, телекоммуникации, связь',\n",
       "       'Услуги населению, сервисное обслуживание',\n",
       "       'Безопасность, службы охраны', 'Пищевая промышленность',\n",
       "       'Туризм, гостиницы, рестораны', 'Металлургия, металлообработка',\n",
       "       'Электроэнергетика',\n",
       "       'Химическая, нефтехимическая, топливная промышленность',\n",
       "       'Искусство, культура и развлечения', 'Легкая промышленность',\n",
       "       'Домашний персонал', 'Пусто', 'Деревообрабатывающее производство',\n",
       "       'Лес и лесозаготовительные работы', 'Плотники'], dtype=object)"
      ]
     },
     "execution_count": 18,
     "metadata": {},
     "output_type": "execute_result"
    }
   ],
   "source": [
    "df['industry'].unique()"
   ]
  },
  {
   "cell_type": "code",
   "execution_count": 19,
   "metadata": {},
   "outputs": [
    {
     "data": {
      "text/plain": [
       "array(['Среднее', 'Среднее профессиональное', nan, 'Незаконченное высшее',\n",
       "       'Высшее', 'Образование, наука', 'Юриспруденция'], dtype=object)"
      ]
     },
     "execution_count": 19,
     "metadata": {},
     "output_type": "execute_result"
    }
   ],
   "source": [
    "df['education'].unique()"
   ]
  },
  {
   "cell_type": "code",
   "execution_count": 20,
   "metadata": {},
   "outputs": [],
   "source": [
    "df.loc[df.index[df['education'] == 'Юриспруденция']] = None"
   ]
  },
  {
   "cell_type": "code",
   "execution_count": null,
   "metadata": {},
   "outputs": [],
   "source": []
  },
  {
   "cell_type": "code",
   "execution_count": 21,
   "metadata": {},
   "outputs": [
    {
     "data": {
      "text/plain": [
       "array([False, True, None, 'false', 'true', nan,\n",
       "       'Нижегородская область, 603035, г Нижний Новгород, ул Чаадаева, д. 2а'],\n",
       "      dtype=object)"
      ]
     },
     "execution_count": 21,
     "metadata": {},
     "output_type": "execute_result"
    }
   ],
   "source": [
    "df['hr.agency'].unique()"
   ]
  },
  {
   "cell_type": "code",
   "execution_count": 22,
   "metadata": {},
   "outputs": [
    {
     "data": {
      "text/html": [
       "<div>\n",
       "<style scoped>\n",
       "    .dataframe tbody tr th:only-of-type {\n",
       "        vertical-align: middle;\n",
       "    }\n",
       "\n",
       "    .dataframe tbody tr th {\n",
       "        vertical-align: top;\n",
       "    }\n",
       "\n",
       "    .dataframe thead th {\n",
       "        text-align: right;\n",
       "    }\n",
       "</style>\n",
       "<table border=\"1\" class=\"dataframe\">\n",
       "  <thead>\n",
       "    <tr style=\"text-align: right;\">\n",
       "      <th></th>\n",
       "      <th>contact.name</th>\n",
       "      <th>creation.date</th>\n",
       "      <th>currency</th>\n",
       "      <th>description</th>\n",
       "      <th>duty</th>\n",
       "      <th>education</th>\n",
       "      <th>email</th>\n",
       "      <th>employment</th>\n",
       "      <th>experience</th>\n",
       "      <th>hr.agency</th>\n",
       "      <th>...</th>\n",
       "      <th>location</th>\n",
       "      <th>logo</th>\n",
       "      <th>metro</th>\n",
       "      <th>name</th>\n",
       "      <th>phone</th>\n",
       "      <th>qualification</th>\n",
       "      <th>salary</th>\n",
       "      <th>schedule</th>\n",
       "      <th>text</th>\n",
       "      <th>update.date</th>\n",
       "    </tr>\n",
       "  </thead>\n",
       "  <tbody>\n",
       "    <tr>\n",
       "      <th>279962</th>\n",
       "      <td>Высшее</td>\n",
       "      <td>+7(831)2160554</td>\n",
       "      <td>Полная занятость</td>\n",
       "      <td>от 0</td>\n",
       "      <td>false</td>\n",
       "      <td>Образование, наука</td>\n",
       "      <td>Воспитатель</td>\n",
       "      <td>56.32775</td>\n",
       "      <td>43.855132</td>\n",
       "      <td>Нижегородская область, 603035, г Нижний Новгор...</td>\n",
       "      <td>...</td>\n",
       "      <td>+7(831)2160554</td>\n",
       "      <td>Воспитатель группы продленного дня&lt;br/&gt;Ответст...</td>\n",
       "      <td>от 8900</td>\n",
       "      <td>adm.school66_nn@mail.ru</td>\n",
       "      <td>Социальный пакет</td>\n",
       "      <td>2017-06-28 04 10 59 MSK</td>\n",
       "      <td>https://trudvsem.ru/vacancy/card/1025202844963...</td>\n",
       "      <td>\\n</td>\n",
       "      <td>None</td>\n",
       "      <td>NaN</td>\n",
       "    </tr>\n",
       "  </tbody>\n",
       "</table>\n",
       "<p>1 rows × 23 columns</p>\n",
       "</div>"
      ],
      "text/plain": [
       "       contact.name   creation.date          currency description   duty  \\\n",
       "279962       Высшее  +7(831)2160554  Полная занятость        от 0  false   \n",
       "\n",
       "                 education        email employment experience  \\\n",
       "279962  Образование, наука  Воспитатель   56.32775  43.855132   \n",
       "\n",
       "                                                hr.agency     ...      \\\n",
       "279962  Нижегородская область, 603035, г Нижний Новгор...     ...       \n",
       "\n",
       "              location                                               logo  \\\n",
       "279962  +7(831)2160554  Воспитатель группы продленного дня<br/>Ответст...   \n",
       "\n",
       "          metro                     name             phone  \\\n",
       "279962  от 8900  adm.school66_nn@mail.ru  Социальный пакет   \n",
       "\n",
       "                  qualification  \\\n",
       "279962  2017-06-28 04 10 59 MSK   \n",
       "\n",
       "                                                   salary schedule  text  \\\n",
       "279962  https://trudvsem.ru/vacancy/card/1025202844963...   \\n      None   \n",
       "\n",
       "       update.date  \n",
       "279962         NaN  \n",
       "\n",
       "[1 rows x 23 columns]"
      ]
     },
     "execution_count": 22,
     "metadata": {},
     "output_type": "execute_result"
    }
   ],
   "source": [
    "df.loc[df.index[df['hr.agency'] == 'Нижегородская область, 603035, г Нижний Новгород, ул Чаадаева, д. 2а']]"
   ]
  },
  {
   "cell_type": "code",
   "execution_count": 23,
   "metadata": {},
   "outputs": [],
   "source": [
    "df.drop(279962, inplace=True)"
   ]
  },
  {
   "cell_type": "code",
   "execution_count": 24,
   "metadata": {},
   "outputs": [
    {
     "data": {
      "text/plain": [
       "array([False, True, None, 'false', 'true', nan], dtype=object)"
      ]
     },
     "execution_count": 24,
     "metadata": {},
     "output_type": "execute_result"
    }
   ],
   "source": [
    "df['hr.agency'].unique()"
   ]
  },
  {
   "cell_type": "code",
   "execution_count": 25,
   "metadata": {},
   "outputs": [
    {
     "data": {
      "text/plain": [
       "358555"
      ]
     },
     "execution_count": 25,
     "metadata": {},
     "output_type": "execute_result"
    }
   ],
   "source": [
    "df['hr.agency'].count()"
   ]
  },
  {
   "cell_type": "code",
   "execution_count": 26,
   "metadata": {},
   "outputs": [],
   "source": [
    "df.loc[df['hr.agency'] == 'true', 'hr.agency'] = True"
   ]
  },
  {
   "cell_type": "code",
   "execution_count": 27,
   "metadata": {},
   "outputs": [
    {
     "data": {
      "text/plain": [
       "contact.name      18512\n",
       "creation.date      3882\n",
       "currency           3882\n",
       "description        6443\n",
       "duty               7939\n",
       "education         24562\n",
       "email             58424\n",
       "employment         6661\n",
       "experience        68106\n",
       "hr.agency          3884\n",
       "industry           3882\n",
       "lat                5466\n",
       "lng                5466\n",
       "location           3884\n",
       "logo             349668\n",
       "metro            361265\n",
       "name               3884\n",
       "phone             41905\n",
       "qualification     24909\n",
       "salary             5522\n",
       "schedule           6934\n",
       "text              20140\n",
       "update.date        3884\n",
       "dtype: int64"
      ]
     },
     "execution_count": 27,
     "metadata": {},
     "output_type": "execute_result"
    }
   ],
   "source": [
    "df.isna().sum()"
   ]
  },
  {
   "cell_type": "code",
   "execution_count": 28,
   "metadata": {},
   "outputs": [
    {
     "data": {
      "text/plain": [
       "array([37.575513, 37.370778, 35.002325, ..., 48.316975, 47.251186,\n",
       "       39.774221000000004], dtype=object)"
      ]
     },
     "execution_count": 28,
     "metadata": {},
     "output_type": "execute_result"
    }
   ],
   "source": [
    "df['lng'].unique()"
   ]
  },
  {
   "cell_type": "code",
   "execution_count": 29,
   "metadata": {},
   "outputs": [
    {
     "data": {
      "text/plain": [
       "array([52.406193, 56.894468999999994, 53.110308999999994, ..., 54.337552,\n",
       "       55.80909499999999, 64.554171], dtype=object)"
      ]
     },
     "execution_count": 29,
     "metadata": {},
     "output_type": "execute_result"
    }
   ],
   "source": [
    "df['lat'].unique()"
   ]
  },
  {
   "cell_type": "code",
   "execution_count": 30,
   "metadata": {},
   "outputs": [],
   "source": [
    "df['lng'].fillna(-1, inplace=True)\n",
    "df['lat'].fillna(-1, inplace=True)"
   ]
  },
  {
   "cell_type": "code",
   "execution_count": 31,
   "metadata": {
    "scrolled": true
   },
   "outputs": [
    {
     "name": "stdout",
     "output_type": "stream",
     "text": [
      "<class 'pandas.core.frame.DataFrame'>\n",
      "Int64Index: 362439 entries, 0 to 362439\n",
      "Data columns (total 23 columns):\n",
      "contact.name     343927 non-null object\n",
      "creation.date    358557 non-null object\n",
      "currency         358557 non-null object\n",
      "description      355996 non-null object\n",
      "duty             354500 non-null object\n",
      "education        337877 non-null object\n",
      "email            304015 non-null object\n",
      "employment       355778 non-null object\n",
      "experience       294333 non-null object\n",
      "hr.agency        358555 non-null object\n",
      "industry         358557 non-null object\n",
      "lat              362439 non-null object\n",
      "lng              362439 non-null object\n",
      "location         358555 non-null object\n",
      "logo             12771 non-null object\n",
      "metro            1174 non-null object\n",
      "name             358555 non-null object\n",
      "phone            320534 non-null object\n",
      "qualification    337530 non-null object\n",
      "salary           356917 non-null object\n",
      "schedule         355505 non-null object\n",
      "text             342299 non-null object\n",
      "update.date      358555 non-null object\n",
      "dtypes: object(23)\n",
      "memory usage: 66.4+ MB\n"
     ]
    }
   ],
   "source": [
    "df.info()"
   ]
  },
  {
   "cell_type": "code",
   "execution_count": 32,
   "metadata": {},
   "outputs": [
    {
     "data": {
      "text/plain": [
       "array([37.575513, 37.370778, 35.002325, ..., 48.316975, 47.251186,\n",
       "       39.774221000000004], dtype=object)"
      ]
     },
     "execution_count": 32,
     "metadata": {},
     "output_type": "execute_result"
    }
   ],
   "source": [
    "df['lng'].unique()"
   ]
  },
  {
   "cell_type": "code",
   "execution_count": 33,
   "metadata": {},
   "outputs": [
    {
     "data": {
      "text/plain": [
       "count     362439\n",
       "unique    111577\n",
       "top           -1\n",
       "freq        5466\n",
       "Name: lng, dtype: int64"
      ]
     },
     "execution_count": 33,
     "metadata": {},
     "output_type": "execute_result"
    }
   ],
   "source": [
    "df['lng'].describe()"
   ]
  },
  {
   "cell_type": "code",
   "execution_count": 34,
   "metadata": {},
   "outputs": [],
   "source": [
    "df['lng']=df['lng'].astype(float)"
   ]
  },
  {
   "cell_type": "code",
   "execution_count": 35,
   "metadata": {},
   "outputs": [],
   "source": [
    "df['lat']=df['lat'].astype(float)"
   ]
  },
  {
   "cell_type": "code",
   "execution_count": 43,
   "metadata": {},
   "outputs": [
    {
     "data": {
      "text/plain": [
       "<matplotlib.collections.PathCollection at 0x7fec38c429b0>"
      ]
     },
     "execution_count": 43,
     "metadata": {},
     "output_type": "execute_result"
    },
    {
     "data": {
      "image/png": "[encoded data removed]",
      "text/plain": [
       "<matplotlib.figure.Figure at 0x7fec36b3ed68>"
      ]
     },
     "metadata": {
      "needs_background": "light"
     },
     "output_type": "display_data"
    }
   ],
   "source": [
    "plt.figure(figsize=(15,10))\n",
    "plt.scatter(df['lng']* 1.1, df['lat'], alpha=0.01, s=3 )"
   ]
  },
  {
   "cell_type": "code",
   "execution_count": 44,
   "metadata": {},
   "outputs": [
    {
     "data": {
      "text/plain": [
       "contact.name      18512\n",
       "creation.date      3882\n",
       "currency           3882\n",
       "description        6443\n",
       "duty               7939\n",
       "education         24562\n",
       "email             58424\n",
       "employment         6661\n",
       "experience        68106\n",
       "hr.agency          3884\n",
       "industry           3882\n",
       "lat                   0\n",
       "lng                   0\n",
       "location           3884\n",
       "logo             349668\n",
       "metro            361265\n",
       "name               3884\n",
       "phone             41905\n",
       "qualification     24909\n",
       "salary             5522\n",
       "schedule           6934\n",
       "text              20140\n",
       "update.date        3884\n",
       "dtype: int64"
      ]
     },
     "execution_count": 44,
     "metadata": {},
     "output_type": "execute_result"
    }
   ],
   "source": [
    "df.isna().sum()"
   ]
  },
  {
   "cell_type": "code",
   "execution_count": 45,
   "metadata": {},
   "outputs": [
    {
     "data": {
      "text/plain": [
       "array(['Среднее', 'Среднее профессиональное', nan, 'Незаконченное высшее',\n",
       "       'Высшее', 'Образование, наука', None], dtype=object)"
      ]
     },
     "execution_count": 45,
     "metadata": {},
     "output_type": "execute_result"
    }
   ],
   "source": [
    "df['education'].unique()"
   ]
  },
  {
   "cell_type": "code",
   "execution_count": 48,
   "metadata": {},
   "outputs": [],
   "source": [
    "df.loc[df['education'] == 'Образование, наука'] = None"
   ]
  },
  {
   "cell_type": "code",
   "execution_count": 51,
   "metadata": {},
   "outputs": [
    {
     "data": {
      "text/plain": [
       "array(['Среднее', 'Среднее профессиональное', 'Пусто',\n",
       "       'Незаконченное высшее', 'Высшее'], dtype=object)"
      ]
     },
     "execution_count": 51,
     "metadata": {},
     "output_type": "execute_result"
    }
   ],
   "source": [
    "df['education'].unique()"
   ]
  },
  {
   "cell_type": "code",
   "execution_count": 50,
   "metadata": {},
   "outputs": [],
   "source": [
    "df['education'].fillna(\"Пусто\", inplace=True)"
   ]
  },
  {
   "cell_type": "code",
   "execution_count": 52,
   "metadata": {},
   "outputs": [
    {
     "data": {
      "text/plain": [
       "array(['Частичная занятость', 'Удаленная', 'Временная',\n",
       "       'Полная занятость', 'Сезонная', 'Не указано', 'Стажировка', None,\n",
       "       '52.552041', '56.32775', nan], dtype=object)"
      ]
     },
     "execution_count": 52,
     "metadata": {},
     "output_type": "execute_result"
    }
   ],
   "source": [
    "df.employment.unique()"
   ]
  },
  {
   "cell_type": "code",
   "execution_count": 73,
   "metadata": {},
   "outputs": [],
   "source": [
    "df.loc[df['employment'] == '52.552041'] = None"
   ]
  },
  {
   "cell_type": "code",
   "execution_count": 68,
   "metadata": {},
   "outputs": [],
   "source": [
    "df.loc[df['employment'] == '56.32775'] = None"
   ]
  },
  {
   "cell_type": "code",
   "execution_count": null,
   "metadata": {},
   "outputs": [],
   "source": []
  },
  {
   "cell_type": "code",
   "execution_count": 69,
   "metadata": {},
   "outputs": [
    {
     "data": {
      "text/plain": [
       "array(['Вахтовый метод', 'Сменный график', 'Гибкий график', '\\n    ',\n",
       "       'Полный рабочий день', 'Неполный рабочий день', 'Пусто',\n",
       "       'Не указано', 'Ненормированный рабочий день', None], dtype=object)"
      ]
     },
     "execution_count": 69,
     "metadata": {},
     "output_type": "execute_result"
    }
   ],
   "source": [
    "df.schedule.unique()"
   ]
  },
  {
   "cell_type": "code",
   "execution_count": 61,
   "metadata": {},
   "outputs": [],
   "source": [
    "df.industry.fillna(\"Пусто\", inplace=True)\n",
    "df.education.fillna(\"Пусто\", inplace=True)\n",
    "df.schedule.fillna(\"Пусто\", inplace = True)\n",
    "df.employment.fillna(\"unknown\", inplace=True)"
   ]
  },
  {
   "cell_type": "code",
   "execution_count": 80,
   "metadata": {},
   "outputs": [],
   "source": [
    "ras_cols=['industry', 'education', 'employment', 'schedule']"
   ]
  },
  {
   "cell_type": "code",
   "execution_count": 86,
   "metadata": {},
   "outputs": [],
   "source": [
    "ras_cols_df=df[['industry', 'education', 'employment', 'schedule']]"
   ]
  },
  {
   "cell_type": "code",
   "execution_count": 91,
   "metadata": {},
   "outputs": [
    {
     "data": {
      "text/plain": [
       "array(['Среднее', 'Среднее профессиональное', 'Пусто',\n",
       "       'Незаконченное высшее', 'Высшее'], dtype=object)"
      ]
     },
     "execution_count": 91,
     "metadata": {},
     "output_type": "execute_result"
    }
   ],
   "source": [
    "df.education.unique()"
   ]
  },
  {
   "cell_type": "code",
   "execution_count": null,
   "metadata": {},
   "outputs": [],
   "source": []
  },
  {
   "cell_type": "code",
   "execution_count": 93,
   "metadata": {
    "scrolled": false
   },
   "outputs": [
    {
     "data": {
      "image/png": "[encoded data removed]",
      "text/plain": [
       "<matplotlib.figure.Figure at 0x7fec38a8cc18>"
      ]
     },
     "metadata": {},
     "output_type": "display_data"
    },
    {
     "data": {
      "image/png": "[encoded data removed]",
      "text/plain": [
       "<matplotlib.figure.Figure at 0x7fec36aa3898>"
      ]
     },
     "metadata": {},
     "output_type": "display_data"
    },
    {
     "data": {
      "image/png": "[encoded data removed]",
      "text/plain": [
       "<matplotlib.figure.Figure at 0x7fec388b26a0>"
      ]
     },
     "metadata": {},
     "output_type": "display_data"
    },
    {
     "data": {
      "image/png": "[encoded data removed]",
      "text/plain": [
       "<matplotlib.figure.Figure at 0x7fec388030f0>"
      ]
     },
     "metadata": {},
     "output_type": "display_data"
    }
   ],
   "source": [
    "for c in ras_cols:\n",
    "    plt.subplots(figsize=(13,8))\n",
    "    plt.pie(df[c].value_counts(), labels=df[c].value_counts().index, radius=1.5, autopct='%.2f%%')"
   ]
  },
  {
   "cell_type": "markdown",
   "metadata": {},
   "source": [
    "# Влияние значащих переменных на зависимую"
   ]
  },
  {
   "cell_type": "code",
   "execution_count": 94,
   "metadata": {},
   "outputs": [
    {
     "data": {
      "text/plain": [
       "<matplotlib.collections.PathCollection at 0x7fec38870cf8>"
      ]
     },
     "execution_count": 94,
     "metadata": {},
     "output_type": "execute_result"
    },
    {
     "data": {
      "image/png": "[encoded data removed]",
      "text/plain": [
       "<matplotlib.figure.Figure at 0x7fec387ff278>"
      ]
     },
     "metadata": {
      "needs_background": "light"
     },
     "output_type": "display_data"
    }
   ],
   "source": [
    "plt.figure(figsize=(12,10))\n",
    "plt.scatter(df['employment'], df['industry'], alpha=0.01)"
   ]
  },
  {
   "cell_type": "code",
   "execution_count": 95,
   "metadata": {},
   "outputs": [],
   "source": [
    "from sklearn.metrics import accuracy_score, roc_auc_score"
   ]
  },
  {
   "cell_type": "code",
   "execution_count": 96,
   "metadata": {},
   "outputs": [],
   "source": [
    "y_pred=[1,0,2,3,1,1]\n",
    "y_test=[1,1,1,3,1,1]"
   ]
  },
  {
   "cell_type": "code",
   "execution_count": 97,
   "metadata": {},
   "outputs": [
    {
     "data": {
      "text/plain": [
       "0.6666666666666666"
      ]
     },
     "execution_count": 97,
     "metadata": {},
     "output_type": "execute_result"
    }
   ],
   "source": [
    "accuracy_score(y_test, y_pred)"
   ]
  },
  {
   "cell_type": "markdown",
   "metadata": {},
   "source": [
    "# Кодирование целевой переменной"
   ]
  },
  {
   "cell_type": "code",
   "execution_count": 99,
   "metadata": {},
   "outputs": [],
   "source": [
    "from sklearn.preprocessing import LabelEncoder"
   ]
  },
  {
   "cell_type": "code",
   "execution_count": 100,
   "metadata": {},
   "outputs": [],
   "source": [
    "le=LabelEncoder()"
   ]
  },
  {
   "cell_type": "code",
   "execution_count": 102,
   "metadata": {},
   "outputs": [],
   "source": [
    "industry_le=le.fit(df['industry'])"
   ]
  },
  {
   "cell_type": "code",
   "execution_count": 103,
   "metadata": {},
   "outputs": [],
   "source": [
    "df['industry_le']=le.fit_transform(df['industry'])"
   ]
  },
  {
   "cell_type": "code",
   "execution_count": 106,
   "metadata": {},
   "outputs": [
    {
     "data": {
      "text/plain": [
       "0     0\n",
       "1    22\n",
       "2     0\n",
       "3    11\n",
       "4     0\n",
       "5    22\n",
       "6     0\n",
       "7     0\n",
       "8    16\n",
       "9    22\n",
       "Name: industry_le, dtype: int64"
      ]
     },
     "execution_count": 106,
     "metadata": {},
     "output_type": "execute_result"
    }
   ],
   "source": [
    "df['industry_le'].head(10)"
   ]
  },
  {
   "cell_type": "code",
   "execution_count": 107,
   "metadata": {},
   "outputs": [],
   "source": [
    "df['ind']=industry_le.inverse_transform(df['industry_le'])"
   ]
  },
  {
   "cell_type": "code",
   "execution_count": 108,
   "metadata": {},
   "outputs": [
    {
     "data": {
      "text/plain": [
       "0    Административная работа, секретариат, АХО\n",
       "1        Продажи, закупки, снабжение, торговля\n",
       "2    Административная работа, секретариат, АХО\n",
       "3       Кадровая служба, управление персоналом\n",
       "4    Административная работа, секретариат, АХО\n",
       "5        Продажи, закупки, снабжение, торговля\n",
       "6    Административная работа, секретариат, АХО\n",
       "7    Административная работа, секретариат, АХО\n",
       "8                       Маркетинг, реклама, PR\n",
       "9        Продажи, закупки, снабжение, торговля\n",
       "Name: ind, dtype: object"
      ]
     },
     "execution_count": 108,
     "metadata": {},
     "output_type": "execute_result"
    }
   ],
   "source": [
    "df['ind'][:10]"
   ]
  },
  {
   "cell_type": "code",
   "execution_count": 112,
   "metadata": {},
   "outputs": [
    {
     "ename": "KeyError",
     "evalue": "\"['industry'] not found in axis\"",
     "output_type": "error",
     "traceback": [
      "\u001b[0;31m---------------------------------------------------------------------------\u001b[0m",
      "\u001b[0;31mKeyError\u001b[0m                                  Traceback (most recent call last)",
      "\u001b[0;32m<ipython-input-112-adaa95317be7>\u001b[0m in \u001b[0;36m<module>\u001b[0;34m\u001b[0m\n\u001b[0;32m----> 1\u001b[0;31m \u001b[0mras_cols_df\u001b[0m\u001b[0;34m.\u001b[0m\u001b[0mdrop\u001b[0m\u001b[0;34m(\u001b[0m\u001b[0mcolumns\u001b[0m\u001b[0;34m=\u001b[0m\u001b[0;34m'industry'\u001b[0m\u001b[0;34m,\u001b[0m\u001b[0minplace\u001b[0m\u001b[0;34m=\u001b[0m\u001b[0;32mTrue\u001b[0m\u001b[0;34m)\u001b[0m\u001b[0;34m\u001b[0m\u001b[0m\n\u001b[0m",
      "\u001b[0;32m/usr/local/lib/python3.6/dist-packages/pandas/core/frame.py\u001b[0m in \u001b[0;36mdrop\u001b[0;34m(self, labels, axis, index, columns, level, inplace, errors)\u001b[0m\n\u001b[1;32m   3695\u001b[0m                                            \u001b[0mindex\u001b[0m\u001b[0;34m=\u001b[0m\u001b[0mindex\u001b[0m\u001b[0;34m,\u001b[0m \u001b[0mcolumns\u001b[0m\u001b[0;34m=\u001b[0m\u001b[0mcolumns\u001b[0m\u001b[0;34m,\u001b[0m\u001b[0;34m\u001b[0m\u001b[0m\n\u001b[1;32m   3696\u001b[0m                                            \u001b[0mlevel\u001b[0m\u001b[0;34m=\u001b[0m\u001b[0mlevel\u001b[0m\u001b[0;34m,\u001b[0m \u001b[0minplace\u001b[0m\u001b[0;34m=\u001b[0m\u001b[0minplace\u001b[0m\u001b[0;34m,\u001b[0m\u001b[0;34m\u001b[0m\u001b[0m\n\u001b[0;32m-> 3697\u001b[0;31m                                            errors=errors)\n\u001b[0m\u001b[1;32m   3698\u001b[0m \u001b[0;34m\u001b[0m\u001b[0m\n\u001b[1;32m   3699\u001b[0m     @rewrite_axis_style_signature('mapper', [('copy', True),\n",
      "\u001b[0;32m/usr/local/lib/python3.6/dist-packages/pandas/core/generic.py\u001b[0m in \u001b[0;36mdrop\u001b[0;34m(self, labels, axis, index, columns, level, inplace, errors)\u001b[0m\n\u001b[1;32m   3109\u001b[0m         \u001b[0;32mfor\u001b[0m \u001b[0maxis\u001b[0m\u001b[0;34m,\u001b[0m \u001b[0mlabels\u001b[0m \u001b[0;32min\u001b[0m \u001b[0maxes\u001b[0m\u001b[0;34m.\u001b[0m\u001b[0mitems\u001b[0m\u001b[0;34m(\u001b[0m\u001b[0;34m)\u001b[0m\u001b[0;34m:\u001b[0m\u001b[0;34m\u001b[0m\u001b[0m\n\u001b[1;32m   3110\u001b[0m             \u001b[0;32mif\u001b[0m \u001b[0mlabels\u001b[0m \u001b[0;32mis\u001b[0m \u001b[0;32mnot\u001b[0m \u001b[0;32mNone\u001b[0m\u001b[0;34m:\u001b[0m\u001b[0;34m\u001b[0m\u001b[0m\n\u001b[0;32m-> 3111\u001b[0;31m                 \u001b[0mobj\u001b[0m \u001b[0;34m=\u001b[0m \u001b[0mobj\u001b[0m\u001b[0;34m.\u001b[0m\u001b[0m_drop_axis\u001b[0m\u001b[0;34m(\u001b[0m\u001b[0mlabels\u001b[0m\u001b[0;34m,\u001b[0m \u001b[0maxis\u001b[0m\u001b[0;34m,\u001b[0m \u001b[0mlevel\u001b[0m\u001b[0;34m=\u001b[0m\u001b[0mlevel\u001b[0m\u001b[0;34m,\u001b[0m \u001b[0merrors\u001b[0m\u001b[0;34m=\u001b[0m\u001b[0merrors\u001b[0m\u001b[0;34m)\u001b[0m\u001b[0;34m\u001b[0m\u001b[0m\n\u001b[0m\u001b[1;32m   3112\u001b[0m \u001b[0;34m\u001b[0m\u001b[0m\n\u001b[1;32m   3113\u001b[0m         \u001b[0;32mif\u001b[0m \u001b[0minplace\u001b[0m\u001b[0;34m:\u001b[0m\u001b[0;34m\u001b[0m\u001b[0m\n",
      "\u001b[0;32m/usr/local/lib/python3.6/dist-packages/pandas/core/generic.py\u001b[0m in \u001b[0;36m_drop_axis\u001b[0;34m(self, labels, axis, level, errors)\u001b[0m\n\u001b[1;32m   3141\u001b[0m                 \u001b[0mnew_axis\u001b[0m \u001b[0;34m=\u001b[0m \u001b[0maxis\u001b[0m\u001b[0;34m.\u001b[0m\u001b[0mdrop\u001b[0m\u001b[0;34m(\u001b[0m\u001b[0mlabels\u001b[0m\u001b[0;34m,\u001b[0m \u001b[0mlevel\u001b[0m\u001b[0;34m=\u001b[0m\u001b[0mlevel\u001b[0m\u001b[0;34m,\u001b[0m \u001b[0merrors\u001b[0m\u001b[0;34m=\u001b[0m\u001b[0merrors\u001b[0m\u001b[0;34m)\u001b[0m\u001b[0;34m\u001b[0m\u001b[0m\n\u001b[1;32m   3142\u001b[0m             \u001b[0;32melse\u001b[0m\u001b[0;34m:\u001b[0m\u001b[0;34m\u001b[0m\u001b[0m\n\u001b[0;32m-> 3143\u001b[0;31m                 \u001b[0mnew_axis\u001b[0m \u001b[0;34m=\u001b[0m \u001b[0maxis\u001b[0m\u001b[0;34m.\u001b[0m\u001b[0mdrop\u001b[0m\u001b[0;34m(\u001b[0m\u001b[0mlabels\u001b[0m\u001b[0;34m,\u001b[0m \u001b[0merrors\u001b[0m\u001b[0;34m=\u001b[0m\u001b[0merrors\u001b[0m\u001b[0;34m)\u001b[0m\u001b[0;34m\u001b[0m\u001b[0m\n\u001b[0m\u001b[1;32m   3144\u001b[0m             \u001b[0mresult\u001b[0m \u001b[0;34m=\u001b[0m \u001b[0mself\u001b[0m\u001b[0;34m.\u001b[0m\u001b[0mreindex\u001b[0m\u001b[0;34m(\u001b[0m\u001b[0;34m**\u001b[0m\u001b[0;34m{\u001b[0m\u001b[0maxis_name\u001b[0m\u001b[0;34m:\u001b[0m \u001b[0mnew_axis\u001b[0m\u001b[0;34m}\u001b[0m\u001b[0;34m)\u001b[0m\u001b[0;34m\u001b[0m\u001b[0m\n\u001b[1;32m   3145\u001b[0m \u001b[0;34m\u001b[0m\u001b[0m\n",
      "\u001b[0;32m/usr/local/lib/python3.6/dist-packages/pandas/core/indexes/base.py\u001b[0m in \u001b[0;36mdrop\u001b[0;34m(self, labels, errors)\u001b[0m\n\u001b[1;32m   4402\u001b[0m             \u001b[0;32mif\u001b[0m \u001b[0merrors\u001b[0m \u001b[0;34m!=\u001b[0m \u001b[0;34m'ignore'\u001b[0m\u001b[0;34m:\u001b[0m\u001b[0;34m\u001b[0m\u001b[0m\n\u001b[1;32m   4403\u001b[0m                 raise KeyError(\n\u001b[0;32m-> 4404\u001b[0;31m                     '{} not found in axis'.format(labels[mask]))\n\u001b[0m\u001b[1;32m   4405\u001b[0m             \u001b[0mindexer\u001b[0m \u001b[0;34m=\u001b[0m \u001b[0mindexer\u001b[0m\u001b[0;34m[\u001b[0m\u001b[0;34m~\u001b[0m\u001b[0mmask\u001b[0m\u001b[0;34m]\u001b[0m\u001b[0;34m\u001b[0m\u001b[0m\n\u001b[1;32m   4406\u001b[0m         \u001b[0;32mreturn\u001b[0m \u001b[0mself\u001b[0m\u001b[0;34m.\u001b[0m\u001b[0mdelete\u001b[0m\u001b[0;34m(\u001b[0m\u001b[0mindexer\u001b[0m\u001b[0;34m)\u001b[0m\u001b[0;34m\u001b[0m\u001b[0m\n",
      "\u001b[0;31mKeyError\u001b[0m: \"['industry'] not found in axis\""
     ]
    }
   ],
   "source": [
    "ras_cols_df.drop(columns='industry',inplace=True)"
   ]
  },
  {
   "cell_type": "code",
   "execution_count": 113,
   "metadata": {},
   "outputs": [
    {
     "data": {
      "text/html": [
       "<div>\n",
       "<style scoped>\n",
       "    .dataframe tbody tr th:only-of-type {\n",
       "        vertical-align: middle;\n",
       "    }\n",
       "\n",
       "    .dataframe tbody tr th {\n",
       "        vertical-align: top;\n",
       "    }\n",
       "\n",
       "    .dataframe thead th {\n",
       "        text-align: right;\n",
       "    }\n",
       "</style>\n",
       "<table border=\"1\" class=\"dataframe\">\n",
       "  <thead>\n",
       "    <tr style=\"text-align: right;\">\n",
       "      <th></th>\n",
       "      <th>education</th>\n",
       "      <th>employment</th>\n",
       "      <th>schedule</th>\n",
       "    </tr>\n",
       "  </thead>\n",
       "  <tbody>\n",
       "    <tr>\n",
       "      <th>0</th>\n",
       "      <td>Среднее</td>\n",
       "      <td>Частичная занятость</td>\n",
       "      <td>Вахтовый метод</td>\n",
       "    </tr>\n",
       "    <tr>\n",
       "      <th>1</th>\n",
       "      <td>Среднее профессиональное</td>\n",
       "      <td>Частичная занятость</td>\n",
       "      <td>Сменный график</td>\n",
       "    </tr>\n",
       "    <tr>\n",
       "      <th>2</th>\n",
       "      <td>Пусто</td>\n",
       "      <td>Частичная занятость</td>\n",
       "      <td>Гибкий график</td>\n",
       "    </tr>\n",
       "    <tr>\n",
       "      <th>3</th>\n",
       "      <td>Незаконченное высшее</td>\n",
       "      <td>Частичная занятость</td>\n",
       "      <td>Сменный график</td>\n",
       "    </tr>\n",
       "    <tr>\n",
       "      <th>4</th>\n",
       "      <td>Среднее</td>\n",
       "      <td>Удаленная</td>\n",
       "      <td>Гибкий график</td>\n",
       "    </tr>\n",
       "  </tbody>\n",
       "</table>\n",
       "</div>"
      ],
      "text/plain": [
       "                  education           employment        schedule\n",
       "0                   Среднее  Частичная занятость  Вахтовый метод\n",
       "1  Среднее профессиональное  Частичная занятость  Сменный график\n",
       "2                     Пусто  Частичная занятость   Гибкий график\n",
       "3      Незаконченное высшее  Частичная занятость  Сменный график\n",
       "4                   Среднее            Удаленная   Гибкий график"
      ]
     },
     "execution_count": 113,
     "metadata": {},
     "output_type": "execute_result"
    }
   ],
   "source": [
    "ras_cols_df.head()"
   ]
  },
  {
   "cell_type": "code",
   "execution_count": 114,
   "metadata": {},
   "outputs": [],
   "source": [
    "ras_cols_dummies=pd.get_dummies(ras_cols_df)"
   ]
  },
  {
   "cell_type": "code",
   "execution_count": 115,
   "metadata": {},
   "outputs": [
    {
     "data": {
      "text/html": [
       "<div>\n",
       "<style scoped>\n",
       "    .dataframe tbody tr th:only-of-type {\n",
       "        vertical-align: middle;\n",
       "    }\n",
       "\n",
       "    .dataframe tbody tr th {\n",
       "        vertical-align: top;\n",
       "    }\n",
       "\n",
       "    .dataframe thead th {\n",
       "        text-align: right;\n",
       "    }\n",
       "</style>\n",
       "<table border=\"1\" class=\"dataframe\">\n",
       "  <thead>\n",
       "    <tr style=\"text-align: right;\">\n",
       "      <th></th>\n",
       "      <th>education_Высшее</th>\n",
       "      <th>education_Незаконченное высшее</th>\n",
       "      <th>education_Пусто</th>\n",
       "      <th>education_Среднее</th>\n",
       "      <th>education_Среднее профессиональное</th>\n",
       "      <th>employment_unknown</th>\n",
       "      <th>employment_Временная</th>\n",
       "      <th>employment_Не указано</th>\n",
       "      <th>employment_Полная занятость</th>\n",
       "      <th>employment_Сезонная</th>\n",
       "      <th>...</th>\n",
       "      <th>employment_Частичная занятость</th>\n",
       "      <th>schedule_</th>\n",
       "      <th>schedule_Вахтовый метод</th>\n",
       "      <th>schedule_Гибкий график</th>\n",
       "      <th>schedule_Не указано</th>\n",
       "      <th>schedule_Ненормированный рабочий день</th>\n",
       "      <th>schedule_Неполный рабочий день</th>\n",
       "      <th>schedule_Полный рабочий день</th>\n",
       "      <th>schedule_Пусто</th>\n",
       "      <th>schedule_Сменный график</th>\n",
       "    </tr>\n",
       "  </thead>\n",
       "  <tbody>\n",
       "    <tr>\n",
       "      <th>0</th>\n",
       "      <td>0</td>\n",
       "      <td>0</td>\n",
       "      <td>0</td>\n",
       "      <td>1</td>\n",
       "      <td>0</td>\n",
       "      <td>0</td>\n",
       "      <td>0</td>\n",
       "      <td>0</td>\n",
       "      <td>0</td>\n",
       "      <td>0</td>\n",
       "      <td>...</td>\n",
       "      <td>1</td>\n",
       "      <td>0</td>\n",
       "      <td>1</td>\n",
       "      <td>0</td>\n",
       "      <td>0</td>\n",
       "      <td>0</td>\n",
       "      <td>0</td>\n",
       "      <td>0</td>\n",
       "      <td>0</td>\n",
       "      <td>0</td>\n",
       "    </tr>\n",
       "    <tr>\n",
       "      <th>1</th>\n",
       "      <td>0</td>\n",
       "      <td>0</td>\n",
       "      <td>0</td>\n",
       "      <td>0</td>\n",
       "      <td>1</td>\n",
       "      <td>0</td>\n",
       "      <td>0</td>\n",
       "      <td>0</td>\n",
       "      <td>0</td>\n",
       "      <td>0</td>\n",
       "      <td>...</td>\n",
       "      <td>1</td>\n",
       "      <td>0</td>\n",
       "      <td>0</td>\n",
       "      <td>0</td>\n",
       "      <td>0</td>\n",
       "      <td>0</td>\n",
       "      <td>0</td>\n",
       "      <td>0</td>\n",
       "      <td>0</td>\n",
       "      <td>1</td>\n",
       "    </tr>\n",
       "    <tr>\n",
       "      <th>2</th>\n",
       "      <td>0</td>\n",
       "      <td>0</td>\n",
       "      <td>1</td>\n",
       "      <td>0</td>\n",
       "      <td>0</td>\n",
       "      <td>0</td>\n",
       "      <td>0</td>\n",
       "      <td>0</td>\n",
       "      <td>0</td>\n",
       "      <td>0</td>\n",
       "      <td>...</td>\n",
       "      <td>1</td>\n",
       "      <td>0</td>\n",
       "      <td>0</td>\n",
       "      <td>1</td>\n",
       "      <td>0</td>\n",
       "      <td>0</td>\n",
       "      <td>0</td>\n",
       "      <td>0</td>\n",
       "      <td>0</td>\n",
       "      <td>0</td>\n",
       "    </tr>\n",
       "    <tr>\n",
       "      <th>3</th>\n",
       "      <td>0</td>\n",
       "      <td>1</td>\n",
       "      <td>0</td>\n",
       "      <td>0</td>\n",
       "      <td>0</td>\n",
       "      <td>0</td>\n",
       "      <td>0</td>\n",
       "      <td>0</td>\n",
       "      <td>0</td>\n",
       "      <td>0</td>\n",
       "      <td>...</td>\n",
       "      <td>1</td>\n",
       "      <td>0</td>\n",
       "      <td>0</td>\n",
       "      <td>0</td>\n",
       "      <td>0</td>\n",
       "      <td>0</td>\n",
       "      <td>0</td>\n",
       "      <td>0</td>\n",
       "      <td>0</td>\n",
       "      <td>1</td>\n",
       "    </tr>\n",
       "    <tr>\n",
       "      <th>4</th>\n",
       "      <td>0</td>\n",
       "      <td>0</td>\n",
       "      <td>0</td>\n",
       "      <td>1</td>\n",
       "      <td>0</td>\n",
       "      <td>0</td>\n",
       "      <td>0</td>\n",
       "      <td>0</td>\n",
       "      <td>0</td>\n",
       "      <td>0</td>\n",
       "      <td>...</td>\n",
       "      <td>0</td>\n",
       "      <td>0</td>\n",
       "      <td>0</td>\n",
       "      <td>1</td>\n",
       "      <td>0</td>\n",
       "      <td>0</td>\n",
       "      <td>0</td>\n",
       "      <td>0</td>\n",
       "      <td>0</td>\n",
       "      <td>0</td>\n",
       "    </tr>\n",
       "  </tbody>\n",
       "</table>\n",
       "<p>5 rows × 22 columns</p>\n",
       "</div>"
      ],
      "text/plain": [
       "   education_Высшее  education_Незаконченное высшее  education_Пусто  \\\n",
       "0                 0                               0                0   \n",
       "1                 0                               0                0   \n",
       "2                 0                               0                1   \n",
       "3                 0                               1                0   \n",
       "4                 0                               0                0   \n",
       "\n",
       "   education_Среднее  education_Среднее профессиональное  employment_unknown  \\\n",
       "0                  1                                   0                   0   \n",
       "1                  0                                   1                   0   \n",
       "2                  0                                   0                   0   \n",
       "3                  0                                   0                   0   \n",
       "4                  1                                   0                   0   \n",
       "\n",
       "   employment_Временная  employment_Не указано  employment_Полная занятость  \\\n",
       "0                     0                      0                            0   \n",
       "1                     0                      0                            0   \n",
       "2                     0                      0                            0   \n",
       "3                     0                      0                            0   \n",
       "4                     0                      0                            0   \n",
       "\n",
       "   employment_Сезонная           ...             \\\n",
       "0                    0           ...              \n",
       "1                    0           ...              \n",
       "2                    0           ...              \n",
       "3                    0           ...              \n",
       "4                    0           ...              \n",
       "\n",
       "   employment_Частичная занятость  schedule_\\n      schedule_Вахтовый метод  \\\n",
       "0                               1                0                        1   \n",
       "1                               1                0                        0   \n",
       "2                               1                0                        0   \n",
       "3                               1                0                        0   \n",
       "4                               0                0                        0   \n",
       "\n",
       "   schedule_Гибкий график  schedule_Не указано  \\\n",
       "0                       0                    0   \n",
       "1                       0                    0   \n",
       "2                       1                    0   \n",
       "3                       0                    0   \n",
       "4                       1                    0   \n",
       "\n",
       "   schedule_Ненормированный рабочий день  schedule_Неполный рабочий день  \\\n",
       "0                                      0                               0   \n",
       "1                                      0                               0   \n",
       "2                                      0                               0   \n",
       "3                                      0                               0   \n",
       "4                                      0                               0   \n",
       "\n",
       "   schedule_Полный рабочий день  schedule_Пусто  schedule_Сменный график  \n",
       "0                             0               0                        0  \n",
       "1                             0               0                        1  \n",
       "2                             0               0                        0  \n",
       "3                             0               0                        1  \n",
       "4                             0               0                        0  \n",
       "\n",
       "[5 rows x 22 columns]"
      ]
     },
     "execution_count": 115,
     "metadata": {},
     "output_type": "execute_result"
    }
   ],
   "source": [
    "ras_cols_dummies.head()"
   ]
  },
  {
   "cell_type": "code",
   "execution_count": 116,
   "metadata": {},
   "outputs": [],
   "source": [
    "ras_cols_dummies['industry_le']=df['industry_le']"
   ]
  },
  {
   "cell_type": "code",
   "execution_count": 117,
   "metadata": {},
   "outputs": [
    {
     "data": {
      "text/html": [
       "<div>\n",
       "<style scoped>\n",
       "    .dataframe tbody tr th:only-of-type {\n",
       "        vertical-align: middle;\n",
       "    }\n",
       "\n",
       "    .dataframe tbody tr th {\n",
       "        vertical-align: top;\n",
       "    }\n",
       "\n",
       "    .dataframe thead th {\n",
       "        text-align: right;\n",
       "    }\n",
       "</style>\n",
       "<table border=\"1\" class=\"dataframe\">\n",
       "  <thead>\n",
       "    <tr style=\"text-align: right;\">\n",
       "      <th></th>\n",
       "      <th>education_Высшее</th>\n",
       "      <th>education_Незаконченное высшее</th>\n",
       "      <th>education_Пусто</th>\n",
       "      <th>education_Среднее</th>\n",
       "      <th>education_Среднее профессиональное</th>\n",
       "      <th>employment_unknown</th>\n",
       "      <th>employment_Временная</th>\n",
       "      <th>employment_Не указано</th>\n",
       "      <th>employment_Полная занятость</th>\n",
       "      <th>employment_Сезонная</th>\n",
       "      <th>...</th>\n",
       "      <th>schedule_</th>\n",
       "      <th>schedule_Вахтовый метод</th>\n",
       "      <th>schedule_Гибкий график</th>\n",
       "      <th>schedule_Не указано</th>\n",
       "      <th>schedule_Ненормированный рабочий день</th>\n",
       "      <th>schedule_Неполный рабочий день</th>\n",
       "      <th>schedule_Полный рабочий день</th>\n",
       "      <th>schedule_Пусто</th>\n",
       "      <th>schedule_Сменный график</th>\n",
       "      <th>industry_le</th>\n",
       "    </tr>\n",
       "  </thead>\n",
       "  <tbody>\n",
       "    <tr>\n",
       "      <th>education_Высшее</th>\n",
       "      <td>1.000000</td>\n",
       "      <td>-0.066310</td>\n",
       "      <td>-0.194110</td>\n",
       "      <td>-0.359449</td>\n",
       "      <td>-0.463224</td>\n",
       "      <td>-0.105280</td>\n",
       "      <td>-0.060909</td>\n",
       "      <td>0.002597</td>\n",
       "      <td>0.115721</td>\n",
       "      <td>-0.046198</td>\n",
       "      <td>...</td>\n",
       "      <td>0.001681</td>\n",
       "      <td>-0.045299</td>\n",
       "      <td>-0.012534</td>\n",
       "      <td>0.002086</td>\n",
       "      <td>0.044463</td>\n",
       "      <td>0.011632</td>\n",
       "      <td>0.144338</td>\n",
       "      <td>-0.104719</td>\n",
       "      <td>-0.129772</td>\n",
       "      <td>-0.243242</td>\n",
       "    </tr>\n",
       "    <tr>\n",
       "      <th>education_Незаконченное высшее</th>\n",
       "      <td>-0.066310</td>\n",
       "      <td>1.000000</td>\n",
       "      <td>-0.034775</td>\n",
       "      <td>-0.064395</td>\n",
       "      <td>-0.082986</td>\n",
       "      <td>-0.023169</td>\n",
       "      <td>-0.001428</td>\n",
       "      <td>-0.008945</td>\n",
       "      <td>0.020506</td>\n",
       "      <td>-0.005638</td>\n",
       "      <td>...</td>\n",
       "      <td>-0.009056</td>\n",
       "      <td>-0.004325</td>\n",
       "      <td>-0.000537</td>\n",
       "      <td>-0.009500</td>\n",
       "      <td>-0.004141</td>\n",
       "      <td>-0.001370</td>\n",
       "      <td>0.016520</td>\n",
       "      <td>-0.023379</td>\n",
       "      <td>0.000863</td>\n",
       "      <td>-0.005588</td>\n",
       "    </tr>\n",
       "    <tr>\n",
       "      <th>education_Пусто</th>\n",
       "      <td>-0.194110</td>\n",
       "      <td>-0.034775</td>\n",
       "      <td>1.000000</td>\n",
       "      <td>-0.188503</td>\n",
       "      <td>-0.242925</td>\n",
       "      <td>0.547396</td>\n",
       "      <td>0.046161</td>\n",
       "      <td>-0.012330</td>\n",
       "      <td>-0.319148</td>\n",
       "      <td>-0.023929</td>\n",
       "      <td>...</td>\n",
       "      <td>-0.013050</td>\n",
       "      <td>0.000742</td>\n",
       "      <td>0.010456</td>\n",
       "      <td>-0.013969</td>\n",
       "      <td>-0.039391</td>\n",
       "      <td>0.068341</td>\n",
       "      <td>-0.173374</td>\n",
       "      <td>0.541970</td>\n",
       "      <td>-0.089250</td>\n",
       "      <td>0.067343</td>\n",
       "    </tr>\n",
       "    <tr>\n",
       "      <th>education_Среднее</th>\n",
       "      <td>-0.359449</td>\n",
       "      <td>-0.064395</td>\n",
       "      <td>-0.188503</td>\n",
       "      <td>1.000000</td>\n",
       "      <td>-0.449844</td>\n",
       "      <td>-0.104170</td>\n",
       "      <td>0.048339</td>\n",
       "      <td>0.001863</td>\n",
       "      <td>-0.000278</td>\n",
       "      <td>0.049553</td>\n",
       "      <td>...</td>\n",
       "      <td>0.002114</td>\n",
       "      <td>0.022264</td>\n",
       "      <td>0.018313</td>\n",
       "      <td>0.005558</td>\n",
       "      <td>-0.014386</td>\n",
       "      <td>0.003989</td>\n",
       "      <td>-0.062652</td>\n",
       "      <td>-0.102365</td>\n",
       "      <td>0.115834</td>\n",
       "      <td>0.219500</td>\n",
       "    </tr>\n",
       "    <tr>\n",
       "      <th>education_Среднее профессиональное</th>\n",
       "      <td>-0.463224</td>\n",
       "      <td>-0.082986</td>\n",
       "      <td>-0.242925</td>\n",
       "      <td>-0.449844</td>\n",
       "      <td>1.000000</td>\n",
       "      <td>-0.132057</td>\n",
       "      <td>-0.015224</td>\n",
       "      <td>0.005322</td>\n",
       "      <td>0.080806</td>\n",
       "      <td>0.013171</td>\n",
       "      <td>...</td>\n",
       "      <td>0.006394</td>\n",
       "      <td>0.022024</td>\n",
       "      <td>-0.011254</td>\n",
       "      <td>0.003544</td>\n",
       "      <td>-0.003299</td>\n",
       "      <td>-0.055094</td>\n",
       "      <td>0.024425</td>\n",
       "      <td>-0.130906</td>\n",
       "      <td>0.067734</td>\n",
       "      <td>-0.014565</td>\n",
       "    </tr>\n",
       "    <tr>\n",
       "      <th>employment_unknown</th>\n",
       "      <td>-0.105280</td>\n",
       "      <td>-0.023169</td>\n",
       "      <td>0.547396</td>\n",
       "      <td>-0.104170</td>\n",
       "      <td>-0.132057</td>\n",
       "      <td>1.000000</td>\n",
       "      <td>-0.070883</td>\n",
       "      <td>-0.018698</td>\n",
       "      <td>-0.417775</td>\n",
       "      <td>-0.033226</td>\n",
       "      <td>...</td>\n",
       "      <td>-0.019430</td>\n",
       "      <td>-0.032462</td>\n",
       "      <td>-0.036878</td>\n",
       "      <td>-0.020580</td>\n",
       "      <td>-0.034761</td>\n",
       "      <td>-0.048021</td>\n",
       "      <td>-0.198512</td>\n",
       "      <td>0.809171</td>\n",
       "      <td>-0.085200</td>\n",
       "      <td>0.101282</td>\n",
       "    </tr>\n",
       "    <tr>\n",
       "      <th>employment_Временная</th>\n",
       "      <td>-0.060909</td>\n",
       "      <td>-0.001428</td>\n",
       "      <td>0.046161</td>\n",
       "      <td>0.048339</td>\n",
       "      <td>-0.015224</td>\n",
       "      <td>-0.070883</td>\n",
       "      <td>1.000000</td>\n",
       "      <td>-0.029016</td>\n",
       "      <td>-0.648316</td>\n",
       "      <td>-0.051561</td>\n",
       "      <td>...</td>\n",
       "      <td>0.001186</td>\n",
       "      <td>0.001507</td>\n",
       "      <td>-0.001715</td>\n",
       "      <td>-0.000813</td>\n",
       "      <td>0.015458</td>\n",
       "      <td>0.109866</td>\n",
       "      <td>-0.008207</td>\n",
       "      <td>-0.056104</td>\n",
       "      <td>-0.037290</td>\n",
       "      <td>0.067571</td>\n",
       "    </tr>\n",
       "    <tr>\n",
       "      <th>employment_Не указано</th>\n",
       "      <td>0.002597</td>\n",
       "      <td>-0.008945</td>\n",
       "      <td>-0.012330</td>\n",
       "      <td>0.001863</td>\n",
       "      <td>0.005322</td>\n",
       "      <td>-0.018698</td>\n",
       "      <td>-0.029016</td>\n",
       "      <td>1.000000</td>\n",
       "      <td>-0.171015</td>\n",
       "      <td>-0.013601</td>\n",
       "      <td>...</td>\n",
       "      <td>-0.007954</td>\n",
       "      <td>-0.002797</td>\n",
       "      <td>-0.001133</td>\n",
       "      <td>-0.007158</td>\n",
       "      <td>-0.000083</td>\n",
       "      <td>0.000427</td>\n",
       "      <td>0.008562</td>\n",
       "      <td>-0.018866</td>\n",
       "      <td>0.004215</td>\n",
       "      <td>-0.002716</td>\n",
       "    </tr>\n",
       "    <tr>\n",
       "      <th>employment_Полная занятость</th>\n",
       "      <td>0.115721</td>\n",
       "      <td>0.020506</td>\n",
       "      <td>-0.319148</td>\n",
       "      <td>-0.000278</td>\n",
       "      <td>0.080806</td>\n",
       "      <td>-0.417775</td>\n",
       "      <td>-0.648316</td>\n",
       "      <td>-0.171015</td>\n",
       "      <td>1.000000</td>\n",
       "      <td>-0.303893</td>\n",
       "      <td>...</td>\n",
       "      <td>0.016924</td>\n",
       "      <td>0.013441</td>\n",
       "      <td>-0.046493</td>\n",
       "      <td>0.017078</td>\n",
       "      <td>-0.000972</td>\n",
       "      <td>-0.073940</td>\n",
       "      <td>0.128460</td>\n",
       "      <td>-0.335303</td>\n",
       "      <td>0.070022</td>\n",
       "      <td>-0.081964</td>\n",
       "    </tr>\n",
       "    <tr>\n",
       "      <th>employment_Сезонная</th>\n",
       "      <td>-0.046198</td>\n",
       "      <td>-0.005638</td>\n",
       "      <td>-0.023929</td>\n",
       "      <td>0.049553</td>\n",
       "      <td>0.013171</td>\n",
       "      <td>-0.033226</td>\n",
       "      <td>-0.051561</td>\n",
       "      <td>-0.013601</td>\n",
       "      <td>-0.303893</td>\n",
       "      <td>1.000000</td>\n",
       "      <td>...</td>\n",
       "      <td>-0.003651</td>\n",
       "      <td>0.016108</td>\n",
       "      <td>0.036598</td>\n",
       "      <td>-0.003528</td>\n",
       "      <td>0.027893</td>\n",
       "      <td>-0.019157</td>\n",
       "      <td>-0.016922</td>\n",
       "      <td>-0.028408</td>\n",
       "      <td>0.011848</td>\n",
       "      <td>0.030714</td>\n",
       "    </tr>\n",
       "    <tr>\n",
       "      <th>employment_Стажировка</th>\n",
       "      <td>0.001574</td>\n",
       "      <td>-0.009392</td>\n",
       "      <td>-0.012562</td>\n",
       "      <td>0.003479</td>\n",
       "      <td>0.005035</td>\n",
       "      <td>-0.018987</td>\n",
       "      <td>-0.029464</td>\n",
       "      <td>-0.007772</td>\n",
       "      <td>-0.173656</td>\n",
       "      <td>-0.013811</td>\n",
       "      <td>...</td>\n",
       "      <td>-0.008076</td>\n",
       "      <td>-0.003228</td>\n",
       "      <td>-0.000009</td>\n",
       "      <td>-0.007309</td>\n",
       "      <td>-0.000266</td>\n",
       "      <td>-0.001419</td>\n",
       "      <td>0.011997</td>\n",
       "      <td>-0.019157</td>\n",
       "      <td>0.001026</td>\n",
       "      <td>-0.002290</td>\n",
       "    </tr>\n",
       "    <tr>\n",
       "      <th>employment_Удаленная</th>\n",
       "      <td>-0.022392</td>\n",
       "      <td>-0.003161</td>\n",
       "      <td>0.086862</td>\n",
       "      <td>-0.003489</td>\n",
       "      <td>-0.027681</td>\n",
       "      <td>-0.023920</td>\n",
       "      <td>-0.037120</td>\n",
       "      <td>-0.009792</td>\n",
       "      <td>-0.218782</td>\n",
       "      <td>-0.017400</td>\n",
       "      <td>...</td>\n",
       "      <td>-0.006576</td>\n",
       "      <td>-0.004070</td>\n",
       "      <td>0.116505</td>\n",
       "      <td>-0.004614</td>\n",
       "      <td>-0.007277</td>\n",
       "      <td>0.036848</td>\n",
       "      <td>-0.036386</td>\n",
       "      <td>-0.022318</td>\n",
       "      <td>-0.014728</td>\n",
       "      <td>-0.080088</td>\n",
       "    </tr>\n",
       "    <tr>\n",
       "      <th>employment_Частичная занятость</th>\n",
       "      <td>0.016795</td>\n",
       "      <td>-0.002994</td>\n",
       "      <td>-0.000547</td>\n",
       "      <td>-0.005634</td>\n",
       "      <td>-0.009356</td>\n",
       "      <td>-0.024762</td>\n",
       "      <td>-0.038427</td>\n",
       "      <td>-0.010136</td>\n",
       "      <td>-0.226484</td>\n",
       "      <td>-0.018012</td>\n",
       "      <td>...</td>\n",
       "      <td>-0.004913</td>\n",
       "      <td>-0.006415</td>\n",
       "      <td>0.074929</td>\n",
       "      <td>-0.001434</td>\n",
       "      <td>-0.004536</td>\n",
       "      <td>0.051520</td>\n",
       "      <td>-0.037353</td>\n",
       "      <td>-0.022408</td>\n",
       "      <td>-0.004044</td>\n",
       "      <td>-0.026493</td>\n",
       "    </tr>\n",
       "    <tr>\n",
       "      <th>schedule_\\n</th>\n",
       "      <td>0.001681</td>\n",
       "      <td>-0.009056</td>\n",
       "      <td>-0.013050</td>\n",
       "      <td>0.002114</td>\n",
       "      <td>0.006394</td>\n",
       "      <td>-0.019430</td>\n",
       "      <td>0.001186</td>\n",
       "      <td>-0.007954</td>\n",
       "      <td>0.016924</td>\n",
       "      <td>-0.003651</td>\n",
       "      <td>...</td>\n",
       "      <td>1.000000</td>\n",
       "      <td>-0.016143</td>\n",
       "      <td>-0.018087</td>\n",
       "      <td>-0.008814</td>\n",
       "      <td>-0.017695</td>\n",
       "      <td>-0.024375</td>\n",
       "      <td>-0.105255</td>\n",
       "      <td>-0.019604</td>\n",
       "      <td>-0.044476</td>\n",
       "      <td>-0.004346</td>\n",
       "    </tr>\n",
       "    <tr>\n",
       "      <th>schedule_Вахтовый метод</th>\n",
       "      <td>-0.045299</td>\n",
       "      <td>-0.004325</td>\n",
       "      <td>0.000742</td>\n",
       "      <td>0.022264</td>\n",
       "      <td>0.022024</td>\n",
       "      <td>-0.032462</td>\n",
       "      <td>0.001507</td>\n",
       "      <td>-0.002797</td>\n",
       "      <td>0.013441</td>\n",
       "      <td>0.016108</td>\n",
       "      <td>...</td>\n",
       "      <td>-0.016143</td>\n",
       "      <td>1.000000</td>\n",
       "      <td>-0.035329</td>\n",
       "      <td>-0.017216</td>\n",
       "      <td>-0.034563</td>\n",
       "      <td>-0.047611</td>\n",
       "      <td>-0.205587</td>\n",
       "      <td>-0.038292</td>\n",
       "      <td>-0.086871</td>\n",
       "      <td>0.032219</td>\n",
       "    </tr>\n",
       "    <tr>\n",
       "      <th>schedule_Гибкий график</th>\n",
       "      <td>-0.012534</td>\n",
       "      <td>-0.000537</td>\n",
       "      <td>0.010456</td>\n",
       "      <td>0.018313</td>\n",
       "      <td>-0.011254</td>\n",
       "      <td>-0.036878</td>\n",
       "      <td>-0.001715</td>\n",
       "      <td>-0.001133</td>\n",
       "      <td>-0.046493</td>\n",
       "      <td>0.036598</td>\n",
       "      <td>...</td>\n",
       "      <td>-0.018087</td>\n",
       "      <td>-0.035329</td>\n",
       "      <td>1.000000</td>\n",
       "      <td>-0.019289</td>\n",
       "      <td>-0.038725</td>\n",
       "      <td>-0.053344</td>\n",
       "      <td>-0.230342</td>\n",
       "      <td>-0.042903</td>\n",
       "      <td>-0.097331</td>\n",
       "      <td>-0.023094</td>\n",
       "    </tr>\n",
       "    <tr>\n",
       "      <th>schedule_Не указано</th>\n",
       "      <td>0.002086</td>\n",
       "      <td>-0.009500</td>\n",
       "      <td>-0.013969</td>\n",
       "      <td>0.005558</td>\n",
       "      <td>0.003544</td>\n",
       "      <td>-0.020580</td>\n",
       "      <td>-0.000813</td>\n",
       "      <td>-0.007158</td>\n",
       "      <td>0.017078</td>\n",
       "      <td>-0.003528</td>\n",
       "      <td>...</td>\n",
       "      <td>-0.008814</td>\n",
       "      <td>-0.017216</td>\n",
       "      <td>-0.019289</td>\n",
       "      <td>1.000000</td>\n",
       "      <td>-0.018871</td>\n",
       "      <td>-0.025995</td>\n",
       "      <td>-0.112247</td>\n",
       "      <td>-0.020907</td>\n",
       "      <td>-0.047430</td>\n",
       "      <td>-0.004135</td>\n",
       "    </tr>\n",
       "    <tr>\n",
       "      <th>schedule_Ненормированный рабочий день</th>\n",
       "      <td>0.044463</td>\n",
       "      <td>-0.004141</td>\n",
       "      <td>-0.039391</td>\n",
       "      <td>-0.014386</td>\n",
       "      <td>-0.003299</td>\n",
       "      <td>-0.034761</td>\n",
       "      <td>0.015458</td>\n",
       "      <td>-0.000083</td>\n",
       "      <td>-0.000972</td>\n",
       "      <td>0.027893</td>\n",
       "      <td>...</td>\n",
       "      <td>-0.017695</td>\n",
       "      <td>-0.034563</td>\n",
       "      <td>-0.038725</td>\n",
       "      <td>-0.018871</td>\n",
       "      <td>1.000000</td>\n",
       "      <td>-0.052188</td>\n",
       "      <td>-0.225351</td>\n",
       "      <td>-0.041973</td>\n",
       "      <td>-0.095222</td>\n",
       "      <td>0.022734</td>\n",
       "    </tr>\n",
       "    <tr>\n",
       "      <th>schedule_Неполный рабочий день</th>\n",
       "      <td>0.011632</td>\n",
       "      <td>-0.001370</td>\n",
       "      <td>0.068341</td>\n",
       "      <td>0.003989</td>\n",
       "      <td>-0.055094</td>\n",
       "      <td>-0.048021</td>\n",
       "      <td>0.109866</td>\n",
       "      <td>0.000427</td>\n",
       "      <td>-0.073940</td>\n",
       "      <td>-0.019157</td>\n",
       "      <td>...</td>\n",
       "      <td>-0.024375</td>\n",
       "      <td>-0.047611</td>\n",
       "      <td>-0.053344</td>\n",
       "      <td>-0.025995</td>\n",
       "      <td>-0.052188</td>\n",
       "      <td>1.000000</td>\n",
       "      <td>-0.310423</td>\n",
       "      <td>-0.057818</td>\n",
       "      <td>-0.131169</td>\n",
       "      <td>-0.059139</td>\n",
       "    </tr>\n",
       "    <tr>\n",
       "      <th>schedule_Полный рабочий день</th>\n",
       "      <td>0.144338</td>\n",
       "      <td>0.016520</td>\n",
       "      <td>-0.173374</td>\n",
       "      <td>-0.062652</td>\n",
       "      <td>0.024425</td>\n",
       "      <td>-0.198512</td>\n",
       "      <td>-0.008207</td>\n",
       "      <td>0.008562</td>\n",
       "      <td>0.128460</td>\n",
       "      <td>-0.016922</td>\n",
       "      <td>...</td>\n",
       "      <td>-0.105255</td>\n",
       "      <td>-0.205587</td>\n",
       "      <td>-0.230342</td>\n",
       "      <td>-0.112247</td>\n",
       "      <td>-0.225351</td>\n",
       "      <td>-0.310423</td>\n",
       "      <td>1.000000</td>\n",
       "      <td>-0.249663</td>\n",
       "      <td>-0.566399</td>\n",
       "      <td>-0.009016</td>\n",
       "    </tr>\n",
       "    <tr>\n",
       "      <th>schedule_Пусто</th>\n",
       "      <td>-0.104719</td>\n",
       "      <td>-0.023379</td>\n",
       "      <td>0.541970</td>\n",
       "      <td>-0.102365</td>\n",
       "      <td>-0.130906</td>\n",
       "      <td>0.809171</td>\n",
       "      <td>-0.056104</td>\n",
       "      <td>-0.018866</td>\n",
       "      <td>-0.335303</td>\n",
       "      <td>-0.028408</td>\n",
       "      <td>...</td>\n",
       "      <td>-0.019604</td>\n",
       "      <td>-0.038292</td>\n",
       "      <td>-0.042903</td>\n",
       "      <td>-0.020907</td>\n",
       "      <td>-0.041973</td>\n",
       "      <td>-0.057818</td>\n",
       "      <td>-0.249663</td>\n",
       "      <td>1.000000</td>\n",
       "      <td>-0.105495</td>\n",
       "      <td>0.100733</td>\n",
       "    </tr>\n",
       "    <tr>\n",
       "      <th>schedule_Сменный график</th>\n",
       "      <td>-0.129772</td>\n",
       "      <td>0.000863</td>\n",
       "      <td>-0.089250</td>\n",
       "      <td>0.115834</td>\n",
       "      <td>0.067734</td>\n",
       "      <td>-0.085200</td>\n",
       "      <td>-0.037290</td>\n",
       "      <td>0.004215</td>\n",
       "      <td>0.070022</td>\n",
       "      <td>0.011848</td>\n",
       "      <td>...</td>\n",
       "      <td>-0.044476</td>\n",
       "      <td>-0.086871</td>\n",
       "      <td>-0.097331</td>\n",
       "      <td>-0.047430</td>\n",
       "      <td>-0.095222</td>\n",
       "      <td>-0.131169</td>\n",
       "      <td>-0.566399</td>\n",
       "      <td>-0.105495</td>\n",
       "      <td>1.000000</td>\n",
       "      <td>-0.015466</td>\n",
       "    </tr>\n",
       "    <tr>\n",
       "      <th>industry_le</th>\n",
       "      <td>-0.243242</td>\n",
       "      <td>-0.005588</td>\n",
       "      <td>0.067343</td>\n",
       "      <td>0.219500</td>\n",
       "      <td>-0.014565</td>\n",
       "      <td>0.101282</td>\n",
       "      <td>0.067571</td>\n",
       "      <td>-0.002716</td>\n",
       "      <td>-0.081964</td>\n",
       "      <td>0.030714</td>\n",
       "      <td>...</td>\n",
       "      <td>-0.004346</td>\n",
       "      <td>0.032219</td>\n",
       "      <td>-0.023094</td>\n",
       "      <td>-0.004135</td>\n",
       "      <td>0.022734</td>\n",
       "      <td>-0.059139</td>\n",
       "      <td>-0.009016</td>\n",
       "      <td>0.100733</td>\n",
       "      <td>-0.015466</td>\n",
       "      <td>1.000000</td>\n",
       "    </tr>\n",
       "  </tbody>\n",
       "</table>\n",
       "<p>23 rows × 23 columns</p>\n",
       "</div>"
      ],
      "text/plain": [
       "                                       education_Высшее  \\\n",
       "education_Высшее                               1.000000   \n",
       "education_Незаконченное высшее                -0.066310   \n",
       "education_Пусто                               -0.194110   \n",
       "education_Среднее                             -0.359449   \n",
       "education_Среднее профессиональное            -0.463224   \n",
       "employment_unknown                            -0.105280   \n",
       "employment_Временная                          -0.060909   \n",
       "employment_Не указано                          0.002597   \n",
       "employment_Полная занятость                    0.115721   \n",
       "employment_Сезонная                           -0.046198   \n",
       "employment_Стажировка                          0.001574   \n",
       "employment_Удаленная                          -0.022392   \n",
       "employment_Частичная занятость                 0.016795   \n",
       "schedule_\\n                                    0.001681   \n",
       "schedule_Вахтовый метод                       -0.045299   \n",
       "schedule_Гибкий график                        -0.012534   \n",
       "schedule_Не указано                            0.002086   \n",
       "schedule_Ненормированный рабочий день          0.044463   \n",
       "schedule_Неполный рабочий день                 0.011632   \n",
       "schedule_Полный рабочий день                   0.144338   \n",
       "schedule_Пусто                                -0.104719   \n",
       "schedule_Сменный график                       -0.129772   \n",
       "industry_le                                   -0.243242   \n",
       "\n",
       "                                       education_Незаконченное высшее  \\\n",
       "education_Высшее                                            -0.066310   \n",
       "education_Незаконченное высшее                               1.000000   \n",
       "education_Пусто                                             -0.034775   \n",
       "education_Среднее                                           -0.064395   \n",
       "education_Среднее профессиональное                          -0.082986   \n",
       "employment_unknown                                          -0.023169   \n",
       "employment_Временная                                        -0.001428   \n",
       "employment_Не указано                                       -0.008945   \n",
       "employment_Полная занятость                                  0.020506   \n",
       "employment_Сезонная                                         -0.005638   \n",
       "employment_Стажировка                                       -0.009392   \n",
       "employment_Удаленная                                        -0.003161   \n",
       "employment_Частичная занятость                              -0.002994   \n",
       "schedule_\\n                                                 -0.009056   \n",
       "schedule_Вахтовый метод                                     -0.004325   \n",
       "schedule_Гибкий график                                      -0.000537   \n",
       "schedule_Не указано                                         -0.009500   \n",
       "schedule_Ненормированный рабочий день                       -0.004141   \n",
       "schedule_Неполный рабочий день                              -0.001370   \n",
       "schedule_Полный рабочий день                                 0.016520   \n",
       "schedule_Пусто                                              -0.023379   \n",
       "schedule_Сменный график                                      0.000863   \n",
       "industry_le                                                 -0.005588   \n",
       "\n",
       "                                       education_Пусто  education_Среднее  \\\n",
       "education_Высшее                             -0.194110          -0.359449   \n",
       "education_Незаконченное высшее               -0.034775          -0.064395   \n",
       "education_Пусто                               1.000000          -0.188503   \n",
       "education_Среднее                            -0.188503           1.000000   \n",
       "education_Среднее профессиональное           -0.242925          -0.449844   \n",
       "employment_unknown                            0.547396          -0.104170   \n",
       "employment_Временная                          0.046161           0.048339   \n",
       "employment_Не указано                        -0.012330           0.001863   \n",
       "employment_Полная занятость                  -0.319148          -0.000278   \n",
       "employment_Сезонная                          -0.023929           0.049553   \n",
       "employment_Стажировка                        -0.012562           0.003479   \n",
       "employment_Удаленная                          0.086862          -0.003489   \n",
       "employment_Частичная занятость               -0.000547          -0.005634   \n",
       "schedule_\\n                                  -0.013050           0.002114   \n",
       "schedule_Вахтовый метод                       0.000742           0.022264   \n",
       "schedule_Гибкий график                        0.010456           0.018313   \n",
       "schedule_Не указано                          -0.013969           0.005558   \n",
       "schedule_Ненормированный рабочий день        -0.039391          -0.014386   \n",
       "schedule_Неполный рабочий день                0.068341           0.003989   \n",
       "schedule_Полный рабочий день                 -0.173374          -0.062652   \n",
       "schedule_Пусто                                0.541970          -0.102365   \n",
       "schedule_Сменный график                      -0.089250           0.115834   \n",
       "industry_le                                   0.067343           0.219500   \n",
       "\n",
       "                                       education_Среднее профессиональное  \\\n",
       "education_Высшее                                                -0.463224   \n",
       "education_Незаконченное высшее                                  -0.082986   \n",
       "education_Пусто                                                 -0.242925   \n",
       "education_Среднее                                               -0.449844   \n",
       "education_Среднее профессиональное                               1.000000   \n",
       "employment_unknown                                              -0.132057   \n",
       "employment_Временная                                            -0.015224   \n",
       "employment_Не указано                                            0.005322   \n",
       "employment_Полная занятость                                      0.080806   \n",
       "employment_Сезонная                                              0.013171   \n",
       "employment_Стажировка                                            0.005035   \n",
       "employment_Удаленная                                            -0.027681   \n",
       "employment_Частичная занятость                                  -0.009356   \n",
       "schedule_\\n                                                      0.006394   \n",
       "schedule_Вахтовый метод                                          0.022024   \n",
       "schedule_Гибкий график                                          -0.011254   \n",
       "schedule_Не указано                                              0.003544   \n",
       "schedule_Ненормированный рабочий день                           -0.003299   \n",
       "schedule_Неполный рабочий день                                  -0.055094   \n",
       "schedule_Полный рабочий день                                     0.024425   \n",
       "schedule_Пусто                                                  -0.130906   \n",
       "schedule_Сменный график                                          0.067734   \n",
       "industry_le                                                     -0.014565   \n",
       "\n",
       "                                       employment_unknown  \\\n",
       "education_Высшее                                -0.105280   \n",
       "education_Незаконченное высшее                  -0.023169   \n",
       "education_Пусто                                  0.547396   \n",
       "education_Среднее                               -0.104170   \n",
       "education_Среднее профессиональное              -0.132057   \n",
       "employment_unknown                               1.000000   \n",
       "employment_Временная                            -0.070883   \n",
       "employment_Не указано                           -0.018698   \n",
       "employment_Полная занятость                     -0.417775   \n",
       "employment_Сезонная                             -0.033226   \n",
       "employment_Стажировка                           -0.018987   \n",
       "employment_Удаленная                            -0.023920   \n",
       "employment_Частичная занятость                  -0.024762   \n",
       "schedule_\\n                                     -0.019430   \n",
       "schedule_Вахтовый метод                         -0.032462   \n",
       "schedule_Гибкий график                          -0.036878   \n",
       "schedule_Не указано                             -0.020580   \n",
       "schedule_Ненормированный рабочий день           -0.034761   \n",
       "schedule_Неполный рабочий день                  -0.048021   \n",
       "schedule_Полный рабочий день                    -0.198512   \n",
       "schedule_Пусто                                   0.809171   \n",
       "schedule_Сменный график                         -0.085200   \n",
       "industry_le                                      0.101282   \n",
       "\n",
       "                                       employment_Временная  \\\n",
       "education_Высшее                                  -0.060909   \n",
       "education_Незаконченное высшее                    -0.001428   \n",
       "education_Пусто                                    0.046161   \n",
       "education_Среднее                                  0.048339   \n",
       "education_Среднее профессиональное                -0.015224   \n",
       "employment_unknown                                -0.070883   \n",
       "employment_Временная                               1.000000   \n",
       "employment_Не указано                             -0.029016   \n",
       "employment_Полная занятость                       -0.648316   \n",
       "employment_Сезонная                               -0.051561   \n",
       "employment_Стажировка                             -0.029464   \n",
       "employment_Удаленная                              -0.037120   \n",
       "employment_Частичная занятость                    -0.038427   \n",
       "schedule_\\n                                        0.001186   \n",
       "schedule_Вахтовый метод                            0.001507   \n",
       "schedule_Гибкий график                            -0.001715   \n",
       "schedule_Не указано                               -0.000813   \n",
       "schedule_Ненормированный рабочий день              0.015458   \n",
       "schedule_Неполный рабочий день                     0.109866   \n",
       "schedule_Полный рабочий день                      -0.008207   \n",
       "schedule_Пусто                                    -0.056104   \n",
       "schedule_Сменный график                           -0.037290   \n",
       "industry_le                                        0.067571   \n",
       "\n",
       "                                       employment_Не указано  \\\n",
       "education_Высшее                                    0.002597   \n",
       "education_Незаконченное высшее                     -0.008945   \n",
       "education_Пусто                                    -0.012330   \n",
       "education_Среднее                                   0.001863   \n",
       "education_Среднее профессиональное                  0.005322   \n",
       "employment_unknown                                 -0.018698   \n",
       "employment_Временная                               -0.029016   \n",
       "employment_Не указано                               1.000000   \n",
       "employment_Полная занятость                        -0.171015   \n",
       "employment_Сезонная                                -0.013601   \n",
       "employment_Стажировка                              -0.007772   \n",
       "employment_Удаленная                               -0.009792   \n",
       "employment_Частичная занятость                     -0.010136   \n",
       "schedule_\\n                                        -0.007954   \n",
       "schedule_Вахтовый метод                            -0.002797   \n",
       "schedule_Гибкий график                             -0.001133   \n",
       "schedule_Не указано                                -0.007158   \n",
       "schedule_Ненормированный рабочий день              -0.000083   \n",
       "schedule_Неполный рабочий день                      0.000427   \n",
       "schedule_Полный рабочий день                        0.008562   \n",
       "schedule_Пусто                                     -0.018866   \n",
       "schedule_Сменный график                             0.004215   \n",
       "industry_le                                        -0.002716   \n",
       "\n",
       "                                       employment_Полная занятость  \\\n",
       "education_Высшее                                          0.115721   \n",
       "education_Незаконченное высшее                            0.020506   \n",
       "education_Пусто                                          -0.319148   \n",
       "education_Среднее                                        -0.000278   \n",
       "education_Среднее профессиональное                        0.080806   \n",
       "employment_unknown                                       -0.417775   \n",
       "employment_Временная                                     -0.648316   \n",
       "employment_Не указано                                    -0.171015   \n",
       "employment_Полная занятость                               1.000000   \n",
       "employment_Сезонная                                      -0.303893   \n",
       "employment_Стажировка                                    -0.173656   \n",
       "employment_Удаленная                                     -0.218782   \n",
       "employment_Частичная занятость                           -0.226484   \n",
       "schedule_\\n                                               0.016924   \n",
       "schedule_Вахтовый метод                                   0.013441   \n",
       "schedule_Гибкий график                                   -0.046493   \n",
       "schedule_Не указано                                       0.017078   \n",
       "schedule_Ненормированный рабочий день                    -0.000972   \n",
       "schedule_Неполный рабочий день                           -0.073940   \n",
       "schedule_Полный рабочий день                              0.128460   \n",
       "schedule_Пусто                                           -0.335303   \n",
       "schedule_Сменный график                                   0.070022   \n",
       "industry_le                                              -0.081964   \n",
       "\n",
       "                                       employment_Сезонная     ...       \\\n",
       "education_Высшее                                 -0.046198     ...        \n",
       "education_Незаконченное высшее                   -0.005638     ...        \n",
       "education_Пусто                                  -0.023929     ...        \n",
       "education_Среднее                                 0.049553     ...        \n",
       "education_Среднее профессиональное                0.013171     ...        \n",
       "employment_unknown                               -0.033226     ...        \n",
       "employment_Временная                             -0.051561     ...        \n",
       "employment_Не указано                            -0.013601     ...        \n",
       "employment_Полная занятость                      -0.303893     ...        \n",
       "employment_Сезонная                               1.000000     ...        \n",
       "employment_Стажировка                            -0.013811     ...        \n",
       "employment_Удаленная                             -0.017400     ...        \n",
       "employment_Частичная занятость                   -0.018012     ...        \n",
       "schedule_\\n                                      -0.003651     ...        \n",
       "schedule_Вахтовый метод                           0.016108     ...        \n",
       "schedule_Гибкий график                            0.036598     ...        \n",
       "schedule_Не указано                              -0.003528     ...        \n",
       "schedule_Ненормированный рабочий день             0.027893     ...        \n",
       "schedule_Неполный рабочий день                   -0.019157     ...        \n",
       "schedule_Полный рабочий день                     -0.016922     ...        \n",
       "schedule_Пусто                                   -0.028408     ...        \n",
       "schedule_Сменный график                           0.011848     ...        \n",
       "industry_le                                       0.030714     ...        \n",
       "\n",
       "                                       schedule_\\n      \\\n",
       "education_Высшее                              0.001681   \n",
       "education_Незаконченное высшее               -0.009056   \n",
       "education_Пусто                              -0.013050   \n",
       "education_Среднее                             0.002114   \n",
       "education_Среднее профессиональное            0.006394   \n",
       "employment_unknown                           -0.019430   \n",
       "employment_Временная                          0.001186   \n",
       "employment_Не указано                        -0.007954   \n",
       "employment_Полная занятость                   0.016924   \n",
       "employment_Сезонная                          -0.003651   \n",
       "employment_Стажировка                        -0.008076   \n",
       "employment_Удаленная                         -0.006576   \n",
       "employment_Частичная занятость               -0.004913   \n",
       "schedule_\\n                                   1.000000   \n",
       "schedule_Вахтовый метод                      -0.016143   \n",
       "schedule_Гибкий график                       -0.018087   \n",
       "schedule_Не указано                          -0.008814   \n",
       "schedule_Ненормированный рабочий день        -0.017695   \n",
       "schedule_Неполный рабочий день               -0.024375   \n",
       "schedule_Полный рабочий день                 -0.105255   \n",
       "schedule_Пусто                               -0.019604   \n",
       "schedule_Сменный график                      -0.044476   \n",
       "industry_le                                  -0.004346   \n",
       "\n",
       "                                       schedule_Вахтовый метод  \\\n",
       "education_Высшее                                     -0.045299   \n",
       "education_Незаконченное высшее                       -0.004325   \n",
       "education_Пусто                                       0.000742   \n",
       "education_Среднее                                     0.022264   \n",
       "education_Среднее профессиональное                    0.022024   \n",
       "employment_unknown                                   -0.032462   \n",
       "employment_Временная                                  0.001507   \n",
       "employment_Не указано                                -0.002797   \n",
       "employment_Полная занятость                           0.013441   \n",
       "employment_Сезонная                                   0.016108   \n",
       "employment_Стажировка                                -0.003228   \n",
       "employment_Удаленная                                 -0.004070   \n",
       "employment_Частичная занятость                       -0.006415   \n",
       "schedule_\\n                                          -0.016143   \n",
       "schedule_Вахтовый метод                               1.000000   \n",
       "schedule_Гибкий график                               -0.035329   \n",
       "schedule_Не указано                                  -0.017216   \n",
       "schedule_Ненормированный рабочий день                -0.034563   \n",
       "schedule_Неполный рабочий день                       -0.047611   \n",
       "schedule_Полный рабочий день                         -0.205587   \n",
       "schedule_Пусто                                       -0.038292   \n",
       "schedule_Сменный график                              -0.086871   \n",
       "industry_le                                           0.032219   \n",
       "\n",
       "                                       schedule_Гибкий график  \\\n",
       "education_Высшее                                    -0.012534   \n",
       "education_Незаконченное высшее                      -0.000537   \n",
       "education_Пусто                                      0.010456   \n",
       "education_Среднее                                    0.018313   \n",
       "education_Среднее профессиональное                  -0.011254   \n",
       "employment_unknown                                  -0.036878   \n",
       "employment_Временная                                -0.001715   \n",
       "employment_Не указано                               -0.001133   \n",
       "employment_Полная занятость                         -0.046493   \n",
       "employment_Сезонная                                  0.036598   \n",
       "employment_Стажировка                               -0.000009   \n",
       "employment_Удаленная                                 0.116505   \n",
       "employment_Частичная занятость                       0.074929   \n",
       "schedule_\\n                                         -0.018087   \n",
       "schedule_Вахтовый метод                             -0.035329   \n",
       "schedule_Гибкий график                               1.000000   \n",
       "schedule_Не указано                                 -0.019289   \n",
       "schedule_Ненормированный рабочий день               -0.038725   \n",
       "schedule_Неполный рабочий день                      -0.053344   \n",
       "schedule_Полный рабочий день                        -0.230342   \n",
       "schedule_Пусто                                      -0.042903   \n",
       "schedule_Сменный график                             -0.097331   \n",
       "industry_le                                         -0.023094   \n",
       "\n",
       "                                       schedule_Не указано  \\\n",
       "education_Высшее                                  0.002086   \n",
       "education_Незаконченное высшее                   -0.009500   \n",
       "education_Пусто                                  -0.013969   \n",
       "education_Среднее                                 0.005558   \n",
       "education_Среднее профессиональное                0.003544   \n",
       "employment_unknown                               -0.020580   \n",
       "employment_Временная                             -0.000813   \n",
       "employment_Не указано                            -0.007158   \n",
       "employment_Полная занятость                       0.017078   \n",
       "employment_Сезонная                              -0.003528   \n",
       "employment_Стажировка                            -0.007309   \n",
       "employment_Удаленная                             -0.004614   \n",
       "employment_Частичная занятость                   -0.001434   \n",
       "schedule_\\n                                      -0.008814   \n",
       "schedule_Вахтовый метод                          -0.017216   \n",
       "schedule_Гибкий график                           -0.019289   \n",
       "schedule_Не указано                               1.000000   \n",
       "schedule_Ненормированный рабочий день            -0.018871   \n",
       "schedule_Неполный рабочий день                   -0.025995   \n",
       "schedule_Полный рабочий день                     -0.112247   \n",
       "schedule_Пусто                                   -0.020907   \n",
       "schedule_Сменный график                          -0.047430   \n",
       "industry_le                                      -0.004135   \n",
       "\n",
       "                                       schedule_Ненормированный рабочий день  \\\n",
       "education_Высшее                                                    0.044463   \n",
       "education_Незаконченное высшее                                     -0.004141   \n",
       "education_Пусто                                                    -0.039391   \n",
       "education_Среднее                                                  -0.014386   \n",
       "education_Среднее профессиональное                                 -0.003299   \n",
       "employment_unknown                                                 -0.034761   \n",
       "employment_Временная                                                0.015458   \n",
       "employment_Не указано                                              -0.000083   \n",
       "employment_Полная занятость                                        -0.000972   \n",
       "employment_Сезонная                                                 0.027893   \n",
       "employment_Стажировка                                              -0.000266   \n",
       "employment_Удаленная                                               -0.007277   \n",
       "employment_Частичная занятость                                     -0.004536   \n",
       "schedule_\\n                                                        -0.017695   \n",
       "schedule_Вахтовый метод                                            -0.034563   \n",
       "schedule_Гибкий график                                             -0.038725   \n",
       "schedule_Не указано                                                -0.018871   \n",
       "schedule_Ненормированный рабочий день                               1.000000   \n",
       "schedule_Неполный рабочий день                                     -0.052188   \n",
       "schedule_Полный рабочий день                                       -0.225351   \n",
       "schedule_Пусто                                                     -0.041973   \n",
       "schedule_Сменный график                                            -0.095222   \n",
       "industry_le                                                         0.022734   \n",
       "\n",
       "                                       schedule_Неполный рабочий день  \\\n",
       "education_Высшее                                             0.011632   \n",
       "education_Незаконченное высшее                              -0.001370   \n",
       "education_Пусто                                              0.068341   \n",
       "education_Среднее                                            0.003989   \n",
       "education_Среднее профессиональное                          -0.055094   \n",
       "employment_unknown                                          -0.048021   \n",
       "employment_Временная                                         0.109866   \n",
       "employment_Не указано                                        0.000427   \n",
       "employment_Полная занятость                                 -0.073940   \n",
       "employment_Сезонная                                         -0.019157   \n",
       "employment_Стажировка                                       -0.001419   \n",
       "employment_Удаленная                                         0.036848   \n",
       "employment_Частичная занятость                               0.051520   \n",
       "schedule_\\n                                                 -0.024375   \n",
       "schedule_Вахтовый метод                                     -0.047611   \n",
       "schedule_Гибкий график                                      -0.053344   \n",
       "schedule_Не указано                                         -0.025995   \n",
       "schedule_Ненормированный рабочий день                       -0.052188   \n",
       "schedule_Неполный рабочий день                               1.000000   \n",
       "schedule_Полный рабочий день                                -0.310423   \n",
       "schedule_Пусто                                              -0.057818   \n",
       "schedule_Сменный график                                     -0.131169   \n",
       "industry_le                                                 -0.059139   \n",
       "\n",
       "                                       schedule_Полный рабочий день  \\\n",
       "education_Высшее                                           0.144338   \n",
       "education_Незаконченное высшее                             0.016520   \n",
       "education_Пусто                                           -0.173374   \n",
       "education_Среднее                                         -0.062652   \n",
       "education_Среднее профессиональное                         0.024425   \n",
       "employment_unknown                                        -0.198512   \n",
       "employment_Временная                                      -0.008207   \n",
       "employment_Не указано                                      0.008562   \n",
       "employment_Полная занятость                                0.128460   \n",
       "employment_Сезонная                                       -0.016922   \n",
       "employment_Стажировка                                      0.011997   \n",
       "employment_Удаленная                                      -0.036386   \n",
       "employment_Частичная занятость                            -0.037353   \n",
       "schedule_\\n                                               -0.105255   \n",
       "schedule_Вахтовый метод                                   -0.205587   \n",
       "schedule_Гибкий график                                    -0.230342   \n",
       "schedule_Не указано                                       -0.112247   \n",
       "schedule_Ненормированный рабочий день                     -0.225351   \n",
       "schedule_Неполный рабочий день                            -0.310423   \n",
       "schedule_Полный рабочий день                               1.000000   \n",
       "schedule_Пусто                                            -0.249663   \n",
       "schedule_Сменный график                                   -0.566399   \n",
       "industry_le                                               -0.009016   \n",
       "\n",
       "                                       schedule_Пусто  \\\n",
       "education_Высшее                            -0.104719   \n",
       "education_Незаконченное высшее              -0.023379   \n",
       "education_Пусто                              0.541970   \n",
       "education_Среднее                           -0.102365   \n",
       "education_Среднее профессиональное          -0.130906   \n",
       "employment_unknown                           0.809171   \n",
       "employment_Временная                        -0.056104   \n",
       "employment_Не указано                       -0.018866   \n",
       "employment_Полная занятость                 -0.335303   \n",
       "employment_Сезонная                         -0.028408   \n",
       "employment_Стажировка                       -0.019157   \n",
       "employment_Удаленная                        -0.022318   \n",
       "employment_Частичная занятость              -0.022408   \n",
       "schedule_\\n                                 -0.019604   \n",
       "schedule_Вахтовый метод                     -0.038292   \n",
       "schedule_Гибкий график                      -0.042903   \n",
       "schedule_Не указано                         -0.020907   \n",
       "schedule_Ненормированный рабочий день       -0.041973   \n",
       "schedule_Неполный рабочий день              -0.057818   \n",
       "schedule_Полный рабочий день                -0.249663   \n",
       "schedule_Пусто                               1.000000   \n",
       "schedule_Сменный график                     -0.105495   \n",
       "industry_le                                  0.100733   \n",
       "\n",
       "                                       schedule_Сменный график  industry_le  \n",
       "education_Высшее                                     -0.129772    -0.243242  \n",
       "education_Незаконченное высшее                        0.000863    -0.005588  \n",
       "education_Пусто                                      -0.089250     0.067343  \n",
       "education_Среднее                                     0.115834     0.219500  \n",
       "education_Среднее профессиональное                    0.067734    -0.014565  \n",
       "employment_unknown                                   -0.085200     0.101282  \n",
       "employment_Временная                                 -0.037290     0.067571  \n",
       "employment_Не указано                                 0.004215    -0.002716  \n",
       "employment_Полная занятость                           0.070022    -0.081964  \n",
       "employment_Сезонная                                   0.011848     0.030714  \n",
       "employment_Стажировка                                 0.001026    -0.002290  \n",
       "employment_Удаленная                                 -0.014728    -0.080088  \n",
       "employment_Частичная занятость                       -0.004044    -0.026493  \n",
       "schedule_\\n                                          -0.044476    -0.004346  \n",
       "schedule_Вахтовый метод                              -0.086871     0.032219  \n",
       "schedule_Гибкий график                               -0.097331    -0.023094  \n",
       "schedule_Не указано                                  -0.047430    -0.004135  \n",
       "schedule_Ненормированный рабочий день                -0.095222     0.022734  \n",
       "schedule_Неполный рабочий день                       -0.131169    -0.059139  \n",
       "schedule_Полный рабочий день                         -0.566399    -0.009016  \n",
       "schedule_Пусто                                       -0.105495     0.100733  \n",
       "schedule_Сменный график                               1.000000    -0.015466  \n",
       "industry_le                                          -0.015466     1.000000  \n",
       "\n",
       "[23 rows x 23 columns]"
      ]
     },
     "execution_count": 117,
     "metadata": {},
     "output_type": "execute_result"
    }
   ],
   "source": [
    "ras_cols_dummies.corr()"
   ]
  },
  {
   "cell_type": "code",
   "execution_count": 119,
   "metadata": {},
   "outputs": [
    {
     "data": {
      "text/plain": [
       "<matplotlib.axes._subplots.AxesSubplot at 0x7fec3893ce80>"
      ]
     },
     "execution_count": 119,
     "metadata": {},
     "output_type": "execute_result"
    },
    {
     "data": {
      "image/png": "[encoded data removed]",
      "text/plain": [
       "<matplotlib.figure.Figure at 0x7fec38c5a7f0>"
      ]
     },
     "metadata": {
      "needs_background": "light"
     },
     "output_type": "display_data"
    }
   ],
   "source": [
    "plt.figure(figsize=(12,10))\n",
    "sns.heatmap(ras_cols_dummies.corr())"
   ]
  },
  {
   "cell_type": "markdown",
   "metadata": {},
   "source": [
    "# Обработка текстовых переменных"
   ]
  },
  {
   "cell_type": "code",
   "execution_count": 128,
   "metadata": {},
   "outputs": [
    {
     "data": {
      "text/plain": [
       "['qualification', 'text', 'description', 'duty']"
      ]
     },
     "execution_count": 128,
     "metadata": {},
     "output_type": "execute_result"
    }
   ],
   "source": [
    "text_cols"
   ]
  },
  {
   "cell_type": "code",
   "execution_count": 143,
   "metadata": {},
   "outputs": [
    {
     "data": {
      "text/plain": [
       "33558"
      ]
     },
     "execution_count": 143,
     "metadata": {},
     "output_type": "execute_result"
    }
   ],
   "source": [
    "df['qualification'].isna().sum()"
   ]
  },
  {
   "cell_type": "code",
   "execution_count": 145,
   "metadata": {},
   "outputs": [],
   "source": [
    "df['qualification'].fillna(\"Пусто\", inplace=True)"
   ]
  },
  {
   "cell_type": "code",
   "execution_count": null,
   "metadata": {},
   "outputs": [],
   "source": []
  },
  {
   "cell_type": "code",
   "execution_count": 146,
   "metadata": {},
   "outputs": [
    {
     "data": {
      "text/plain": [
       "28914"
      ]
     },
     "execution_count": 146,
     "metadata": {},
     "output_type": "execute_result"
    }
   ],
   "source": [
    "df['text'].isna().sum()"
   ]
  },
  {
   "cell_type": "code",
   "execution_count": 147,
   "metadata": {},
   "outputs": [],
   "source": [
    "df['text'].fillna(\"Пусто\", inplace=True)"
   ]
  },
  {
   "cell_type": "code",
   "execution_count": 148,
   "metadata": {},
   "outputs": [],
   "source": [
    "df['description'].fillna(\"Пусто\", inplace=True)"
   ]
  },
  {
   "cell_type": "code",
   "execution_count": 149,
   "metadata": {},
   "outputs": [],
   "source": [
    "df['duty'].fillna(\"Пусто\", inplace=True)"
   ]
  },
  {
   "cell_type": "code",
   "execution_count": null,
   "metadata": {},
   "outputs": [],
   "source": []
  },
  {
   "cell_type": "code",
   "execution_count": 150,
   "metadata": {},
   "outputs": [],
   "source": [
    "txt_col=df[['qualification', 'text', 'description', 'duty']]"
   ]
  },
  {
   "cell_type": "code",
   "execution_count": 151,
   "metadata": {
    "scrolled": true
   },
   "outputs": [
    {
     "data": {
      "text/html": [
       "<div>\n",
       "<style scoped>\n",
       "    .dataframe tbody tr th:only-of-type {\n",
       "        vertical-align: middle;\n",
       "    }\n",
       "\n",
       "    .dataframe tbody tr th {\n",
       "        vertical-align: top;\n",
       "    }\n",
       "\n",
       "    .dataframe thead th {\n",
       "        text-align: right;\n",
       "    }\n",
       "</style>\n",
       "<table border=\"1\" class=\"dataframe\">\n",
       "  <thead>\n",
       "    <tr style=\"text-align: right;\">\n",
       "      <th></th>\n",
       "      <th>qualification</th>\n",
       "      <th>text</th>\n",
       "      <th>description</th>\n",
       "      <th>duty</th>\n",
       "    </tr>\n",
       "  </thead>\n",
       "  <tbody>\n",
       "    <tr>\n",
       "      <th>0</th>\n",
       "      <td>Пусто</td>\n",
       "      <td>Пусто</td>\n",
       "      <td>Ответственность  \\n Аккуратность  \\n Пунктуал...</td>\n",
       "      <td>регистрация и консультация клиентов  \\n работ...</td>\n",
       "    </tr>\n",
       "    <tr>\n",
       "      <th>1</th>\n",
       "      <td>Пусто</td>\n",
       "      <td>Пусто</td>\n",
       "      <td>коммуникабельность  \\n умение работать в кома...</td>\n",
       "      <td>\\n работа с постоянными клиентами  \\n веде...</td>\n",
       "    </tr>\n",
       "    <tr>\n",
       "      <th>2</th>\n",
       "      <td>Пусто</td>\n",
       "      <td>Пусто</td>\n",
       "      <td>Пунктуальность  \\n Аккуратность  \\n Позитивно...</td>\n",
       "      <td>Работа с документами  \\n Проведение первичных...</td>\n",
       "    </tr>\n",
       "    <tr>\n",
       "      <th>3</th>\n",
       "      <td>Пусто</td>\n",
       "      <td>Инвалиды</td>\n",
       "      <td>ответственность внимательность пунктуальность.</td>\n",
       "      <td>подбор персонала на сайтах обработка электрон...</td>\n",
       "    </tr>\n",
       "    <tr>\n",
       "      <th>4</th>\n",
       "      <td>Пусто</td>\n",
       "      <td>Инвалиды</td>\n",
       "      <td>Ответственность  \\n Аккуратность  \\n Пунктуал...</td>\n",
       "      <td>регистрация и консультация клиентов  \\n работ...</td>\n",
       "    </tr>\n",
       "  </tbody>\n",
       "</table>\n",
       "</div>"
      ],
      "text/plain": [
       "  qualification      text                                        description  \\\n",
       "0         Пусто     Пусто   Ответственность  \\n Аккуратность  \\n Пунктуал...   \n",
       "1         Пусто     Пусто   коммуникабельность  \\n умение работать в кома...   \n",
       "2         Пусто     Пусто   Пунктуальность  \\n Аккуратность  \\n Позитивно...   \n",
       "3         Пусто  Инвалиды    ответственность внимательность пунктуальность.    \n",
       "4         Пусто  Инвалиды   Ответственность  \\n Аккуратность  \\n Пунктуал...   \n",
       "\n",
       "                                                duty  \n",
       "0   регистрация и консультация клиентов  \\n работ...  \n",
       "1      \\n работа с постоянными клиентами  \\n веде...  \n",
       "2   Работа с документами  \\n Проведение первичных...  \n",
       "3   подбор персонала на сайтах обработка электрон...  \n",
       "4   регистрация и консультация клиентов  \\n работ...  "
      ]
     },
     "execution_count": 151,
     "metadata": {},
     "output_type": "execute_result"
    }
   ],
   "source": [
    "txt_col.head()"
   ]
  },
  {
   "cell_type": "code",
   "execution_count": 238,
   "metadata": {},
   "outputs": [
    {
     "name": "stderr",
     "output_type": "stream",
     "text": [
      "/usr/local/lib/python3.6/dist-packages/ipykernel_launcher.py:10: SettingWithCopyWarning: \n",
      "A value is trying to be set on a copy of a slice from a DataFrame.\n",
      "Try using .loc[row_indexer,col_indexer] = value instead\n",
      "\n",
      "See the caveats in the documentation: http://pandas.pydata.org/pandas-docs/stable/indexing.html#indexing-view-versus-copy\n",
      "  # Remove the CWD from sys.path while we load stuff.\n"
     ]
    }
   ],
   "source": [
    "def prepr_text(txt):\n",
    "    if type(txt) != str:\n",
    "        return None\n",
    "    else:\n",
    "        return re.sub(r'<[^>]*>|\\\\n|\\&\\w+|[:;,%#@!+...]|(\\n)|\\.', ' ', txt)\n",
    "    \n",
    "text_cols=['qualification', 'text', 'description', 'duty']\n",
    "\n",
    "for c in text_cols:\n",
    "    txt_col[c]=txt_col[c].map(prepr_text)"
   ]
  },
  {
   "cell_type": "code",
   "execution_count": 236,
   "metadata": {},
   "outputs": [
    {
     "data": {
      "text/html": [
       "<div>\n",
       "<style scoped>\n",
       "    .dataframe tbody tr th:only-of-type {\n",
       "        vertical-align: middle;\n",
       "    }\n",
       "\n",
       "    .dataframe tbody tr th {\n",
       "        vertical-align: top;\n",
       "    }\n",
       "\n",
       "    .dataframe thead th {\n",
       "        text-align: right;\n",
       "    }\n",
       "</style>\n",
       "<table border=\"1\" class=\"dataframe\">\n",
       "  <thead>\n",
       "    <tr style=\"text-align: right;\">\n",
       "      <th></th>\n",
       "      <th>qualification</th>\n",
       "      <th>text</th>\n",
       "      <th>description</th>\n",
       "      <th>duty</th>\n",
       "    </tr>\n",
       "  </thead>\n",
       "  <tbody>\n",
       "    <tr>\n",
       "      <th>0</th>\n",
       "      <td>Пусто</td>\n",
       "      <td>Пусто</td>\n",
       "      <td>Ответственность    Аккуратность    Пунктуальн...</td>\n",
       "      <td>регистрация и консультация клиентов    работа...</td>\n",
       "    </tr>\n",
       "    <tr>\n",
       "      <th>1</th>\n",
       "      <td>Пусто</td>\n",
       "      <td>Пусто</td>\n",
       "      <td>коммуникабельность    умение работать в коман...</td>\n",
       "      <td>работа с постоянными клиентами    ведени...</td>\n",
       "    </tr>\n",
       "    <tr>\n",
       "      <th>2</th>\n",
       "      <td>Пусто</td>\n",
       "      <td>Пусто</td>\n",
       "      <td>Пунктуальность    Аккуратность    Позитивност...</td>\n",
       "      <td>Работа с документами    Проведение первичных ...</td>\n",
       "    </tr>\n",
       "    <tr>\n",
       "      <th>3</th>\n",
       "      <td>Пусто</td>\n",
       "      <td>Инвалиды</td>\n",
       "      <td>ответственность внимательность пунктуальность</td>\n",
       "      <td>подбор персонала на сайтах обработка электрон...</td>\n",
       "    </tr>\n",
       "    <tr>\n",
       "      <th>4</th>\n",
       "      <td>Пусто</td>\n",
       "      <td>Инвалиды</td>\n",
       "      <td>Ответственность    Аккуратность    Пунктуальн...</td>\n",
       "      <td>регистрация и консультация клиентов    работа...</td>\n",
       "    </tr>\n",
       "  </tbody>\n",
       "</table>\n",
       "</div>"
      ],
      "text/plain": [
       "  qualification      text                                        description  \\\n",
       "0         Пусто     Пусто   Ответственность    Аккуратность    Пунктуальн...   \n",
       "1         Пусто     Пусто   коммуникабельность    умение работать в коман...   \n",
       "2         Пусто     Пусто   Пунктуальность    Аккуратность    Позитивност...   \n",
       "3         Пусто  Инвалиды    ответственность внимательность пунктуальность     \n",
       "4         Пусто  Инвалиды   Ответственность    Аккуратность    Пунктуальн...   \n",
       "\n",
       "                                                duty  \n",
       "0   регистрация и консультация клиентов    работа...  \n",
       "1        работа с постоянными клиентами    ведени...  \n",
       "2   Работа с документами    Проведение первичных ...  \n",
       "3   подбор персонала на сайтах обработка электрон...  \n",
       "4   регистрация и консультация клиентов    работа...  "
      ]
     },
     "execution_count": 236,
     "metadata": {},
     "output_type": "execute_result"
    }
   ],
   "source": [
    "txt_col.head()"
   ]
  },
  {
   "cell_type": "code",
   "execution_count": 241,
   "metadata": {},
   "outputs": [
    {
     "data": {
      "text/plain": [
       "array([' Ответственность    Аккуратность    Пунктуальность  ',\n",
       "       ' коммуникабельность    умение работать в команде    целеустремленность       ',\n",
       "       ' Пунктуальность    Аккуратность    Позитивность    Стрессоустойчивость  ',\n",
       "       ...,\n",
       "       '   Среднее специальное либо высшее образование    Желателен опыт работы от 1 года в смежной сфере    Желание развиваться    Пользователь ПК    Ответственность  внимательность  обучаемость    ',\n",
       "       ' Желательно опыт в продажах инструмента  запасных частей к автомобилям ',\n",
       "       ' - Умение общаться с людьми  умение работать в команде    - Знание кассовой дисциплины    - Внимательность  аккуратность    - Опыт работы на должности продавца или менеджера по продажам приветствуется  '],\n",
       "      dtype=object)"
      ]
     },
     "execution_count": 241,
     "metadata": {},
     "output_type": "execute_result"
    }
   ],
   "source": [
    "txt_col['description'].unique()"
   ]
  },
  {
   "cell_type": "code",
   "execution_count": 225,
   "metadata": {},
   "outputs": [],
   "source": [
    "from sklearn.feature_extraction.text import CountVectorizer"
   ]
  },
  {
   "cell_type": "code",
   "execution_count": 226,
   "metadata": {},
   "outputs": [],
   "source": [
    "cvv=CountVectorizer(ngram_range=(1,2), max_features=100)"
   ]
  },
  {
   "cell_type": "code",
   "execution_count": 227,
   "metadata": {},
   "outputs": [],
   "source": [
    "cvv_fit=cvv.fit(txt_col['qualification'])"
   ]
  },
  {
   "cell_type": "code",
   "execution_count": 228,
   "metadata": {},
   "outputs": [],
   "source": [
    "cvv_trans=cvv.transform(txt_col['qualification'])"
   ]
  },
  {
   "cell_type": "code",
   "execution_count": 229,
   "metadata": {
    "scrolled": true
   },
   "outputs": [
    {
     "data": {
      "text/plain": [
       "{'пусто': 67,\n",
       " 'требуется': 84,\n",
       " 'по': 62,\n",
       " 'отдела': 61,\n",
       " 'для': 15,\n",
       " 'на': 43,\n",
       " 'врач': 4,\n",
       " 'водительское': 2,\n",
       " 'удостоверение': 89,\n",
       " 'категории': 26,\n",
       " 'требуется водительское': 85,\n",
       " 'водительское удостоверение': 3,\n",
       " 'удостоверение категории': 91,\n",
       " 'работа': 68,\n",
       " 'ооо': 50,\n",
       " 'работы': 72,\n",
       " 'дисциплинированность': 11,\n",
       " 'ответственность': 56,\n",
       " 'дисциплинированность ответственность': 13,\n",
       " 'условия': 95,\n",
       " 'работать': 70,\n",
       " 'коммуникабельность': 34,\n",
       " 'коммуникабельность ответственность': 36,\n",
       " 'умение': 93,\n",
       " 'команде': 31,\n",
       " 'ответственность коммуникабельность': 58,\n",
       " 'коммуникабельность умение': 37,\n",
       " 'умение работать': 94,\n",
       " 'работать команде': 71,\n",
       " '00': 0,\n",
       " 'до': 16,\n",
       " 'от': 55,\n",
       " 'неделя': 45,\n",
       " 'пунктуальность': 64,\n",
       " 'пунктуальность ответственность': 66,\n",
       " 'специалист': 81,\n",
       " 'команде ответственность': 33,\n",
       " 'наличие': 44,\n",
       " 'гарантированное': 9,\n",
       " 'собеседование': 78,\n",
       " 'инициативность': 20,\n",
       " 'гарантированное собеседование': 10,\n",
       " 'рабочее': 74,\n",
       " 'место': 40,\n",
       " 'рабочее место': 75,\n",
       " 'опыт': 51,\n",
       " 'опыт работы': 52,\n",
       " 'дисциплинированность коммуникабельность': 12,\n",
       " 'труда': 86,\n",
       " 'новое': 46,\n",
       " 'новое рабочее': 47,\n",
       " 'ответственность дисциплинированность': 57,\n",
       " 'ответственность умение': 60,\n",
       " 'свободная': 76,\n",
       " 'компьютером': 38,\n",
       " 'знание': 17,\n",
       " 'свободная работа': 77,\n",
       " 'работа компьютером': 69,\n",
       " '1с': 1,\n",
       " 'высоко': 7,\n",
       " 'квалифицированный': 27,\n",
       " 'высоко квалифицированный': 8,\n",
       " 'квалифицированный специалист': 28,\n",
       " 'целеустремленность': 97,\n",
       " 'ответственность пунктуальность': 59,\n",
       " 'производство': 63,\n",
       " 'команде дисциплинированность': 32,\n",
       " 'дисциплинированность пунктуальность': 14,\n",
       " 'кат': 23,\n",
       " 'удостоверение кат': 90,\n",
       " 'кат водительское': 24,\n",
       " 'тяжелые': 87,\n",
       " 'вредные': 5,\n",
       " 'тяжелые вредные': 88,\n",
       " 'вредные условия': 6,\n",
       " 'условия труда': 96,\n",
       " 'образование': 48,\n",
       " 'коммуникабельность дисциплинированность': 35,\n",
       " 'инвалидов': 19,\n",
       " 'шестидневная': 98,\n",
       " 'обучаемость': 49,\n",
       " 'шестидневная неделя': 99,\n",
       " 'сохраненное': 79,\n",
       " 'сохраненное рабочее': 80,\n",
       " 'место ответственность': 42,\n",
       " 'основ': 53,\n",
       " 'знание основ': 18,\n",
       " 'основ работы': 54,\n",
       " 'работы компьютером': 73,\n",
       " 'квотируемое': 29,\n",
       " 'квотируемое рабочее': 30,\n",
       " 'инициативность ответственность': 22,\n",
       " 'пунктуальность дисциплинированность': 65,\n",
       " 'инициативность дисциплинированность': 21,\n",
       " 'кат требуется': 25,\n",
       " 'тракториста': 82,\n",
       " 'машиниста': 39,\n",
       " 'удостоверение тракториста': 92,\n",
       " 'тракториста машиниста': 83,\n",
       " 'место дисциплинированность': 41}"
      ]
     },
     "execution_count": 229,
     "metadata": {},
     "output_type": "execute_result"
    }
   ],
   "source": [
    "cvv_fit.vocabulary_"
   ]
  },
  {
   "cell_type": "code",
   "execution_count": 230,
   "metadata": {},
   "outputs": [
    {
     "data": {
      "text/plain": [
       "100"
      ]
     },
     "execution_count": 230,
     "metadata": {},
     "output_type": "execute_result"
    }
   ],
   "source": [
    "len(cvv_fit.vocabulary_)"
   ]
  },
  {
   "cell_type": "code",
   "execution_count": null,
   "metadata": {},
   "outputs": [],
   "source": []
  },
  {
   "cell_type": "code",
   "execution_count": null,
   "metadata": {},
   "outputs": [],
   "source": []
  },
  {
   "cell_type": "code",
   "execution_count": 242,
   "metadata": {},
   "outputs": [],
   "source": [
    "def text_vec(col):\n",
    "    co_vect=CountVectorizer()\n",
    "    co_vect_fit=cvv.fit(txt_col[col])\n",
    "    co_vect_trans=cvv.transform(txt_col[col])\n",
    "    \n",
    "    return co_vect_fit, co_vect_trans"
   ]
  },
  {
   "cell_type": "code",
   "execution_count": 244,
   "metadata": {},
   "outputs": [],
   "source": []
  },
  {
   "cell_type": "code",
   "execution_count": 245,
   "metadata": {
    "scrolled": true
   },
   "outputs": [
    {
     "ename": "KeyError",
     "evalue": "\"[' Ответственность    Аккуратность    Пунктуальность  '\\n ' коммуникабельность    умение работать в команде    целеустремленность       '\\n ' Пунктуальность    Аккуратность    Позитивность    Стрессоустойчивость  '\\n ...\\n ' Желательно опыт в продажах инструмента  запасных частей к автомобилям '\\n ' Если ты ответственный и нацелен на результат  готов создавать кулинарные шедевры и развиваться  знаешь нормы СанПин  - приглашаем тебя в команду Киты еды  '\\n ' - Умение общаться с людьми  умение работать в команде    - Знание кассовой дисциплины    - Внимательность  аккуратность    - Опыт работы на должности продавца или менеджера по продажам приветствуется  '] not in index\"",
     "output_type": "error",
     "traceback": [
      "\u001b[0;31m---------------------------------------------------------------------------\u001b[0m",
      "\u001b[0;31mKeyError\u001b[0m                                  Traceback (most recent call last)",
      "\u001b[0;32m<ipython-input-245-557d4bf6ba64>\u001b[0m in \u001b[0;36m<module>\u001b[0;34m\u001b[0m\n\u001b[0;32m----> 1\u001b[0;31m \u001b[0mdescription\u001b[0m\u001b[0;34m,\u001b[0m \u001b[0mdescription_c\u001b[0m \u001b[0;34m=\u001b[0m \u001b[0mtext_vec\u001b[0m\u001b[0;34m(\u001b[0m\u001b[0mtxt_col\u001b[0m\u001b[0;34m[\u001b[0m\u001b[0;34m'description'\u001b[0m\u001b[0;34m]\u001b[0m\u001b[0;34m)\u001b[0m\u001b[0;34m\u001b[0m\u001b[0m\n\u001b[0m\u001b[1;32m      2\u001b[0m \u001b[0mqualification\u001b[0m\u001b[0;34m,\u001b[0m \u001b[0mqualification_c\u001b[0m \u001b[0;34m=\u001b[0m \u001b[0mtext_vec\u001b[0m\u001b[0;34m(\u001b[0m\u001b[0mtxt_col\u001b[0m\u001b[0;34m[\u001b[0m\u001b[0;34m'qualification'\u001b[0m\u001b[0;34m]\u001b[0m\u001b[0;34m)\u001b[0m\u001b[0;34m\u001b[0m\u001b[0m\n\u001b[1;32m      3\u001b[0m \u001b[0mduty\u001b[0m\u001b[0;34m,\u001b[0m\u001b[0mduty_c\u001b[0m \u001b[0;34m=\u001b[0m \u001b[0mtext_vec\u001b[0m\u001b[0;34m(\u001b[0m\u001b[0mtxt_col\u001b[0m\u001b[0;34m[\u001b[0m\u001b[0;34m'duty'\u001b[0m\u001b[0;34m]\u001b[0m\u001b[0;34m)\u001b[0m\u001b[0;34m\u001b[0m\u001b[0m\n\u001b[1;32m      4\u001b[0m \u001b[0mtext\u001b[0m\u001b[0;34m,\u001b[0m \u001b[0mtext_c\u001b[0m\u001b[0;34m=\u001b[0m\u001b[0mtext_vec\u001b[0m\u001b[0;34m(\u001b[0m\u001b[0mtxt_col\u001b[0m\u001b[0;34m[\u001b[0m\u001b[0;34m'text'\u001b[0m\u001b[0;34m]\u001b[0m\u001b[0;34m)\u001b[0m\u001b[0;34m\u001b[0m\u001b[0m\n",
      "\u001b[0;32m<ipython-input-244-39d8c7b91b2d>\u001b[0m in \u001b[0;36mtext_vec\u001b[0;34m(col)\u001b[0m\n\u001b[1;32m      2\u001b[0m     \u001b[0mcv\u001b[0m \u001b[0;34m=\u001b[0m \u001b[0mCountVectorizer\u001b[0m\u001b[0;34m(\u001b[0m\u001b[0mngram_range\u001b[0m\u001b[0;34m=\u001b[0m\u001b[0;34m(\u001b[0m\u001b[0;36m1\u001b[0m\u001b[0;34m,\u001b[0m\u001b[0;36m2\u001b[0m\u001b[0;34m)\u001b[0m\u001b[0;34m,\u001b[0m \u001b[0mmax_features\u001b[0m\u001b[0;34m=\u001b[0m\u001b[0;36m100\u001b[0m\u001b[0;34m)\u001b[0m\u001b[0;34m\u001b[0m\u001b[0m\n\u001b[1;32m      3\u001b[0m     \u001b[0;31m#Делаем фит, затем в цикле удаляем из полученного словаря, переменные меее 4 символов(предлоги) и так по всем текстовым\u001b[0m\u001b[0;34m\u001b[0m\u001b[0;34m\u001b[0m\u001b[0m\n\u001b[0;32m----> 4\u001b[0;31m     \u001b[0mcv_c\u001b[0m \u001b[0;34m=\u001b[0m \u001b[0mcv\u001b[0m\u001b[0;34m.\u001b[0m\u001b[0mfit\u001b[0m\u001b[0;34m(\u001b[0m\u001b[0mdf\u001b[0m\u001b[0;34m[\u001b[0m\u001b[0mcol\u001b[0m\u001b[0;34m]\u001b[0m\u001b[0;34m.\u001b[0m\u001b[0mfillna\u001b[0m\u001b[0;34m(\u001b[0m\u001b[0;34m\"\"\u001b[0m\u001b[0;34m)\u001b[0m\u001b[0;34m)\u001b[0m\u001b[0;34m\u001b[0m\u001b[0m\n\u001b[0m\u001b[1;32m      5\u001b[0m     \u001b[0mtemp\u001b[0m \u001b[0;34m=\u001b[0m \u001b[0mcv_c\u001b[0m\u001b[0;34m.\u001b[0m\u001b[0mvocabulary_\u001b[0m\u001b[0;34m.\u001b[0m\u001b[0mcopy\u001b[0m\u001b[0;34m(\u001b[0m\u001b[0;34m)\u001b[0m\u001b[0;34m\u001b[0m\u001b[0m\n\u001b[1;32m      6\u001b[0m     \u001b[0;32mfor\u001b[0m \u001b[0mk\u001b[0m \u001b[0;32min\u001b[0m \u001b[0mtemp\u001b[0m\u001b[0;34m:\u001b[0m\u001b[0;34m\u001b[0m\u001b[0m\n",
      "\u001b[0;32m/usr/local/lib/python3.6/dist-packages/pandas/core/frame.py\u001b[0m in \u001b[0;36m__getitem__\u001b[0;34m(self, key)\u001b[0m\n\u001b[1;32m   2680\u001b[0m         \u001b[0;32mif\u001b[0m \u001b[0misinstance\u001b[0m\u001b[0;34m(\u001b[0m\u001b[0mkey\u001b[0m\u001b[0;34m,\u001b[0m \u001b[0;34m(\u001b[0m\u001b[0mSeries\u001b[0m\u001b[0;34m,\u001b[0m \u001b[0mnp\u001b[0m\u001b[0;34m.\u001b[0m\u001b[0mndarray\u001b[0m\u001b[0;34m,\u001b[0m \u001b[0mIndex\u001b[0m\u001b[0;34m,\u001b[0m \u001b[0mlist\u001b[0m\u001b[0;34m)\u001b[0m\u001b[0;34m)\u001b[0m\u001b[0;34m:\u001b[0m\u001b[0;34m\u001b[0m\u001b[0m\n\u001b[1;32m   2681\u001b[0m             \u001b[0;31m# either boolean or fancy integer index\u001b[0m\u001b[0;34m\u001b[0m\u001b[0;34m\u001b[0m\u001b[0m\n\u001b[0;32m-> 2682\u001b[0;31m             \u001b[0;32mreturn\u001b[0m \u001b[0mself\u001b[0m\u001b[0;34m.\u001b[0m\u001b[0m_getitem_array\u001b[0m\u001b[0;34m(\u001b[0m\u001b[0mkey\u001b[0m\u001b[0;34m)\u001b[0m\u001b[0;34m\u001b[0m\u001b[0m\n\u001b[0m\u001b[1;32m   2683\u001b[0m         \u001b[0;32melif\u001b[0m \u001b[0misinstance\u001b[0m\u001b[0;34m(\u001b[0m\u001b[0mkey\u001b[0m\u001b[0;34m,\u001b[0m \u001b[0mDataFrame\u001b[0m\u001b[0;34m)\u001b[0m\u001b[0;34m:\u001b[0m\u001b[0;34m\u001b[0m\u001b[0m\n\u001b[1;32m   2684\u001b[0m             \u001b[0;32mreturn\u001b[0m \u001b[0mself\u001b[0m\u001b[0;34m.\u001b[0m\u001b[0m_getitem_frame\u001b[0m\u001b[0;34m(\u001b[0m\u001b[0mkey\u001b[0m\u001b[0;34m)\u001b[0m\u001b[0;34m\u001b[0m\u001b[0m\n",
      "\u001b[0;32m/usr/local/lib/python3.6/dist-packages/pandas/core/frame.py\u001b[0m in \u001b[0;36m_getitem_array\u001b[0;34m(self, key)\u001b[0m\n\u001b[1;32m   2724\u001b[0m             \u001b[0;32mreturn\u001b[0m \u001b[0mself\u001b[0m\u001b[0;34m.\u001b[0m\u001b[0m_take\u001b[0m\u001b[0;34m(\u001b[0m\u001b[0mindexer\u001b[0m\u001b[0;34m,\u001b[0m \u001b[0maxis\u001b[0m\u001b[0;34m=\u001b[0m\u001b[0;36m0\u001b[0m\u001b[0;34m)\u001b[0m\u001b[0;34m\u001b[0m\u001b[0m\n\u001b[1;32m   2725\u001b[0m         \u001b[0;32melse\u001b[0m\u001b[0;34m:\u001b[0m\u001b[0;34m\u001b[0m\u001b[0m\n\u001b[0;32m-> 2726\u001b[0;31m             \u001b[0mindexer\u001b[0m \u001b[0;34m=\u001b[0m \u001b[0mself\u001b[0m\u001b[0;34m.\u001b[0m\u001b[0mloc\u001b[0m\u001b[0;34m.\u001b[0m\u001b[0m_convert_to_indexer\u001b[0m\u001b[0;34m(\u001b[0m\u001b[0mkey\u001b[0m\u001b[0;34m,\u001b[0m \u001b[0maxis\u001b[0m\u001b[0;34m=\u001b[0m\u001b[0;36m1\u001b[0m\u001b[0;34m)\u001b[0m\u001b[0;34m\u001b[0m\u001b[0m\n\u001b[0m\u001b[1;32m   2727\u001b[0m             \u001b[0;32mreturn\u001b[0m \u001b[0mself\u001b[0m\u001b[0;34m.\u001b[0m\u001b[0m_take\u001b[0m\u001b[0;34m(\u001b[0m\u001b[0mindexer\u001b[0m\u001b[0;34m,\u001b[0m \u001b[0maxis\u001b[0m\u001b[0;34m=\u001b[0m\u001b[0;36m1\u001b[0m\u001b[0;34m)\u001b[0m\u001b[0;34m\u001b[0m\u001b[0m\n\u001b[1;32m   2728\u001b[0m \u001b[0;34m\u001b[0m\u001b[0m\n",
      "\u001b[0;32m/usr/local/lib/python3.6/dist-packages/pandas/core/indexing.py\u001b[0m in \u001b[0;36m_convert_to_indexer\u001b[0;34m(self, obj, axis, is_setter)\u001b[0m\n\u001b[1;32m   1325\u001b[0m                 \u001b[0;32mif\u001b[0m \u001b[0mmask\u001b[0m\u001b[0;34m.\u001b[0m\u001b[0many\u001b[0m\u001b[0;34m(\u001b[0m\u001b[0;34m)\u001b[0m\u001b[0;34m:\u001b[0m\u001b[0;34m\u001b[0m\u001b[0m\n\u001b[1;32m   1326\u001b[0m                     raise KeyError('{mask} not in index'\n\u001b[0;32m-> 1327\u001b[0;31m                                    .format(mask=objarr[mask]))\n\u001b[0m\u001b[1;32m   1328\u001b[0m \u001b[0;34m\u001b[0m\u001b[0m\n\u001b[1;32m   1329\u001b[0m                 \u001b[0;32mreturn\u001b[0m \u001b[0mcom\u001b[0m\u001b[0;34m.\u001b[0m\u001b[0m_values_from_object\u001b[0m\u001b[0;34m(\u001b[0m\u001b[0mindexer\u001b[0m\u001b[0;34m)\u001b[0m\u001b[0;34m\u001b[0m\u001b[0m\n",
      "\u001b[0;31mKeyError\u001b[0m: \"[' Ответственность    Аккуратность    Пунктуальность  '\\n ' коммуникабельность    умение работать в команде    целеустремленность       '\\n ' Пунктуальность    Аккуратность    Позитивность    Стрессоустойчивость  '\\n ...\\n ' Желательно опыт в продажах инструмента  запасных частей к автомобилям '\\n ' Если ты ответственный и нацелен на результат  готов создавать кулинарные шедевры и развиваться  знаешь нормы СанПин  - приглашаем тебя в команду Киты еды  '\\n ' - Умение общаться с людьми  умение работать в команде    - Знание кассовой дисциплины    - Внимательность  аккуратность    - Опыт работы на должности продавца или менеджера по продажам приветствуется  '] not in index\""
     ]
    }
   ],
   "source": [
    "description, description_c = text_vec(txt_col['description'])\n",
    "qualification, qualification_c = text_vec(txt_col['qualification'])\n",
    "duty,duty_c = text_vec(txt_col['duty'])\n",
    "text, text_c=text_vec(txt_col['text'])"
   ]
  },
  {
   "cell_type": "code",
   "execution_count": 217,
   "metadata": {
    "scrolled": true
   },
   "outputs": [
    {
     "name": "stdout",
     "output_type": "stream",
     "text": [
      "<bound method CountVectorizer.get_feature_names of CountVectorizer(analyzer='word', binary=False, decode_error='strict',\n",
      "        dtype=<class 'numpy.int64'>, encoding='utf-8', input='content',\n",
      "        lowercase=True, max_df=1.0, max_features=100, min_df=1,\n",
      "        ngram_range=(1, 2), preprocessor=None, stop_words=None,\n",
      "        strip_accents=None, token_pattern='(?u)\\\\b\\\\w\\\\w+\\\\b',\n",
      "        tokenizer=None, vocabulary=None)>\n"
     ]
    }
   ],
   "source": [
    "print(cvv.get_feature_names)"
   ]
  },
  {
   "cell_type": "code",
   "execution_count": 204,
   "metadata": {},
   "outputs": [
    {
     "data": {
      "text/plain": [
       "4"
      ]
     },
     "execution_count": 204,
     "metadata": {},
     "output_type": "execute_result"
    }
   ],
   "source": [
    "len(cvv.vocabulary_)"
   ]
  },
  {
   "cell_type": "code",
   "execution_count": 206,
   "metadata": {
    "scrolled": true
   },
   "outputs": [
    {
     "name": "stdout",
     "output_type": "stream",
     "text": [
      "<bound method CountVectorizer.get_feature_names of CountVectorizer(analyzer='word', binary=False, decode_error='strict',\n",
      "        dtype=<class 'numpy.int64'>, encoding='utf-8', input='content',\n",
      "        lowercase=True, max_df=1.0, max_features=100, min_df=1,\n",
      "        ngram_range=(1, 2), preprocessor=None, stop_words=None,\n",
      "        strip_accents=None, token_pattern='(?u)\\\\b\\\\w\\\\w+\\\\b',\n",
      "        tokenizer=None, vocabulary=None)>\n"
     ]
    }
   ],
   "source": [
    "print(cvv_fit.get_feature_names)"
   ]
  },
  {
   "cell_type": "code",
   "execution_count": null,
   "metadata": {},
   "outputs": [],
   "source": []
  },
  {
   "cell_type": "code",
   "execution_count": null,
   "metadata": {},
   "outputs": [],
   "source": []
  },
  {
   "cell_type": "code",
   "execution_count": null,
   "metadata": {},
   "outputs": [],
   "source": []
  },
  {
   "cell_type": "markdown",
   "metadata": {},
   "source": [
    "# Нормальный COUNT VECTORIZER"
   ]
  },
  {
   "cell_type": "code",
   "execution_count": 255,
   "metadata": {},
   "outputs": [],
   "source": [
    "CV=CountVectorizer()"
   ]
  },
  {
   "cell_type": "code",
   "execution_count": 256,
   "metadata": {},
   "outputs": [],
   "source": [
    "cv_qualif=CV.fit(txt_col['qualification'])"
   ]
  },
  {
   "cell_type": "code",
   "execution_count": 257,
   "metadata": {},
   "outputs": [],
   "source": [
    "cv_tr_qualif=CV.transform(txt_col['qualification'])"
   ]
  },
  {
   "cell_type": "code",
   "execution_count": 259,
   "metadata": {},
   "outputs": [
    {
     "data": {
      "text/plain": [
       "52443"
      ]
     },
     "execution_count": 259,
     "metadata": {},
     "output_type": "execute_result"
    }
   ],
   "source": [
    "len(cv_qualif.vocabulary_)"
   ]
  },
  {
   "cell_type": "code",
   "execution_count": 261,
   "metadata": {},
   "outputs": [
    {
     "ename": "MemoryError",
     "evalue": "",
     "output_type": "error",
     "traceback": [
      "\u001b[0;31m---------------------------------------------------------------------------\u001b[0m",
      "\u001b[0;31mMemoryError\u001b[0m                               Traceback (most recent call last)",
      "\u001b[0;32m<ipython-input-261-6575fe695363>\u001b[0m in \u001b[0;36m<module>\u001b[0;34m\u001b[0m\n\u001b[0;32m----> 1\u001b[0;31m \u001b[0mqualification_df\u001b[0m\u001b[0;34m=\u001b[0m\u001b[0mpd\u001b[0m\u001b[0;34m.\u001b[0m\u001b[0mDataFrame\u001b[0m\u001b[0;34m(\u001b[0m\u001b[0mcv_tr_qualif\u001b[0m\u001b[0;34m.\u001b[0m\u001b[0mtoarray\u001b[0m\u001b[0;34m(\u001b[0m\u001b[0;34m)\u001b[0m\u001b[0;34m,\u001b[0m\u001b[0mcolumns\u001b[0m\u001b[0;34m=\u001b[0m\u001b[0mcv_qualif\u001b[0m\u001b[0;34m.\u001b[0m\u001b[0mvocabulary_\u001b[0m\u001b[0;34m.\u001b[0m\u001b[0mkeys\u001b[0m\u001b[0;34m(\u001b[0m\u001b[0;34m)\u001b[0m\u001b[0;34m)\u001b[0m\u001b[0;34m\u001b[0m\u001b[0m\n\u001b[0m",
      "\u001b[0;32m/usr/lib/python3/dist-packages/scipy/sparse/compressed.py\u001b[0m in \u001b[0;36mtoarray\u001b[0;34m(self, order, out)\u001b[0m\n\u001b[1;32m    962\u001b[0m     \u001b[0;32mdef\u001b[0m \u001b[0mtoarray\u001b[0m\u001b[0;34m(\u001b[0m\u001b[0mself\u001b[0m\u001b[0;34m,\u001b[0m \u001b[0morder\u001b[0m\u001b[0;34m=\u001b[0m\u001b[0;32mNone\u001b[0m\u001b[0;34m,\u001b[0m \u001b[0mout\u001b[0m\u001b[0;34m=\u001b[0m\u001b[0;32mNone\u001b[0m\u001b[0;34m)\u001b[0m\u001b[0;34m:\u001b[0m\u001b[0;34m\u001b[0m\u001b[0m\n\u001b[1;32m    963\u001b[0m         \u001b[0;34m\"\"\"See the docstring for `spmatrix.toarray`.\"\"\"\u001b[0m\u001b[0;34m\u001b[0m\u001b[0m\n\u001b[0;32m--> 964\u001b[0;31m         \u001b[0;32mreturn\u001b[0m \u001b[0mself\u001b[0m\u001b[0;34m.\u001b[0m\u001b[0mtocoo\u001b[0m\u001b[0;34m(\u001b[0m\u001b[0mcopy\u001b[0m\u001b[0;34m=\u001b[0m\u001b[0;32mFalse\u001b[0m\u001b[0;34m)\u001b[0m\u001b[0;34m.\u001b[0m\u001b[0mtoarray\u001b[0m\u001b[0;34m(\u001b[0m\u001b[0morder\u001b[0m\u001b[0;34m=\u001b[0m\u001b[0morder\u001b[0m\u001b[0;34m,\u001b[0m \u001b[0mout\u001b[0m\u001b[0;34m=\u001b[0m\u001b[0mout\u001b[0m\u001b[0;34m)\u001b[0m\u001b[0;34m\u001b[0m\u001b[0m\n\u001b[0m\u001b[1;32m    965\u001b[0m \u001b[0;34m\u001b[0m\u001b[0m\n\u001b[1;32m    966\u001b[0m     \u001b[0;31m##############################################################\u001b[0m\u001b[0;34m\u001b[0m\u001b[0;34m\u001b[0m\u001b[0m\n",
      "\u001b[0;32m/usr/lib/python3/dist-packages/scipy/sparse/coo.py\u001b[0m in \u001b[0;36mtoarray\u001b[0;34m(self, order, out)\u001b[0m\n\u001b[1;32m    250\u001b[0m     \u001b[0;32mdef\u001b[0m \u001b[0mtoarray\u001b[0m\u001b[0;34m(\u001b[0m\u001b[0mself\u001b[0m\u001b[0;34m,\u001b[0m \u001b[0morder\u001b[0m\u001b[0;34m=\u001b[0m\u001b[0;32mNone\u001b[0m\u001b[0;34m,\u001b[0m \u001b[0mout\u001b[0m\u001b[0;34m=\u001b[0m\u001b[0;32mNone\u001b[0m\u001b[0;34m)\u001b[0m\u001b[0;34m:\u001b[0m\u001b[0;34m\u001b[0m\u001b[0m\n\u001b[1;32m    251\u001b[0m         \u001b[0;34m\"\"\"See the docstring for `spmatrix.toarray`.\"\"\"\u001b[0m\u001b[0;34m\u001b[0m\u001b[0m\n\u001b[0;32m--> 252\u001b[0;31m         \u001b[0mB\u001b[0m \u001b[0;34m=\u001b[0m \u001b[0mself\u001b[0m\u001b[0;34m.\u001b[0m\u001b[0m_process_toarray_args\u001b[0m\u001b[0;34m(\u001b[0m\u001b[0morder\u001b[0m\u001b[0;34m,\u001b[0m \u001b[0mout\u001b[0m\u001b[0;34m)\u001b[0m\u001b[0;34m\u001b[0m\u001b[0m\n\u001b[0m\u001b[1;32m    253\u001b[0m         \u001b[0mfortran\u001b[0m \u001b[0;34m=\u001b[0m \u001b[0mint\u001b[0m\u001b[0;34m(\u001b[0m\u001b[0mB\u001b[0m\u001b[0;34m.\u001b[0m\u001b[0mflags\u001b[0m\u001b[0;34m.\u001b[0m\u001b[0mf_contiguous\u001b[0m\u001b[0;34m)\u001b[0m\u001b[0;34m\u001b[0m\u001b[0m\n\u001b[1;32m    254\u001b[0m         \u001b[0;32mif\u001b[0m \u001b[0;32mnot\u001b[0m \u001b[0mfortran\u001b[0m \u001b[0;32mand\u001b[0m \u001b[0;32mnot\u001b[0m \u001b[0mB\u001b[0m\u001b[0;34m.\u001b[0m\u001b[0mflags\u001b[0m\u001b[0;34m.\u001b[0m\u001b[0mc_contiguous\u001b[0m\u001b[0;34m:\u001b[0m\u001b[0;34m\u001b[0m\u001b[0m\n",
      "\u001b[0;32m/usr/lib/python3/dist-packages/scipy/sparse/base.py\u001b[0m in \u001b[0;36m_process_toarray_args\u001b[0;34m(self, order, out)\u001b[0m\n\u001b[1;32m   1037\u001b[0m             \u001b[0;32mreturn\u001b[0m \u001b[0mout\u001b[0m\u001b[0;34m\u001b[0m\u001b[0m\n\u001b[1;32m   1038\u001b[0m         \u001b[0;32melse\u001b[0m\u001b[0;34m:\u001b[0m\u001b[0;34m\u001b[0m\u001b[0m\n\u001b[0;32m-> 1039\u001b[0;31m             \u001b[0;32mreturn\u001b[0m \u001b[0mnp\u001b[0m\u001b[0;34m.\u001b[0m\u001b[0mzeros\u001b[0m\u001b[0;34m(\u001b[0m\u001b[0mself\u001b[0m\u001b[0;34m.\u001b[0m\u001b[0mshape\u001b[0m\u001b[0;34m,\u001b[0m \u001b[0mdtype\u001b[0m\u001b[0;34m=\u001b[0m\u001b[0mself\u001b[0m\u001b[0;34m.\u001b[0m\u001b[0mdtype\u001b[0m\u001b[0;34m,\u001b[0m \u001b[0morder\u001b[0m\u001b[0;34m=\u001b[0m\u001b[0morder\u001b[0m\u001b[0;34m)\u001b[0m\u001b[0;34m\u001b[0m\u001b[0m\n\u001b[0m\u001b[1;32m   1040\u001b[0m \u001b[0;34m\u001b[0m\u001b[0m\n\u001b[1;32m   1041\u001b[0m     \u001b[0;32mdef\u001b[0m \u001b[0m__numpy_ufunc__\u001b[0m\u001b[0;34m(\u001b[0m\u001b[0mself\u001b[0m\u001b[0;34m,\u001b[0m \u001b[0mfunc\u001b[0m\u001b[0;34m,\u001b[0m \u001b[0mmethod\u001b[0m\u001b[0;34m,\u001b[0m \u001b[0mpos\u001b[0m\u001b[0;34m,\u001b[0m \u001b[0minputs\u001b[0m\u001b[0;34m,\u001b[0m \u001b[0;34m**\u001b[0m\u001b[0mkwargs\u001b[0m\u001b[0;34m)\u001b[0m\u001b[0;34m:\u001b[0m\u001b[0;34m\u001b[0m\u001b[0m\n",
      "\u001b[0;31mMemoryError\u001b[0m: "
     ]
    }
   ],
   "source": [
    "qualification_df=pd.DataFrame(cv_tr_qualif.toarray(),columns=cv_qualif.vocabulary_.keys())"
   ]
  },
  {
   "cell_type": "code",
   "execution_count": null,
   "metadata": {},
   "outputs": [],
   "source": []
  },
  {
   "cell_type": "markdown",
   "metadata": {},
   "source": [
    "# Делаем модельку"
   ]
  },
  {
   "cell_type": "code",
   "execution_count": 176,
   "metadata": {},
   "outputs": [],
   "source": [
    "from sklearn.ensemble import ExtraTreesClassifier, GradientBoostingClassifier, RandomForestClassifier"
   ]
  },
  {
   "cell_type": "code",
   "execution_count": 177,
   "metadata": {},
   "outputs": [
    {
     "data": {
      "text/html": [
       "<div>\n",
       "<style scoped>\n",
       "    .dataframe tbody tr th:only-of-type {\n",
       "        vertical-align: middle;\n",
       "    }\n",
       "\n",
       "    .dataframe tbody tr th {\n",
       "        vertical-align: top;\n",
       "    }\n",
       "\n",
       "    .dataframe thead th {\n",
       "        text-align: right;\n",
       "    }\n",
       "</style>\n",
       "<table border=\"1\" class=\"dataframe\">\n",
       "  <thead>\n",
       "    <tr style=\"text-align: right;\">\n",
       "      <th></th>\n",
       "      <th>education_Высшее</th>\n",
       "      <th>education_Незаконченное высшее</th>\n",
       "      <th>education_Пусто</th>\n",
       "      <th>education_Среднее</th>\n",
       "      <th>education_Среднее профессиональное</th>\n",
       "      <th>employment_unknown</th>\n",
       "      <th>employment_Временная</th>\n",
       "      <th>employment_Не указано</th>\n",
       "      <th>employment_Полная занятость</th>\n",
       "      <th>employment_Сезонная</th>\n",
       "      <th>...</th>\n",
       "      <th>schedule_</th>\n",
       "      <th>schedule_Вахтовый метод</th>\n",
       "      <th>schedule_Гибкий график</th>\n",
       "      <th>schedule_Не указано</th>\n",
       "      <th>schedule_Ненормированный рабочий день</th>\n",
       "      <th>schedule_Неполный рабочий день</th>\n",
       "      <th>schedule_Полный рабочий день</th>\n",
       "      <th>schedule_Пусто</th>\n",
       "      <th>schedule_Сменный график</th>\n",
       "      <th>industry_le</th>\n",
       "    </tr>\n",
       "  </thead>\n",
       "  <tbody>\n",
       "    <tr>\n",
       "      <th>0</th>\n",
       "      <td>0</td>\n",
       "      <td>0</td>\n",
       "      <td>0</td>\n",
       "      <td>1</td>\n",
       "      <td>0</td>\n",
       "      <td>0</td>\n",
       "      <td>0</td>\n",
       "      <td>0</td>\n",
       "      <td>0</td>\n",
       "      <td>0</td>\n",
       "      <td>...</td>\n",
       "      <td>0</td>\n",
       "      <td>1</td>\n",
       "      <td>0</td>\n",
       "      <td>0</td>\n",
       "      <td>0</td>\n",
       "      <td>0</td>\n",
       "      <td>0</td>\n",
       "      <td>0</td>\n",
       "      <td>0</td>\n",
       "      <td>0</td>\n",
       "    </tr>\n",
       "    <tr>\n",
       "      <th>1</th>\n",
       "      <td>0</td>\n",
       "      <td>0</td>\n",
       "      <td>0</td>\n",
       "      <td>0</td>\n",
       "      <td>1</td>\n",
       "      <td>0</td>\n",
       "      <td>0</td>\n",
       "      <td>0</td>\n",
       "      <td>0</td>\n",
       "      <td>0</td>\n",
       "      <td>...</td>\n",
       "      <td>0</td>\n",
       "      <td>0</td>\n",
       "      <td>0</td>\n",
       "      <td>0</td>\n",
       "      <td>0</td>\n",
       "      <td>0</td>\n",
       "      <td>0</td>\n",
       "      <td>0</td>\n",
       "      <td>1</td>\n",
       "      <td>22</td>\n",
       "    </tr>\n",
       "    <tr>\n",
       "      <th>2</th>\n",
       "      <td>0</td>\n",
       "      <td>0</td>\n",
       "      <td>1</td>\n",
       "      <td>0</td>\n",
       "      <td>0</td>\n",
       "      <td>0</td>\n",
       "      <td>0</td>\n",
       "      <td>0</td>\n",
       "      <td>0</td>\n",
       "      <td>0</td>\n",
       "      <td>...</td>\n",
       "      <td>0</td>\n",
       "      <td>0</td>\n",
       "      <td>1</td>\n",
       "      <td>0</td>\n",
       "      <td>0</td>\n",
       "      <td>0</td>\n",
       "      <td>0</td>\n",
       "      <td>0</td>\n",
       "      <td>0</td>\n",
       "      <td>0</td>\n",
       "    </tr>\n",
       "    <tr>\n",
       "      <th>3</th>\n",
       "      <td>0</td>\n",
       "      <td>1</td>\n",
       "      <td>0</td>\n",
       "      <td>0</td>\n",
       "      <td>0</td>\n",
       "      <td>0</td>\n",
       "      <td>0</td>\n",
       "      <td>0</td>\n",
       "      <td>0</td>\n",
       "      <td>0</td>\n",
       "      <td>...</td>\n",
       "      <td>0</td>\n",
       "      <td>0</td>\n",
       "      <td>0</td>\n",
       "      <td>0</td>\n",
       "      <td>0</td>\n",
       "      <td>0</td>\n",
       "      <td>0</td>\n",
       "      <td>0</td>\n",
       "      <td>1</td>\n",
       "      <td>11</td>\n",
       "    </tr>\n",
       "    <tr>\n",
       "      <th>4</th>\n",
       "      <td>0</td>\n",
       "      <td>0</td>\n",
       "      <td>0</td>\n",
       "      <td>1</td>\n",
       "      <td>0</td>\n",
       "      <td>0</td>\n",
       "      <td>0</td>\n",
       "      <td>0</td>\n",
       "      <td>0</td>\n",
       "      <td>0</td>\n",
       "      <td>...</td>\n",
       "      <td>0</td>\n",
       "      <td>0</td>\n",
       "      <td>1</td>\n",
       "      <td>0</td>\n",
       "      <td>0</td>\n",
       "      <td>0</td>\n",
       "      <td>0</td>\n",
       "      <td>0</td>\n",
       "      <td>0</td>\n",
       "      <td>0</td>\n",
       "    </tr>\n",
       "  </tbody>\n",
       "</table>\n",
       "<p>5 rows × 23 columns</p>\n",
       "</div>"
      ],
      "text/plain": [
       "   education_Высшее  education_Незаконченное высшее  education_Пусто  \\\n",
       "0                 0                               0                0   \n",
       "1                 0                               0                0   \n",
       "2                 0                               0                1   \n",
       "3                 0                               1                0   \n",
       "4                 0                               0                0   \n",
       "\n",
       "   education_Среднее  education_Среднее профессиональное  employment_unknown  \\\n",
       "0                  1                                   0                   0   \n",
       "1                  0                                   1                   0   \n",
       "2                  0                                   0                   0   \n",
       "3                  0                                   0                   0   \n",
       "4                  1                                   0                   0   \n",
       "\n",
       "   employment_Временная  employment_Не указано  employment_Полная занятость  \\\n",
       "0                     0                      0                            0   \n",
       "1                     0                      0                            0   \n",
       "2                     0                      0                            0   \n",
       "3                     0                      0                            0   \n",
       "4                     0                      0                            0   \n",
       "\n",
       "   employment_Сезонная     ...       schedule_\\n      schedule_Вахтовый метод  \\\n",
       "0                    0     ...                     0                        1   \n",
       "1                    0     ...                     0                        0   \n",
       "2                    0     ...                     0                        0   \n",
       "3                    0     ...                     0                        0   \n",
       "4                    0     ...                     0                        0   \n",
       "\n",
       "   schedule_Гибкий график  schedule_Не указано  \\\n",
       "0                       0                    0   \n",
       "1                       0                    0   \n",
       "2                       1                    0   \n",
       "3                       0                    0   \n",
       "4                       1                    0   \n",
       "\n",
       "   schedule_Ненормированный рабочий день  schedule_Неполный рабочий день  \\\n",
       "0                                      0                               0   \n",
       "1                                      0                               0   \n",
       "2                                      0                               0   \n",
       "3                                      0                               0   \n",
       "4                                      0                               0   \n",
       "\n",
       "   schedule_Полный рабочий день  schedule_Пусто  schedule_Сменный график  \\\n",
       "0                             0               0                        0   \n",
       "1                             0               0                        1   \n",
       "2                             0               0                        0   \n",
       "3                             0               0                        1   \n",
       "4                             0               0                        0   \n",
       "\n",
       "   industry_le  \n",
       "0            0  \n",
       "1           22  \n",
       "2            0  \n",
       "3           11  \n",
       "4            0  \n",
       "\n",
       "[5 rows x 23 columns]"
      ]
     },
     "execution_count": 177,
     "metadata": {},
     "output_type": "execute_result"
    }
   ],
   "source": [
    "ras_cols_dummies.head()"
   ]
  },
  {
   "cell_type": "code",
   "execution_count": 179,
   "metadata": {},
   "outputs": [],
   "source": [
    "y=ras_cols_dummies['industry_le']"
   ]
  },
  {
   "cell_type": "code",
   "execution_count": 180,
   "metadata": {},
   "outputs": [],
   "source": [
    "df_train=ras_cols_dummies.drop(columns='industry_le')"
   ]
  },
  {
   "cell_type": "code",
   "execution_count": 266,
   "metadata": {},
   "outputs": [],
   "source": [
    "X_train, X_test, y_train, y_test = train_test_split(df_train, le.inverse_transform(y), test_size=0.1, random_state=42)"
   ]
  },
  {
   "cell_type": "code",
   "execution_count": 267,
   "metadata": {},
   "outputs": [],
   "source": [
    "forest=RandomForestClassifier()"
   ]
  },
  {
   "cell_type": "code",
   "execution_count": 268,
   "metadata": {},
   "outputs": [
    {
     "name": "stderr",
     "output_type": "stream",
     "text": [
      "/usr/local/lib/python3.6/dist-packages/sklearn/ensemble/forest.py:248: FutureWarning: The default value of n_estimators will change from 10 in version 0.20 to 100 in 0.22.\n",
      "  \"10 in version 0.20 to 100 in 0.22.\", FutureWarning)\n"
     ]
    },
    {
     "name": "stdout",
     "output_type": "stream",
     "text": [
      "CPU times: user 2.12 s, sys: 16.1 ms, total: 2.14 s\n",
      "Wall time: 2.13 s\n"
     ]
    },
    {
     "data": {
      "text/plain": [
       "RandomForestClassifier(bootstrap=True, class_weight=None, criterion='gini',\n",
       "            max_depth=None, max_features='auto', max_leaf_nodes=None,\n",
       "            min_impurity_decrease=0.0, min_impurity_split=None,\n",
       "            min_samples_leaf=1, min_samples_split=2,\n",
       "            min_weight_fraction_leaf=0.0, n_estimators=10, n_jobs=None,\n",
       "            oob_score=False, random_state=None, verbose=0,\n",
       "            warm_start=False)"
      ]
     },
     "execution_count": 268,
     "metadata": {},
     "output_type": "execute_result"
    }
   ],
   "source": [
    "%%time\n",
    "forest.fit(X_train, y_train)"
   ]
  },
  {
   "cell_type": "code",
   "execution_count": 269,
   "metadata": {},
   "outputs": [
    {
     "data": {
      "text/plain": [
       "0.3654122061582607"
      ]
     },
     "execution_count": 269,
     "metadata": {},
     "output_type": "execute_result"
    }
   ],
   "source": [
    "accuracy_score(y_test, forest.predict(X_test))"
   ]
  },
  {
   "cell_type": "code",
   "execution_count": 270,
   "metadata": {},
   "outputs": [],
   "source": [
    "forest_pred=forest.predict(X_test)"
   ]
  },
  {
   "cell_type": "code",
   "execution_count": 271,
   "metadata": {},
   "outputs": [
    {
     "data": {
      "text/plain": [
       "array(['Производство',\n",
       "       'Здравоохранение, спорт, красота, социальное обеспечение',\n",
       "       'Производство', 'Производство', 'Производство', 'Производство',\n",
       "       'Пусто', 'Производство', 'Производство', 'Производство'],\n",
       "      dtype=object)"
      ]
     },
     "execution_count": 271,
     "metadata": {},
     "output_type": "execute_result"
    }
   ],
   "source": [
    "forest_pred[:10]"
   ]
  },
  {
   "cell_type": "code",
   "execution_count": 186,
   "metadata": {},
   "outputs": [],
   "source": [
    "#inverse=industry_le.inverse_transform(forest_pred)"
   ]
  },
  {
   "cell_type": "code",
   "execution_count": 189,
   "metadata": {},
   "outputs": [
    {
     "data": {
      "text/plain": [
       "array(['Производство',\n",
       "       'Здравоохранение, спорт, красота, социальное обеспечение',\n",
       "       'Производство', 'Производство', 'Производство', 'Производство',\n",
       "       'Пусто', 'Производство', 'Производство', 'Производство'],\n",
       "      dtype=object)"
      ]
     },
     "execution_count": 189,
     "metadata": {},
     "output_type": "execute_result"
    }
   ],
   "source": [
    "#inverse[:10]"
   ]
  },
  {
   "cell_type": "code",
   "execution_count": 218,
   "metadata": {},
   "outputs": [],
   "source": [
    "import csv"
   ]
  },
  {
   "cell_type": "code",
   "execution_count": 219,
   "metadata": {},
   "outputs": [],
   "source": [
    "predict=pd.DataFrame(forest_pred)"
   ]
  },
  {
   "cell_type": "code",
   "execution_count": 220,
   "metadata": {},
   "outputs": [],
   "source": [
    "predict.to_csv('predict.csv', index=False)"
   ]
  },
  {
   "cell_type": "code",
   "execution_count": null,
   "metadata": {},
   "outputs": [],
   "source": []
  },
  {
   "cell_type": "code",
   "execution_count": null,
   "metadata": {},
   "outputs": [],
   "source": []
  },
  {
   "cell_type": "markdown",
   "metadata": {},
   "source": [
    "# Веб-приложение"
   ]
  },
  {
   "cell_type": "code",
   "execution_count": 263,
   "metadata": {},
   "outputs": [],
   "source": [
    "import pickle"
   ]
  },
  {
   "cell_type": "code",
   "execution_count": 272,
   "metadata": {},
   "outputs": [],
   "source": [
    "pickle.dump(forest, open('forest_pred.pkl', 'wb'), protocol=4)"
   ]
  },
  {
   "cell_type": "code",
   "execution_count": null,
   "metadata": {},
   "outputs": [],
   "source": []
  },
  {
   "cell_type": "code",
   "execution_count": null,
   "metadata": {},
   "outputs": [],
   "source": []
  },
  {
   "cell_type": "code",
   "execution_count": 273,
   "metadata": {},
   "outputs": [],
   "source": [
    "for_pr=pickle.load(open('forest_pred.pkl', 'rb'))"
   ]
  },
  {
   "cell_type": "code",
   "execution_count": null,
   "metadata": {},
   "outputs": [],
   "source": [
    "for_pr.predict(np.array("
   ]
  }
 ],
 "metadata": {
  "kernelspec": {
   "display_name": "Python 3",
   "language": "python",
   "name": "python3"
  },
  "language_info": {
   "codemirror_mode": {
    "name": "ipython",
    "version": 3
   },
   "file_extension": ".py",
   "mimetype": "text/x-python",
   "name": "python",
   "nbconvert_exporter": "python",
   "pygments_lexer": "ipython3",
   "version": "3.6.7"
  }
 },
 "nbformat": 4,
 "nbformat_minor": 2
}
