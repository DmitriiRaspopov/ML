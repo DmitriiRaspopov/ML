{
 "cells": [
  {
   "cell_type": "markdown",
   "metadata": {},
   "source": [
    "# Word-Embeddings"
   ]
  },
  {
   "cell_type": "code",
   "execution_count": 1,
   "metadata": {},
   "outputs": [],
   "source": [
    "from nltk.tokenize import WordPunctTokenizer"
   ]
  },
  {
   "cell_type": "code",
   "execution_count": 8,
   "metadata": {},
   "outputs": [],
   "source": [
    "tokenizer= WordPunctTokenizer()"
   ]
  },
  {
   "cell_type": "code",
   "execution_count": 9,
   "metadata": {},
   "outputs": [],
   "source": [
    "quora=list(open(\"quora.txt\"))"
   ]
  },
  {
   "cell_type": "code",
   "execution_count": 10,
   "metadata": {},
   "outputs": [
    {
     "data": {
      "text/plain": [
       "\"Can I get back with my ex even though she is pregnant with another guy's baby?\\n\""
      ]
     },
     "execution_count": 10,
     "metadata": {},
     "output_type": "execute_result"
    }
   ],
   "source": [
    "quora[0]"
   ]
  },
  {
   "cell_type": "code",
   "execution_count": 11,
   "metadata": {},
   "outputs": [
    {
     "name": "stdout",
     "output_type": "stream",
     "text": [
      "['What', 'TV', 'shows', 'or', 'books', 'help', 'you', 'read', 'people', \"'\", 's', 'body', 'language', '?']\n"
     ]
    }
   ],
   "source": [
    "print(tokenizer.tokenize(quora[50]))"
   ]
  },
  {
   "cell_type": "code",
   "execution_count": 20,
   "metadata": {},
   "outputs": [],
   "source": [
    "quora_tokenized = [tokenizer.tokenize(line.lower()) for line in quora]"
   ]
  },
  {
   "cell_type": "markdown",
   "metadata": {},
   "source": [
    "# Загрузим модель Word2Vec"
   ]
  },
  {
   "cell_type": "code",
   "execution_count": 21,
   "metadata": {},
   "outputs": [],
   "source": [
    "from gensim.models import Word2Vec"
   ]
  },
  {
   "cell_type": "code",
   "execution_count": 22,
   "metadata": {},
   "outputs": [],
   "source": [
    "model = Word2Vec(quora_tokenized, size=32, min_count=5, window = 3).wv #32 - длина каждого эмбеддинга\n",
    "# min_count = 5 - используем слова, которые встречаются не меньше 5 раз \n",
    "# окно три по всему тектсу\n",
    "# wv - переход от одного формата к другому"
   ]
  },
  {
   "cell_type": "code",
   "execution_count": 24,
   "metadata": {},
   "outputs": [
    {
     "data": {
      "text/plain": [
       "array([ 0.06783853,  1.3825032 , -2.7246976 , -0.92408234,  0.0232767 ,\n",
       "        2.3997722 ,  0.6975281 , -0.9556526 ,  0.7088055 ,  0.31122068,\n",
       "        2.2454634 ,  0.7984384 , -0.81249005, -1.0437574 , -0.7532167 ,\n",
       "        0.17282133,  2.5874712 , -0.540479  ,  0.04344096, -3.2973154 ,\n",
       "       -0.26419455,  0.8514359 , -3.1282992 ,  0.8563487 ,  2.7535207 ,\n",
       "       -3.0210552 ,  0.65756965, -3.210412  , -2.276562  , -1.0830716 ,\n",
       "        2.7568905 , -0.90157485], dtype=float32)"
      ]
     },
     "execution_count": 24,
     "metadata": {},
     "output_type": "execute_result"
    }
   ],
   "source": [
    "model.get_vector(\"anything\")"
   ]
  },
  {
   "cell_type": "markdown",
   "metadata": {},
   "source": [
    "Модель может давать векторные представления любого слова, которое было в словаре"
   ]
  },
  {
   "cell_type": "markdown",
   "metadata": {},
   "source": [
    "### Найдем похожие слова"
   ]
  },
  {
   "cell_type": "code",
   "execution_count": 25,
   "metadata": {},
   "outputs": [
    {
     "data": {
      "text/plain": [
       "[('television', 0.8999009132385254),\n",
       " ('anime', 0.7951961755752563),\n",
       " ('dvd', 0.7752636075019836),\n",
       " ('netflix', 0.7693058252334595),\n",
       " ('game', 0.7682012319564819),\n",
       " ('video', 0.7651222944259644),\n",
       " ('4k', 0.7635619640350342),\n",
       " ('animated', 0.7396115064620972),\n",
       " ('comedy', 0.7344316244125366),\n",
       " ('series', 0.7260004281997681)]"
      ]
     },
     "execution_count": 25,
     "metadata": {},
     "output_type": "execute_result"
    }
   ],
   "source": [
    "model.most_similar(\"tv\")"
   ]
  },
  {
   "cell_type": "markdown",
   "metadata": {},
   "source": [
    "# Можно использовать предобученные эмбеддинги для корпусов текстов и скачать их с помощью gensim"
   ]
  },
  {
   "cell_type": "code",
   "execution_count": 26,
   "metadata": {},
   "outputs": [],
   "source": [
    "import gensim.downloader as api"
   ]
  },
  {
   "cell_type": "code",
   "execution_count": 27,
   "metadata": {},
   "outputs": [],
   "source": [
    "model = api.load(\"glove-twitter-100\")"
   ]
  },
  {
   "cell_type": "code",
   "execution_count": 28,
   "metadata": {},
   "outputs": [
    {
     "data": {
      "text/plain": [
       "[('cat', 0.8752089738845825),\n",
       " ('dogs', 0.8713089823722839),\n",
       " ('puppy', 0.8299306631088257),\n",
       " ('pet', 0.805988609790802),\n",
       " ('cats', 0.7908133864402771),\n",
       " ('horse', 0.773116946220398),\n",
       " ('bear', 0.7441996335983276),\n",
       " ('monkey', 0.7430413961410522),\n",
       " ('kitten', 0.7279505133628845),\n",
       " ('pig', 0.7153233289718628)]"
      ]
     },
     "execution_count": 28,
     "metadata": {},
     "output_type": "execute_result"
    }
   ],
   "source": [
    "model.most_similar(\"dog\")"
   ]
  },
  {
   "cell_type": "code",
   "execution_count": 29,
   "metadata": {},
   "outputs": [
    {
     "data": {
      "text/plain": [
       "[('broker', 0.5820155739784241),\n",
       " ('bonuses', 0.5424473285675049),\n",
       " ('banker', 0.538511335849762),\n",
       " ('designer', 0.5197198390960693),\n",
       " ('merchandising', 0.4964233934879303),\n",
       " ('treet', 0.49220192432403564),\n",
       " ('shopper', 0.4920561909675598),\n",
       " ('part-time', 0.49128279089927673),\n",
       " ('freelance', 0.4843311905860901),\n",
       " ('aupair', 0.4796452522277832)]"
      ]
     },
     "execution_count": 29,
     "metadata": {},
     "output_type": "execute_result"
    }
   ],
   "source": [
    "model.most_similar(positive = [\"coder\", \"money\"], negative = [\"brain\"])"
   ]
  },
  {
   "cell_type": "markdown",
   "metadata": {},
   "source": [
    "# Визуализация"
   ]
  },
  {
   "cell_type": "code",
   "execution_count": 31,
   "metadata": {},
   "outputs": [],
   "source": [
    "words = sorted(model.vocab.keys(), key = lambda word: model.vocab[word].count, reverse = True)[:1000]"
   ]
  },
  {
   "cell_type": "code",
   "execution_count": 33,
   "metadata": {},
   "outputs": [
    {
     "name": "stdout",
     "output_type": "stream",
     "text": [
      "['<user>', 'i', ')', 'no', 'la', 'o', '>', 'are', 'we', '♥', '_', 'now', '~', 'people', \"'re\", '>>', '[', 'q', 'je', 'never', 'please', 'c', 'hahaha', 'لا', 'then', 'itu', 'had', 'ah', 'esta', 'does', 'apa', 'les', 'work', 'god', 'ha', 'their', 'в', '\\\\', 'gue', '＾', 'justin', 'thing', 'hope', 'nigga', 'udah', 'same', 'voy', 'find', 'اللي', 'face', 'text', 'kau', 'very', 'may', 'pretty', 'already', 'qué', 'día', 'money', 'name', 'hari', 'wow', 'black', 'vamos', 'nao', 'head', 'trying', 'lot', 'ان', 'mad', 'playing', '✌', 'own', 'friday', 'estar', 'yet', 'une', 'mana', 'لي', 'car', 'once', 'nem', 'summer', 'fan', 'tudo', 'sexy', 'sea', 'excited', 'far', 'lost', 'sei', 'sabe', 'picture', 'dice', 'km', 'fast', 'moi', 'anda', 'noche', 'relationship']\n"
     ]
    }
   ],
   "source": [
    "print(words[::10])"
   ]
  },
  {
   "cell_type": "markdown",
   "metadata": {},
   "source": [
    "Теперь получим эмбеддинги для всех слов, которые находятся в words"
   ]
  },
  {
   "cell_type": "code",
   "execution_count": 34,
   "metadata": {},
   "outputs": [],
   "source": [
    "words_vectors = [model.get_vector(word) for word in words]"
   ]
  },
  {
   "cell_type": "code",
   "execution_count": 35,
   "metadata": {},
   "outputs": [
    {
     "data": {
      "text/plain": [
       "1000"
      ]
     },
     "execution_count": 35,
     "metadata": {},
     "output_type": "execute_result"
    }
   ],
   "source": [
    "len(words_vectors)"
   ]
  },
  {
   "cell_type": "code",
   "execution_count": 36,
   "metadata": {},
   "outputs": [
    {
     "data": {
      "text/plain": [
       "array([ 1.0674e+00,  4.5716e-01,  5.1463e-01,  2.6679e-01,  1.9921e-01,\n",
       "       -7.2329e-02,  7.8455e-02,  1.9458e-01,  4.2281e-01,  1.9280e-01,\n",
       "        3.4424e-01, -4.1104e-01, -1.8649e+00, -1.4081e-01,  2.3753e-01,\n",
       "        2.3077e-02, -1.1150e-01, -8.7478e-02, -1.6193e-01, -6.1093e-01,\n",
       "       -3.1741e-01, -3.3686e-01, -1.0769e-01,  4.6179e-01,  1.7931e-01,\n",
       "       -1.6432e+00, -2.0659e-01,  3.4077e-01,  3.8932e-01, -1.6806e-02,\n",
       "       -3.4337e-01, -6.0921e-01, -1.0190e+00,  2.6511e-01,  8.5287e-01,\n",
       "        2.8141e-01, -1.2736e-02,  4.1456e-01,  6.8343e-02, -8.7932e-02,\n",
       "       -1.4830e+00, -7.2203e-02,  1.9278e-01,  6.4113e-01,  7.4135e-02,\n",
       "       -3.6254e-01, -2.4202e-01, -1.2651e-01,  1.9001e-01, -4.0180e-01,\n",
       "       -9.2765e-01, -3.3716e-01, -3.1579e-01, -9.0995e-02,  6.8764e-01,\n",
       "        3.5058e-01, -1.2254e-01,  5.3486e-02,  2.4523e-01, -2.8901e-03,\n",
       "       -7.7917e-01,  1.9829e-01, -1.9521e-01, -1.2721e+00,  7.1733e-01,\n",
       "       -7.3878e-01, -1.6419e-01, -3.1932e-01,  5.1843e-02, -8.1740e-02,\n",
       "        2.0602e-01, -2.8411e-01,  4.5260e-01, -4.7428e-01, -4.0245e-01,\n",
       "       -6.1440e-01, -5.6346e-02, -5.3072e-01,  3.9851e-01, -7.2866e-05,\n",
       "        7.0299e-01, -7.2685e-02,  4.5967e-01,  3.7480e-01,  5.2649e-02,\n",
       "        1.8520e-01, -6.1182e-01,  1.1638e+00, -2.6429e-01, -1.5449e-01,\n",
       "       -4.8257e-01, -6.0027e-02, -3.6757e-01, -5.5639e-02, -1.4887e-01,\n",
       "       -3.3543e-01,  2.2757e-01,  1.3974e-01,  7.6487e-01, -1.7314e-01],\n",
       "      dtype=float32)"
      ]
     },
     "execution_count": 36,
     "metadata": {},
     "output_type": "execute_result"
    }
   ],
   "source": [
    "words_vectors[2]"
   ]
  },
  {
   "cell_type": "markdown",
   "metadata": {},
   "source": [
    "# Используем метод понижения размерности PCA для визуализации"
   ]
  },
  {
   "cell_type": "code",
   "execution_count": 37,
   "metadata": {},
   "outputs": [],
   "source": [
    "from sklearn.decomposition import PCA"
   ]
  },
  {
   "cell_type": "code",
   "execution_count": 39,
   "metadata": {},
   "outputs": [],
   "source": [
    "pca = PCA(n_components=2)\n",
    "pca.fit(words_vectors)\n",
    "word_vec_pca= pca.transform(words_vectors)"
   ]
  },
  {
   "cell_type": "code",
   "execution_count": 40,
   "metadata": {},
   "outputs": [],
   "source": [
    "from sklearn.preprocessing import StandardScaler"
   ]
  },
  {
   "cell_type": "code",
   "execution_count": 41,
   "metadata": {},
   "outputs": [],
   "source": [
    "scal_word_vect = StandardScaler().fit_transform(word_vec_pca)"
   ]
  },
  {
   "cell_type": "code",
   "execution_count": 43,
   "metadata": {},
   "outputs": [],
   "source": [
    "import matplotlib.pyplot as plt"
   ]
  },
  {
   "cell_type": "code",
   "execution_count": 45,
   "metadata": {},
   "outputs": [
    {
     "data": {
      "text/plain": [
       "<matplotlib.collections.PathCollection at 0x7fe9ca273d30>"
      ]
     },
     "execution_count": 45,
     "metadata": {},
     "output_type": "execute_result"
    },
    {
     "data": {
      "image/png": "[encoded data removed]",
      "text/plain": [
       "<matplotlib.figure.Figure at 0x7fe9ca20f390>"
      ]
     },
     "metadata": {
      "needs_background": "light"
     },
     "output_type": "display_data"
    }
   ],
   "source": [
    "plt.scatter(scal_word_vect[:,0], scal_word_vect[:,1])"
   ]
  },
  {
   "cell_type": "code",
   "execution_count": null,
   "metadata": {},
   "outputs": [],
   "source": []
  }
 ],
 "metadata": {
  "kernelspec": {
   "display_name": "Python 3",
   "language": "python",
   "name": "python3"
  },
  "language_info": {
   "codemirror_mode": {
    "name": "ipython",
    "version": 3
   },
   "file_extension": ".py",
   "mimetype": "text/x-python",
   "name": "python",
   "nbconvert_exporter": "python",
   "pygments_lexer": "ipython3",
   "version": "3.6.8"
  }
 },
 "nbformat": 4,
 "nbformat_minor": 2
}
