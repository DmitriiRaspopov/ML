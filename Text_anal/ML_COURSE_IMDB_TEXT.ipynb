{
 "cells": [
  {
   "cell_type": "code",
   "execution_count": 1,
   "metadata": {},
   "outputs": [],
   "source": [
    "from sklearn.datasets import load_files"
   ]
  },
  {
   "cell_type": "code",
   "execution_count": 2,
   "metadata": {},
   "outputs": [],
   "source": [
    "import os"
   ]
  },
  {
   "cell_type": "code",
   "execution_count": 8,
   "metadata": {},
   "outputs": [
    {
     "data": {
      "text/html": [
       "<script>requirejs.config({paths: { 'plotly': ['https://cdn.plot.ly/plotly-latest.min']},});if(!window.Plotly) {{require(['plotly'],function(plotly) {window.Plotly=plotly;});}}</script>"
      ],
      "text/vnd.plotly.v1+html": [
       "<script>requirejs.config({paths: { 'plotly': ['https://cdn.plot.ly/plotly-latest.min']},});if(!window.Plotly) {{require(['plotly'],function(plotly) {window.Plotly=plotly;});}}</script>"
      ]
     },
     "metadata": {},
     "output_type": "display_data"
    }
   ],
   "source": [
    "import numpy as np\n",
    "import pandas as pd\n",
    "import matplotlib.pyplot as plt\n",
    "import seaborn as sns\n",
    "import os\n",
    "from tqdm import tqdm_notebook\n",
    "\n",
    "from sklearn.metrics import accuracy_score, confusion_matrix\n",
    "from sklearn.model_selection import train_test_split, GridSearchCV\n",
    "from sklearn.feature_extraction.text import TfidfVectorizer, CountVectorizer\n",
    "from sklearn.linear_model import LogisticRegression\n",
    "from sklearn.pipeline import Pipeline\n",
    "from sklearn.naive_bayes import BernoulliNB\n",
    "import eli5\n",
    "from scipy.sparse import hstack, vstack\n",
    "\n",
    "from wordcloud import WordCloud, STOPWORDS\n",
    "from collections import defaultdict\n",
    "import plotly.graph_objs as go\n",
    "from plotly import tools\n",
    "import plotly.offline as py\n",
    "py.init_notebook_mode(connected=True)\n",
    "import textblob\n",
    "import string"
   ]
  },
  {
   "cell_type": "code",
   "execution_count": 11,
   "metadata": {},
   "outputs": [
    {
     "name": "stdout",
     "output_type": "stream",
     "text": [
      "['.ipynb_checkpoints', 'ML_COURSE_IMDB_TEXT.ipynb', 'Text_analysis_1.ipynb', 'IMDB_KERAS.ipynb', 'imdb', 'Reuters_keras.ipynb']\n"
     ]
    }
   ],
   "source": [
    "print(os.listdir())"
   ]
  },
  {
   "cell_type": "code",
   "execution_count": 12,
   "metadata": {},
   "outputs": [],
   "source": [
    "PATH=\"imdb/\""
   ]
  },
  {
   "cell_type": "code",
   "execution_count": 15,
   "metadata": {},
   "outputs": [
    {
     "data": {
      "text/plain": [
       "['6001_2.txt',\n",
       " '7083_1.txt',\n",
       " '10785_1.txt',\n",
       " '373_4.txt',\n",
       " '11408_1.txt',\n",
       " '4121_2.txt',\n",
       " '3949_1.txt',\n",
       " '646_1.txt',\n",
       " '4459_1.txt',\n",
       " '10246_2.txt',\n",
       " '6268_1.txt',\n",
       " '6236_1.txt',\n",
       " '1907_2.txt',\n",
       " '2029_3.txt',\n",
       " '9529_2.txt',\n",
       " '6963_4.txt',\n",
       " '6627_2.txt',\n",
       " '3952_1.txt',\n",
       " '11688_1.txt',\n",
       " '5879_1.txt',\n",
       " '8784_3.txt',\n",
       " '9386_2.txt',\n",
       " '10653_4.txt',\n",
       " '5419_1.txt',\n",
       " '11619_1.txt',\n",
       " '2519_2.txt',\n",
       " '11520_3.txt',\n",
       " '2103_2.txt',\n",
       " '20_1.txt',\n",
       " '7_3.txt',\n",
       " '2385_1.txt',\n",
       " '9323_2.txt',\n",
       " '732_1.txt',\n",
       " '2735_4.txt',\n",
       " '6395_3.txt',\n",
       " '10257_1.txt',\n",
       " '4534_2.txt',\n",
       " '11415_1.txt',\n",
       " '10871_4.txt',\n",
       " '8389_1.txt',\n",
       " '7301_3.txt',\n",
       " '1025_2.txt',\n",
       " '9083_1.txt',\n",
       " '986_2.txt',\n",
       " '8453_1.txt',\n",
       " '10560_3.txt',\n",
       " '11080_1.txt',\n",
       " '3679_3.txt',\n",
       " '556_1.txt',\n",
       " '2017_1.txt',\n",
       " '12051_2.txt',\n",
       " '843_1.txt',\n",
       " '12381_1.txt',\n",
       " '2720_3.txt',\n",
       " '7140_1.txt',\n",
       " '12482_4.txt',\n",
       " '5543_2.txt',\n",
       " '6126_1.txt',\n",
       " '3220_4.txt',\n",
       " '5239_3.txt',\n",
       " '12392_4.txt',\n",
       " '12108_4.txt',\n",
       " '8212_2.txt',\n",
       " '11116_4.txt',\n",
       " '12337_1.txt',\n",
       " '6216_2.txt',\n",
       " '3561_4.txt',\n",
       " '6498_1.txt',\n",
       " '4949_3.txt',\n",
       " '2495_4.txt',\n",
       " '1848_3.txt',\n",
       " '691_3.txt',\n",
       " '4719_1.txt',\n",
       " '9319_2.txt',\n",
       " '7868_3.txt',\n",
       " '2129_4.txt',\n",
       " '10929_1.txt',\n",
       " '10477_1.txt',\n",
       " '10872_3.txt',\n",
       " '8498_3.txt',\n",
       " '4809_3.txt',\n",
       " '5923_4.txt',\n",
       " '8145_1.txt',\n",
       " '7568_4.txt',\n",
       " '11867_1.txt',\n",
       " '4813_3.txt',\n",
       " '9338_3.txt',\n",
       " '3667_1.txt',\n",
       " '518_3.txt',\n",
       " '343_2.txt',\n",
       " '545_1.txt',\n",
       " '8088_3.txt',\n",
       " '2439_2.txt',\n",
       " '170_1.txt',\n",
       " '6060_3.txt',\n",
       " '1251_4.txt',\n",
       " '4456_1.txt',\n",
       " '8248_1.txt',\n",
       " '3044_1.txt',\n",
       " '1613_2.txt',\n",
       " '12125_1.txt',\n",
       " '7564_1.txt',\n",
       " '8366_4.txt',\n",
       " '5384_2.txt',\n",
       " '5154_1.txt',\n",
       " '5724_2.txt',\n",
       " '11597_4.txt',\n",
       " '2792_4.txt',\n",
       " '6251_1.txt',\n",
       " '12272_1.txt',\n",
       " '12153_3.txt',\n",
       " '5553_4.txt',\n",
       " '5255_4.txt',\n",
       " '8786_1.txt',\n",
       " '9031_3.txt',\n",
       " '5900_4.txt',\n",
       " '987_4.txt',\n",
       " '389_3.txt',\n",
       " '2917_4.txt',\n",
       " '9519_3.txt',\n",
       " '3619_3.txt',\n",
       " '10113_1.txt',\n",
       " '7109_2.txt',\n",
       " '11928_4.txt',\n",
       " '10746_4.txt',\n",
       " '9837_4.txt',\n",
       " '610_1.txt',\n",
       " '10133_1.txt',\n",
       " '4908_3.txt',\n",
       " '10766_4.txt',\n",
       " '2095_3.txt',\n",
       " '6178_3.txt',\n",
       " '3239_3.txt',\n",
       " '11780_3.txt',\n",
       " '803_4.txt',\n",
       " '6123_4.txt',\n",
       " '2380_1.txt',\n",
       " '6692_1.txt',\n",
       " '7772_2.txt',\n",
       " '30_1.txt',\n",
       " '4376_1.txt',\n",
       " '6536_3.txt',\n",
       " '9727_3.txt',\n",
       " '5444_1.txt',\n",
       " '4779_1.txt',\n",
       " '8803_4.txt',\n",
       " '5666_4.txt',\n",
       " '828_2.txt',\n",
       " '11470_3.txt',\n",
       " '1609_3.txt',\n",
       " '7167_3.txt',\n",
       " '3562_4.txt',\n",
       " '5549_2.txt',\n",
       " '3563_4.txt',\n",
       " '9220_4.txt',\n",
       " '1807_2.txt',\n",
       " '12191_4.txt',\n",
       " '9173_1.txt',\n",
       " '11879_1.txt',\n",
       " '2524_4.txt',\n",
       " '7887_1.txt',\n",
       " '11235_4.txt',\n",
       " '10654_1.txt',\n",
       " '8519_1.txt',\n",
       " '11556_1.txt',\n",
       " '10418_1.txt',\n",
       " '9721_2.txt',\n",
       " '670_1.txt',\n",
       " '2080_1.txt',\n",
       " '826_3.txt',\n",
       " '5184_2.txt',\n",
       " '8535_2.txt',\n",
       " '9420_4.txt',\n",
       " '3857_3.txt',\n",
       " '10123_3.txt',\n",
       " '3588_1.txt',\n",
       " '1437_1.txt',\n",
       " '8160_1.txt',\n",
       " '5407_1.txt',\n",
       " '4846_3.txt',\n",
       " '10173_1.txt',\n",
       " '399_2.txt',\n",
       " '9025_1.txt',\n",
       " '4318_3.txt',\n",
       " '9777_1.txt',\n",
       " '2255_4.txt',\n",
       " '12209_2.txt',\n",
       " '6322_1.txt',\n",
       " '3509_4.txt',\n",
       " '2075_1.txt',\n",
       " '7954_2.txt',\n",
       " '9444_3.txt',\n",
       " '2415_1.txt',\n",
       " '1636_1.txt',\n",
       " '8221_1.txt',\n",
       " '8664_1.txt',\n",
       " '1524_1.txt',\n",
       " '4990_1.txt',\n",
       " '8486_1.txt',\n",
       " '2998_3.txt',\n",
       " '899_1.txt',\n",
       " '598_4.txt',\n",
       " '9213_3.txt',\n",
       " '10385_3.txt',\n",
       " '5010_1.txt',\n",
       " '4991_2.txt',\n",
       " '1268_2.txt',\n",
       " '1567_1.txt',\n",
       " '2740_1.txt',\n",
       " '9803_1.txt',\n",
       " '8782_4.txt',\n",
       " '5800_2.txt',\n",
       " '7649_4.txt',\n",
       " '2175_1.txt',\n",
       " '8081_4.txt',\n",
       " '10804_1.txt',\n",
       " '995_3.txt',\n",
       " '3350_3.txt',\n",
       " '5844_1.txt',\n",
       " '8691_1.txt',\n",
       " '6530_4.txt',\n",
       " '5202_2.txt',\n",
       " '3896_1.txt',\n",
       " '192_2.txt',\n",
       " '4884_2.txt',\n",
       " '5221_1.txt',\n",
       " '9840_3.txt',\n",
       " '1841_4.txt',\n",
       " '6342_3.txt',\n",
       " '2652_1.txt',\n",
       " '1165_3.txt',\n",
       " '7960_4.txt',\n",
       " '6965_1.txt',\n",
       " '666_1.txt',\n",
       " '4926_4.txt',\n",
       " '1327_4.txt',\n",
       " '8228_1.txt',\n",
       " '3105_3.txt',\n",
       " '7270_2.txt',\n",
       " '3172_2.txt',\n",
       " '6662_1.txt',\n",
       " '11938_3.txt',\n",
       " '918_2.txt',\n",
       " '4111_2.txt',\n",
       " '11632_1.txt',\n",
       " '6447_1.txt',\n",
       " '2800_1.txt',\n",
       " '1150_4.txt',\n",
       " '1005_3.txt',\n",
       " '8629_1.txt',\n",
       " '10167_1.txt',\n",
       " '3831_4.txt',\n",
       " '6834_2.txt',\n",
       " '11629_2.txt',\n",
       " '6332_1.txt',\n",
       " '10230_1.txt',\n",
       " '4870_4.txt',\n",
       " '17_3.txt',\n",
       " '11174_2.txt',\n",
       " '25_1.txt',\n",
       " '6475_3.txt',\n",
       " '8653_1.txt',\n",
       " '11497_3.txt',\n",
       " '7296_1.txt',\n",
       " '9483_1.txt',\n",
       " '5109_1.txt',\n",
       " '4450_3.txt',\n",
       " '11929_2.txt',\n",
       " '6916_2.txt',\n",
       " '10622_3.txt',\n",
       " '5008_1.txt',\n",
       " '3601_3.txt',\n",
       " '6450_1.txt',\n",
       " '5513_1.txt',\n",
       " '11568_4.txt',\n",
       " '2839_2.txt',\n",
       " '9186_1.txt',\n",
       " '994_3.txt',\n",
       " '952_3.txt',\n",
       " '9917_3.txt',\n",
       " '7349_1.txt',\n",
       " '92_3.txt',\n",
       " '3922_3.txt',\n",
       " '1574_1.txt',\n",
       " '4203_2.txt',\n",
       " '8383_1.txt',\n",
       " '2607_1.txt',\n",
       " '8651_1.txt',\n",
       " '11738_2.txt',\n",
       " '4320_1.txt',\n",
       " '69_4.txt',\n",
       " '9748_4.txt',\n",
       " '5842_1.txt',\n",
       " '6714_4.txt',\n",
       " '1656_4.txt',\n",
       " '12199_1.txt',\n",
       " '6200_1.txt',\n",
       " '1988_1.txt',\n",
       " '6680_2.txt',\n",
       " '4020_1.txt',\n",
       " '3013_2.txt',\n",
       " '10518_1.txt',\n",
       " '7729_4.txt',\n",
       " '144_2.txt',\n",
       " '6590_3.txt',\n",
       " '10676_3.txt',\n",
       " '6545_4.txt',\n",
       " '5322_4.txt',\n",
       " '9869_3.txt',\n",
       " '1726_1.txt',\n",
       " '472_1.txt',\n",
       " '4950_3.txt',\n",
       " '923_2.txt',\n",
       " '9430_2.txt',\n",
       " '5782_3.txt',\n",
       " '2330_4.txt',\n",
       " '3288_1.txt',\n",
       " '131_4.txt',\n",
       " '5370_4.txt',\n",
       " '3873_4.txt',\n",
       " '3438_4.txt',\n",
       " '2224_3.txt',\n",
       " '683_4.txt',\n",
       " '2785_3.txt',\n",
       " '3034_4.txt',\n",
       " '11120_2.txt',\n",
       " '11973_4.txt',\n",
       " '10359_1.txt',\n",
       " '1629_1.txt',\n",
       " '7844_4.txt',\n",
       " '4281_1.txt',\n",
       " '7672_1.txt',\n",
       " '2940_3.txt',\n",
       " '10642_2.txt',\n",
       " '2749_1.txt',\n",
       " '3321_4.txt',\n",
       " '7158_1.txt',\n",
       " '12258_1.txt',\n",
       " '9062_3.txt',\n",
       " '474_4.txt',\n",
       " '194_1.txt',\n",
       " '4631_2.txt',\n",
       " '9027_2.txt',\n",
       " '6028_1.txt',\n",
       " '7679_4.txt',\n",
       " '795_4.txt',\n",
       " '5252_1.txt',\n",
       " '9737_4.txt',\n",
       " '8823_1.txt',\n",
       " '8639_3.txt',\n",
       " '5286_1.txt',\n",
       " '4158_1.txt',\n",
       " '10508_1.txt',\n",
       " '1903_1.txt',\n",
       " '5112_1.txt',\n",
       " '5654_4.txt',\n",
       " '5179_4.txt',\n",
       " '9518_3.txt',\n",
       " '3080_1.txt',\n",
       " '8851_1.txt',\n",
       " '11529_1.txt',\n",
       " '7241_2.txt',\n",
       " '11467_2.txt',\n",
       " '5756_3.txt',\n",
       " '3841_1.txt',\n",
       " '10152_1.txt',\n",
       " '4490_1.txt',\n",
       " '1643_1.txt',\n",
       " '6112_1.txt',\n",
       " '5803_1.txt',\n",
       " '10013_1.txt',\n",
       " '2608_2.txt',\n",
       " '9717_3.txt',\n",
       " '5190_4.txt',\n",
       " '151_1.txt',\n",
       " '5496_4.txt',\n",
       " '8429_4.txt',\n",
       " '1457_1.txt',\n",
       " '3702_1.txt',\n",
       " '8123_1.txt',\n",
       " '3716_3.txt',\n",
       " '2207_3.txt',\n",
       " '6244_1.txt',\n",
       " '8931_4.txt',\n",
       " '2429_1.txt',\n",
       " '3998_1.txt',\n",
       " '822_1.txt',\n",
       " '2191_3.txt',\n",
       " '2215_1.txt',\n",
       " '3330_4.txt',\n",
       " '4733_1.txt',\n",
       " '10273_2.txt',\n",
       " '2277_4.txt',\n",
       " '3855_2.txt',\n",
       " '4484_1.txt',\n",
       " '1181_3.txt',\n",
       " '10034_1.txt',\n",
       " '4021_1.txt',\n",
       " '3112_2.txt',\n",
       " '11021_1.txt',\n",
       " '7118_3.txt',\n",
       " '4185_3.txt',\n",
       " '3568_4.txt',\n",
       " '11159_3.txt',\n",
       " '8841_4.txt',\n",
       " '11206_1.txt',\n",
       " '5058_1.txt',\n",
       " '8155_1.txt',\n",
       " '8203_3.txt',\n",
       " '8373_1.txt',\n",
       " '11719_1.txt',\n",
       " '4774_3.txt',\n",
       " '1081_4.txt',\n",
       " '11251_2.txt',\n",
       " '10554_1.txt',\n",
       " '1604_4.txt',\n",
       " '1446_2.txt',\n",
       " '1238_1.txt',\n",
       " '7522_1.txt',\n",
       " '392_3.txt',\n",
       " '12491_2.txt',\n",
       " '8888_4.txt',\n",
       " '2420_1.txt',\n",
       " '3448_1.txt',\n",
       " '3072_4.txt',\n",
       " '5717_4.txt',\n",
       " '7352_3.txt',\n",
       " '5456_3.txt',\n",
       " '5991_1.txt',\n",
       " '7795_1.txt',\n",
       " '11372_1.txt',\n",
       " '6486_2.txt',\n",
       " '658_1.txt',\n",
       " '12026_1.txt',\n",
       " '6467_3.txt',\n",
       " '6744_1.txt',\n",
       " '12340_4.txt',\n",
       " '7117_1.txt',\n",
       " '9521_3.txt',\n",
       " '3415_2.txt',\n",
       " '9854_1.txt',\n",
       " '5726_1.txt',\n",
       " '8510_1.txt',\n",
       " '302_4.txt',\n",
       " '6894_2.txt',\n",
       " '7259_4.txt',\n",
       " '8688_1.txt',\n",
       " '10170_2.txt',\n",
       " '10967_4.txt',\n",
       " '9448_1.txt',\n",
       " '7057_1.txt',\n",
       " '4688_3.txt',\n",
       " '2910_4.txt',\n",
       " '11826_4.txt',\n",
       " '4225_2.txt',\n",
       " '2923_4.txt',\n",
       " '11859_4.txt',\n",
       " '1757_1.txt',\n",
       " '1283_1.txt',\n",
       " '11660_1.txt',\n",
       " '7615_1.txt',\n",
       " '10720_2.txt',\n",
       " '11035_4.txt',\n",
       " '1344_1.txt',\n",
       " '11570_1.txt',\n",
       " '7885_1.txt',\n",
       " '7642_1.txt',\n",
       " '4046_1.txt',\n",
       " '12428_2.txt',\n",
       " '3369_4.txt',\n",
       " '9702_2.txt',\n",
       " '3253_3.txt',\n",
       " '1059_2.txt',\n",
       " '1204_4.txt',\n",
       " '7281_2.txt',\n",
       " '5962_4.txt',\n",
       " '10446_2.txt',\n",
       " '2603_1.txt',\n",
       " '2686_1.txt',\n",
       " '4102_4.txt',\n",
       " '1701_4.txt',\n",
       " '1769_4.txt',\n",
       " '10932_1.txt',\n",
       " '6245_1.txt',\n",
       " '4063_2.txt',\n",
       " '11225_3.txt',\n",
       " '7770_1.txt',\n",
       " '6047_2.txt',\n",
       " '4187_3.txt',\n",
       " '2050_2.txt',\n",
       " '6648_1.txt',\n",
       " '7319_4.txt',\n",
       " '5939_4.txt',\n",
       " '3986_1.txt',\n",
       " '6757_4.txt',\n",
       " '1028_3.txt',\n",
       " '9316_3.txt',\n",
       " '3087_2.txt',\n",
       " '9575_1.txt',\n",
       " '6380_2.txt',\n",
       " '10617_1.txt',\n",
       " '3294_3.txt',\n",
       " '2461_4.txt',\n",
       " '4535_1.txt',\n",
       " '1262_1.txt',\n",
       " '1091_2.txt',\n",
       " '5002_1.txt',\n",
       " '9637_2.txt',\n",
       " '5403_1.txt',\n",
       " '5418_4.txt',\n",
       " '9141_1.txt',\n",
       " '9648_4.txt',\n",
       " '7489_1.txt',\n",
       " '7138_1.txt',\n",
       " '811_1.txt',\n",
       " '3199_2.txt',\n",
       " '12069_4.txt',\n",
       " '5583_4.txt',\n",
       " '12228_1.txt',\n",
       " '7084_1.txt',\n",
       " '3807_4.txt',\n",
       " '8055_3.txt',\n",
       " '4847_1.txt',\n",
       " '10140_3.txt',\n",
       " '3095_1.txt',\n",
       " '11308_3.txt',\n",
       " '3117_2.txt',\n",
       " '8393_2.txt',\n",
       " '9681_1.txt',\n",
       " '3760_1.txt',\n",
       " '10237_2.txt',\n",
       " '7305_2.txt',\n",
       " '6795_4.txt',\n",
       " '5227_1.txt',\n",
       " '6298_2.txt',\n",
       " '10004_3.txt',\n",
       " '2093_3.txt',\n",
       " '4794_4.txt',\n",
       " '11086_4.txt',\n",
       " '2316_3.txt',\n",
       " '1119_1.txt',\n",
       " '12360_4.txt',\n",
       " '10122_4.txt',\n",
       " '7957_2.txt',\n",
       " '10044_1.txt',\n",
       " '4648_1.txt',\n",
       " '6240_4.txt',\n",
       " '692_2.txt',\n",
       " '3594_1.txt',\n",
       " '3065_2.txt',\n",
       " '9101_1.txt',\n",
       " '8134_3.txt',\n",
       " '1053_4.txt',\n",
       " '7249_1.txt',\n",
       " '3254_3.txt',\n",
       " '1079_3.txt',\n",
       " '11802_1.txt',\n",
       " '2591_2.txt',\n",
       " '5257_3.txt',\n",
       " '2819_3.txt',\n",
       " '6809_1.txt',\n",
       " '9853_1.txt',\n",
       " '9311_1.txt',\n",
       " '6278_2.txt',\n",
       " '1607_1.txt',\n",
       " '9561_2.txt',\n",
       " '6188_1.txt',\n",
       " '5525_4.txt',\n",
       " '2760_2.txt',\n",
       " '9990_1.txt',\n",
       " '10051_4.txt',\n",
       " '2206_2.txt',\n",
       " '7777_1.txt',\n",
       " '10328_4.txt',\n",
       " '6524_4.txt',\n",
       " '490_3.txt',\n",
       " '11915_4.txt',\n",
       " '10933_1.txt',\n",
       " '8436_4.txt',\n",
       " '3516_4.txt',\n",
       " '853_1.txt',\n",
       " '6114_1.txt',\n",
       " '1768_4.txt',\n",
       " '5831_1.txt',\n",
       " '1865_3.txt',\n",
       " '4655_4.txt',\n",
       " '10592_1.txt',\n",
       " '550_4.txt',\n",
       " '166_1.txt',\n",
       " '8876_4.txt',\n",
       " '745_1.txt',\n",
       " '4401_1.txt',\n",
       " '11909_1.txt',\n",
       " '8909_2.txt',\n",
       " '222_1.txt',\n",
       " '10297_3.txt',\n",
       " '4613_4.txt',\n",
       " '9233_4.txt',\n",
       " '6895_2.txt',\n",
       " '3022_1.txt',\n",
       " '2794_3.txt',\n",
       " '623_3.txt',\n",
       " '11566_2.txt',\n",
       " '9050_1.txt',\n",
       " '10274_4.txt',\n",
       " '3225_3.txt',\n",
       " '2040_1.txt',\n",
       " '4045_1.txt',\n",
       " '5466_1.txt',\n",
       " '10091_1.txt',\n",
       " '8285_1.txt',\n",
       " '3690_1.txt',\n",
       " '2836_1.txt',\n",
       " '981_2.txt',\n",
       " '9281_1.txt',\n",
       " '7851_2.txt',\n",
       " '10139_4.txt',\n",
       " '169_1.txt',\n",
       " '12189_4.txt',\n",
       " '8495_3.txt',\n",
       " '10703_3.txt',\n",
       " '1902_4.txt',\n",
       " '8922_4.txt',\n",
       " '10235_2.txt',\n",
       " '4352_4.txt',\n",
       " '8352_1.txt',\n",
       " '4692_4.txt',\n",
       " '10817_3.txt',\n",
       " '10927_1.txt',\n",
       " '3422_1.txt',\n",
       " '1138_2.txt',\n",
       " '7732_4.txt',\n",
       " '9711_4.txt',\n",
       " '1786_4.txt',\n",
       " '11914_2.txt',\n",
       " '1077_3.txt',\n",
       " '9533_3.txt',\n",
       " '10532_4.txt',\n",
       " '5580_2.txt',\n",
       " '9272_2.txt',\n",
       " '5172_4.txt',\n",
       " '3592_3.txt',\n",
       " '2823_2.txt',\n",
       " '6154_4.txt',\n",
       " '3581_2.txt',\n",
       " '1963_4.txt',\n",
       " '9826_1.txt',\n",
       " '10409_2.txt',\n",
       " '608_3.txt',\n",
       " '2170_4.txt',\n",
       " '11765_4.txt',\n",
       " '8508_1.txt',\n",
       " '5315_4.txt',\n",
       " '3437_1.txt',\n",
       " '531_2.txt',\n",
       " '3432_4.txt',\n",
       " '5249_1.txt',\n",
       " '372_1.txt',\n",
       " '10078_1.txt',\n",
       " '181_2.txt',\n",
       " '9366_3.txt',\n",
       " '1259_3.txt',\n",
       " '469_2.txt',\n",
       " '3635_3.txt',\n",
       " '595_4.txt',\n",
       " '11166_1.txt',\n",
       " '8716_1.txt',\n",
       " '8338_3.txt',\n",
       " '274_2.txt',\n",
       " '7602_1.txt',\n",
       " '8608_1.txt',\n",
       " '8546_3.txt',\n",
       " '2853_4.txt',\n",
       " '11025_1.txt',\n",
       " '395_1.txt',\n",
       " '6227_2.txt',\n",
       " '10673_2.txt',\n",
       " '5586_4.txt',\n",
       " '11461_1.txt',\n",
       " '7324_1.txt',\n",
       " '7797_3.txt',\n",
       " '7047_2.txt',\n",
       " '314_1.txt',\n",
       " '8718_4.txt',\n",
       " '6955_1.txt',\n",
       " '1920_4.txt',\n",
       " '5053_2.txt',\n",
       " '7488_1.txt',\n",
       " '12307_3.txt',\n",
       " '8207_3.txt',\n",
       " '5829_3.txt',\n",
       " '10782_1.txt',\n",
       " '5056_2.txt',\n",
       " '8659_1.txt',\n",
       " '584_3.txt',\n",
       " '10714_2.txt',\n",
       " '8327_1.txt',\n",
       " '9527_3.txt',\n",
       " '9622_3.txt',\n",
       " '9758_4.txt',\n",
       " '2944_1.txt',\n",
       " '1431_3.txt',\n",
       " '4428_1.txt',\n",
       " '5698_1.txt',\n",
       " '9282_1.txt',\n",
       " '9059_3.txt',\n",
       " '8057_1.txt',\n",
       " '3226_1.txt',\n",
       " '5721_4.txt',\n",
       " '7799_1.txt',\n",
       " '2199_2.txt',\n",
       " '10582_3.txt',\n",
       " '4482_2.txt',\n",
       " '2291_4.txt',\n",
       " '11062_2.txt',\n",
       " '4033_1.txt',\n",
       " '5178_1.txt',\n",
       " '11873_1.txt',\n",
       " '8932_2.txt',\n",
       " '8883_2.txt',\n",
       " '10272_1.txt',\n",
       " '5097_1.txt',\n",
       " '5034_4.txt',\n",
       " '8156_4.txt',\n",
       " '9020_1.txt',\n",
       " '3773_1.txt',\n",
       " '12255_3.txt',\n",
       " '12430_1.txt',\n",
       " '36_4.txt',\n",
       " '2242_1.txt',\n",
       " '10488_1.txt',\n",
       " '11535_3.txt',\n",
       " '3835_3.txt',\n",
       " '8870_4.txt',\n",
       " '11511_1.txt',\n",
       " '3005_2.txt',\n",
       " '1634_4.txt',\n",
       " '10605_1.txt',\n",
       " '11996_1.txt',\n",
       " '4029_3.txt',\n",
       " '4560_4.txt',\n",
       " '1336_3.txt',\n",
       " '4331_2.txt',\n",
       " '4874_2.txt',\n",
       " '7949_2.txt',\n",
       " '5770_1.txt',\n",
       " '5347_2.txt',\n",
       " '3079_1.txt',\n",
       " '12181_1.txt',\n",
       " '1141_3.txt',\n",
       " '7603_2.txt',\n",
       " '851_1.txt',\n",
       " '3214_3.txt',\n",
       " '11950_2.txt',\n",
       " '7363_4.txt',\n",
       " '6633_1.txt',\n",
       " '1654_1.txt',\n",
       " '7910_2.txt',\n",
       " '2176_1.txt',\n",
       " '11573_3.txt',\n",
       " '3573_4.txt',\n",
       " '2355_3.txt',\n",
       " '4927_3.txt',\n",
       " '4359_3.txt',\n",
       " '10539_4.txt',\n",
       " '7897_1.txt',\n",
       " '5827_2.txt',\n",
       " '3407_2.txt',\n",
       " '8008_1.txt',\n",
       " '7539_1.txt',\n",
       " '1366_3.txt',\n",
       " '804_4.txt',\n",
       " '4735_3.txt',\n",
       " '4378_4.txt',\n",
       " '12391_4.txt',\n",
       " '4398_2.txt',\n",
       " '11661_1.txt',\n",
       " '539_4.txt',\n",
       " '3466_3.txt',\n",
       " '501_2.txt',\n",
       " '1030_2.txt',\n",
       " '7890_1.txt',\n",
       " '10978_1.txt',\n",
       " '10146_1.txt',\n",
       " '4231_1.txt',\n",
       " '157_1.txt',\n",
       " '5801_1.txt',\n",
       " '10045_1.txt',\n",
       " '10222_4.txt',\n",
       " '1124_1.txt',\n",
       " '8447_3.txt',\n",
       " '12163_2.txt',\n",
       " '1010_4.txt',\n",
       " '10540_4.txt',\n",
       " '6273_1.txt',\n",
       " '4087_2.txt',\n",
       " '1691_4.txt',\n",
       " '8305_3.txt',\n",
       " '4731_4.txt',\n",
       " '1620_2.txt',\n",
       " '2266_1.txt',\n",
       " '10952_2.txt',\n",
       " '4448_4.txt',\n",
       " '3566_4.txt',\n",
       " '9065_2.txt',\n",
       " '11356_3.txt',\n",
       " '10818_1.txt',\n",
       " '273_1.txt',\n",
       " '154_3.txt',\n",
       " '10295_1.txt',\n",
       " '636_4.txt',\n",
       " '4768_4.txt',\n",
       " '2854_3.txt',\n",
       " '7291_2.txt',\n",
       " '1535_1.txt',\n",
       " '1_1.txt',\n",
       " '1751_2.txt',\n",
       " '7304_4.txt',\n",
       " '10834_4.txt',\n",
       " '5307_3.txt',\n",
       " '2560_1.txt',\n",
       " '9987_1.txt',\n",
       " '4206_1.txt',\n",
       " '4944_3.txt',\n",
       " '11436_1.txt',\n",
       " '904_3.txt',\n",
       " '11541_1.txt',\n",
       " '3366_1.txt',\n",
       " '2158_3.txt',\n",
       " '1991_3.txt',\n",
       " '12283_2.txt',\n",
       " '12239_1.txt',\n",
       " '9439_3.txt',\n",
       " '8089_4.txt',\n",
       " '8871_1.txt',\n",
       " '8704_1.txt',\n",
       " '9357_2.txt',\n",
       " '478_2.txt',\n",
       " '3233_1.txt',\n",
       " '3779_4.txt',\n",
       " '9770_1.txt',\n",
       " '3439_3.txt',\n",
       " '7042_1.txt',\n",
       " '5312_2.txt',\n",
       " '3471_3.txt',\n",
       " '1596_4.txt',\n",
       " '789_2.txt',\n",
       " '3384_2.txt',\n",
       " '6796_1.txt',\n",
       " '9993_4.txt',\n",
       " '8994_2.txt',\n",
       " '2442_1.txt',\n",
       " '6917_2.txt',\n",
       " '3847_4.txt',\n",
       " '6316_2.txt',\n",
       " '5626_1.txt',\n",
       " '2525_2.txt',\n",
       " '11993_1.txt',\n",
       " '5119_3.txt',\n",
       " '11442_1.txt',\n",
       " '11259_1.txt',\n",
       " '3496_1.txt',\n",
       " '6959_2.txt',\n",
       " '10232_1.txt',\n",
       " '9188_1.txt',\n",
       " '6649_1.txt',\n",
       " '3148_4.txt',\n",
       " '3583_1.txt',\n",
       " '8517_2.txt',\n",
       " '3299_1.txt',\n",
       " '5897_1.txt',\n",
       " '1308_1.txt',\n",
       " '8512_3.txt',\n",
       " '11266_1.txt',\n",
       " '4400_4.txt',\n",
       " '9515_2.txt',\n",
       " '468_4.txt',\n",
       " '7260_1.txt',\n",
       " '259_3.txt',\n",
       " '2124_1.txt',\n",
       " '2549_1.txt',\n",
       " '6238_1.txt',\n",
       " '3979_1.txt',\n",
       " '7612_3.txt',\n",
       " '8162_4.txt',\n",
       " '765_4.txt',\n",
       " '38_2.txt',\n",
       " '6006_4.txt',\n",
       " '12432_1.txt',\n",
       " '10436_4.txt',\n",
       " '5651_1.txt',\n",
       " '10010_3.txt',\n",
       " '10441_1.txt',\n",
       " '3633_4.txt',\n",
       " '11178_3.txt',\n",
       " '9739_4.txt',\n",
       " '11478_4.txt',\n",
       " '4349_2.txt',\n",
       " '9544_2.txt',\n",
       " '2229_1.txt',\n",
       " '11561_4.txt',\n",
       " '935_4.txt',\n",
       " '3046_4.txt',\n",
       " '3108_3.txt',\n",
       " '12043_2.txt',\n",
       " '5000_1.txt',\n",
       " '3048_1.txt',\n",
       " '11839_4.txt',\n",
       " '11400_4.txt',\n",
       " '8015_4.txt',\n",
       " '2518_4.txt',\n",
       " '2707_1.txt',\n",
       " '5332_3.txt',\n",
       " '8271_1.txt',\n",
       " '6752_3.txt',\n",
       " '5996_3.txt',\n",
       " '9491_1.txt',\n",
       " '10566_3.txt',\n",
       " '4863_2.txt',\n",
       " '3598_3.txt',\n",
       " '6088_3.txt',\n",
       " '12102_4.txt',\n",
       " '10695_1.txt',\n",
       " '3353_4.txt',\n",
       " '12068_1.txt',\n",
       " '9004_1.txt',\n",
       " '8696_1.txt',\n",
       " '8785_1.txt',\n",
       " '1378_1.txt',\n",
       " '3394_4.txt',\n",
       " '3381_1.txt',\n",
       " '4394_1.txt',\n",
       " '3742_1.txt',\n",
       " '1032_1.txt',\n",
       " '9055_2.txt',\n",
       " '5040_3.txt',\n",
       " '4742_1.txt',\n",
       " '3160_1.txt',\n",
       " '5683_2.txt',\n",
       " '6930_4.txt',\n",
       " '11214_3.txt',\n",
       " '12196_3.txt',\n",
       " '12361_4.txt',\n",
       " '8184_4.txt',\n",
       " '6452_1.txt',\n",
       " '2537_4.txt',\n",
       " '7677_4.txt',\n",
       " '4264_1.txt',\n",
       " '7873_1.txt',\n",
       " '5989_1.txt',\n",
       " '7828_1.txt',\n",
       " '10857_1.txt',\n",
       " '9741_1.txt',\n",
       " '8711_1.txt',\n",
       " '211_4.txt',\n",
       " '2999_3.txt',\n",
       " '7653_1.txt',\n",
       " '7041_1.txt',\n",
       " '5716_1.txt',\n",
       " '82_1.txt',\n",
       " '7532_4.txt',\n",
       " '1475_4.txt',\n",
       " '2090_2.txt',\n",
       " '7808_1.txt',\n",
       " '11673_3.txt',\n",
       " '1578_1.txt',\n",
       " '2583_2.txt',\n",
       " '11310_1.txt',\n",
       " '4377_3.txt',\n",
       " '10108_1.txt',\n",
       " '8186_2.txt',\n",
       " '4438_1.txt',\n",
       " '11775_2.txt',\n",
       " '1232_1.txt',\n",
       " '2813_1.txt',\n",
       " '7576_2.txt',\n",
       " '2906_1.txt',\n",
       " '439_1.txt',\n",
       " '1075_1.txt',\n",
       " '9960_4.txt',\n",
       " '2817_1.txt',\n",
       " '12120_2.txt',\n",
       " '3754_3.txt',\n",
       " '3375_3.txt',\n",
       " '2639_1.txt',\n",
       " '8565_1.txt',\n",
       " '4650_2.txt',\n",
       " '8814_4.txt',\n",
       " '174_3.txt',\n",
       " '774_3.txt',\n",
       " '11365_1.txt',\n",
       " '8572_4.txt',\n",
       " '6993_1.txt',\n",
       " '7967_4.txt',\n",
       " '8085_2.txt',\n",
       " '12116_1.txt',\n",
       " '6483_1.txt',\n",
       " '9966_1.txt',\n",
       " '6618_2.txt',\n",
       " '3204_3.txt',\n",
       " ...]"
      ]
     },
     "execution_count": 15,
     "metadata": {},
     "output_type": "execute_result"
    }
   ],
   "source": [
    "os.listdir(PATH+\"train\" + \"/\" + \"neg\")"
   ]
  },
  {
   "cell_type": "code",
   "execution_count": 17,
   "metadata": {},
   "outputs": [
    {
     "name": "stdout",
     "output_type": "stream",
     "text": [
      "This may sound crazy to even the people who remember this show...But I remembered this as being live-action. I don't think I ever saw the cartoon. but movie? maybe. I remember it very clearly. The guy was in a building kinda like a showroom. He even had the red jacket. It was dark out and he turned into a red car and there was this guy on the second level looking down at him. The car/guy spun around and crashed through the big showroom type window and out onto the street. And then proceeded to drive off. That is all I remember. I really hope someone else out there remembers this too. If not, Maybe I'm still crazy. But I'm hoping I'm not.\n"
     ]
    }
   ],
   "source": [
    "with open(PATH + \"train\" + \"/\" + \"neg\" + \"/\" + \"6001_2.txt\") as f:\n",
    "    print(f.read())"
   ]
  },
  {
   "cell_type": "code",
   "execution_count": 18,
   "metadata": {},
   "outputs": [
    {
     "data": {
      "application/vnd.jupyter.widget-view+json": {
       "model_id": "e04190faf76d4f3eafaa2bd1c3708125",
       "version_major": 2,
       "version_minor": 0
      },
      "text/plain": [
       "HBox(children=(IntProgress(value=0, max=12500), HTML(value='')))"
      ]
     },
     "metadata": {},
     "output_type": "display_data"
    },
    {
     "name": "stdout",
     "output_type": "stream",
     "text": [
      "\n"
     ]
    },
    {
     "data": {
      "application/vnd.jupyter.widget-view+json": {
       "model_id": "d6ffdbc5666c4b81896d530df70f8fa8",
       "version_major": 2,
       "version_minor": 0
      },
      "text/plain": [
       "HBox(children=(IntProgress(value=0, max=12500), HTML(value='')))"
      ]
     },
     "metadata": {},
     "output_type": "display_data"
    },
    {
     "name": "stdout",
     "output_type": "stream",
     "text": [
      "\n"
     ]
    },
    {
     "data": {
      "application/vnd.jupyter.widget-view+json": {
       "model_id": "5a25c127116e427b896a8665e1d70822",
       "version_major": 2,
       "version_minor": 0
      },
      "text/plain": [
       "HBox(children=(IntProgress(value=0, max=12500), HTML(value='')))"
      ]
     },
     "metadata": {},
     "output_type": "display_data"
    },
    {
     "name": "stdout",
     "output_type": "stream",
     "text": [
      "\n"
     ]
    },
    {
     "data": {
      "application/vnd.jupyter.widget-view+json": {
       "model_id": "78081a6a783d48ddac2ef1f9a718f2ac",
       "version_major": 2,
       "version_minor": 0
      },
      "text/plain": [
       "HBox(children=(IntProgress(value=0, max=12500), HTML(value='')))"
      ]
     },
     "metadata": {},
     "output_type": "display_data"
    },
    {
     "name": "stdout",
     "output_type": "stream",
     "text": [
      "\n"
     ]
    }
   ],
   "source": [
    "train_text=[]\n",
    "test_text=[]\n",
    "train_label=[]\n",
    "test_label=[]\n",
    "\n",
    "for train_test in [\"train\", \"test\"]:\n",
    "    for neg_pos in [\"neg\", \"pos\"]:\n",
    "        file_path=PATH + train_test + \"/\" + neg_pos + \"/\"\n",
    "        for file in tqdm_notebook(os.listdir(file_path)): #tqdm - для показа линии прогресса выполнения задачи\n",
    "            with open(file_path + file, \"r\" ) as f:\n",
    "                if train_test == \"train\":\n",
    "                    train_text.append(f.read())\n",
    "                    if neg_pos == \"neg\":\n",
    "                        train_label.append(0)\n",
    "                    else:\n",
    "                        train_label.append(1)\n",
    "                else:\n",
    "                    test_text.append(f.read())\n",
    "                    if neg_pos == \"neg\":\n",
    "                        test_label.append(0)\n",
    "                    else:\n",
    "                        test_label.append(1)"
   ]
  },
  {
   "cell_type": "code",
   "execution_count": 20,
   "metadata": {},
   "outputs": [
    {
     "data": {
      "text/plain": [
       "25000"
      ]
     },
     "execution_count": 20,
     "metadata": {},
     "output_type": "execute_result"
    }
   ],
   "source": [
    "len(train_text)"
   ]
  },
  {
   "cell_type": "code",
   "execution_count": 21,
   "metadata": {},
   "outputs": [],
   "source": [
    "X_train=pd.DataFrame()"
   ]
  },
  {
   "cell_type": "code",
   "execution_count": 22,
   "metadata": {},
   "outputs": [],
   "source": [
    "X_train[\"review\"] = train_text\n",
    "X_train[\"label\"] = train_label\n",
    "\n",
    "X_test=pd.DataFrame()\n",
    "X_test[\"review\"] = test_text\n",
    "X_test[\"label\"] = test_label"
   ]
  },
  {
   "cell_type": "code",
   "execution_count": 23,
   "metadata": {},
   "outputs": [
    {
     "data": {
      "text/html": [
       "<div>\n",
       "<style scoped>\n",
       "    .dataframe tbody tr th:only-of-type {\n",
       "        vertical-align: middle;\n",
       "    }\n",
       "\n",
       "    .dataframe tbody tr th {\n",
       "        vertical-align: top;\n",
       "    }\n",
       "\n",
       "    .dataframe thead th {\n",
       "        text-align: right;\n",
       "    }\n",
       "</style>\n",
       "<table border=\"1\" class=\"dataframe\">\n",
       "  <thead>\n",
       "    <tr style=\"text-align: right;\">\n",
       "      <th></th>\n",
       "      <th>review</th>\n",
       "      <th>label</th>\n",
       "    </tr>\n",
       "  </thead>\n",
       "  <tbody>\n",
       "    <tr>\n",
       "      <th>0</th>\n",
       "      <td>This may sound crazy to even the people who re...</td>\n",
       "      <td>0</td>\n",
       "    </tr>\n",
       "    <tr>\n",
       "      <th>1</th>\n",
       "      <td>My husband rented this from a video store thin...</td>\n",
       "      <td>0</td>\n",
       "    </tr>\n",
       "    <tr>\n",
       "      <th>2</th>\n",
       "      <td>Wow, what a great cast! Julia Roberts, John Cu...</td>\n",
       "      <td>0</td>\n",
       "    </tr>\n",
       "    <tr>\n",
       "      <th>3</th>\n",
       "      <td>Blank Check is a movie that I saw on TV one da...</td>\n",
       "      <td>0</td>\n",
       "    </tr>\n",
       "    <tr>\n",
       "      <th>4</th>\n",
       "      <td>This was just plain terrible. I read this book...</td>\n",
       "      <td>0</td>\n",
       "    </tr>\n",
       "  </tbody>\n",
       "</table>\n",
       "</div>"
      ],
      "text/plain": [
       "                                              review  label\n",
       "0  This may sound crazy to even the people who re...      0\n",
       "1  My husband rented this from a video store thin...      0\n",
       "2  Wow, what a great cast! Julia Roberts, John Cu...      0\n",
       "3  Blank Check is a movie that I saw on TV one da...      0\n",
       "4  This was just plain terrible. I read this book...      0"
      ]
     },
     "execution_count": 23,
     "metadata": {},
     "output_type": "execute_result"
    }
   ],
   "source": [
    "X_train.head()"
   ]
  },
  {
   "cell_type": "code",
   "execution_count": 24,
   "metadata": {},
   "outputs": [
    {
     "data": {
      "text/html": [
       "<div>\n",
       "<style scoped>\n",
       "    .dataframe tbody tr th:only-of-type {\n",
       "        vertical-align: middle;\n",
       "    }\n",
       "\n",
       "    .dataframe tbody tr th {\n",
       "        vertical-align: top;\n",
       "    }\n",
       "\n",
       "    .dataframe thead th {\n",
       "        text-align: right;\n",
       "    }\n",
       "</style>\n",
       "<table border=\"1\" class=\"dataframe\">\n",
       "  <thead>\n",
       "    <tr style=\"text-align: right;\">\n",
       "      <th></th>\n",
       "      <th>review</th>\n",
       "      <th>label</th>\n",
       "    </tr>\n",
       "  </thead>\n",
       "  <tbody>\n",
       "    <tr>\n",
       "      <th>0</th>\n",
       "      <td>I thought of this movie when i watched pluto n...</td>\n",
       "      <td>0</td>\n",
       "    </tr>\n",
       "    <tr>\n",
       "      <th>1</th>\n",
       "      <td>I have yet to watch STARCRASH (1979) - that no...</td>\n",
       "      <td>0</td>\n",
       "    </tr>\n",
       "    <tr>\n",
       "      <th>2</th>\n",
       "      <td>I know that this show gave a lot of liberation...</td>\n",
       "      <td>0</td>\n",
       "    </tr>\n",
       "    <tr>\n",
       "      <th>3</th>\n",
       "      <td>With an interesting premise (in the conflicts ...</td>\n",
       "      <td>0</td>\n",
       "    </tr>\n",
       "    <tr>\n",
       "      <th>4</th>\n",
       "      <td>Do you hear that sound? That's the sound of H....</td>\n",
       "      <td>0</td>\n",
       "    </tr>\n",
       "  </tbody>\n",
       "</table>\n",
       "</div>"
      ],
      "text/plain": [
       "                                              review  label\n",
       "0  I thought of this movie when i watched pluto n...      0\n",
       "1  I have yet to watch STARCRASH (1979) - that no...      0\n",
       "2  I know that this show gave a lot of liberation...      0\n",
       "3  With an interesting premise (in the conflicts ...      0\n",
       "4  Do you hear that sound? That's the sound of H....      0"
      ]
     },
     "execution_count": 24,
     "metadata": {},
     "output_type": "execute_result"
    }
   ],
   "source": [
    "X_test.head()"
   ]
  },
  {
   "cell_type": "markdown",
   "metadata": {},
   "source": [
    "# Исследовательский анализ данных"
   ]
  },
  {
   "cell_type": "code",
   "execution_count": 25,
   "metadata": {},
   "outputs": [
    {
     "data": {
      "text/plain": [
       "<matplotlib.axes._subplots.AxesSubplot at 0x7fabeb537ef0>"
      ]
     },
     "execution_count": 25,
     "metadata": {},
     "output_type": "execute_result"
    },
    {
     "data": {
      "image/png": "[encoded data removed]",
      "text/plain": [
       "<matplotlib.figure.Figure at 0x7fabeb6970b8>"
      ]
     },
     "metadata": {
      "needs_background": "light"
     },
     "output_type": "display_data"
    }
   ],
   "source": [
    "sns.countplot(X_train[\"label\"])"
   ]
  },
  {
   "cell_type": "code",
   "execution_count": 31,
   "metadata": {},
   "outputs": [
    {
     "data": {
      "image/png": "[encoded data removed]",
      "text/plain": [
       "<matplotlib.figure.Figure at 0x7fabc8953be0>"
      ]
     },
     "metadata": {
      "needs_background": "light"
     },
     "output_type": "display_data"
    }
   ],
   "source": [
    "X_train[X_train[\"label\"] == 0][\"review\"].apply(lambda x: np.log1p(len(x))).hist(alpha = 0.6, color = \"red\", \n",
    "                                                                                label=\"Negative\")\n",
    "X_train[X_train[\"label\"] == 1][\"review\"].apply(lambda x: np.log1p(len(x))).hist(alpha = 0.6, color=\"green\",\n",
    "                                                                               label=\"Positive\")\n",
    "plt.title(\"Character count\")\n",
    "plt.legend();"
   ]
  },
  {
   "cell_type": "markdown",
   "metadata": {},
   "source": [
    "Из приведенного выше графика видно, что положительные и отрицательные отзывы имеют примерно одинаковую длину"
   ]
  },
  {
   "cell_type": "code",
   "execution_count": 32,
   "metadata": {},
   "outputs": [
    {
     "data": {
      "image/png": "[encoded data removed]",
      "text/plain": [
       "<matplotlib.figure.Figure at 0x7fabc89127b8>"
      ]
     },
     "metadata": {
      "needs_background": "light"
     },
     "output_type": "display_data"
    }
   ],
   "source": [
    "X_train[X_train[\"label\"] == 0][\"review\"].apply(lambda x: np.log1p(len(x.split()))).hist(alpha = 0.6, color = \"red\", \n",
    "                                                                                label=\"Negative\")\n",
    "X_train[X_train[\"label\"] == 1][\"review\"].apply(lambda x: np.log1p(len(x.split()))).hist(alpha = 0.6, color=\"green\",\n",
    "                                                                               label=\"Positive\")\n",
    "plt.title(\"Word count\")\n",
    "plt.legend();"
   ]
  },
  {
   "cell_type": "markdown",
   "metadata": {},
   "source": [
    "Также мы видим, что положительные и отрицательные отзывы содержат примерно одинаковое количество слов.\n"
   ]
  },
  {
   "cell_type": "markdown",
   "metadata": {},
   "source": [
    "# Облако слов"
   ]
  },
  {
   "cell_type": "code",
   "execution_count": 40,
   "metadata": {},
   "outputs": [],
   "source": [
    "wordcloud=WordCloud(background_color=\"black\", stopwords=set(STOPWORDS), max_words = 200, height=400, width=800)"
   ]
  },
  {
   "cell_type": "code",
   "execution_count": 41,
   "metadata": {},
   "outputs": [
    {
     "data": {
      "text/plain": [
       "<wordcloud.wordcloud.WordCloud at 0x7fabc86e3fd0>"
      ]
     },
     "execution_count": 41,
     "metadata": {},
     "output_type": "execute_result"
    }
   ],
   "source": [
    "wordcloud.generate(str(X_train[X_train[\"label\"] == 1][\"review\"]))"
   ]
  },
  {
   "cell_type": "code",
   "execution_count": 48,
   "metadata": {},
   "outputs": [
    {
     "data": {
      "text/plain": [
       "<matplotlib.image.AxesImage at 0x7fabc840ca90>"
      ]
     },
     "execution_count": 48,
     "metadata": {},
     "output_type": "execute_result"
    },
    {
     "data": {
      "image/png": "[encoded data removed]",
      "text/plain": [
       "<matplotlib.figure.Figure at 0x7fabc867e400>"
      ]
     },
     "metadata": {
      "needs_background": "light"
     },
     "output_type": "display_data"
    }
   ],
   "source": [
    "plt.figure(figsize=(8,8))\n",
    "plt.axis(\"off\")\n",
    "plt.imshow(wordcloud)"
   ]
  },
  {
   "cell_type": "code",
   "execution_count": 49,
   "metadata": {},
   "outputs": [
    {
     "data": {
      "text/plain": [
       "<wordcloud.wordcloud.WordCloud at 0x7fabc86e3fd0>"
      ]
     },
     "execution_count": 49,
     "metadata": {},
     "output_type": "execute_result"
    }
   ],
   "source": [
    "wordcloud.generate(str(X_train[X_train[\"label\"] == 0][\"review\"]))"
   ]
  },
  {
   "cell_type": "code",
   "execution_count": 50,
   "metadata": {},
   "outputs": [
    {
     "data": {
      "text/plain": [
       "<matplotlib.image.AxesImage at 0x7fabc83c4ac8>"
      ]
     },
     "execution_count": 50,
     "metadata": {},
     "output_type": "execute_result"
    },
    {
     "data": {
      "image/png": "[encoded data removed]",
      "text/plain": [
       "<matplotlib.figure.Figure at 0x7fabc86fd780>"
      ]
     },
     "metadata": {
      "needs_background": "light"
     },
     "output_type": "display_data"
    }
   ],
   "source": [
    "plt.figure(figsize=(8,8))\n",
    "plt.axis(\"off\")\n",
    "plt.imshow(wordcloud)"
   ]
  },
  {
   "cell_type": "markdown",
   "metadata": {},
   "source": [
    "Как мы видим, обе категории содержат такие популярные слова, как «Кино» и «Кино», и это не удивительно, потому что мы имеем дело с обзорами фильмов. Еще есть несколько интересных моментов.\n",
    "\n",
    "Отрицательные отзывы содержат такие слова, как: «Действительно» (может использоваться с сарказмом или просто для усиления мнения человека), «Ужасно», «Дрянной» (ничего хорошего в фильме).\n",
    "\n",
    "Положительные отзывы содержат такие слова, как: «Эмоциональный», «Блестящий», «Забавный», «Удивительный», «Лучший», «Страстный» (которые обычно используются для выражения чьего-либо удовлетворения).\n",
    "\n",
    "Хотя «World Cloud» - это очень впечатляющий способ показать некоторые идеи, обычно для лучшего понимания нам лучше использовать более распространенные методы."
   ]
  },
  {
   "cell_type": "markdown",
   "metadata": {},
   "source": [
    "# Обучение логистической регрессии для бинарной классификации"
   ]
  },
  {
   "cell_type": "code",
   "execution_count": 51,
   "metadata": {},
   "outputs": [],
   "source": [
    "X_train_train, X_train_valid, y_train_train, y_train_valid = train_test_split(X_train[\"review\"].values, \n",
    "    X_train[\"label\"].values, test_size=0.3, random_state=20)"
   ]
  },
  {
   "cell_type": "code",
   "execution_count": 56,
   "metadata": {},
   "outputs": [],
   "source": [
    "from sklearn.feature_extraction.text import TfidfVectorizer"
   ]
  },
  {
   "cell_type": "code",
   "execution_count": 57,
   "metadata": {},
   "outputs": [
    {
     "data": {
      "text/plain": [
       "((17500,), (7500,))"
      ]
     },
     "execution_count": 57,
     "metadata": {},
     "output_type": "execute_result"
    }
   ],
   "source": [
    "X_train_train.shape, X_train_valid.shape"
   ]
  },
  {
   "cell_type": "code",
   "execution_count": 58,
   "metadata": {},
   "outputs": [],
   "source": [
    "vect = TfidfVectorizer(ngram_range=(1,1), max_features=50000)"
   ]
  },
  {
   "cell_type": "code",
   "execution_count": 60,
   "metadata": {},
   "outputs": [],
   "source": [
    "logit=LogisticRegression(C=1, random_state=20)"
   ]
  },
  {
   "cell_type": "code",
   "execution_count": 62,
   "metadata": {},
   "outputs": [],
   "source": [
    "pipe=Pipeline([\n",
    "    (\"vect\", vect),\n",
    "    (\"logit\", logit)\n",
    "])"
   ]
  },
  {
   "cell_type": "code",
   "execution_count": 64,
   "metadata": {},
   "outputs": [
    {
     "name": "stderr",
     "output_type": "stream",
     "text": [
      "/usr/local/lib/python3.6/dist-packages/sklearn/linear_model/logistic.py:432: FutureWarning:\n",
      "\n",
      "Default solver will be changed to 'lbfgs' in 0.22. Specify a solver to silence this warning.\n",
      "\n"
     ]
    },
    {
     "data": {
      "application/vnd.jupyter.widget-view+json": {
       "model_id": "f74b231396384231b16aed30e3bafa30",
       "version_major": 2,
       "version_minor": 0
      },
      "text/plain": [
       "HBox(children=(IntProgress(value=1, bar_style='info', max=1), HTML(value='')))"
      ]
     },
     "metadata": {},
     "output_type": "display_data"
    },
    {
     "data": {
      "text/plain": [
       "0it [00:00, ?it/s]"
      ]
     },
     "execution_count": 64,
     "metadata": {},
     "output_type": "execute_result"
    }
   ],
   "source": [
    "tqdm_notebook(pipe.fit(X_train_train, y_train_train))"
   ]
  },
  {
   "cell_type": "code",
   "execution_count": 66,
   "metadata": {},
   "outputs": [],
   "source": [
    "pred_valid=pipe.predict(X_train_valid)"
   ]
  },
  {
   "cell_type": "code",
   "execution_count": 67,
   "metadata": {},
   "outputs": [
    {
     "data": {
      "text/plain": [
       "0.8865333333333333"
      ]
     },
     "execution_count": 67,
     "metadata": {},
     "output_type": "execute_result"
    }
   ],
   "source": [
    "accuracy_score(y_train_valid, pred_valid)"
   ]
  },
  {
   "cell_type": "code",
   "execution_count": 73,
   "metadata": {
    "scrolled": true
   },
   "outputs": [
    {
     "data": {
      "text/plain": [
       "<matplotlib.axes._subplots.AxesSubplot at 0x7fabc88317f0>"
      ]
     },
     "execution_count": 73,
     "metadata": {},
     "output_type": "execute_result"
    },
    {
     "data": {
      "image/png": "[encoded data removed]",
      "text/plain": [
       "<matplotlib.figure.Figure at 0x7fabc88ea6d8>"
      ]
     },
     "metadata": {
      "needs_background": "light"
     },
     "output_type": "display_data"
    }
   ],
   "source": [
    "sns.heatmap(confusion_matrix(y_train_valid, pred_valid), annot=True, fmt=\"g\", cmap=\"Blues\")"
   ]
  },
  {
   "cell_type": "markdown",
   "metadata": {},
   "source": [
    "Мы видим, что нашей модели удалось классифицировать негативные и позитивные отзывы примерно с одинаковым успехом. Тем не менее, наша модель склонна классифицировать отрицательные отзывы как положительные чаще, чем положительные как отрицательные."
   ]
  },
  {
   "cell_type": "markdown",
   "metadata": {},
   "source": [
    "##  Влияние признаков\n",
    "\n",
    "Далее мы попытаемся понять, какие Unigrams (в нашей базовой модели мы использовали только Unigrams), оказывают наибольшее влияние на нашу модель.\n"
   ]
  },
  {
   "cell_type": "code",
   "execution_count": 74,
   "metadata": {},
   "outputs": [
    {
     "data": {
      "text/html": [
       "\n",
       "    <style>\n",
       "    table.eli5-weights tr:hover {\n",
       "        filter: brightness(85%);\n",
       "    }\n",
       "</style>\n",
       "\n",
       "\n",
       "\n",
       "    \n",
       "\n",
       "    \n",
       "\n",
       "    \n",
       "\n",
       "    \n",
       "\n",
       "    \n",
       "\n",
       "    \n",
       "\n",
       "\n",
       "    \n",
       "\n",
       "    \n",
       "\n",
       "    \n",
       "\n",
       "    \n",
       "        \n",
       "\n",
       "    \n",
       "\n",
       "        \n",
       "            \n",
       "                \n",
       "                \n",
       "    \n",
       "        <p style=\"margin-bottom: 0.5em; margin-top: 0em\">\n",
       "            <b>\n",
       "    \n",
       "        y=1\n",
       "    \n",
       "</b>\n",
       "\n",
       "top features\n",
       "        </p>\n",
       "    \n",
       "    <table class=\"eli5-weights\"\n",
       "           style=\"border-collapse: collapse; border: none; margin-top: 0em; table-layout: auto; margin-bottom: 2em;\">\n",
       "        <thead>\n",
       "        <tr style=\"border: none;\">\n",
       "            \n",
       "                <th style=\"padding: 0 1em 0 0.5em; text-align: right; border: none;\" title=\"Feature weights. Note that weights do not account for feature value scales, so if feature values have different scales, features with highest weights might not be the most important.\">\n",
       "                    Weight<sup>?</sup>\n",
       "                </th>\n",
       "            \n",
       "            <th style=\"padding: 0 0.5em 0 0.5em; text-align: left; border: none;\">Feature</th>\n",
       "            \n",
       "        </tr>\n",
       "        </thead>\n",
       "        <tbody>\n",
       "        \n",
       "            <tr style=\"background-color: hsl(120, 100.00%, 81.26%); border: none;\">\n",
       "    <td style=\"padding: 0 1em 0 0.5em; text-align: right; border: none;\">\n",
       "        +7.217\n",
       "    </td>\n",
       "    <td style=\"padding: 0 0.5em 0 0.5em; text-align: left; border: none;\">\n",
       "        great\n",
       "    </td>\n",
       "    \n",
       "</tr>\n",
       "        \n",
       "            <tr style=\"background-color: hsl(120, 100.00%, 84.61%); border: none;\">\n",
       "    <td style=\"padding: 0 1em 0 0.5em; text-align: right; border: none;\">\n",
       "        +5.445\n",
       "    </td>\n",
       "    <td style=\"padding: 0 0.5em 0 0.5em; text-align: left; border: none;\">\n",
       "        excellent\n",
       "    </td>\n",
       "    \n",
       "</tr>\n",
       "        \n",
       "            <tr style=\"background-color: hsl(120, 100.00%, 86.08%); border: none;\">\n",
       "    <td style=\"padding: 0 1em 0 0.5em; text-align: right; border: none;\">\n",
       "        +4.720\n",
       "    </td>\n",
       "    <td style=\"padding: 0 0.5em 0 0.5em; text-align: left; border: none;\">\n",
       "        best\n",
       "    </td>\n",
       "    \n",
       "</tr>\n",
       "        \n",
       "        \n",
       "            <tr style=\"background-color: hsl(120, 100.00%, 86.08%); border: none;\">\n",
       "                <td colspan=\"2\" style=\"padding: 0 0.5em 0 0.5em; text-align: center; border: none; white-space: nowrap;\">\n",
       "                    <i>&hellip; 25127 more positive &hellip;</i>\n",
       "                </td>\n",
       "            </tr>\n",
       "        \n",
       "\n",
       "        \n",
       "            <tr style=\"background-color: hsl(0, 100.00%, 86.63%); border: none;\">\n",
       "                <td colspan=\"2\" style=\"padding: 0 0.5em 0 0.5em; text-align: center; border: none; white-space: nowrap;\">\n",
       "                    <i>&hellip; 24864 more negative &hellip;</i>\n",
       "                </td>\n",
       "            </tr>\n",
       "        \n",
       "        \n",
       "            <tr style=\"background-color: hsl(0, 100.00%, 86.63%); border: none;\">\n",
       "    <td style=\"padding: 0 1em 0 0.5em; text-align: right; border: none;\">\n",
       "        -4.453\n",
       "    </td>\n",
       "    <td style=\"padding: 0 0.5em 0 0.5em; text-align: left; border: none;\">\n",
       "        no\n",
       "    </td>\n",
       "    \n",
       "</tr>\n",
       "        \n",
       "            <tr style=\"background-color: hsl(0, 100.00%, 86.35%); border: none;\">\n",
       "    <td style=\"padding: 0 1em 0 0.5em; text-align: right; border: none;\">\n",
       "        -4.586\n",
       "    </td>\n",
       "    <td style=\"padding: 0 0.5em 0 0.5em; text-align: left; border: none;\">\n",
       "        poor\n",
       "    </td>\n",
       "    \n",
       "</tr>\n",
       "        \n",
       "            <tr style=\"background-color: hsl(0, 100.00%, 84.96%); border: none;\">\n",
       "    <td style=\"padding: 0 1em 0 0.5em; text-align: right; border: none;\">\n",
       "        -5.272\n",
       "    </td>\n",
       "    <td style=\"padding: 0 0.5em 0 0.5em; text-align: left; border: none;\">\n",
       "        boring\n",
       "    </td>\n",
       "    \n",
       "</tr>\n",
       "        \n",
       "            <tr style=\"background-color: hsl(0, 100.00%, 84.79%); border: none;\">\n",
       "    <td style=\"padding: 0 1em 0 0.5em; text-align: right; border: none;\">\n",
       "        -5.352\n",
       "    </td>\n",
       "    <td style=\"padding: 0 0.5em 0 0.5em; text-align: left; border: none;\">\n",
       "        awful\n",
       "    </td>\n",
       "    \n",
       "</tr>\n",
       "        \n",
       "            <tr style=\"background-color: hsl(0, 100.00%, 84.57%); border: none;\">\n",
       "    <td style=\"padding: 0 1em 0 0.5em; text-align: right; border: none;\">\n",
       "        -5.468\n",
       "    </td>\n",
       "    <td style=\"padding: 0 0.5em 0 0.5em; text-align: left; border: none;\">\n",
       "        waste\n",
       "    </td>\n",
       "    \n",
       "</tr>\n",
       "        \n",
       "            <tr style=\"background-color: hsl(0, 100.00%, 80.88%); border: none;\">\n",
       "    <td style=\"padding: 0 1em 0 0.5em; text-align: right; border: none;\">\n",
       "        -7.425\n",
       "    </td>\n",
       "    <td style=\"padding: 0 0.5em 0 0.5em; text-align: left; border: none;\">\n",
       "        bad\n",
       "    </td>\n",
       "    \n",
       "</tr>\n",
       "        \n",
       "            <tr style=\"background-color: hsl(0, 100.00%, 80.00%); border: none;\">\n",
       "    <td style=\"padding: 0 1em 0 0.5em; text-align: right; border: none;\">\n",
       "        -7.917\n",
       "    </td>\n",
       "    <td style=\"padding: 0 0.5em 0 0.5em; text-align: left; border: none;\">\n",
       "        worst\n",
       "    </td>\n",
       "    \n",
       "</tr>\n",
       "        \n",
       "\n",
       "        </tbody>\n",
       "    </table>\n",
       "\n",
       "            \n",
       "        \n",
       "\n",
       "        \n",
       "\n",
       "\n",
       "\n",
       "    \n",
       "\n",
       "    \n",
       "\n",
       "    \n",
       "\n",
       "    \n",
       "\n",
       "\n",
       "    \n",
       "\n",
       "    \n",
       "\n",
       "    \n",
       "\n",
       "    \n",
       "\n",
       "    \n",
       "\n",
       "    \n",
       "\n",
       "\n",
       "    \n",
       "\n",
       "    \n",
       "\n",
       "    \n",
       "\n",
       "    \n",
       "\n",
       "    \n",
       "\n",
       "    \n",
       "\n",
       "\n",
       "\n"
      ],
      "text/plain": [
       "<IPython.core.display.HTML object>"
      ]
     },
     "execution_count": 74,
     "metadata": {},
     "output_type": "execute_result"
    }
   ],
   "source": [
    "eli5.show_weights(vec=pipe.named_steps[\"vect\"], estimator=pipe.named_steps[\"logit\"], top=10)"
   ]
  },
  {
   "cell_type": "markdown",
   "metadata": {},
   "source": [
    "# CountVectorizer - создание векторов слов, по встречаемости их в предложениях (разреженная матрица)"
   ]
  },
  {
   "cell_type": "code",
   "execution_count": 75,
   "metadata": {},
   "outputs": [],
   "source": [
    "from sklearn.feature_extraction.text import CountVectorizer"
   ]
  },
  {
   "cell_type": "code",
   "execution_count": 76,
   "metadata": {},
   "outputs": [],
   "source": [
    "cvect=CountVectorizer(ngram_range=(1,3), max_features = 100000)\n",
    "logit = LogisticRegression(C=1, random_state=20)"
   ]
  },
  {
   "cell_type": "markdown",
   "metadata": {},
   "source": [
    "n_gram - биграммы, дополнительные признаки, смотрятся соседние слова, увеличивается признаковое пространство"
   ]
  },
  {
   "cell_type": "code",
   "execution_count": 78,
   "metadata": {},
   "outputs": [],
   "source": [
    "pipe_new=Pipeline([\n",
    "    (\"vect\", cvect),\n",
    "    (\"logit\", logit)\n",
    "])"
   ]
  },
  {
   "cell_type": "code",
   "execution_count": 79,
   "metadata": {},
   "outputs": [
    {
     "name": "stderr",
     "output_type": "stream",
     "text": [
      "/usr/local/lib/python3.6/dist-packages/sklearn/linear_model/logistic.py:432: FutureWarning:\n",
      "\n",
      "Default solver will be changed to 'lbfgs' in 0.22. Specify a solver to silence this warning.\n",
      "\n"
     ]
    },
    {
     "name": "stdout",
     "output_type": "stream",
     "text": [
      "CPU times: user 40.6 s, sys: 1.23 s, total: 41.8 s\n",
      "Wall time: 51.7 s\n"
     ]
    },
    {
     "data": {
      "text/plain": [
       "Pipeline(memory=None,\n",
       "     steps=[('vect', CountVectorizer(analyzer='word', binary=False, decode_error='strict',\n",
       "        dtype=<class 'numpy.int64'>, encoding='utf-8', input='content',\n",
       "        lowercase=True, max_df=1.0, max_features=100000, min_df=1,\n",
       "        ngram_range=(1, 3), preprocessor=None, stop_words=None,\n",
       "        str..., penalty='l2', random_state=20, solver='warn',\n",
       "          tol=0.0001, verbose=0, warm_start=False))])"
      ]
     },
     "execution_count": 79,
     "metadata": {},
     "output_type": "execute_result"
    }
   ],
   "source": [
    "%%time\n",
    "pipe_new.fit(X_train_train, y_train_train)"
   ]
  },
  {
   "cell_type": "code",
   "execution_count": 80,
   "metadata": {},
   "outputs": [],
   "source": [
    "pred_val=pipe.predict(X_train_valid)"
   ]
  },
  {
   "cell_type": "code",
   "execution_count": 81,
   "metadata": {},
   "outputs": [
    {
     "data": {
      "text/plain": [
       "0.8865333333333333"
      ]
     },
     "execution_count": 81,
     "metadata": {},
     "output_type": "execute_result"
    }
   ],
   "source": [
    "accuracy_score(y_train_valid, pred_val)"
   ]
  },
  {
   "cell_type": "code",
   "execution_count": 83,
   "metadata": {},
   "outputs": [
    {
     "data": {
      "text/html": [
       "\n",
       "    <style>\n",
       "    table.eli5-weights tr:hover {\n",
       "        filter: brightness(85%);\n",
       "    }\n",
       "</style>\n",
       "\n",
       "\n",
       "\n",
       "    \n",
       "\n",
       "    \n",
       "\n",
       "    \n",
       "\n",
       "    \n",
       "\n",
       "    \n",
       "\n",
       "    \n",
       "\n",
       "\n",
       "    \n",
       "\n",
       "    \n",
       "\n",
       "    \n",
       "\n",
       "    \n",
       "        \n",
       "\n",
       "    \n",
       "\n",
       "        \n",
       "            \n",
       "                \n",
       "                \n",
       "    \n",
       "        <p style=\"margin-bottom: 0.5em; margin-top: 0em\">\n",
       "            <b>\n",
       "    \n",
       "        y=1\n",
       "    \n",
       "</b>\n",
       "\n",
       "top features\n",
       "        </p>\n",
       "    \n",
       "    <table class=\"eli5-weights\"\n",
       "           style=\"border-collapse: collapse; border: none; margin-top: 0em; table-layout: auto; margin-bottom: 2em;\">\n",
       "        <thead>\n",
       "        <tr style=\"border: none;\">\n",
       "            \n",
       "                <th style=\"padding: 0 1em 0 0.5em; text-align: right; border: none;\" title=\"Feature weights. Note that weights do not account for feature value scales, so if feature values have different scales, features with highest weights might not be the most important.\">\n",
       "                    Weight<sup>?</sup>\n",
       "                </th>\n",
       "            \n",
       "            <th style=\"padding: 0 0.5em 0 0.5em; text-align: left; border: none;\">Feature</th>\n",
       "            \n",
       "        </tr>\n",
       "        </thead>\n",
       "        <tbody>\n",
       "        \n",
       "            <tr style=\"background-color: hsl(120, 100.00%, 81.28%); border: none;\">\n",
       "    <td style=\"padding: 0 1em 0 0.5em; text-align: right; border: none;\">\n",
       "        +1.251\n",
       "    </td>\n",
       "    <td style=\"padding: 0 0.5em 0 0.5em; text-align: left; border: none;\">\n",
       "        excellent\n",
       "    </td>\n",
       "    \n",
       "</tr>\n",
       "        \n",
       "            <tr style=\"background-color: hsl(120, 100.00%, 83.53%); border: none;\">\n",
       "    <td style=\"padding: 0 1em 0 0.5em; text-align: right; border: none;\">\n",
       "        +1.042\n",
       "    </td>\n",
       "    <td style=\"padding: 0 0.5em 0 0.5em; text-align: left; border: none;\">\n",
       "        perfect\n",
       "    </td>\n",
       "    \n",
       "</tr>\n",
       "        \n",
       "        \n",
       "            <tr style=\"background-color: hsl(120, 100.00%, 83.53%); border: none;\">\n",
       "                <td colspan=\"2\" style=\"padding: 0 0.5em 0 0.5em; text-align: center; border: none; white-space: nowrap;\">\n",
       "                    <i>&hellip; 50388 more positive &hellip;</i>\n",
       "                </td>\n",
       "            </tr>\n",
       "        \n",
       "\n",
       "        \n",
       "            <tr style=\"background-color: hsl(0, 100.00%, 83.53%); border: none;\">\n",
       "                <td colspan=\"2\" style=\"padding: 0 0.5em 0 0.5em; text-align: center; border: none; white-space: nowrap;\">\n",
       "                    <i>&hellip; 49603 more negative &hellip;</i>\n",
       "                </td>\n",
       "            </tr>\n",
       "        \n",
       "        \n",
       "            <tr style=\"background-color: hsl(0, 100.00%, 83.53%); border: none;\">\n",
       "    <td style=\"padding: 0 1em 0 0.5em; text-align: right; border: none;\">\n",
       "        -1.042\n",
       "    </td>\n",
       "    <td style=\"padding: 0 0.5em 0 0.5em; text-align: left; border: none;\">\n",
       "        disappointment\n",
       "    </td>\n",
       "    \n",
       "</tr>\n",
       "        \n",
       "            <tr style=\"background-color: hsl(0, 100.00%, 83.45%); border: none;\">\n",
       "    <td style=\"padding: 0 1em 0 0.5em; text-align: right; border: none;\">\n",
       "        -1.049\n",
       "    </td>\n",
       "    <td style=\"padding: 0 0.5em 0 0.5em; text-align: left; border: none;\">\n",
       "        poorly\n",
       "    </td>\n",
       "    \n",
       "</tr>\n",
       "        \n",
       "            <tr style=\"background-color: hsl(0, 100.00%, 82.91%); border: none;\">\n",
       "    <td style=\"padding: 0 1em 0 0.5em; text-align: right; border: none;\">\n",
       "        -1.098\n",
       "    </td>\n",
       "    <td style=\"padding: 0 0.5em 0 0.5em; text-align: left; border: none;\">\n",
       "        the worst\n",
       "    </td>\n",
       "    \n",
       "</tr>\n",
       "        \n",
       "            <tr style=\"background-color: hsl(0, 100.00%, 81.47%); border: none;\">\n",
       "    <td style=\"padding: 0 1em 0 0.5em; text-align: right; border: none;\">\n",
       "        -1.233\n",
       "    </td>\n",
       "    <td style=\"padding: 0 0.5em 0 0.5em; text-align: left; border: none;\">\n",
       "        waste\n",
       "    </td>\n",
       "    \n",
       "</tr>\n",
       "        \n",
       "            <tr style=\"background-color: hsl(0, 100.00%, 81.38%); border: none;\">\n",
       "    <td style=\"padding: 0 1em 0 0.5em; text-align: right; border: none;\">\n",
       "        -1.241\n",
       "    </td>\n",
       "    <td style=\"padding: 0 0.5em 0 0.5em; text-align: left; border: none;\">\n",
       "        disappointing\n",
       "    </td>\n",
       "    \n",
       "</tr>\n",
       "        \n",
       "            <tr style=\"background-color: hsl(0, 100.00%, 80.93%); border: none;\">\n",
       "    <td style=\"padding: 0 1em 0 0.5em; text-align: right; border: none;\">\n",
       "        -1.285\n",
       "    </td>\n",
       "    <td style=\"padding: 0 0.5em 0 0.5em; text-align: left; border: none;\">\n",
       "        boring\n",
       "    </td>\n",
       "    \n",
       "</tr>\n",
       "        \n",
       "            <tr style=\"background-color: hsl(0, 100.00%, 80.74%); border: none;\">\n",
       "    <td style=\"padding: 0 1em 0 0.5em; text-align: right; border: none;\">\n",
       "        -1.303\n",
       "    </td>\n",
       "    <td style=\"padding: 0 0.5em 0 0.5em; text-align: left; border: none;\">\n",
       "        awful\n",
       "    </td>\n",
       "    \n",
       "</tr>\n",
       "        \n",
       "            <tr style=\"background-color: hsl(0, 100.00%, 80.00%); border: none;\">\n",
       "    <td style=\"padding: 0 1em 0 0.5em; text-align: right; border: none;\">\n",
       "        -1.375\n",
       "    </td>\n",
       "    <td style=\"padding: 0 0.5em 0 0.5em; text-align: left; border: none;\">\n",
       "        worst\n",
       "    </td>\n",
       "    \n",
       "</tr>\n",
       "        \n",
       "\n",
       "        </tbody>\n",
       "    </table>\n",
       "\n",
       "            \n",
       "        \n",
       "\n",
       "        \n",
       "\n",
       "\n",
       "\n",
       "    \n",
       "\n",
       "    \n",
       "\n",
       "    \n",
       "\n",
       "    \n",
       "\n",
       "\n",
       "    \n",
       "\n",
       "    \n",
       "\n",
       "    \n",
       "\n",
       "    \n",
       "\n",
       "    \n",
       "\n",
       "    \n",
       "\n",
       "\n",
       "    \n",
       "\n",
       "    \n",
       "\n",
       "    \n",
       "\n",
       "    \n",
       "\n",
       "    \n",
       "\n",
       "    \n",
       "\n",
       "\n",
       "\n"
      ],
      "text/plain": [
       "<IPython.core.display.HTML object>"
      ]
     },
     "execution_count": 83,
     "metadata": {},
     "output_type": "execute_result"
    }
   ],
   "source": [
    "eli5.show_weights(vec=pipe_new.named_steps[\"vect\"], estimator=pipe_new.named_steps[\"logit\"], top=10)"
   ]
  },
  {
   "cell_type": "markdown",
   "metadata": {},
   "source": [
    "# Лемматизация\n",
    "\n",
    "Лемматизация является частью задачи нормализации текста. Некоторые слова могут отличаться, но они могут иметь один и тот же корень. Во время лемматизации мы будем изменять разные слова с одинаковым корнем в их первоначальной форме."
   ]
  },
  {
   "cell_type": "code",
   "execution_count": 84,
   "metadata": {},
   "outputs": [],
   "source": [
    "import nltk.stem \n",
    "from nltk import word_tokenize\n",
    "from nltk.stem import WordNetLemmatizer"
   ]
  },
  {
   "cell_type": "code",
   "execution_count": 85,
   "metadata": {},
   "outputs": [],
   "source": [
    "lem=WordNetLemmatizer()"
   ]
  },
  {
   "cell_type": "code",
   "execution_count": 98,
   "metadata": {},
   "outputs": [],
   "source": [
    "from sklearn.feature_extraction.text import HashingVectorizer\n",
    "from xgboost import XGBClassifier"
   ]
  },
  {
   "cell_type": "code",
   "execution_count": 115,
   "metadata": {},
   "outputs": [],
   "source": [
    "hash_vect=HashingVectorizer(n_features=10000, stop_words=set(STOPWORDS))"
   ]
  },
  {
   "cell_type": "code",
   "execution_count": 116,
   "metadata": {},
   "outputs": [],
   "source": [
    "xgb_clf=XGBClassifier(n_estimators=100, learning_rate=0.1, max_depth=5, min_child_weight=5)"
   ]
  },
  {
   "cell_type": "code",
   "execution_count": 117,
   "metadata": {},
   "outputs": [],
   "source": [
    "pipe_hash= Pipeline([\n",
    "    (\"vect\", hash_vect),\n",
    "    (\"xgb\", xgb_clf)\n",
    "])"
   ]
  },
  {
   "cell_type": "code",
   "execution_count": 118,
   "metadata": {},
   "outputs": [
    {
     "name": "stderr",
     "output_type": "stream",
     "text": [
      "/usr/local/lib/python3.6/dist-packages/sklearn/feature_extraction/text.py:286: UserWarning:\n",
      "\n",
      "Your stop_words may be inconsistent with your preprocessing. Tokenizing the stop words generated tokens ['aren', 'couldn', 'didn', 'doesn', 'don', 'hadn', 'hasn', 'haven', 'isn', 'let', 'll', 'mustn', 're', 'shan', 'shouldn', 've', 'wasn', 'weren', 'won', 'wouldn'] not in stop_words.\n",
      "\n"
     ]
    },
    {
     "data": {
      "text/plain": [
       "Pipeline(memory=None,\n",
       "     steps=[('vect', HashingVectorizer(alternate_sign=True, analyzer='word', binary=False,\n",
       "         decode_error='strict', dtype=<class 'numpy.float64'>,\n",
       "         encoding='utf-8', input='content', lowercase=True,\n",
       "         n_features=10000, ngram_range=(1, 1), non_negative=False,\n",
       "         norm='l2', prep...\n",
       "       reg_alpha=0, reg_lambda=1, scale_pos_weight=1, seed=None,\n",
       "       silent=True, subsample=1))])"
      ]
     },
     "execution_count": 118,
     "metadata": {},
     "output_type": "execute_result"
    }
   ],
   "source": [
    "pipe_hash.fit(X_train_train, y_train_train)"
   ]
  },
  {
   "cell_type": "code",
   "execution_count": 119,
   "metadata": {},
   "outputs": [],
   "source": [
    "pred_hash=pipe_hash.predict(X_train_valid)"
   ]
  },
  {
   "cell_type": "code",
   "execution_count": 120,
   "metadata": {},
   "outputs": [
    {
     "data": {
      "text/plain": [
       "0.8150666666666667"
      ]
     },
     "execution_count": 120,
     "metadata": {},
     "output_type": "execute_result"
    }
   ],
   "source": [
    "accuracy_score(y_train_valid, pred_hash)"
   ]
  },
  {
   "cell_type": "code",
   "execution_count": 121,
   "metadata": {},
   "outputs": [],
   "source": [
    "from sklearn.linear_model import SGDClassifier"
   ]
  },
  {
   "cell_type": "code",
   "execution_count": 122,
   "metadata": {},
   "outputs": [],
   "source": [
    "sgd_clf=SGDClassifier()"
   ]
  },
  {
   "cell_type": "code",
   "execution_count": 123,
   "metadata": {},
   "outputs": [],
   "source": [
    "pipe_sgd= Pipeline([\n",
    "    (\"vect\", hash_vect),\n",
    "    (\"sgd\", sgd_clf)\n",
    "])"
   ]
  },
  {
   "cell_type": "code",
   "execution_count": 124,
   "metadata": {},
   "outputs": [
    {
     "name": "stderr",
     "output_type": "stream",
     "text": [
      "/usr/local/lib/python3.6/dist-packages/sklearn/linear_model/stochastic_gradient.py:144: FutureWarning:\n",
      "\n",
      "max_iter and tol parameters have been added in SGDClassifier in 0.19. If both are left unset, they default to max_iter=5 and tol=None. If tol is not None, max_iter defaults to max_iter=1000. From 0.21, default max_iter will be 1000, and default tol will be 1e-3.\n",
      "\n"
     ]
    },
    {
     "data": {
      "text/plain": [
       "Pipeline(memory=None,\n",
       "     steps=[('vect', HashingVectorizer(alternate_sign=True, analyzer='word', binary=False,\n",
       "         decode_error='strict', dtype=<class 'numpy.float64'>,\n",
       "         encoding='utf-8', input='content', lowercase=True,\n",
       "         n_features=10000, ngram_range=(1, 1), non_negative=False,\n",
       "         norm='l2', prep...m_state=None, shuffle=True, tol=None,\n",
       "       validation_fraction=0.1, verbose=0, warm_start=False))])"
      ]
     },
     "execution_count": 124,
     "metadata": {},
     "output_type": "execute_result"
    }
   ],
   "source": [
    "pipe_sgd.fit(X_train_train, y_train_train)"
   ]
  },
  {
   "cell_type": "code",
   "execution_count": 125,
   "metadata": {},
   "outputs": [],
   "source": [
    "pred_sgd=pipe_sgd.predict(X_train_valid)"
   ]
  },
  {
   "cell_type": "code",
   "execution_count": 126,
   "metadata": {},
   "outputs": [
    {
     "data": {
      "text/plain": [
       "0.8704"
      ]
     },
     "execution_count": 126,
     "metadata": {},
     "output_type": "execute_result"
    }
   ],
   "source": [
    "accuracy_score(y_train_valid, pred_sgd)"
   ]
  },
  {
   "cell_type": "markdown",
   "metadata": {},
   "source": [
    "## А теперь попробуем биграммы в CountVectorizer"
   ]
  },
  {
   "cell_type": "code",
   "execution_count": 127,
   "metadata": {},
   "outputs": [],
   "source": [
    "cvect=CountVectorizer(ngram_range=(1,2), max_features=100000)"
   ]
  },
  {
   "cell_type": "code",
   "execution_count": 131,
   "metadata": {},
   "outputs": [],
   "source": [
    "pipe_cvect=Pipeline([\n",
    "    (\"vect\", cvect),\n",
    "    (\"sgd\", sgd_clf)\n",
    "])"
   ]
  },
  {
   "cell_type": "code",
   "execution_count": 132,
   "metadata": {},
   "outputs": [
    {
     "name": "stderr",
     "output_type": "stream",
     "text": [
      "/usr/local/lib/python3.6/dist-packages/sklearn/linear_model/stochastic_gradient.py:144: FutureWarning:\n",
      "\n",
      "max_iter and tol parameters have been added in SGDClassifier in 0.19. If both are left unset, they default to max_iter=5 and tol=None. If tol is not None, max_iter defaults to max_iter=1000. From 0.21, default max_iter will be 1000, and default tol will be 1e-3.\n",
      "\n"
     ]
    },
    {
     "data": {
      "text/plain": [
       "Pipeline(memory=None,\n",
       "     steps=[('vect', CountVectorizer(analyzer='word', binary=False, decode_error='strict',\n",
       "        dtype=<class 'numpy.int64'>, encoding='utf-8', input='content',\n",
       "        lowercase=True, max_df=1.0, max_features=100000, min_df=1,\n",
       "        ngram_range=(1, 2), preprocessor=None, stop_words=None,\n",
       "        str...m_state=None, shuffle=True, tol=None,\n",
       "       validation_fraction=0.1, verbose=0, warm_start=False))])"
      ]
     },
     "execution_count": 132,
     "metadata": {},
     "output_type": "execute_result"
    }
   ],
   "source": [
    "pipe_cvect.fit(X_train_train, y_train_train)"
   ]
  },
  {
   "cell_type": "code",
   "execution_count": 133,
   "metadata": {},
   "outputs": [],
   "source": [
    "pred_sgd=pipe_cvect.predict(X_train_valid)"
   ]
  },
  {
   "cell_type": "code",
   "execution_count": 135,
   "metadata": {},
   "outputs": [
    {
     "data": {
      "text/plain": [
       "0.8808"
      ]
     },
     "execution_count": 135,
     "metadata": {},
     "output_type": "execute_result"
    }
   ],
   "source": [
    "accuracy_score(y_train_valid, pred_sgd)"
   ]
  },
  {
   "cell_type": "markdown",
   "metadata": {},
   "source": [
    "Качество классификации выросло на порядок\n",
    "\n",
    "Таким образом в **CountVectorizer** необходимо использовать биграммы или триграммы n_grams -это доп признаки, которые улучшают качество классификации. ТАкже необходимо ограничивать признаковое пространство **max_features** и для быстроты использовать **SGDClassifier**"
   ]
  },
  {
   "cell_type": "code",
   "execution_count": null,
   "metadata": {},
   "outputs": [],
   "source": []
  },
  {
   "cell_type": "markdown",
   "metadata": {},
   "source": [
    "# Еще один подход для работы с большими выборками, текстовыми данными и категориальными признаками"
   ]
  },
  {
   "cell_type": "code",
   "execution_count": null,
   "metadata": {},
   "outputs": [],
   "source": []
  }
 ],
 "metadata": {
  "kernelspec": {
   "display_name": "Python 3",
   "language": "python",
   "name": "python3"
  },
  "language_info": {
   "codemirror_mode": {
    "name": "ipython",
    "version": 3
   },
   "file_extension": ".py",
   "mimetype": "text/x-python",
   "name": "python",
   "nbconvert_exporter": "python",
   "pygments_lexer": "ipython3",
   "version": "3.6.8"
  }
 },
 "nbformat": 4,
 "nbformat_minor": 2
}
