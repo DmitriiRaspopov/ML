{
 "cells": [
  {
   "cell_type": "code",
   "execution_count": 2,
   "metadata": {},
   "outputs": [],
   "source": [
    "import numpy as np\n",
    "from keras.datasets import reuters"
   ]
  },
  {
   "cell_type": "code",
   "execution_count": 3,
   "metadata": {},
   "outputs": [],
   "source": [
    "(train_data, train_labels), (test_data, test_labels) = reuters.load_data(\n",
    "num_words=10000)"
   ]
  },
  {
   "cell_type": "code",
   "execution_count": 7,
   "metadata": {},
   "outputs": [
    {
     "name": "stdout",
     "output_type": "stream",
     "text": [
      "Downloading data from https://s3.amazonaws.com/text-datasets/reuters_word_index.json\n",
      "557056/550378 [==============================] - 6s 11us/step\n"
     ]
    }
   ],
   "source": [
    "word_index = reuters.get_word_index()\n",
    "reverse_word_index = dict([(value, key) for (key, value) in word_index.items()])\n",
    "decoded_newswire = ' '.join([reverse_word_index.get(i - 3, '?') for i in train_data[0]])"
   ]
  },
  {
   "cell_type": "code",
   "execution_count": 11,
   "metadata": {},
   "outputs": [
    {
     "data": {
      "text/plain": [
       "'? ? ? said as a result of its december acquisition of space co it expects earnings per share in 1987 of 1 15 to 1 30 dlrs per share up from 70 cts in 1986 the company said pretax net should rise to nine to 10 mln dlrs from six mln dlrs in 1986 and rental operation revenues to 19 to 22 mln dlrs from 12 5 mln dlrs it said cash flow per share this year should be 2 50 to three dlrs reuter 3'"
      ]
     },
     "execution_count": 11,
     "metadata": {},
     "output_type": "execute_result"
    }
   ],
   "source": [
    "decoded_newswire"
   ]
  },
  {
   "cell_type": "code",
   "execution_count": 12,
   "metadata": {},
   "outputs": [],
   "source": [
    "def vectorize_sequences(sequences, dimension=10000):\n",
    "    results = np.zeros((len(sequences), dimension))\n",
    "    for i, sequence in enumerate(sequences):\n",
    "        results[i, sequence] = 1.\n",
    "    return results\n",
    "\n",
    "x_train = vectorize_sequences(train_data)\n",
    "x_test = vectorize_sequences(test_data)"
   ]
  },
  {
   "cell_type": "code",
   "execution_count": 13,
   "metadata": {},
   "outputs": [],
   "source": [
    "from keras.utils.np_utils import to_categorical\n",
    "one_hot_train_labels = to_categorical(train_labels)\n",
    "one_hot_test_labels = to_categorical(test_labels)"
   ]
  },
  {
   "cell_type": "code",
   "execution_count": 45,
   "metadata": {},
   "outputs": [],
   "source": [
    "from keras import models\n",
    "from keras import layers\n",
    "model = models.Sequential()\n",
    "model.add(layers.Dense(64, activation='relu', input_shape=(10000,)))\n",
    "model.add(layers.Dense(12, activation='relu'))\n",
    "model.add(layers.Dense(46, activation='softmax'))"
   ]
  },
  {
   "cell_type": "code",
   "execution_count": 46,
   "metadata": {},
   "outputs": [],
   "source": [
    "model.compile(optimizer=\"rmsprop\", loss=\"binary_crossentropy\", metrics=[\"accuracy\"])"
   ]
  },
  {
   "cell_type": "markdown",
   "metadata": {},
   "source": [
    "Создание проверочного набора"
   ]
  },
  {
   "cell_type": "code",
   "execution_count": 47,
   "metadata": {},
   "outputs": [],
   "source": [
    "x_val = x_train[:1000]\n",
    "partial_x_train=x_train[1000:]\n",
    "\n",
    "y_val=one_hot_train_labels[:1000]\n",
    "partial_y_train=one_hot_train_labels[1000:]"
   ]
  },
  {
   "cell_type": "code",
   "execution_count": 48,
   "metadata": {
    "scrolled": true
   },
   "outputs": [
    {
     "name": "stdout",
     "output_type": "stream",
     "text": [
      "Train on 7982 samples, validate on 1000 samples\n",
      "Epoch 1/20\n",
      "7982/7982 [==============================] - 1s 147us/step - loss: 0.0957 - acc: 0.9783 - val_loss: 0.0851 - val_acc: 0.9782\n",
      "Epoch 2/20\n",
      "7982/7982 [==============================] - 1s 108us/step - loss: 0.0751 - acc: 0.9788 - val_loss: 0.0667 - val_acc: 0.9792\n",
      "Epoch 3/20\n",
      "7982/7982 [==============================] - 1s 109us/step - loss: 0.0562 - acc: 0.9823 - val_loss: 0.0517 - val_acc: 0.9847\n",
      "Epoch 4/20\n",
      "7982/7982 [==============================] - 1s 109us/step - loss: 0.0429 - acc: 0.9879 - val_loss: 0.0434 - val_acc: 0.9879\n",
      "Epoch 5/20\n",
      "7982/7982 [==============================] - 1s 107us/step - loss: 0.0349 - acc: 0.9909 - val_loss: 0.0384 - val_acc: 0.9902\n",
      "Epoch 6/20\n",
      "7982/7982 [==============================] - 1s 103us/step - loss: 0.0297 - acc: 0.9921 - val_loss: 0.0363 - val_acc: 0.9903\n",
      "Epoch 7/20\n",
      "7982/7982 [==============================] - 1s 112us/step - loss: 0.0258 - acc: 0.9929 - val_loss: 0.0345 - val_acc: 0.9907\n",
      "Epoch 8/20\n",
      "7982/7982 [==============================] - 1s 129us/step - loss: 0.0227 - acc: 0.9937 - val_loss: 0.0338 - val_acc: 0.9911\n",
      "Epoch 9/20\n",
      "7982/7982 [==============================] - 1s 133us/step - loss: 0.0201 - acc: 0.9943 - val_loss: 0.0329 - val_acc: 0.9913\n",
      "Epoch 10/20\n",
      "7982/7982 [==============================] - 1s 118us/step - loss: 0.0179 - acc: 0.9950 - val_loss: 0.0330 - val_acc: 0.9916\n",
      "Epoch 11/20\n",
      "7982/7982 [==============================] - 1s 119us/step - loss: 0.0160 - acc: 0.9954 - val_loss: 0.0326 - val_acc: 0.9916\n",
      "Epoch 12/20\n",
      "7982/7982 [==============================] - 1s 113us/step - loss: 0.0144 - acc: 0.9958 - val_loss: 0.0324 - val_acc: 0.9918\n",
      "Epoch 13/20\n",
      "7982/7982 [==============================] - 1s 102us/step - loss: 0.0130 - acc: 0.9961 - val_loss: 0.0323 - val_acc: 0.9919\n",
      "Epoch 14/20\n",
      "7982/7982 [==============================] - 1s 116us/step - loss: 0.0118 - acc: 0.9965 - val_loss: 0.0326 - val_acc: 0.9918\n",
      "Epoch 15/20\n",
      "7982/7982 [==============================] - 1s 110us/step - loss: 0.0107 - acc: 0.9967 - val_loss: 0.0326 - val_acc: 0.9920\n",
      "Epoch 16/20\n",
      "7982/7982 [==============================] - 1s 102us/step - loss: 0.0098 - acc: 0.9970 - val_loss: 0.0332 - val_acc: 0.9918\n",
      "Epoch 17/20\n",
      "7982/7982 [==============================] - 1s 123us/step - loss: 0.0091 - acc: 0.9972 - val_loss: 0.0346 - val_acc: 0.9918\n",
      "Epoch 18/20\n",
      "7982/7982 [==============================] - 1s 116us/step - loss: 0.0083 - acc: 0.9974 - val_loss: 0.0340 - val_acc: 0.9919\n",
      "Epoch 19/20\n",
      "7982/7982 [==============================] - 1s 104us/step - loss: 0.0078 - acc: 0.9975 - val_loss: 0.0349 - val_acc: 0.9921\n",
      "Epoch 20/20\n",
      "7982/7982 [==============================] - 1s 118us/step - loss: 0.0073 - acc: 0.9976 - val_loss: 0.0355 - val_acc: 0.9919\n"
     ]
    }
   ],
   "source": [
    "history=model.fit(partial_x_train, partial_y_train, batch_size=512, epochs=20, validation_data=(x_val, y_val))"
   ]
  },
  {
   "cell_type": "code",
   "execution_count": 49,
   "metadata": {},
   "outputs": [],
   "source": [
    "import matplotlib.pyplot as plt"
   ]
  },
  {
   "cell_type": "code",
   "execution_count": 50,
   "metadata": {},
   "outputs": [
    {
     "data": {
      "text/plain": [
       "dict_keys(['val_loss', 'val_acc', 'loss', 'acc'])"
      ]
     },
     "execution_count": 50,
     "metadata": {},
     "output_type": "execute_result"
    }
   ],
   "source": [
    "history.history.keys()"
   ]
  },
  {
   "cell_type": "code",
   "execution_count": 51,
   "metadata": {},
   "outputs": [],
   "source": [
    "loss=history.history[\"loss\"]\n",
    "val_loss=history.history[\"val_loss\"]\n",
    "\n",
    "epochs=range(1,len(loss) + 1)"
   ]
  },
  {
   "cell_type": "code",
   "execution_count": 52,
   "metadata": {},
   "outputs": [
    {
     "data": {
      "text/plain": [
       "[<matplotlib.lines.Line2D at 0x7facbac54a90>]"
      ]
     },
     "execution_count": 52,
     "metadata": {},
     "output_type": "execute_result"
    },
    {
     "data": {
      "image/png": "[encoded data removed]",
      "text/plain": [
       "<matplotlib.figure.Figure at 0x7facbac54ba8>"
      ]
     },
     "metadata": {
      "needs_background": "light"
     },
     "output_type": "display_data"
    }
   ],
   "source": [
    "plt.plot(epochs, loss, \"bo\", label=\"Trainig loss\")\n",
    "plt.plot(epochs, val_loss, \"b\", label=\"Validation loss\")"
   ]
  },
  {
   "cell_type": "code",
   "execution_count": 53,
   "metadata": {},
   "outputs": [
    {
     "data": {
      "image/png": "[encoded data removed]",
      "text/plain": [
       "<matplotlib.figure.Figure at 0x7facbac88ac8>"
      ]
     },
     "metadata": {
      "needs_background": "light"
     },
     "output_type": "display_data"
    }
   ],
   "source": [
    "acc = history.history['acc']\n",
    "val_acc = history.history['val_acc']\n",
    "plt.plot(epochs, acc, 'bo', label='Training acc')\n",
    "plt.plot(epochs, val_acc, 'b', label='Validation acc')\n",
    "plt.title('Training and validation accuracy')\n",
    "plt.xlabel('Epochs')\n",
    "plt.ylabel('Accuracy')\n",
    "plt.legend()\n",
    "plt.show()"
   ]
  },
  {
   "cell_type": "code",
   "execution_count": 54,
   "metadata": {},
   "outputs": [
    {
     "data": {
      "text/plain": [
       "array([ 3,  4,  3, ..., 25,  3, 25])"
      ]
     },
     "execution_count": 54,
     "metadata": {},
     "output_type": "execute_result"
    }
   ],
   "source": [
    "train_labels"
   ]
  },
  {
   "cell_type": "code",
   "execution_count": null,
   "metadata": {},
   "outputs": [],
   "source": []
  },
  {
   "cell_type": "code",
   "execution_count": null,
   "metadata": {},
   "outputs": [],
   "source": []
  }
 ],
 "metadata": {
  "kernelspec": {
   "display_name": "Python 3",
   "language": "python",
   "name": "python3"
  },
  "language_info": {
   "codemirror_mode": {
    "name": "ipython",
    "version": 3
   },
   "file_extension": ".py",
   "mimetype": "text/x-python",
   "name": "python",
   "nbconvert_exporter": "python",
   "pygments_lexer": "ipython3",
   "version": "3.6.8"
  }
 },
 "nbformat": 4,
 "nbformat_minor": 2
}
